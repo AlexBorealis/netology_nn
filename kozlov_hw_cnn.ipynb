{
  "cells": [
    {
      "cell_type": "markdown",
      "metadata": {
        "id": "view-in-github",
        "colab_type": "text"
      },
      "source": [
        "<a href=\"https://colab.research.google.com/github/AlexBorealis/netology_nn/blob/master/kozlov_hw_cnn.ipynb\" target=\"_parent\"><img src=\"https://colab.research.google.com/assets/colab-badge.svg\" alt=\"Open In Colab\"/></a>"
      ]
    },
    {
      "cell_type": "markdown",
      "metadata": {
        "collapsed": true,
        "id": "h97RdWrNxjed"
      },
      "source": [
        "# Домашнее задание. Свёрточные сети\n",
        "\n",
        "Здесь вам предстоит построить и обучить свою первую свёрточную сеть для классификации изображений на данных CIFAR10."
      ]
    },
    {
      "cell_type": "code",
      "execution_count": null,
      "metadata": {
        "id": "mNEnqez5FsRJ"
      },
      "outputs": [],
      "source": [
        "import keras\n",
        "from keras.datasets import cifar10\n",
        "from keras.callbacks import EarlyStopping, TensorBoard, BackupAndRestore, ReduceLROnPlateau, History\n",
        "from keras.initializers import HeNormal\n",
        "from keras.losses import categorical_crossentropy\n",
        "from keras.metrics import Accuracy, Precision, Recall\n",
        "from keras.models import Sequential\n",
        "from keras.optimizers import SGD, Adam, RMSprop\n",
        "import numpy as np\n",
        "import matplotlib.pyplot as plt\n",
        "%matplotlib inline\n",
        "\n",
        "from sklearn.model_selection import train_test_split\n",
        "from sklearn.metrics import accuracy_score, classification_report\n",
        "import tensorflow as tf\n",
        "from tensorflow.keras.preprocessing.image import ImageDataGenerator\n",
        "from tqdm.notebook import tqdm"
      ]
    },
    {
      "cell_type": "code",
      "execution_count": null,
      "metadata": {
        "id": "tGzAcj4wphSA"
      },
      "outputs": [],
      "source": [
        "%reset -f"
      ]
    },
    {
      "cell_type": "code",
      "execution_count": null,
      "metadata": {
        "colab": {
          "base_uri": "https://localhost:8080/"
        },
        "id": "Ics5gPhxJnyR",
        "outputId": "2ac024bf-7cb8-4e4f-d396-8847be28d896"
      },
      "outputs": [
        {
          "output_type": "stream",
          "name": "stdout",
          "text": [
            "Sun Nov 24 06:46:06 2024       \n",
            "+---------------------------------------------------------------------------------------+\n",
            "| NVIDIA-SMI 535.104.05             Driver Version: 535.104.05   CUDA Version: 12.2     |\n",
            "|-----------------------------------------+----------------------+----------------------+\n",
            "| GPU  Name                 Persistence-M | Bus-Id        Disp.A | Volatile Uncorr. ECC |\n",
            "| Fan  Temp   Perf          Pwr:Usage/Cap |         Memory-Usage | GPU-Util  Compute M. |\n",
            "|                                         |                      |               MIG M. |\n",
            "|=========================================+======================+======================|\n",
            "|   0  Tesla T4                       Off | 00000000:00:04.0 Off |                    0 |\n",
            "| N/A   34C    P8               9W /  70W |      0MiB / 15360MiB |      0%      Default |\n",
            "|                                         |                      |                  N/A |\n",
            "+-----------------------------------------+----------------------+----------------------+\n",
            "                                                                                         \n",
            "+---------------------------------------------------------------------------------------+\n",
            "| Processes:                                                                            |\n",
            "|  GPU   GI   CI        PID   Type   Process name                            GPU Memory |\n",
            "|        ID   ID                                                             Usage      |\n",
            "|=======================================================================================|\n",
            "|  No running processes found                                                           |\n",
            "+---------------------------------------------------------------------------------------+\n"
          ]
        }
      ],
      "source": [
        "!nvidia-smi"
      ]
    },
    {
      "cell_type": "markdown",
      "metadata": {
        "id": "8967u5Bzxjef"
      },
      "source": [
        "## Данные\n",
        "\n",
        "CIFAR10\n",
        "* 60000 RGB изображений размером 32x32x3\n",
        "* 10 классов: самолёты, собаки, рыбы и т.п.\n",
        "\n",
        "<img src=\"https://www.samyzaf.com/ML/cifar10/cifar1.jpg\" style=\"width:60%\">"
      ]
    },
    {
      "cell_type": "markdown",
      "metadata": {
        "id": "xFMGMCFrxjef"
      },
      "source": [
        "Загрузите данные, разделите их на обучающую и тестовую выборки. Размер тестовой выборки должен быть $10^4$."
      ]
    },
    {
      "cell_type": "code",
      "execution_count": null,
      "metadata": {
        "colab": {
          "base_uri": "https://localhost:8080/"
        },
        "id": "bf04QwsBxjef",
        "outputId": "9ff7dedd-080a-4f2a-9292-3247a7dc7610"
      },
      "outputs": [
        {
          "output_type": "stream",
          "name": "stdout",
          "text": [
            "Downloading data from https://www.cs.toronto.edu/~kriz/cifar-10-python.tar.gz\n",
            "\u001b[1m170498071/170498071\u001b[0m \u001b[32m━━━━━━━━━━━━━━━━━━━━\u001b[0m\u001b[37m\u001b[0m \u001b[1m6s\u001b[0m 0us/step\n",
            "(40000, 32, 32, 3) (40000, 1)\n",
            "(10000, 32, 32, 3) (10000, 1)\n",
            "(10000, 32, 32, 3) (10000, 1)\n"
          ]
        }
      ],
      "source": [
        "(X_train, y_train), (X_test, y_test) = cifar10.load_data()\n",
        "X_train, X_val, y_train, y_val = train_test_split(X_train, y_train, test_size= 10**4, random_state= 42)\n",
        "\n",
        "class_names = np.array(['airplane','automobile ','bird ','cat ','deer ','dog ','frog ','horse ','ship ','truck'])\n",
        "\n",
        "print(X_train.shape, y_train.shape)\n",
        "print(X_val.shape, y_val.shape)\n",
        "print(X_test.shape, y_test.shape)"
      ]
    },
    {
      "cell_type": "markdown",
      "metadata": {
        "id": "_XS_kZF9xjeh"
      },
      "source": [
        "Прежде чем приступать к основной работе, стоит убедиться что загруженно именно то, что требовалось:"
      ]
    },
    {
      "cell_type": "code",
      "execution_count": null,
      "metadata": {
        "colab": {
          "base_uri": "https://localhost:8080/",
          "height": 544
        },
        "id": "1Sih-A1Dxjeh",
        "outputId": "c37d5196-d939-40ec-8df7-e5aa2171ed65"
      },
      "outputs": [
        {
          "data": {
            "image/png": "[encoded data removed]",
            "text/plain": [
              "<Figure size 800x600 with 12 Axes>"
            ]
          },
          "metadata": {},
          "output_type": "display_data"
        }
      ],
      "source": [
        "plt.figure(figsize= [8, 6])\n",
        "for i in range(12):\n",
        "    plt.subplot(3, 4, i + 1)\n",
        "    plt.xlabel(class_names[y_train[i, 0]])\n",
        "    plt.imshow(X_train[i])"
      ]
    },
    {
      "cell_type": "markdown",
      "metadata": {
        "id": "2iXiYWbdxjei"
      },
      "source": [
        "## Подготовка данных\n",
        "\n",
        "Сейчас каждый пиксель изображения закодирован тройкой чисел (RGB) __от 0 до 255__. Однако лучше себя показывает подход, где значения входов нейросети распределены недалеко от 0.\n",
        "\n",
        "Давайте приведём все данные в диапазон __`[0, 1]`__ — просто разделим на соответствующий коэффициент:"
      ]
    },
    {
      "cell_type": "code",
      "execution_count": null,
      "metadata": {
        "colab": {
          "base_uri": "https://localhost:8080/",
          "height": 72
        },
        "id": "2x3EcYuYKpXD",
        "outputId": "9afea343-99af-4ee4-c73c-1aafef92b2f3"
      },
      "outputs": [
        {
          "data": {
            "text/html": [
              "<style>\n",
              "      .ndarray_repr .ndarray_raw_data {\n",
              "        display: none;\n",
              "      }\n",
              "      .ndarray_repr.show_array .ndarray_raw_data {\n",
              "        display: block;\n",
              "      }\n",
              "      .ndarray_repr.show_array .ndarray_image_preview {\n",
              "        display: none;\n",
              "      }\n",
              "      </style>\n",
              "      <div id=\"id-b8d2224c-8719-45f7-995a-b35c536b9461\" class=\"ndarray_repr\"><pre>ndarray (32, 32, 3) <button style=\"padding: 0 2px;\">show data</button></pre><img src=\"data:image/png;base64,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\" class=\"ndarray_image_preview\" /><pre class=\"ndarray_raw_data\">array([[[ 91,  94,  91],\n",
              "        [ 95, 113,  88],\n",
              "        [ 92, 121,  91],\n",
              "        ...,\n",
              "        [150, 153, 150],\n",
              "        [131, 145, 106],\n",
              "        [ 89, 118,  38]],\n",
              "\n",
              "       [[100, 136, 101],\n",
              "        [ 94, 128, 100],\n",
              "        [ 70, 103,  71],\n",
              "        ...,\n",
              "        [ 77,  79,  78],\n",
              "        [ 99, 114,  90],\n",
              "        [ 86, 110,  57]],\n",
              "\n",
              "       [[104, 144,  99],\n",
              "        [ 85, 122,  85],\n",
              "        [ 58,  84,  51],\n",
              "        ...,\n",
              "        [ 62,  74,  69],\n",
              "        [ 56,  70,  56],\n",
              "        [ 67,  85,  57]],\n",
              "\n",
              "       ...,\n",
              "\n",
              "       [[118, 107, 103],\n",
              "        [148, 139, 142],\n",
              "        [133, 120, 117],\n",
              "        ...,\n",
              "        [ 82,  74,  91],\n",
              "        [124, 109, 119],\n",
              "        [107,  90,  94]],\n",
              "\n",
              "       [[143, 122, 125],\n",
              "        [150, 134, 140],\n",
              "        [181, 158, 152],\n",
              "        ...,\n",
              "        [ 74,  70,  86],\n",
              "        [110, 102, 106],\n",
              "        [ 97,  90,  88]],\n",
              "\n",
              "       [[121, 111, 109],\n",
              "        [135, 126, 127],\n",
              "        [155, 138, 136],\n",
              "        ...,\n",
              "        [ 65,  57,  74],\n",
              "        [130, 118, 121],\n",
              "        [147, 136, 134]]], dtype=uint8)</pre></div><script>\n",
              "      (() => {\n",
              "      const titles = ['show data', 'hide data'];\n",
              "      let index = 0\n",
              "      document.querySelector('#id-b8d2224c-8719-45f7-995a-b35c536b9461 button').onclick = (e) => {\n",
              "        document.querySelector('#id-b8d2224c-8719-45f7-995a-b35c536b9461').classList.toggle('show_array');\n",
              "        index = (++index) % 2;\n",
              "        document.querySelector('#id-b8d2224c-8719-45f7-995a-b35c536b9461 button').textContent = titles[index];\n",
              "        e.preventDefault();\n",
              "        e.stopPropagation();\n",
              "      }\n",
              "      })();\n",
              "    </script>"
            ],
            "text/plain": [
              "array([[[ 91,  94,  91],\n",
              "        [ 95, 113,  88],\n",
              "        [ 92, 121,  91],\n",
              "        ...,\n",
              "        [150, 153, 150],\n",
              "        [131, 145, 106],\n",
              "        [ 89, 118,  38]],\n",
              "\n",
              "       [[100, 136, 101],\n",
              "        [ 94, 128, 100],\n",
              "        [ 70, 103,  71],\n",
              "        ...,\n",
              "        [ 77,  79,  78],\n",
              "        [ 99, 114,  90],\n",
              "        [ 86, 110,  57]],\n",
              "\n",
              "       [[104, 144,  99],\n",
              "        [ 85, 122,  85],\n",
              "        [ 58,  84,  51],\n",
              "        ...,\n",
              "        [ 62,  74,  69],\n",
              "        [ 56,  70,  56],\n",
              "        [ 67,  85,  57]],\n",
              "\n",
              "       ...,\n",
              "\n",
              "       [[118, 107, 103],\n",
              "        [148, 139, 142],\n",
              "        [133, 120, 117],\n",
              "        ...,\n",
              "        [ 82,  74,  91],\n",
              "        [124, 109, 119],\n",
              "        [107,  90,  94]],\n",
              "\n",
              "       [[143, 122, 125],\n",
              "        [150, 134, 140],\n",
              "        [181, 158, 152],\n",
              "        ...,\n",
              "        [ 74,  70,  86],\n",
              "        [110, 102, 106],\n",
              "        [ 97,  90,  88]],\n",
              "\n",
              "       [[121, 111, 109],\n",
              "        [135, 126, 127],\n",
              "        [155, 138, 136],\n",
              "        ...,\n",
              "        [ 65,  57,  74],\n",
              "        [130, 118, 121],\n",
              "        [147, 136, 134]]], dtype=uint8)"
            ]
          },
          "execution_count": 9,
          "metadata": {},
          "output_type": "execute_result"
        }
      ],
      "source": [
        "X_train[1]"
      ]
    },
    {
      "cell_type": "code",
      "execution_count": null,
      "metadata": {
        "id": "OhIwnVXdxjei"
      },
      "outputs": [],
      "source": [
        "X_train = X_train / 255\n",
        "X_val = X_val / 255\n",
        "X_test = X_test / 255"
      ]
    },
    {
      "cell_type": "code",
      "execution_count": null,
      "metadata": {
        "colab": {
          "base_uri": "https://localhost:8080/"
        },
        "id": "MoUzJ1HAKUhm",
        "outputId": "3c66d4cd-b6bf-4b93-c655-1d5fa6df460c"
      },
      "outputs": [
        {
          "data": {
            "text/plain": [
              "array([[[0.35686275, 0.36862745, 0.35686275],\n",
              "        [0.37254902, 0.44313725, 0.34509804],\n",
              "        [0.36078431, 0.4745098 , 0.35686275],\n",
              "        ...,\n",
              "        [0.58823529, 0.6       , 0.58823529],\n",
              "        [0.51372549, 0.56862745, 0.41568627],\n",
              "        [0.34901961, 0.4627451 , 0.14901961]],\n",
              "\n",
              "       [[0.39215686, 0.53333333, 0.39607843],\n",
              "        [0.36862745, 0.50196078, 0.39215686],\n",
              "        [0.2745098 , 0.40392157, 0.27843137],\n",
              "        ...,\n",
              "        [0.30196078, 0.30980392, 0.30588235],\n",
              "        [0.38823529, 0.44705882, 0.35294118],\n",
              "        [0.3372549 , 0.43137255, 0.22352941]],\n",
              "\n",
              "       [[0.40784314, 0.56470588, 0.38823529],\n",
              "        [0.33333333, 0.47843137, 0.33333333],\n",
              "        [0.22745098, 0.32941176, 0.2       ],\n",
              "        ...,\n",
              "        [0.24313725, 0.29019608, 0.27058824],\n",
              "        [0.21960784, 0.2745098 , 0.21960784],\n",
              "        [0.2627451 , 0.33333333, 0.22352941]],\n",
              "\n",
              "       ...,\n",
              "\n",
              "       [[0.4627451 , 0.41960784, 0.40392157],\n",
              "        [0.58039216, 0.54509804, 0.55686275],\n",
              "        [0.52156863, 0.47058824, 0.45882353],\n",
              "        ...,\n",
              "        [0.32156863, 0.29019608, 0.35686275],\n",
              "        [0.48627451, 0.42745098, 0.46666667],\n",
              "        [0.41960784, 0.35294118, 0.36862745]],\n",
              "\n",
              "       [[0.56078431, 0.47843137, 0.49019608],\n",
              "        [0.58823529, 0.5254902 , 0.54901961],\n",
              "        [0.70980392, 0.61960784, 0.59607843],\n",
              "        ...,\n",
              "        [0.29019608, 0.2745098 , 0.3372549 ],\n",
              "        [0.43137255, 0.4       , 0.41568627],\n",
              "        [0.38039216, 0.35294118, 0.34509804]],\n",
              "\n",
              "       [[0.4745098 , 0.43529412, 0.42745098],\n",
              "        [0.52941176, 0.49411765, 0.49803922],\n",
              "        [0.60784314, 0.54117647, 0.53333333],\n",
              "        ...,\n",
              "        [0.25490196, 0.22352941, 0.29019608],\n",
              "        [0.50980392, 0.4627451 , 0.4745098 ],\n",
              "        [0.57647059, 0.53333333, 0.5254902 ]]])"
            ]
          },
          "execution_count": 12,
          "metadata": {},
          "output_type": "execute_result"
        }
      ],
      "source": [
        "X_train[1]"
      ]
    },
    {
      "cell_type": "markdown",
      "metadata": {
        "id": "WSRXEBo9xjej"
      },
      "source": [
        "Исполните код ниже для проверки, что все выполнено корректно."
      ]
    },
    {
      "cell_type": "code",
      "execution_count": null,
      "metadata": {
        "id": "iZQD2dTpxjej"
      },
      "outputs": [],
      "source": [
        "assert np.shape(X_train) == (40000, 32, 32, 3), \"data shape should not change\"\n",
        "assert 0.9 <= max(map(np.max, (X_train, X_val, X_test))) <= 1.05\n",
        "assert 0.0 <= min(map(np.min, (X_train, X_val, X_test))) <= 0.1\n",
        "assert len(np.unique(X_test / 255.)) > 10, \"make sure you casted data to float type\""
      ]
    },
    {
      "cell_type": "markdown",
      "metadata": {
        "id": "qdztr8BHxjej"
      },
      "source": [
        "## Архитектура сети\n",
        "\n",
        "Для начала реализуйте простую нейросеть:\n",
        "1. принимает на вход картинки размера 32 x 32 x 3;\n",
        "2. вытягивает их в вектор (`keras.layers.Flatten`);\n",
        "3. пропускает через 1 или 2 полносвязных слоя;\n",
        "4. выходной слой отдает вероятности принадлежности к каждому из 10 классов."
      ]
    },
    {
      "cell_type": "markdown",
      "metadata": {
        "id": "E5VwlwV8xjek"
      },
      "source": [
        "Создайте полносвязную сеть:"
      ]
    },
    {
      "cell_type": "code",
      "execution_count": null,
      "metadata": {
        "id": "Ub9pQE0Nxjek"
      },
      "outputs": [],
      "source": [
        "model = tf.keras.models.Sequential([\n",
        "        tf.keras.layers.Input(shape= X_train.shape[1:]),\n",
        "        tf.keras.layers.Dense(32, activation= 'relu'),\n",
        "        tf.keras.layers.Flatten(),\n",
        "        tf.keras.layers.Dense(32, activation= 'relu'),\n",
        "        tf.keras.layers.Dense(32, activation= 'relu'),\n",
        "        tf.keras.layers.Dense(10, activation= 'softmax')\n",
        "])"
      ]
    },
    {
      "cell_type": "code",
      "execution_count": null,
      "metadata": {
        "colab": {
          "base_uri": "https://localhost:8080/"
        },
        "id": "Yg6VYd3qxjel",
        "outputId": "19bf7ed1-0c60-4546-b3ec-658d4e5a8a28"
      },
      "outputs": [
        {
          "name": "stdout",
          "output_type": "stream",
          "text": [
            "\u001b[1m1/1\u001b[0m \u001b[32m━━━━━━━━━━━━━━━━━━━━\u001b[0m\u001b[37m\u001b[0m \u001b[1m0s\u001b[0m 173ms/step\n",
            "Успех!\n"
          ]
        }
      ],
      "source": [
        "dummy_pred = model.predict(X_train[:20])\n",
        "assert dummy_pred.shape == (20, 10)\n",
        "assert np.allclose(dummy_pred.sum(-1), 1)\n",
        "print(\"Успех!\")"
      ]
    },
    {
      "cell_type": "markdown",
      "metadata": {
        "id": "WGcAp1lexjel"
      },
      "source": [
        "## Обучение сети\n",
        "\n",
        "**Задание 1.1 (обязательно)** Будем минимизировать многоклассовую кроссэкнропию с помощью __sgd__. Вам нужно получить сеть, которая достигнет __не менее 45%__ __accuracy__ на тестовых данных.\n",
        "\n",
        "__Важно:__ поскольку в y_train лежат номера классов, Керасу нужно либо указать sparse функции потерь и метрики оценки качества классификации (`sparse_categorical_crossentropy` и `sparse_categorical_accuracy`), либо конвертировать метки в one-hot формат.\n",
        "\n",
        "### Полезные советы\n",
        "* `model.compile` позволяет указать, какие метрики вы хотите вычислять.\n",
        "* В `model.fit` можно передать валидационную выборку (`validation_data=[X_val, y_val]`), для отслеживания прогресса на ней. Также рекомендуем сохранять результаты в [tensorboard](https://keras.io/callbacks/#tensorboard) или [wandb](https://docs.wandb.ai/integrations/jupyter). **Важно: логи tensorboard не получится без боли посмотреть через colab.** Workaround: скачать логи и запустить tensorboard локально или помучаться [с этим](https://stackoverflow.com/questions/47818822/can-i-use-tensorboard-with-google-colab).\n",
        "* По умолчанию сеть учится 1 эпоху. Совсем не факт, что вам этого хватит. Число эпох можно настроить в методе `fit` (`epochs`).\n",
        "* Ещё у Кераса есть много [полезных callback-ов](https://keras.io/callbacks/), которые можно попробовать. Например, автоматическая остановка или подбор скорости обучения."
      ]
    },
    {
      "cell_type": "code",
      "execution_count": null,
      "metadata": {
        "id": "7iVWfkypxjel"
      },
      "outputs": [],
      "source": [
        "y_train, y_val = (keras.utils.to_categorical(y) for y in (y_train, y_val))"
      ]
    },
    {
      "cell_type": "code",
      "execution_count": null,
      "metadata": {
        "id": "M5w_Zj5Sxjem"
      },
      "outputs": [],
      "source": [
        "callbacks = [\n",
        "    tf.keras.callbacks.ModelCheckpoint(filepath= './model/model.{epoch:02d}-{val_loss:.2f}.h5.keras'),\n",
        "    tf.keras.callbacks.TensorBoard(log_dir= './logs'),\n",
        "    tf.keras.callbacks.EarlyStopping(patience= 5)\n",
        "]"
      ]
    },
    {
      "cell_type": "code",
      "execution_count": null,
      "metadata": {
        "colab": {
          "base_uri": "https://localhost:8080/",
          "height": 289
        },
        "id": "1pEf573iJL-7",
        "outputId": "8011a605-83b6-448e-c804-dbb949475f17"
      },
      "outputs": [
        {
          "data": {
            "text/html": [
              "<pre style=\"white-space:pre;overflow-x:auto;line-height:normal;font-family:Menlo,'DejaVu Sans Mono',consolas,'Courier New',monospace\"><span style=\"font-weight: bold\">Model: \"sequential\"</span>\n",
              "</pre>\n"
            ],
            "text/plain": [
              "\u001b[1mModel: \"sequential\"\u001b[0m\n"
            ]
          },
          "metadata": {},
          "output_type": "display_data"
        },
        {
          "data": {
            "text/html": [
              "<pre style=\"white-space:pre;overflow-x:auto;line-height:normal;font-family:Menlo,'DejaVu Sans Mono',consolas,'Courier New',monospace\">┏━━━━━━━━━━━━━━━━━━━━━━━━━━━━━━━━━━━━━━┳━━━━━━━━━━━━━━━━━━━━━━━━━━━━━┳━━━━━━━━━━━━━━━━━┓\n",
              "┃<span style=\"font-weight: bold\"> Layer (type)                         </span>┃<span style=\"font-weight: bold\"> Output Shape                </span>┃<span style=\"font-weight: bold\">         Param # </span>┃\n",
              "┡━━━━━━━━━━━━━━━━━━━━━━━━━━━━━━━━━━━━━━╇━━━━━━━━━━━━━━━━━━━━━━━━━━━━━╇━━━━━━━━━━━━━━━━━┩\n",
              "│ dense (<span style=\"color: #0087ff; text-decoration-color: #0087ff\">Dense</span>)                        │ (<span style=\"color: #00d7ff; text-decoration-color: #00d7ff\">None</span>, <span style=\"color: #00af00; text-decoration-color: #00af00\">32</span>, <span style=\"color: #00af00; text-decoration-color: #00af00\">32</span>, <span style=\"color: #00af00; text-decoration-color: #00af00\">32</span>)          │             <span style=\"color: #00af00; text-decoration-color: #00af00\">128</span> │\n",
              "├──────────────────────────────────────┼─────────────────────────────┼─────────────────┤\n",
              "│ flatten (<span style=\"color: #0087ff; text-decoration-color: #0087ff\">Flatten</span>)                    │ (<span style=\"color: #00d7ff; text-decoration-color: #00d7ff\">None</span>, <span style=\"color: #00af00; text-decoration-color: #00af00\">32768</span>)               │               <span style=\"color: #00af00; text-decoration-color: #00af00\">0</span> │\n",
              "├──────────────────────────────────────┼─────────────────────────────┼─────────────────┤\n",
              "│ dense_1 (<span style=\"color: #0087ff; text-decoration-color: #0087ff\">Dense</span>)                      │ (<span style=\"color: #00d7ff; text-decoration-color: #00d7ff\">None</span>, <span style=\"color: #00af00; text-decoration-color: #00af00\">32</span>)                  │       <span style=\"color: #00af00; text-decoration-color: #00af00\">1,048,608</span> │\n",
              "├──────────────────────────────────────┼─────────────────────────────┼─────────────────┤\n",
              "│ dense_2 (<span style=\"color: #0087ff; text-decoration-color: #0087ff\">Dense</span>)                      │ (<span style=\"color: #00d7ff; text-decoration-color: #00d7ff\">None</span>, <span style=\"color: #00af00; text-decoration-color: #00af00\">32</span>)                  │           <span style=\"color: #00af00; text-decoration-color: #00af00\">1,056</span> │\n",
              "├──────────────────────────────────────┼─────────────────────────────┼─────────────────┤\n",
              "│ dense_3 (<span style=\"color: #0087ff; text-decoration-color: #0087ff\">Dense</span>)                      │ (<span style=\"color: #00d7ff; text-decoration-color: #00d7ff\">None</span>, <span style=\"color: #00af00; text-decoration-color: #00af00\">10</span>)                  │             <span style=\"color: #00af00; text-decoration-color: #00af00\">330</span> │\n",
              "└──────────────────────────────────────┴─────────────────────────────┴─────────────────┘\n",
              "</pre>\n"
            ],
            "text/plain": [
              "┏━━━━━━━━━━━━━━━━━━━━━━━━━━━━━━━━━━━━━━┳━━━━━━━━━━━━━━━━━━━━━━━━━━━━━┳━━━━━━━━━━━━━━━━━┓\n",
              "┃\u001b[1m \u001b[0m\u001b[1mLayer (type)                        \u001b[0m\u001b[1m \u001b[0m┃\u001b[1m \u001b[0m\u001b[1mOutput Shape               \u001b[0m\u001b[1m \u001b[0m┃\u001b[1m \u001b[0m\u001b[1m        Param #\u001b[0m\u001b[1m \u001b[0m┃\n",
              "┡━━━━━━━━━━━━━━━━━━━━━━━━━━━━━━━━━━━━━━╇━━━━━━━━━━━━━━━━━━━━━━━━━━━━━╇━━━━━━━━━━━━━━━━━┩\n",
              "│ dense (\u001b[38;5;33mDense\u001b[0m)                        │ (\u001b[38;5;45mNone\u001b[0m, \u001b[38;5;34m32\u001b[0m, \u001b[38;5;34m32\u001b[0m, \u001b[38;5;34m32\u001b[0m)          │             \u001b[38;5;34m128\u001b[0m │\n",
              "├──────────────────────────────────────┼─────────────────────────────┼─────────────────┤\n",
              "│ flatten (\u001b[38;5;33mFlatten\u001b[0m)                    │ (\u001b[38;5;45mNone\u001b[0m, \u001b[38;5;34m32768\u001b[0m)               │               \u001b[38;5;34m0\u001b[0m │\n",
              "├──────────────────────────────────────┼─────────────────────────────┼─────────────────┤\n",
              "│ dense_1 (\u001b[38;5;33mDense\u001b[0m)                      │ (\u001b[38;5;45mNone\u001b[0m, \u001b[38;5;34m32\u001b[0m)                  │       \u001b[38;5;34m1,048,608\u001b[0m │\n",
              "├──────────────────────────────────────┼─────────────────────────────┼─────────────────┤\n",
              "│ dense_2 (\u001b[38;5;33mDense\u001b[0m)                      │ (\u001b[38;5;45mNone\u001b[0m, \u001b[38;5;34m32\u001b[0m)                  │           \u001b[38;5;34m1,056\u001b[0m │\n",
              "├──────────────────────────────────────┼─────────────────────────────┼─────────────────┤\n",
              "│ dense_3 (\u001b[38;5;33mDense\u001b[0m)                      │ (\u001b[38;5;45mNone\u001b[0m, \u001b[38;5;34m10\u001b[0m)                  │             \u001b[38;5;34m330\u001b[0m │\n",
              "└──────────────────────────────────────┴─────────────────────────────┴─────────────────┘\n"
            ]
          },
          "metadata": {},
          "output_type": "display_data"
        },
        {
          "data": {
            "text/html": [
              "<pre style=\"white-space:pre;overflow-x:auto;line-height:normal;font-family:Menlo,'DejaVu Sans Mono',consolas,'Courier New',monospace\"><span style=\"font-weight: bold\"> Total params: </span><span style=\"color: #00af00; text-decoration-color: #00af00\">1,050,122</span> (4.01 MB)\n",
              "</pre>\n"
            ],
            "text/plain": [
              "\u001b[1m Total params: \u001b[0m\u001b[38;5;34m1,050,122\u001b[0m (4.01 MB)\n"
            ]
          },
          "metadata": {},
          "output_type": "display_data"
        },
        {
          "data": {
            "text/html": [
              "<pre style=\"white-space:pre;overflow-x:auto;line-height:normal;font-family:Menlo,'DejaVu Sans Mono',consolas,'Courier New',monospace\"><span style=\"font-weight: bold\"> Trainable params: </span><span style=\"color: #00af00; text-decoration-color: #00af00\">1,050,122</span> (4.01 MB)\n",
              "</pre>\n"
            ],
            "text/plain": [
              "\u001b[1m Trainable params: \u001b[0m\u001b[38;5;34m1,050,122\u001b[0m (4.01 MB)\n"
            ]
          },
          "metadata": {},
          "output_type": "display_data"
        },
        {
          "data": {
            "text/html": [
              "<pre style=\"white-space:pre;overflow-x:auto;line-height:normal;font-family:Menlo,'DejaVu Sans Mono',consolas,'Courier New',monospace\"><span style=\"font-weight: bold\"> Non-trainable params: </span><span style=\"color: #00af00; text-decoration-color: #00af00\">0</span> (0.00 B)\n",
              "</pre>\n"
            ],
            "text/plain": [
              "\u001b[1m Non-trainable params: \u001b[0m\u001b[38;5;34m0\u001b[0m (0.00 B)\n"
            ]
          },
          "metadata": {},
          "output_type": "display_data"
        }
      ],
      "source": [
        "model.summary()"
      ]
    },
    {
      "cell_type": "code",
      "execution_count": null,
      "metadata": {
        "colab": {
          "base_uri": "https://localhost:8080/"
        },
        "id": "7bM8coUaxjem",
        "outputId": "762d78e9-814f-4f49-c9fd-8f514073b98a"
      },
      "outputs": [
        {
          "name": "stdout",
          "output_type": "stream",
          "text": [
            "Epoch 1/32\n",
            "\u001b[1m2500/2500\u001b[0m \u001b[32m━━━━━━━━━━━━━━━━━━━━\u001b[0m\u001b[37m\u001b[0m \u001b[1m30s\u001b[0m 11ms/step - accuracy: 0.2243 - loss: 2.0843 - precision: 0.4303 - recall: 0.0095 - val_accuracy: 0.3444 - val_loss: 1.7876 - val_precision: 0.5730 - val_recall: 0.0785\n",
            "Epoch 2/32\n",
            "\u001b[1m2500/2500\u001b[0m \u001b[32m━━━━━━━━━━━━━━━━━━━━\u001b[0m\u001b[37m\u001b[0m \u001b[1m39s\u001b[0m 11ms/step - accuracy: 0.3758 - loss: 1.7385 - precision: 0.6260 - recall: 0.0897 - val_accuracy: 0.4024 - val_loss: 1.6678 - val_precision: 0.6264 - val_recall: 0.1658\n",
            "Epoch 3/32\n",
            "\u001b[1m2500/2500\u001b[0m \u001b[32m━━━━━━━━━━━━━━━━━━━━\u001b[0m\u001b[37m\u001b[0m \u001b[1m31s\u001b[0m 12ms/step - accuracy: 0.4250 - loss: 1.6057 - precision: 0.6660 - recall: 0.1682 - val_accuracy: 0.4194 - val_loss: 1.6091 - val_precision: 0.6399 - val_recall: 0.1955\n",
            "Epoch 4/32\n",
            "\u001b[1m2500/2500\u001b[0m \u001b[32m━━━━━━━━━━━━━━━━━━━━\u001b[0m\u001b[37m\u001b[0m \u001b[1m29s\u001b[0m 12ms/step - accuracy: 0.4593 - loss: 1.5255 - precision: 0.6802 - recall: 0.2173 - val_accuracy: 0.4651 - val_loss: 1.5239 - val_precision: 0.6575 - val_recall: 0.2450\n",
            "Epoch 5/32\n",
            "\u001b[1m2500/2500\u001b[0m \u001b[32m━━━━━━━━━━━━━━━━━━━━\u001b[0m\u001b[37m\u001b[0m \u001b[1m29s\u001b[0m 11ms/step - accuracy: 0.4821 - loss: 1.4493 - precision: 0.6928 - recall: 0.2546 - val_accuracy: 0.4825 - val_loss: 1.4614 - val_precision: 0.6827 - val_recall: 0.2715\n",
            "Epoch 6/32\n",
            "\u001b[1m2500/2500\u001b[0m \u001b[32m━━━━━━━━━━━━━━━━━━━━\u001b[0m\u001b[37m\u001b[0m \u001b[1m42s\u001b[0m 12ms/step - accuracy: 0.5041 - loss: 1.3974 - precision: 0.7067 - recall: 0.2890 - val_accuracy: 0.4963 - val_loss: 1.4238 - val_precision: 0.6907 - val_recall: 0.2836\n",
            "Epoch 7/32\n",
            "\u001b[1m2500/2500\u001b[0m \u001b[32m━━━━━━━━━━━━━━━━━━━━\u001b[0m\u001b[37m\u001b[0m \u001b[1m29s\u001b[0m 11ms/step - accuracy: 0.5219 - loss: 1.3430 - precision: 0.7125 - recall: 0.3148 - val_accuracy: 0.4944 - val_loss: 1.4296 - val_precision: 0.6820 - val_recall: 0.3086\n",
            "Epoch 8/32\n",
            "\u001b[1m2500/2500\u001b[0m \u001b[32m━━━━━━━━━━━━━━━━━━━━\u001b[0m\u001b[37m\u001b[0m \u001b[1m40s\u001b[0m 11ms/step - accuracy: 0.5304 - loss: 1.3177 - precision: 0.7157 - recall: 0.3330 - val_accuracy: 0.5050 - val_loss: 1.4160 - val_precision: 0.6644 - val_recall: 0.3322\n",
            "Epoch 9/32\n",
            "\u001b[1m2500/2500\u001b[0m \u001b[32m━━━━━━━━━━━━━━━━━━━━\u001b[0m\u001b[37m\u001b[0m \u001b[1m29s\u001b[0m 11ms/step - accuracy: 0.5428 - loss: 1.2827 - precision: 0.7235 - recall: 0.3560 - val_accuracy: 0.5107 - val_loss: 1.4035 - val_precision: 0.6609 - val_recall: 0.3486\n",
            "Epoch 10/32\n",
            "\u001b[1m2500/2500\u001b[0m \u001b[32m━━━━━━━━━━━━━━━━━━━━\u001b[0m\u001b[37m\u001b[0m \u001b[1m28s\u001b[0m 11ms/step - accuracy: 0.5554 - loss: 1.2507 - precision: 0.7316 - recall: 0.3755 - val_accuracy: 0.5079 - val_loss: 1.4030 - val_precision: 0.6633 - val_recall: 0.3389\n",
            "Epoch 11/32\n",
            "\u001b[1m2500/2500\u001b[0m \u001b[32m━━━━━━━━━━━━━━━━━━━━\u001b[0m\u001b[37m\u001b[0m \u001b[1m41s\u001b[0m 12ms/step - accuracy: 0.5672 - loss: 1.2200 - precision: 0.7314 - recall: 0.3868 - val_accuracy: 0.5032 - val_loss: 1.4287 - val_precision: 0.6385 - val_recall: 0.3497\n",
            "Epoch 12/32\n",
            "\u001b[1m2500/2500\u001b[0m \u001b[32m━━━━━━━━━━━━━━━━━━━━\u001b[0m\u001b[37m\u001b[0m \u001b[1m41s\u001b[0m 12ms/step - accuracy: 0.5793 - loss: 1.1833 - precision: 0.7405 - recall: 0.4092 - val_accuracy: 0.5128 - val_loss: 1.4271 - val_precision: 0.6384 - val_recall: 0.3776\n",
            "Epoch 13/32\n",
            "\u001b[1m2500/2500\u001b[0m \u001b[32m━━━━━━━━━━━━━━━━━━━━\u001b[0m\u001b[37m\u001b[0m \u001b[1m28s\u001b[0m 11ms/step - accuracy: 0.5916 - loss: 1.1639 - precision: 0.7429 - recall: 0.4208 - val_accuracy: 0.5195 - val_loss: 1.3836 - val_precision: 0.6751 - val_recall: 0.3468\n",
            "Epoch 14/32\n",
            "\u001b[1m2500/2500\u001b[0m \u001b[32m━━━━━━━━━━━━━━━━━━━━\u001b[0m\u001b[37m\u001b[0m \u001b[1m41s\u001b[0m 11ms/step - accuracy: 0.5971 - loss: 1.1321 - precision: 0.7473 - recall: 0.4364 - val_accuracy: 0.5055 - val_loss: 1.4416 - val_precision: 0.6357 - val_recall: 0.3679\n",
            "Epoch 15/32\n",
            "\u001b[1m2500/2500\u001b[0m \u001b[32m━━━━━━━━━━━━━━━━━━━━\u001b[0m\u001b[37m\u001b[0m \u001b[1m41s\u001b[0m 11ms/step - accuracy: 0.6030 - loss: 1.1081 - precision: 0.7490 - recall: 0.4461 - val_accuracy: 0.5065 - val_loss: 1.4498 - val_precision: 0.6277 - val_recall: 0.3768\n",
            "Epoch 16/32\n",
            "\u001b[1m2500/2500\u001b[0m \u001b[32m━━━━━━━━━━━━━━━━━━━━\u001b[0m\u001b[37m\u001b[0m \u001b[1m41s\u001b[0m 11ms/step - accuracy: 0.6187 - loss: 1.0802 - precision: 0.7574 - recall: 0.4675 - val_accuracy: 0.5127 - val_loss: 1.4600 - val_precision: 0.6263 - val_recall: 0.3949\n",
            "Epoch 17/32\n",
            "\u001b[1m2500/2500\u001b[0m \u001b[32m━━━━━━━━━━━━━━━━━━━━\u001b[0m\u001b[37m\u001b[0m \u001b[1m30s\u001b[0m 12ms/step - accuracy: 0.6284 - loss: 1.0500 - precision: 0.7605 - recall: 0.4805 - val_accuracy: 0.5064 - val_loss: 1.4305 - val_precision: 0.6423 - val_recall: 0.3717\n",
            "Epoch 18/32\n",
            "\u001b[1m2500/2500\u001b[0m \u001b[32m━━━━━━━━━━━━━━━━━━━━\u001b[0m\u001b[37m\u001b[0m \u001b[1m40s\u001b[0m 11ms/step - accuracy: 0.6323 - loss: 1.0256 - precision: 0.7628 - recall: 0.4926 - val_accuracy: 0.5078 - val_loss: 1.4792 - val_precision: 0.6161 - val_recall: 0.3936\n"
          ]
        },
        {
          "data": {
            "text/plain": [
              "<keras.src.callbacks.history.History at 0x7de13ac329e0>"
            ]
          },
          "execution_count": 17,
          "metadata": {},
          "output_type": "execute_result"
        }
      ],
      "source": [
        "## TODO\n",
        "model.compile(optimizer= 'sgd',\n",
        "              loss= categorical_crossentropy,\n",
        "              metrics= ['accuracy', 'precision', 'recall'])\n",
        "model.fit(\n",
        "    X_train, y_train, batch_size= 16, epochs= 32,\n",
        "    callbacks= callbacks, validation_split= .25,\n",
        "    validation_data= [X_val, y_val]\n",
        ")"
      ]
    },
    {
      "cell_type": "markdown",
      "metadata": {
        "id": "ZODNxMaQxjem"
      },
      "source": [
        "А теперь можно проверить качество вашей сети, выполнив код ниже:"
      ]
    },
    {
      "cell_type": "code",
      "execution_count": null,
      "metadata": {
        "colab": {
          "base_uri": "https://localhost:8080/"
        },
        "id": "14l7JHe_xjem",
        "outputId": "3180e5e1-778d-4020-d8f5-b288e2ceca45",
        "scrolled": true
      },
      "outputs": [
        {
          "name": "stdout",
          "output_type": "stream",
          "text": [
            "\u001b[1m313/313\u001b[0m \u001b[32m━━━━━━━━━━━━━━━━━━━━\u001b[0m\u001b[37m\u001b[0m \u001b[1m2s\u001b[0m 5ms/step\n",
            "\n",
            " Test_acc = 0.5129\n",
            " Not bad!\n"
          ]
        }
      ],
      "source": [
        "predict_x = model.predict(X_test)\n",
        "classes_x = np.argmax(predict_x,axis= 1)\n",
        "\n",
        "test_acc = accuracy_score(y_test, classes_x)\n",
        "print(\"\\n Test_acc =\", test_acc)\n",
        "assert test_acc > 0.45, \"Not good enough. Back to the drawing board :)\"\n",
        "print(\" Not bad!\")"
      ]
    },
    {
      "cell_type": "code",
      "execution_count": null,
      "metadata": {
        "colab": {
          "base_uri": "https://localhost:8080/"
        },
        "id": "bzidbjPilZUV",
        "outputId": "6df38fcc-ef4b-4da3-cfdd-d79b12bee444"
      },
      "outputs": [
        {
          "name": "stdout",
          "output_type": "stream",
          "text": [
            "              precision    recall  f1-score   support\n",
            "\n",
            "           0       0.55      0.63      0.59      1000\n",
            "           1       0.68      0.53      0.60      1000\n",
            "           2       0.41      0.44      0.42      1000\n",
            "           3       0.34      0.37      0.35      1000\n",
            "           4       0.42      0.51      0.46      1000\n",
            "           5       0.42      0.42      0.42      1000\n",
            "           6       0.64      0.47      0.54      1000\n",
            "           7       0.57      0.56      0.57      1000\n",
            "           8       0.62      0.59      0.61      1000\n",
            "           9       0.58      0.62      0.60      1000\n",
            "\n",
            "    accuracy                           0.51     10000\n",
            "   macro avg       0.52      0.51      0.52     10000\n",
            "weighted avg       0.52      0.51      0.52     10000\n",
            "\n"
          ]
        }
      ],
      "source": [
        "print(classification_report(y_test, classes_x))"
      ]
    },
    {
      "cell_type": "markdown",
      "metadata": {
        "id": "cm_SvVrqxjen"
      },
      "source": [
        "## Карманная сверточная сеть\n",
        "\n",
        "**Задание 1.2 (обязательно)** Реализуйте небольшую свёрточную сеть. Совсем небольшую:\n",
        "1. Входной слой\n",
        "2. Свёртка 3x3 с 10 фильтрами\n",
        "3. Нелинейность на ваш вкус\n",
        "4. Max-pooling 2x2\n",
        "5. Вытягиваем оставшееся в вектор (Flatten)\n",
        "6. Полносвязный слой на 100 нейронов\n",
        "7. Нелинейность на ваш вкус\n",
        "8. Выходной полносвязный слой с softmax\n",
        "\n",
        "Обучите её так же, как и предыдущую сеть. Если всё хорошо, у вас получится accuracy не меньше __50%__."
      ]
    },
    {
      "cell_type": "code",
      "execution_count": null,
      "metadata": {
        "id": "bu_Sg2sCxjeo",
        "scrolled": true
      },
      "outputs": [],
      "source": [
        "## TODO\n",
        "new_model = tf.keras.models.Sequential([\n",
        "        tf.keras.layers.Input(shape= X_train.shape[1:]),\n",
        "        tf.keras.layers.Conv2D(filters= 10, kernel_size= (3, 3),\n",
        "                               activation= 'leaky_relu', padding= 'same'),\n",
        "        tf.keras.layers.MaxPooling2D(pool_size= (2, 2), padding= 'valid'),\n",
        "        tf.keras.layers.Flatten(),\n",
        "        tf.keras.layers.Dense(100, activation= 'leaky_relu'),\n",
        "        tf.keras.layers.Dense(10, activation= 'softmax')\n",
        "])"
      ]
    },
    {
      "cell_type": "code",
      "execution_count": null,
      "metadata": {
        "id": "EiJ8rBiV-klJ"
      },
      "outputs": [],
      "source": [
        "new_callbacks = [\n",
        "    tf.keras.callbacks.ModelCheckpoint(filepath= './new_model/new_model.{epoch:02d}-{val_loss:.2f}.h5.keras'),\n",
        "    tf.keras.callbacks.TensorBoard(log_dir= './new_logs'),\n",
        "    tf.keras.callbacks.EarlyStopping(patience= 5)\n",
        "    ]"
      ]
    },
    {
      "cell_type": "code",
      "execution_count": null,
      "metadata": {
        "colab": {
          "base_uri": "https://localhost:8080/"
        },
        "id": "L06mGJx7-o-d",
        "outputId": "c4262b21-2cf2-47b4-a066-d3c9b404e4dc"
      },
      "outputs": [
        {
          "name": "stdout",
          "output_type": "stream",
          "text": [
            "Epoch 1/32\n",
            "\u001b[1m2500/2500\u001b[0m \u001b[32m━━━━━━━━━━━━━━━━━━━━\u001b[0m\u001b[37m\u001b[0m \u001b[1m40s\u001b[0m 16ms/step - accuracy: 0.2767 - loss: 1.9995 - precision: 0.5330 - recall: 0.0286 - val_accuracy: 0.4277 - val_loss: 1.6092 - val_precision: 0.6783 - val_recall: 0.1735\n",
            "Epoch 2/32\n",
            "\u001b[1m2500/2500\u001b[0m \u001b[32m━━━━━━━━━━━━━━━━━━━━\u001b[0m\u001b[37m\u001b[0m \u001b[1m29s\u001b[0m 12ms/step - accuracy: 0.4572 - loss: 1.5349 - precision: 0.6900 - recall: 0.1929 - val_accuracy: 0.4929 - val_loss: 1.4444 - val_precision: 0.6927 - val_recall: 0.2462\n",
            "Epoch 3/32\n",
            "\u001b[1m2500/2500\u001b[0m \u001b[32m━━━━━━━━━━━━━━━━━━━━\u001b[0m\u001b[37m\u001b[0m \u001b[1m29s\u001b[0m 12ms/step - accuracy: 0.5172 - loss: 1.3753 - precision: 0.7177 - recall: 0.2911 - val_accuracy: 0.5105 - val_loss: 1.3793 - val_precision: 0.6968 - val_recall: 0.3188\n",
            "Epoch 4/32\n",
            "\u001b[1m2500/2500\u001b[0m \u001b[32m━━━━━━━━━━━━━━━━━━━━\u001b[0m\u001b[37m\u001b[0m \u001b[1m30s\u001b[0m 12ms/step - accuracy: 0.5497 - loss: 1.2812 - precision: 0.7269 - recall: 0.3484 - val_accuracy: 0.5497 - val_loss: 1.2979 - val_precision: 0.7096 - val_recall: 0.3707\n",
            "Epoch 5/32\n",
            "\u001b[1m2500/2500\u001b[0m \u001b[32m━━━━━━━━━━━━━━━━━━━━\u001b[0m\u001b[37m\u001b[0m \u001b[1m29s\u001b[0m 11ms/step - accuracy: 0.5781 - loss: 1.2062 - precision: 0.7479 - recall: 0.3947 - val_accuracy: 0.5636 - val_loss: 1.2389 - val_precision: 0.7266 - val_recall: 0.3912\n",
            "Epoch 6/32\n",
            "\u001b[1m2500/2500\u001b[0m \u001b[32m━━━━━━━━━━━━━━━━━━━━\u001b[0m\u001b[37m\u001b[0m \u001b[1m44s\u001b[0m 13ms/step - accuracy: 0.5964 - loss: 1.1462 - precision: 0.7560 - recall: 0.4277 - val_accuracy: 0.5746 - val_loss: 1.2123 - val_precision: 0.7260 - val_recall: 0.4269\n",
            "Epoch 7/32\n",
            "\u001b[1m2500/2500\u001b[0m \u001b[32m━━━━━━━━━━━━━━━━━━━━\u001b[0m\u001b[37m\u001b[0m \u001b[1m29s\u001b[0m 11ms/step - accuracy: 0.6128 - loss: 1.1023 - precision: 0.7642 - recall: 0.4565 - val_accuracy: 0.5853 - val_loss: 1.2015 - val_precision: 0.7210 - val_recall: 0.4418\n",
            "Epoch 8/32\n",
            "\u001b[1m2500/2500\u001b[0m \u001b[32m━━━━━━━━━━━━━━━━━━━━\u001b[0m\u001b[37m\u001b[0m \u001b[1m29s\u001b[0m 11ms/step - accuracy: 0.6325 - loss: 1.0534 - precision: 0.7686 - recall: 0.4838 - val_accuracy: 0.5794 - val_loss: 1.2107 - val_precision: 0.6966 - val_recall: 0.4634\n",
            "Epoch 9/32\n",
            "\u001b[1m2500/2500\u001b[0m \u001b[32m━━━━━━━━━━━━━━━━━━━━\u001b[0m\u001b[37m\u001b[0m \u001b[1m29s\u001b[0m 12ms/step - accuracy: 0.6452 - loss: 1.0071 - precision: 0.7801 - recall: 0.5079 - val_accuracy: 0.5941 - val_loss: 1.1762 - val_precision: 0.7287 - val_recall: 0.4620\n",
            "Epoch 10/32\n",
            "\u001b[1m2500/2500\u001b[0m \u001b[32m━━━━━━━━━━━━━━━━━━━━\u001b[0m\u001b[37m\u001b[0m \u001b[1m29s\u001b[0m 12ms/step - accuracy: 0.6654 - loss: 0.9664 - precision: 0.7880 - recall: 0.5313 - val_accuracy: 0.6041 - val_loss: 1.1526 - val_precision: 0.7234 - val_recall: 0.4857\n",
            "Epoch 11/32\n",
            "\u001b[1m2500/2500\u001b[0m \u001b[32m━━━━━━━━━━━━━━━━━━━━\u001b[0m\u001b[37m\u001b[0m \u001b[1m41s\u001b[0m 12ms/step - accuracy: 0.6770 - loss: 0.9263 - precision: 0.7976 - recall: 0.5545 - val_accuracy: 0.6032 - val_loss: 1.1410 - val_precision: 0.7156 - val_recall: 0.4982\n",
            "Epoch 12/32\n",
            "\u001b[1m2500/2500\u001b[0m \u001b[32m━━━━━━━━━━━━━━━━━━━━\u001b[0m\u001b[37m\u001b[0m \u001b[1m41s\u001b[0m 12ms/step - accuracy: 0.6930 - loss: 0.8814 - precision: 0.8060 - recall: 0.5732 - val_accuracy: 0.6161 - val_loss: 1.1218 - val_precision: 0.7260 - val_recall: 0.5120\n",
            "Epoch 13/32\n",
            "\u001b[1m2500/2500\u001b[0m \u001b[32m━━━━━━━━━━━━━━━━━━━━\u001b[0m\u001b[37m\u001b[0m \u001b[1m31s\u001b[0m 12ms/step - accuracy: 0.7034 - loss: 0.8530 - precision: 0.8098 - recall: 0.5913 - val_accuracy: 0.6093 - val_loss: 1.1608 - val_precision: 0.7039 - val_recall: 0.5122\n",
            "Epoch 14/32\n",
            "\u001b[1m2500/2500\u001b[0m \u001b[32m━━━━━━━━━━━━━━━━━━━━\u001b[0m\u001b[37m\u001b[0m \u001b[1m41s\u001b[0m 12ms/step - accuracy: 0.7132 - loss: 0.8210 - precision: 0.8152 - recall: 0.6082 - val_accuracy: 0.6105 - val_loss: 1.1451 - val_precision: 0.7025 - val_recall: 0.5171\n",
            "Epoch 15/32\n",
            "\u001b[1m2500/2500\u001b[0m \u001b[32m━━━━━━━━━━━━━━━━━━━━\u001b[0m\u001b[37m\u001b[0m \u001b[1m29s\u001b[0m 12ms/step - accuracy: 0.7242 - loss: 0.7875 - precision: 0.8217 - recall: 0.6256 - val_accuracy: 0.6080 - val_loss: 1.1696 - val_precision: 0.6992 - val_recall: 0.5184\n",
            "Epoch 16/32\n",
            "\u001b[1m2500/2500\u001b[0m \u001b[32m━━━━━━━━━━━━━━━━━━━━\u001b[0m\u001b[37m\u001b[0m \u001b[1m29s\u001b[0m 12ms/step - accuracy: 0.7363 - loss: 0.7605 - precision: 0.8286 - recall: 0.6392 - val_accuracy: 0.6123 - val_loss: 1.1764 - val_precision: 0.6912 - val_recall: 0.5350\n",
            "Epoch 17/32\n",
            "\u001b[1m2500/2500\u001b[0m \u001b[32m━━━━━━━━━━━━━━━━━━━━\u001b[0m\u001b[37m\u001b[0m \u001b[1m29s\u001b[0m 12ms/step - accuracy: 0.7485 - loss: 0.7256 - precision: 0.8360 - recall: 0.6608 - val_accuracy: 0.6069 - val_loss: 1.1896 - val_precision: 0.6930 - val_recall: 0.5316\n"
          ]
        },
        {
          "data": {
            "text/plain": [
              "<keras.src.callbacks.history.History at 0x7de137bfdb70>"
            ]
          },
          "execution_count": 22,
          "metadata": {},
          "output_type": "execute_result"
        }
      ],
      "source": [
        "## TODO\n",
        "new_model.compile(optimizer= 'sgd',\n",
        "                  loss= categorical_crossentropy,\n",
        "                  metrics= ['accuracy', 'precision', 'recall'])\n",
        "new_model.fit(X_train, y_train, batch_size= 16, epochs= 32, callbacks= new_callbacks, validation_split= .25, validation_data= [X_val, y_val])"
      ]
    },
    {
      "cell_type": "markdown",
      "metadata": {
        "id": "f37ZT8T4xjeo"
      },
      "source": [
        "Давайте посмотрим, смогла ли карманная сверточная сеть побить заданный порог по качеству:"
      ]
    },
    {
      "cell_type": "code",
      "execution_count": null,
      "metadata": {
        "colab": {
          "base_uri": "https://localhost:8080/"
        },
        "id": "IAYvMxhTxjep",
        "outputId": "1b23d516-3397-4c6b-99e4-c6253de687a1"
      },
      "outputs": [
        {
          "name": "stdout",
          "output_type": "stream",
          "text": [
            "\u001b[1m313/313\u001b[0m \u001b[32m━━━━━━━━━━━━━━━━━━━━\u001b[0m\u001b[37m\u001b[0m \u001b[1m2s\u001b[0m 6ms/step\n",
            "\n",
            " Test_acc = 0.6098\n",
            " Not bad!\n"
          ]
        }
      ],
      "source": [
        "predict_x = new_model.predict(X_test)\n",
        "classes_x = np.argmax(predict_x, axis= 1)\n",
        "\n",
        "test_acc = accuracy_score(y_test, classes_x)\n",
        "print(\"\\n Test_acc =\", test_acc)\n",
        "assert test_acc > 0.50, \"Not good enough. Back to the drawing board :)\"\n",
        "print(\" Not bad!\")"
      ]
    },
    {
      "cell_type": "code",
      "execution_count": null,
      "metadata": {
        "colab": {
          "base_uri": "https://localhost:8080/"
        },
        "id": "MhhTUruXWk6E",
        "outputId": "e359d203-fef0-4e46-d922-8fda39df7d1b"
      },
      "outputs": [
        {
          "name": "stdout",
          "output_type": "stream",
          "text": [
            "              precision    recall  f1-score   support\n",
            "\n",
            "           0       0.56      0.79      0.65      1000\n",
            "           1       0.73      0.73      0.73      1000\n",
            "           2       0.55      0.40      0.46      1000\n",
            "           3       0.45      0.41      0.43      1000\n",
            "           4       0.58      0.49      0.54      1000\n",
            "           5       0.52      0.50      0.51      1000\n",
            "           6       0.71      0.64      0.67      1000\n",
            "           7       0.64      0.71      0.67      1000\n",
            "           8       0.68      0.78      0.73      1000\n",
            "           9       0.65      0.65      0.65      1000\n",
            "\n",
            "    accuracy                           0.61     10000\n",
            "   macro avg       0.61      0.61      0.60     10000\n",
            "weighted avg       0.61      0.61      0.60     10000\n",
            "\n"
          ]
        }
      ],
      "source": [
        "print(classification_report(y_test, classes_x))"
      ]
    },
    {
      "cell_type": "markdown",
      "metadata": {
        "id": "How0uQPzxjep"
      },
      "source": [
        "## Учимся учить\n",
        "\n",
        "А теперь научимся сравнивать кривые обучения моделей — зависимости значения accuracy от количества итераций.\n",
        "\n",
        "Вам потребуется реализовать _экспериментальный стенд_ — вспомогательный код, в который вы сможете подать несколько архитектур и методов обучения, чтобы он их обучил и вывел графики кривых обучения. Это можно сделать с помощью `keras.callbacks` — `TensorBoard` или `History`.\n",
        "\n",
        "Будьте морально готовы, что на обучение уйдёт _много времени_. Даже если вы ограничитесь 10 эпохами. Пока идёт обучение, вы можете переключиться на другие задания или заняться чем-нибудь приятным: поспать, например."
      ]
    },
    {
      "cell_type": "markdown",
      "metadata": {
        "id": "VwmdGNIHxjep"
      },
      "source": [
        "**Задание 1.3 (опционально)** Попробуйте использовать различные методы оптимизации (sgd, momentum, adam) с параметрами по умолчанию. Какой из методов работает лучше?"
      ]
    },
    {
      "cell_type": "markdown",
      "metadata": {
        "id": "LsF9iIFGxjeq"
      },
      "source": [
        "Для удобства напишем класс Evaluator, который принимает в себя дикты виды {имя_оптимайзера: инстанс}, {имя модели: инстанс} и обучает всевозможные комбинации моделей с оптимайзерами при помощи метода fit (попутно записывая логи отдельно для каждой модели). Также пригодится метод evaluate для отображения итоговых скоров."
      ]
    },
    {
      "cell_type": "markdown",
      "metadata": {
        "id": "FBtU0x2X5gmG"
      },
      "source": [
        "Пользоваться классом не обязательно. По умолчанию класс использует tensorboard. Если вы выше использовали wandb -- советуем дописать callback."
      ]
    },
    {
      "cell_type": "code",
      "execution_count": null,
      "metadata": {
        "id": "n6pRKzaKxjeq"
      },
      "outputs": [],
      "source": [
        "class Evaluator(list):\n",
        "    def __init__(self, models, optimizers= 'adam', loss= keras.losses.categorical_crossentropy,\n",
        "                 metrics= [keras.metrics.categorical_accuracy]):\n",
        "        if not isinstance(models, dict):\n",
        "            models = {'single_model': models}\n",
        "\n",
        "        if not isinstance(optimizers, dict):\n",
        "            optimizers = {str(optimizers.__class__): optimizers}\n",
        "\n",
        "        super().__init__([(model_name, keras.models.clone_model(model), optimizer_name)\n",
        "                          for model_name, model in models.items()\n",
        "                          for optimizer_name in optimizers])\n",
        "\n",
        "        self.models = models\n",
        "        self.optimizers = optimizers\n",
        "\n",
        "        for model_name, model, optimizer_name in self:\n",
        "            optimizer = self.optimizers[optimizer_name]()\n",
        "            model.compile(optimizer=optimizer, loss=loss, metrics=metrics)\n",
        "\n",
        "        self.histories = {}\n",
        "\n",
        "    def fit(self, X, y, validation_data= (), max_epochs= 20, verbose= 0, callbacks= [], batch_size= 32):\n",
        "        if not isinstance(callbacks, list):\n",
        "            callbacks = [callbacks]\n",
        "\n",
        "        history_dict = {}\n",
        "\n",
        "        for model_name, model, optimizer_name in tqdm(self):\n",
        "            print(f'Training {model_name} with {optimizer_name} optimizer')\n",
        "            history = model.fit(X, y, validation_data= validation_data, epochs= max_epochs,\n",
        "                                batch_size= batch_size, callbacks= callbacks + [\n",
        "                                    keras.callbacks.TensorBoard(log_dir= f'./logs/{model_name}_{optimizer_name}')],\n",
        "                                verbose= verbose)\n",
        "            history_dict[(model_name, optimizer_name)] = history\n",
        "\n",
        "            self.histories[(model_name, optimizer_name)] = history\n",
        "\n",
        "        return history_dict\n",
        "\n",
        "    def fit_generator(self, X, y, validation_data= (), max_epochs= 20, verbose= 1, callbacks= [], batch_size= 32):\n",
        "        datagen = keras.preprocessing.image.ImageDataGenerator(\n",
        "            rotation_range= 20,\n",
        "            width_shift_range= .2,\n",
        "            height_shift_range= .2,\n",
        "            horizontal_flip= True\n",
        "        )\n",
        "\n",
        "        if not isinstance(callbacks, list):\n",
        "            callbacks = [callbacks]\n",
        "\n",
        "        for model_name, model, optimizer_name in tqdm(self):\n",
        "            model.fit(datagen.flow(X, y, batch_size=batch_size), epochs=max_epochs,\n",
        "                      validation_data=validation_data or None, verbose=verbose,\n",
        "                      callbacks=callbacks + [keras.callbacks.TensorBoard(\n",
        "                          log_dir='./logs/{}_{}'.format(model_name, optimizer_name))])\n",
        "\n",
        "    def plot_learning_curves(self, figsize_= (12, 8)):\n",
        "        plt.figure(figsize= figsize_)\n",
        "\n",
        "        for (model_name, optimizer_name), history in self.histories.items():\n",
        "            plt.plot(history.history['categorical_accuracy'], label= f'{model_name} - {optimizer_name} (train)')\n",
        "            plt.plot(history.history['val_categorical_accuracy'], label= f'{model_name} - {optimizer_name} (val)', linestyle='--')\n",
        "\n",
        "        plt.title('Learning Curves')\n",
        "        plt.xlabel('Epochs')\n",
        "        plt.ylabel('Accuracy')\n",
        "        plt.legend()\n",
        "\n",
        "        plt.tight_layout()\n",
        "        plt.show()\n",
        "\n",
        "    def evaluate(self, X, y, metric):\n",
        "        for model_name, model, optimizer_name in self:\n",
        "            score = metric(y.argmax(axis= 1), model.predict(X).argmax(axis= 1))\n",
        "            print(f'Final score of {model_name}_{optimizer_name} is {score}')"
      ]
    },
    {
      "cell_type": "code",
      "execution_count": null,
      "metadata": {
        "id": "vpAWyAs7xjer"
      },
      "outputs": [],
      "source": [
        "!rm -rf ./logs"
      ]
    },
    {
      "cell_type": "code",
      "execution_count": null,
      "metadata": {
        "id": "FLtng4Cwxjer"
      },
      "outputs": [],
      "source": [
        "## TODO\n",
        "def create_model1():\n",
        "    return tf.keras.models.Sequential([\n",
        "        tf.keras.layers.Input(shape= X_train.shape[1:]),\n",
        "        tf.keras.layers.Dense(32, activation= 'relu'),\n",
        "        tf.keras.layers.Flatten(),\n",
        "        tf.keras.layers.Dense(32, activation= 'relu'),\n",
        "        tf.keras.layers.Dense(32, activation= 'relu'),\n",
        "        tf.keras.layers.Dense(10, activation= 'softmax')\n",
        "    ])\n",
        "\n",
        "def create_model2():\n",
        "    return tf.keras.models.Sequential([\n",
        "        tf.keras.layers.Input(shape= X_train.shape[1:]),\n",
        "        tf.keras.layers.Conv2D(filters= 10, kernel_size= (3, 3),\n",
        "                 activation= 'leaky_relu', padding= 'same'),\n",
        "        tf.keras.layers.MaxPooling2D(pool_size= (2, 2), padding= 'valid'),\n",
        "        tf.keras.layers.Flatten(),\n",
        "        tf.keras.layers.Dense(100, activation= 'leaky_relu'),\n",
        "        tf.keras.layers.Dense(10, activation= 'softmax')\n",
        "    ])\n",
        "\n",
        "models_ = {\n",
        "    'Model_1': create_model1(),\n",
        "    'Model_2': create_model2()\n",
        "}\n",
        "optimizers_ = {\n",
        "    'SGD': SGD,\n",
        "    'Adam': Adam,\n",
        "    'RMSprop': RMSprop\n",
        "}"
      ]
    },
    {
      "cell_type": "code",
      "execution_count": null,
      "metadata": {
        "id": "thy5SucZuJ6X"
      },
      "outputs": [],
      "source": [
        "callbacks_train = [\n",
        "    tf.keras.callbacks.ReduceLROnPlateau(\n",
        "        patience= 5,\n",
        "        min_delta= 0.001,\n",
        "    ),\n",
        "    tf.keras.callbacks.BackupAndRestore(\n",
        "        backup_dir= '/tmp/backup',\n",
        "        save_freq= 'epoch'\n",
        "    )\n",
        "]"
      ]
    },
    {
      "cell_type": "code",
      "execution_count": null,
      "metadata": {
        "colab": {
          "base_uri": "https://localhost:8080/",
          "height": 1000,
          "referenced_widgets": [
            "33b22685a8944fecbb95787643a82a4e",
            "481a0e1291624405b5e187f448a5d16f",
            "0129a65cd8c04d4a8e1f041259c05cde",
            "5a887664815545e68e1535f78198e3ae",
            "c43e59f1b6da4026b9a0ab53bd48ca35",
            "6fe3b70ec1074638966393677b02b508",
            "5c8b84ef6509495ca09f39fb62915f95",
            "acde28cf500045fe8f4b8cf7c4990f65",
            "3cb57363f3ce47d5af17220726bcc712",
            "9bb5c8c662f940358894a49a4e2bae53",
            "5c848d7735014312ac45cdaa8b062603"
          ]
        },
        "id": "RQJqV2vjxjes",
        "outputId": "3ce5cff1-7fb8-4f22-ab4c-f41820303691"
      },
      "outputs": [
        {
          "data": {
            "application/vnd.jupyter.widget-view+json": {
              "model_id": "33b22685a8944fecbb95787643a82a4e",
              "version_major": 2,
              "version_minor": 0
            },
            "text/plain": [
              "  0%|          | 0/6 [00:00<?, ?it/s]"
            ]
          },
          "metadata": {},
          "output_type": "display_data"
        },
        {
          "name": "stdout",
          "output_type": "stream",
          "text": [
            "Training Model_1 with SGD optimizer\n",
            "Epoch 1/32\n",
            "\u001b[1m1250/1250\u001b[0m \u001b[32m━━━━━━━━━━━━━━━━━━━━\u001b[0m\u001b[37m\u001b[0m \u001b[1m7s\u001b[0m 4ms/step - categorical_accuracy: 0.2072 - loss: 2.1404 - val_categorical_accuracy: 0.3125 - val_loss: 1.9231 - learning_rate: 0.0100\n",
            "Epoch 2/32\n",
            "\u001b[1m1250/1250\u001b[0m \u001b[32m━━━━━━━━━━━━━━━━━━━━\u001b[0m\u001b[37m\u001b[0m \u001b[1m5s\u001b[0m 4ms/step - categorical_accuracy: 0.3572 - loss: 1.8209 - val_categorical_accuracy: 0.3913 - val_loss: 1.7051 - learning_rate: 0.0100\n",
            "Epoch 3/32\n",
            "\u001b[1m1250/1250\u001b[0m \u001b[32m━━━━━━━━━━━━━━━━━━━━\u001b[0m\u001b[37m\u001b[0m \u001b[1m9s\u001b[0m 3ms/step - categorical_accuracy: 0.4016 - loss: 1.6934 - val_categorical_accuracy: 0.4059 - val_loss: 1.6824 - learning_rate: 0.0100\n",
            "Epoch 4/32\n",
            "\u001b[1m1250/1250\u001b[0m \u001b[32m━━━━━━━━━━━━━━━━━━━━\u001b[0m\u001b[37m\u001b[0m \u001b[1m6s\u001b[0m 3ms/step - categorical_accuracy: 0.4281 - loss: 1.6141 - val_categorical_accuracy: 0.4438 - val_loss: 1.5656 - learning_rate: 0.0100\n",
            "Epoch 5/32\n",
            "\u001b[1m1250/1250\u001b[0m \u001b[32m━━━━━━━━━━━━━━━━━━━━\u001b[0m\u001b[37m\u001b[0m \u001b[1m4s\u001b[0m 3ms/step - categorical_accuracy: 0.4601 - loss: 1.5285 - val_categorical_accuracy: 0.4522 - val_loss: 1.5517 - learning_rate: 0.0100\n",
            "Epoch 6/32\n",
            "\u001b[1m1250/1250\u001b[0m \u001b[32m━━━━━━━━━━━━━━━━━━━━\u001b[0m\u001b[37m\u001b[0m \u001b[1m6s\u001b[0m 4ms/step - categorical_accuracy: 0.4679 - loss: 1.5054 - val_categorical_accuracy: 0.4643 - val_loss: 1.5087 - learning_rate: 0.0100\n",
            "Epoch 7/32\n",
            "\u001b[1m1250/1250\u001b[0m \u001b[32m━━━━━━━━━━━━━━━━━━━━\u001b[0m\u001b[37m\u001b[0m \u001b[1m4s\u001b[0m 3ms/step - categorical_accuracy: 0.4871 - loss: 1.4473 - val_categorical_accuracy: 0.4845 - val_loss: 1.4718 - learning_rate: 0.0100\n",
            "Epoch 8/32\n",
            "\u001b[1m1250/1250\u001b[0m \u001b[32m━━━━━━━━━━━━━━━━━━━━\u001b[0m\u001b[37m\u001b[0m \u001b[1m5s\u001b[0m 3ms/step - categorical_accuracy: 0.5031 - loss: 1.4173 - val_categorical_accuracy: 0.4735 - val_loss: 1.4794 - learning_rate: 0.0100\n",
            "Epoch 9/32\n",
            "\u001b[1m1250/1250\u001b[0m \u001b[32m━━━━━━━━━━━━━━━━━━━━\u001b[0m\u001b[37m\u001b[0m \u001b[1m5s\u001b[0m 4ms/step - categorical_accuracy: 0.5137 - loss: 1.3847 - val_categorical_accuracy: 0.4856 - val_loss: 1.4518 - learning_rate: 0.0100\n",
            "Epoch 10/32\n",
            "\u001b[1m1250/1250\u001b[0m \u001b[32m━━━━━━━━━━━━━━━━━━━━\u001b[0m\u001b[37m\u001b[0m \u001b[1m4s\u001b[0m 3ms/step - categorical_accuracy: 0.5223 - loss: 1.3583 - val_categorical_accuracy: 0.4783 - val_loss: 1.4581 - learning_rate: 0.0100\n",
            "Epoch 11/32\n",
            "\u001b[1m1250/1250\u001b[0m \u001b[32m━━━━━━━━━━━━━━━━━━━━\u001b[0m\u001b[37m\u001b[0m \u001b[1m5s\u001b[0m 3ms/step - categorical_accuracy: 0.5318 - loss: 1.3363 - val_categorical_accuracy: 0.4960 - val_loss: 1.4444 - learning_rate: 0.0100\n",
            "Epoch 12/32\n",
            "\u001b[1m1250/1250\u001b[0m \u001b[32m━━━━━━━━━━━━━━━━━━━━\u001b[0m\u001b[37m\u001b[0m \u001b[1m5s\u001b[0m 3ms/step - categorical_accuracy: 0.5444 - loss: 1.3025 - val_categorical_accuracy: 0.4893 - val_loss: 1.4339 - learning_rate: 0.0100\n",
            "Epoch 13/32\n",
            "\u001b[1m1250/1250\u001b[0m \u001b[32m━━━━━━━━━━━━━━━━━━━━\u001b[0m\u001b[37m\u001b[0m \u001b[1m4s\u001b[0m 3ms/step - categorical_accuracy: 0.5496 - loss: 1.2826 - val_categorical_accuracy: 0.5010 - val_loss: 1.4251 - learning_rate: 0.0100\n",
            "Epoch 14/32\n",
            "\u001b[1m1250/1250\u001b[0m \u001b[32m━━━━━━━━━━━━━━━━━━━━\u001b[0m\u001b[37m\u001b[0m \u001b[1m5s\u001b[0m 4ms/step - categorical_accuracy: 0.5524 - loss: 1.2677 - val_categorical_accuracy: 0.5071 - val_loss: 1.4111 - learning_rate: 0.0100\n",
            "Epoch 15/32\n",
            "\u001b[1m1250/1250\u001b[0m \u001b[32m━━━━━━━━━━━━━━━━━━━━\u001b[0m\u001b[37m\u001b[0m \u001b[1m4s\u001b[0m 3ms/step - categorical_accuracy: 0.5685 - loss: 1.2315 - val_categorical_accuracy: 0.5128 - val_loss: 1.3851 - learning_rate: 0.0100\n",
            "Epoch 16/32\n",
            "\u001b[1m1250/1250\u001b[0m \u001b[32m━━━━━━━━━━━━━━━━━━━━\u001b[0m\u001b[37m\u001b[0m \u001b[1m5s\u001b[0m 3ms/step - categorical_accuracy: 0.5773 - loss: 1.2098 - val_categorical_accuracy: 0.5073 - val_loss: 1.4101 - learning_rate: 0.0100\n",
            "Epoch 17/32\n",
            "\u001b[1m1250/1250\u001b[0m \u001b[32m━━━━━━━━━━━━━━━━━━━━\u001b[0m\u001b[37m\u001b[0m \u001b[1m5s\u001b[0m 4ms/step - categorical_accuracy: 0.5798 - loss: 1.1935 - val_categorical_accuracy: 0.5037 - val_loss: 1.4216 - learning_rate: 0.0100\n",
            "Epoch 18/32\n",
            "\u001b[1m1250/1250\u001b[0m \u001b[32m━━━━━━━━━━━━━━━━━━━━\u001b[0m\u001b[37m\u001b[0m \u001b[1m4s\u001b[0m 3ms/step - categorical_accuracy: 0.5921 - loss: 1.1645 - val_categorical_accuracy: 0.5023 - val_loss: 1.4395 - learning_rate: 0.0100\n",
            "Epoch 19/32\n",
            "\u001b[1m1250/1250\u001b[0m \u001b[32m━━━━━━━━━━━━━━━━━━━━\u001b[0m\u001b[37m\u001b[0m \u001b[1m4s\u001b[0m 3ms/step - categorical_accuracy: 0.5919 - loss: 1.1528 - val_categorical_accuracy: 0.5133 - val_loss: 1.4061 - learning_rate: 0.0100\n",
            "Epoch 20/32\n",
            "\u001b[1m1250/1250\u001b[0m \u001b[32m━━━━━━━━━━━━━━━━━━━━\u001b[0m\u001b[37m\u001b[0m \u001b[1m5s\u001b[0m 4ms/step - categorical_accuracy: 0.6066 - loss: 1.1248 - val_categorical_accuracy: 0.5115 - val_loss: 1.4122 - learning_rate: 0.0100\n",
            "Epoch 21/32\n",
            "\u001b[1m1250/1250\u001b[0m \u001b[32m━━━━━━━━━━━━━━━━━━━━\u001b[0m\u001b[37m\u001b[0m \u001b[1m4s\u001b[0m 3ms/step - categorical_accuracy: 0.6329 - loss: 1.0539 - val_categorical_accuracy: 0.5241 - val_loss: 1.3732 - learning_rate: 1.0000e-03\n",
            "Epoch 22/32\n",
            "\u001b[1m1250/1250\u001b[0m \u001b[32m━━━━━━━━━━━━━━━━━━━━\u001b[0m\u001b[37m\u001b[0m \u001b[1m4s\u001b[0m 3ms/step - categorical_accuracy: 0.6459 - loss: 1.0191 - val_categorical_accuracy: 0.5280 - val_loss: 1.3736 - learning_rate: 1.0000e-03\n",
            "Epoch 23/32\n",
            "\u001b[1m1250/1250\u001b[0m \u001b[32m━━━━━━━━━━━━━━━━━━━━\u001b[0m\u001b[37m\u001b[0m \u001b[1m5s\u001b[0m 4ms/step - categorical_accuracy: 0.6480 - loss: 1.0108 - val_categorical_accuracy: 0.5303 - val_loss: 1.3768 - learning_rate: 1.0000e-03\n",
            "Epoch 24/32\n",
            "\u001b[1m1250/1250\u001b[0m \u001b[32m━━━━━━━━━━━━━━━━━━━━\u001b[0m\u001b[37m\u001b[0m \u001b[1m4s\u001b[0m 3ms/step - categorical_accuracy: 0.6439 - loss: 1.0133 - val_categorical_accuracy: 0.5266 - val_loss: 1.3799 - learning_rate: 1.0000e-03\n",
            "Epoch 25/32\n",
            "\u001b[1m1250/1250\u001b[0m \u001b[32m━━━━━━━━━━━━━━━━━━━━\u001b[0m\u001b[37m\u001b[0m \u001b[1m4s\u001b[0m 3ms/step - categorical_accuracy: 0.6463 - loss: 1.0193 - val_categorical_accuracy: 0.5280 - val_loss: 1.3762 - learning_rate: 1.0000e-03\n",
            "Epoch 26/32\n",
            "\u001b[1m1250/1250\u001b[0m \u001b[32m━━━━━━━━━━━━━━━━━━━━\u001b[0m\u001b[37m\u001b[0m \u001b[1m5s\u001b[0m 3ms/step - categorical_accuracy: 0.6527 - loss: 1.0063 - val_categorical_accuracy: 0.5279 - val_loss: 1.3799 - learning_rate: 1.0000e-03\n",
            "Epoch 27/32\n",
            "\u001b[1m1250/1250\u001b[0m \u001b[32m━━━━━━━━━━━━━━━━━━━━\u001b[0m\u001b[37m\u001b[0m \u001b[1m4s\u001b[0m 3ms/step - categorical_accuracy: 0.6533 - loss: 1.0017 - val_categorical_accuracy: 0.5266 - val_loss: 1.3790 - learning_rate: 1.0000e-04\n",
            "Epoch 28/32\n",
            "\u001b[1m1250/1250\u001b[0m \u001b[32m━━━━━━━━━━━━━━━━━━━━\u001b[0m\u001b[37m\u001b[0m \u001b[1m5s\u001b[0m 3ms/step - categorical_accuracy: 0.6506 - loss: 0.9972 - val_categorical_accuracy: 0.5277 - val_loss: 1.3786 - learning_rate: 1.0000e-04\n",
            "Epoch 29/32\n",
            "\u001b[1m1250/1250\u001b[0m \u001b[32m━━━━━━━━━━━━━━━━━━━━\u001b[0m\u001b[37m\u001b[0m \u001b[1m4s\u001b[0m 3ms/step - categorical_accuracy: 0.6566 - loss: 0.9956 - val_categorical_accuracy: 0.5278 - val_loss: 1.3790 - learning_rate: 1.0000e-04\n",
            "Epoch 30/32\n",
            "\u001b[1m1250/1250\u001b[0m \u001b[32m━━━━━━━━━━━━━━━━━━━━\u001b[0m\u001b[37m\u001b[0m \u001b[1m5s\u001b[0m 3ms/step - categorical_accuracy: 0.6545 - loss: 0.9930 - val_categorical_accuracy: 0.5266 - val_loss: 1.3792 - learning_rate: 1.0000e-04\n",
            "Epoch 31/32\n",
            "\u001b[1m1250/1250\u001b[0m \u001b[32m━━━━━━━━━━━━━━━━━━━━\u001b[0m\u001b[37m\u001b[0m \u001b[1m4s\u001b[0m 4ms/step - categorical_accuracy: 0.6540 - loss: 0.9985 - val_categorical_accuracy: 0.5278 - val_loss: 1.3797 - learning_rate: 1.0000e-04\n",
            "Epoch 32/32\n",
            "\u001b[1m1250/1250\u001b[0m \u001b[32m━━━━━━━━━━━━━━━━━━━━\u001b[0m\u001b[37m\u001b[0m \u001b[1m5s\u001b[0m 3ms/step - categorical_accuracy: 0.6571 - loss: 0.9960 - val_categorical_accuracy: 0.5284 - val_loss: 1.3795 - learning_rate: 1.0000e-05\n",
            "Training Model_1 with Adam optimizer\n",
            "Epoch 1/32\n",
            "\u001b[1m1250/1250\u001b[0m \u001b[32m━━━━━━━━━━━━━━━━━━━━\u001b[0m\u001b[37m\u001b[0m \u001b[1m8s\u001b[0m 5ms/step - categorical_accuracy: 0.2718 - loss: 1.9870 - val_categorical_accuracy: 0.4268 - val_loss: 1.6118 - learning_rate: 0.0010\n",
            "Epoch 2/32\n",
            "\u001b[1m1250/1250\u001b[0m \u001b[32m━━━━━━━━━━━━━━━━━━━━\u001b[0m\u001b[37m\u001b[0m \u001b[1m7s\u001b[0m 3ms/step - categorical_accuracy: 0.4265 - loss: 1.5909 - val_categorical_accuracy: 0.4517 - val_loss: 1.5390 - learning_rate: 0.0010\n",
            "Epoch 3/32\n",
            "\u001b[1m1250/1250\u001b[0m \u001b[32m━━━━━━━━━━━━━━━━━━━━\u001b[0m\u001b[37m\u001b[0m \u001b[1m5s\u001b[0m 4ms/step - categorical_accuracy: 0.4582 - loss: 1.5107 - val_categorical_accuracy: 0.4587 - val_loss: 1.5267 - learning_rate: 0.0010\n",
            "Epoch 4/32\n",
            "\u001b[1m1250/1250\u001b[0m \u001b[32m━━━━━━━━━━━━━━━━━━━━\u001b[0m\u001b[37m\u001b[0m \u001b[1m5s\u001b[0m 3ms/step - categorical_accuracy: 0.4751 - loss: 1.4703 - val_categorical_accuracy: 0.4708 - val_loss: 1.4998 - learning_rate: 0.0010\n",
            "Epoch 5/32\n",
            "\u001b[1m1250/1250\u001b[0m \u001b[32m━━━━━━━━━━━━━━━━━━━━\u001b[0m\u001b[37m\u001b[0m \u001b[1m4s\u001b[0m 3ms/step - categorical_accuracy: 0.4872 - loss: 1.4280 - val_categorical_accuracy: 0.4675 - val_loss: 1.5090 - learning_rate: 0.0010\n",
            "Epoch 6/32\n",
            "\u001b[1m1250/1250\u001b[0m \u001b[32m━━━━━━━━━━━━━━━━━━━━\u001b[0m\u001b[37m\u001b[0m \u001b[1m5s\u001b[0m 4ms/step - categorical_accuracy: 0.4934 - loss: 1.4201 - val_categorical_accuracy: 0.4766 - val_loss: 1.4849 - learning_rate: 0.0010\n",
            "Epoch 7/32\n",
            "\u001b[1m1250/1250\u001b[0m \u001b[32m━━━━━━━━━━━━━━━━━━━━\u001b[0m\u001b[37m\u001b[0m \u001b[1m4s\u001b[0m 3ms/step - categorical_accuracy: 0.5051 - loss: 1.3846 - val_categorical_accuracy: 0.4738 - val_loss: 1.4919 - learning_rate: 0.0010\n",
            "Epoch 8/32\n",
            "\u001b[1m1250/1250\u001b[0m \u001b[32m━━━━━━━━━━━━━━━━━━━━\u001b[0m\u001b[37m\u001b[0m \u001b[1m6s\u001b[0m 5ms/step - categorical_accuracy: 0.5133 - loss: 1.3550 - val_categorical_accuracy: 0.4775 - val_loss: 1.4805 - learning_rate: 0.0010\n",
            "Epoch 9/32\n",
            "\u001b[1m1250/1250\u001b[0m \u001b[32m━━━━━━━━━━━━━━━━━━━━\u001b[0m\u001b[37m\u001b[0m \u001b[1m4s\u001b[0m 3ms/step - categorical_accuracy: 0.5305 - loss: 1.3231 - val_categorical_accuracy: 0.4818 - val_loss: 1.4649 - learning_rate: 0.0010\n",
            "Epoch 10/32\n",
            "\u001b[1m1250/1250\u001b[0m \u001b[32m━━━━━━━━━━━━━━━━━━━━\u001b[0m\u001b[37m\u001b[0m \u001b[1m5s\u001b[0m 4ms/step - categorical_accuracy: 0.5284 - loss: 1.3171 - val_categorical_accuracy: 0.4754 - val_loss: 1.5021 - learning_rate: 0.0010\n",
            "Epoch 11/32\n",
            "\u001b[1m1250/1250\u001b[0m \u001b[32m━━━━━━━━━━━━━━━━━━━━\u001b[0m\u001b[37m\u001b[0m \u001b[1m6s\u001b[0m 4ms/step - categorical_accuracy: 0.5424 - loss: 1.2870 - val_categorical_accuracy: 0.4848 - val_loss: 1.4752 - learning_rate: 0.0010\n",
            "Epoch 12/32\n",
            "\u001b[1m1250/1250\u001b[0m \u001b[32m━━━━━━━━━━━━━━━━━━━━\u001b[0m\u001b[37m\u001b[0m \u001b[1m5s\u001b[0m 4ms/step - categorical_accuracy: 0.5481 - loss: 1.2740 - val_categorical_accuracy: 0.4786 - val_loss: 1.5034 - learning_rate: 0.0010\n",
            "Epoch 13/32\n",
            "\u001b[1m1250/1250\u001b[0m \u001b[32m━━━━━━━━━━━━━━━━━━━━\u001b[0m\u001b[37m\u001b[0m \u001b[1m6s\u001b[0m 4ms/step - categorical_accuracy: 0.5522 - loss: 1.2524 - val_categorical_accuracy: 0.4833 - val_loss: 1.4748 - learning_rate: 0.0010\n",
            "Epoch 14/32\n",
            "\u001b[1m1250/1250\u001b[0m \u001b[32m━━━━━━━━━━━━━━━━━━━━\u001b[0m\u001b[37m\u001b[0m \u001b[1m5s\u001b[0m 4ms/step - categorical_accuracy: 0.5630 - loss: 1.2275 - val_categorical_accuracy: 0.4715 - val_loss: 1.5308 - learning_rate: 0.0010\n",
            "Epoch 15/32\n",
            "\u001b[1m1250/1250\u001b[0m \u001b[32m━━━━━━━━━━━━━━━━━━━━\u001b[0m\u001b[37m\u001b[0m \u001b[1m4s\u001b[0m 3ms/step - categorical_accuracy: 0.5921 - loss: 1.1612 - val_categorical_accuracy: 0.4934 - val_loss: 1.4626 - learning_rate: 1.0000e-04\n",
            "Epoch 16/32\n",
            "\u001b[1m1250/1250\u001b[0m \u001b[32m━━━━━━━━━━━━━━━━━━━━\u001b[0m\u001b[37m\u001b[0m \u001b[1m6s\u001b[0m 4ms/step - categorical_accuracy: 0.5980 - loss: 1.1370 - val_categorical_accuracy: 0.4940 - val_loss: 1.4706 - learning_rate: 1.0000e-04\n",
            "Epoch 17/32\n",
            "\u001b[1m1250/1250\u001b[0m \u001b[32m━━━━━━━━━━━━━━━━━━━━\u001b[0m\u001b[37m\u001b[0m \u001b[1m4s\u001b[0m 3ms/step - categorical_accuracy: 0.6016 - loss: 1.1253 - val_categorical_accuracy: 0.4950 - val_loss: 1.4709 - learning_rate: 1.0000e-04\n",
            "Epoch 18/32\n",
            "\u001b[1m1250/1250\u001b[0m \u001b[32m━━━━━━━━━━━━━━━━━━━━\u001b[0m\u001b[37m\u001b[0m \u001b[1m5s\u001b[0m 4ms/step - categorical_accuracy: 0.6045 - loss: 1.1221 - val_categorical_accuracy: 0.4937 - val_loss: 1.4755 - learning_rate: 1.0000e-04\n",
            "Epoch 19/32\n",
            "\u001b[1m1250/1250\u001b[0m \u001b[32m━━━━━━━━━━━━━━━━━━━━\u001b[0m\u001b[37m\u001b[0m \u001b[1m5s\u001b[0m 4ms/step - categorical_accuracy: 0.6069 - loss: 1.1140 - val_categorical_accuracy: 0.4935 - val_loss: 1.4823 - learning_rate: 1.0000e-04\n",
            "Epoch 20/32\n",
            "\u001b[1m1250/1250\u001b[0m \u001b[32m━━━━━━━━━━━━━━━━━━━━\u001b[0m\u001b[37m\u001b[0m \u001b[1m5s\u001b[0m 3ms/step - categorical_accuracy: 0.6072 - loss: 1.1075 - val_categorical_accuracy: 0.4926 - val_loss: 1.4856 - learning_rate: 1.0000e-04\n",
            "Epoch 21/32\n",
            "\u001b[1m1250/1250\u001b[0m \u001b[32m━━━━━━━━━━━━━━━━━━━━\u001b[0m\u001b[37m\u001b[0m \u001b[1m6s\u001b[0m 4ms/step - categorical_accuracy: 0.6176 - loss: 1.0867 - val_categorical_accuracy: 0.4919 - val_loss: 1.4822 - learning_rate: 1.0000e-05\n",
            "Epoch 22/32\n",
            "\u001b[1m1250/1250\u001b[0m \u001b[32m━━━━━━━━━━━━━━━━━━━━\u001b[0m\u001b[37m\u001b[0m \u001b[1m4s\u001b[0m 3ms/step - categorical_accuracy: 0.6079 - loss: 1.0982 - val_categorical_accuracy: 0.4926 - val_loss: 1.4822 - learning_rate: 1.0000e-05\n",
            "Epoch 23/32\n",
            "\u001b[1m1250/1250\u001b[0m \u001b[32m━━━━━━━━━━━━━━━━━━━━\u001b[0m\u001b[37m\u001b[0m \u001b[1m5s\u001b[0m 4ms/step - categorical_accuracy: 0.6163 - loss: 1.0872 - val_categorical_accuracy: 0.4938 - val_loss: 1.4828 - learning_rate: 1.0000e-05\n",
            "Epoch 24/32\n",
            "\u001b[1m1250/1250\u001b[0m \u001b[32m━━━━━━━━━━━━━━━━━━━━\u001b[0m\u001b[37m\u001b[0m \u001b[1m5s\u001b[0m 4ms/step - categorical_accuracy: 0.6107 - loss: 1.1050 - val_categorical_accuracy: 0.4937 - val_loss: 1.4835 - learning_rate: 1.0000e-05\n",
            "Epoch 25/32\n",
            "\u001b[1m1250/1250\u001b[0m \u001b[32m━━━━━━━━━━━━━━━━━━━━\u001b[0m\u001b[37m\u001b[0m \u001b[1m5s\u001b[0m 3ms/step - categorical_accuracy: 0.6132 - loss: 1.0973 - val_categorical_accuracy: 0.4933 - val_loss: 1.4843 - learning_rate: 1.0000e-05\n",
            "Epoch 26/32\n",
            "\u001b[1m1250/1250\u001b[0m \u001b[32m━━━━━━━━━━━━━━━━━━━━\u001b[0m\u001b[37m\u001b[0m \u001b[1m5s\u001b[0m 4ms/step - categorical_accuracy: 0.6189 - loss: 1.0864 - val_categorical_accuracy: 0.4934 - val_loss: 1.4841 - learning_rate: 1.0000e-06\n",
            "Epoch 27/32\n",
            "\u001b[1m1250/1250\u001b[0m \u001b[32m━━━━━━━━━━━━━━━━━━━━\u001b[0m\u001b[37m\u001b[0m \u001b[1m5s\u001b[0m 3ms/step - categorical_accuracy: 0.6128 - loss: 1.0957 - val_categorical_accuracy: 0.4935 - val_loss: 1.4841 - learning_rate: 1.0000e-06\n",
            "Epoch 28/32\n",
            "\u001b[1m1250/1250\u001b[0m \u001b[32m━━━━━━━━━━━━━━━━━━━━\u001b[0m\u001b[37m\u001b[0m \u001b[1m5s\u001b[0m 3ms/step - categorical_accuracy: 0.6153 - loss: 1.0863 - val_categorical_accuracy: 0.4936 - val_loss: 1.4841 - learning_rate: 1.0000e-06\n",
            "Epoch 29/32\n",
            "\u001b[1m1250/1250\u001b[0m \u001b[32m━━━━━━━━━━━━━━━━━━━━\u001b[0m\u001b[37m\u001b[0m \u001b[1m5s\u001b[0m 4ms/step - categorical_accuracy: 0.6144 - loss: 1.0936 - val_categorical_accuracy: 0.4939 - val_loss: 1.4842 - learning_rate: 1.0000e-06\n",
            "Epoch 30/32\n",
            "\u001b[1m1250/1250\u001b[0m \u001b[32m━━━━━━━━━━━━━━━━━━━━\u001b[0m\u001b[37m\u001b[0m \u001b[1m4s\u001b[0m 3ms/step - categorical_accuracy: 0.6119 - loss: 1.1006 - val_categorical_accuracy: 0.4934 - val_loss: 1.4842 - learning_rate: 1.0000e-06\n",
            "Epoch 31/32\n",
            "\u001b[1m1250/1250\u001b[0m \u001b[32m━━━━━━━━━━━━━━━━━━━━\u001b[0m\u001b[37m\u001b[0m \u001b[1m6s\u001b[0m 4ms/step - categorical_accuracy: 0.6124 - loss: 1.0950 - val_categorical_accuracy: 0.4934 - val_loss: 1.4842 - learning_rate: 1.0000e-07\n",
            "Epoch 32/32\n",
            "\u001b[1m1250/1250\u001b[0m \u001b[32m━━━━━━━━━━━━━━━━━━━━\u001b[0m\u001b[37m\u001b[0m \u001b[1m4s\u001b[0m 4ms/step - categorical_accuracy: 0.6142 - loss: 1.0978 - val_categorical_accuracy: 0.4935 - val_loss: 1.4842 - learning_rate: 1.0000e-07\n",
            "Training Model_1 with RMSprop optimizer\n",
            "Epoch 1/32\n",
            "\u001b[1m1250/1250\u001b[0m \u001b[32m━━━━━━━━━━━━━━━━━━━━\u001b[0m\u001b[37m\u001b[0m \u001b[1m7s\u001b[0m 5ms/step - categorical_accuracy: 0.1301 - loss: 2.3010 - val_categorical_accuracy: 0.1898 - val_loss: 2.0161 - learning_rate: 0.0010\n",
            "Epoch 2/32\n",
            "\u001b[1m1250/1250\u001b[0m \u001b[32m━━━━━━━━━━━━━━━━━━━━\u001b[0m\u001b[37m\u001b[0m \u001b[1m8s\u001b[0m 3ms/step - categorical_accuracy: 0.2307 - loss: 1.9658 - val_categorical_accuracy: 0.3386 - val_loss: 1.7972 - learning_rate: 0.0010\n",
            "Epoch 3/32\n",
            "\u001b[1m1250/1250\u001b[0m \u001b[32m━━━━━━━━━━━━━━━━━━━━\u001b[0m\u001b[37m\u001b[0m \u001b[1m6s\u001b[0m 4ms/step - categorical_accuracy: 0.3575 - loss: 1.7389 - val_categorical_accuracy: 0.4092 - val_loss: 1.6423 - learning_rate: 0.0010\n",
            "Epoch 4/32\n",
            "\u001b[1m1250/1250\u001b[0m \u001b[32m━━━━━━━━━━━━━━━━━━━━\u001b[0m\u001b[37m\u001b[0m \u001b[1m4s\u001b[0m 3ms/step - categorical_accuracy: 0.4058 - loss: 1.6255 - val_categorical_accuracy: 0.3951 - val_loss: 1.6569 - learning_rate: 0.0010\n",
            "Epoch 5/32\n",
            "\u001b[1m1250/1250\u001b[0m \u001b[32m━━━━━━━━━━━━━━━━━━━━\u001b[0m\u001b[37m\u001b[0m \u001b[1m5s\u001b[0m 3ms/step - categorical_accuracy: 0.4158 - loss: 1.5936 - val_categorical_accuracy: 0.4170 - val_loss: 1.5925 - learning_rate: 0.0010\n",
            "Epoch 6/32\n",
            "\u001b[1m1250/1250\u001b[0m \u001b[32m━━━━━━━━━━━━━━━━━━━━\u001b[0m\u001b[37m\u001b[0m \u001b[1m5s\u001b[0m 4ms/step - categorical_accuracy: 0.4307 - loss: 1.5592 - val_categorical_accuracy: 0.4333 - val_loss: 1.5700 - learning_rate: 0.0010\n",
            "Epoch 7/32\n",
            "\u001b[1m1250/1250\u001b[0m \u001b[32m━━━━━━━━━━━━━━━━━━━━\u001b[0m\u001b[37m\u001b[0m \u001b[1m4s\u001b[0m 3ms/step - categorical_accuracy: 0.4545 - loss: 1.5061 - val_categorical_accuracy: 0.4517 - val_loss: 1.5264 - learning_rate: 0.0010\n",
            "Epoch 8/32\n",
            "\u001b[1m1250/1250\u001b[0m \u001b[32m━━━━━━━━━━━━━━━━━━━━\u001b[0m\u001b[37m\u001b[0m \u001b[1m6s\u001b[0m 4ms/step - categorical_accuracy: 0.4690 - loss: 1.4719 - val_categorical_accuracy: 0.4644 - val_loss: 1.5042 - learning_rate: 0.0010\n",
            "Epoch 9/32\n",
            "\u001b[1m1250/1250\u001b[0m \u001b[32m━━━━━━━━━━━━━━━━━━━━\u001b[0m\u001b[37m\u001b[0m \u001b[1m5s\u001b[0m 3ms/step - categorical_accuracy: 0.4891 - loss: 1.4373 - val_categorical_accuracy: 0.4573 - val_loss: 1.5309 - learning_rate: 0.0010\n",
            "Epoch 10/32\n",
            "\u001b[1m1250/1250\u001b[0m \u001b[32m━━━━━━━━━━━━━━━━━━━━\u001b[0m\u001b[37m\u001b[0m \u001b[1m4s\u001b[0m 3ms/step - categorical_accuracy: 0.4973 - loss: 1.4096 - val_categorical_accuracy: 0.4662 - val_loss: 1.5280 - learning_rate: 0.0010\n",
            "Epoch 11/32\n",
            "\u001b[1m1250/1250\u001b[0m \u001b[32m━━━━━━━━━━━━━━━━━━━━\u001b[0m\u001b[37m\u001b[0m \u001b[1m6s\u001b[0m 4ms/step - categorical_accuracy: 0.5024 - loss: 1.3950 - val_categorical_accuracy: 0.4697 - val_loss: 1.5090 - learning_rate: 0.0010\n",
            "Epoch 12/32\n",
            "\u001b[1m1250/1250\u001b[0m \u001b[32m━━━━━━━━━━━━━━━━━━━━\u001b[0m\u001b[37m\u001b[0m \u001b[1m4s\u001b[0m 3ms/step - categorical_accuracy: 0.5095 - loss: 1.3734 - val_categorical_accuracy: 0.4637 - val_loss: 1.5380 - learning_rate: 0.0010\n",
            "Epoch 13/32\n",
            "\u001b[1m1250/1250\u001b[0m \u001b[32m━━━━━━━━━━━━━━━━━━━━\u001b[0m\u001b[37m\u001b[0m \u001b[1m4s\u001b[0m 4ms/step - categorical_accuracy: 0.5155 - loss: 1.3554 - val_categorical_accuracy: 0.4729 - val_loss: 1.5032 - learning_rate: 0.0010\n",
            "Epoch 14/32\n",
            "\u001b[1m1250/1250\u001b[0m \u001b[32m━━━━━━━━━━━━━━━━━━━━\u001b[0m\u001b[37m\u001b[0m \u001b[1m5s\u001b[0m 4ms/step - categorical_accuracy: 0.5488 - loss: 1.2738 - val_categorical_accuracy: 0.4848 - val_loss: 1.4791 - learning_rate: 1.0000e-04\n",
            "Epoch 15/32\n",
            "\u001b[1m1250/1250\u001b[0m \u001b[32m━━━━━━━━━━━━━━━━━━━━\u001b[0m\u001b[37m\u001b[0m \u001b[1m4s\u001b[0m 3ms/step - categorical_accuracy: 0.5578 - loss: 1.2564 - val_categorical_accuracy: 0.4826 - val_loss: 1.4838 - learning_rate: 1.0000e-04\n",
            "Epoch 16/32\n",
            "\u001b[1m1250/1250\u001b[0m \u001b[32m━━━━━━━━━━━━━━━━━━━━\u001b[0m\u001b[37m\u001b[0m \u001b[1m6s\u001b[0m 4ms/step - categorical_accuracy: 0.5598 - loss: 1.2444 - val_categorical_accuracy: 0.4814 - val_loss: 1.4855 - learning_rate: 1.0000e-04\n",
            "Epoch 17/32\n",
            "\u001b[1m1250/1250\u001b[0m \u001b[32m━━━━━━━━━━━━━━━━━━━━\u001b[0m\u001b[37m\u001b[0m \u001b[1m4s\u001b[0m 3ms/step - categorical_accuracy: 0.5567 - loss: 1.2537 - val_categorical_accuracy: 0.4850 - val_loss: 1.4943 - learning_rate: 1.0000e-04\n",
            "Epoch 18/32\n",
            "\u001b[1m1250/1250\u001b[0m \u001b[32m━━━━━━━━━━━━━━━━━━━━\u001b[0m\u001b[37m\u001b[0m \u001b[1m4s\u001b[0m 3ms/step - categorical_accuracy: 0.5649 - loss: 1.2290 - val_categorical_accuracy: 0.4825 - val_loss: 1.4975 - learning_rate: 1.0000e-04\n",
            "Epoch 19/32\n",
            "\u001b[1m1250/1250\u001b[0m \u001b[32m━━━━━━━━━━━━━━━━━━━━\u001b[0m\u001b[37m\u001b[0m \u001b[1m6s\u001b[0m 4ms/step - categorical_accuracy: 0.5662 - loss: 1.2354 - val_categorical_accuracy: 0.4842 - val_loss: 1.4949 - learning_rate: 1.0000e-04\n",
            "Epoch 20/32\n",
            "\u001b[1m1250/1250\u001b[0m \u001b[32m━━━━━━━━━━━━━━━━━━━━\u001b[0m\u001b[37m\u001b[0m \u001b[1m4s\u001b[0m 3ms/step - categorical_accuracy: 0.5707 - loss: 1.2205 - val_categorical_accuracy: 0.4836 - val_loss: 1.4924 - learning_rate: 1.0000e-05\n",
            "Epoch 21/32\n",
            "\u001b[1m1250/1250\u001b[0m \u001b[32m━━━━━━━━━━━━━━━━━━━━\u001b[0m\u001b[37m\u001b[0m \u001b[1m4s\u001b[0m 3ms/step - categorical_accuracy: 0.5689 - loss: 1.2177 - val_categorical_accuracy: 0.4841 - val_loss: 1.4927 - learning_rate: 1.0000e-05\n",
            "Epoch 22/32\n",
            "\u001b[1m1250/1250\u001b[0m \u001b[32m━━━━━━━━━━━━━━━━━━━━\u001b[0m\u001b[37m\u001b[0m \u001b[1m5s\u001b[0m 4ms/step - categorical_accuracy: 0.5649 - loss: 1.2255 - val_categorical_accuracy: 0.4839 - val_loss: 1.4933 - learning_rate: 1.0000e-05\n",
            "Epoch 23/32\n",
            "\u001b[1m1250/1250\u001b[0m \u001b[32m━━━━━━━━━━━━━━━━━━━━\u001b[0m\u001b[37m\u001b[0m \u001b[1m4s\u001b[0m 3ms/step - categorical_accuracy: 0.5657 - loss: 1.2233 - val_categorical_accuracy: 0.4830 - val_loss: 1.4936 - learning_rate: 1.0000e-05\n",
            "Epoch 24/32\n",
            "\u001b[1m1250/1250\u001b[0m \u001b[32m━━━━━━━━━━━━━━━━━━━━\u001b[0m\u001b[37m\u001b[0m \u001b[1m5s\u001b[0m 3ms/step - categorical_accuracy: 0.5710 - loss: 1.2160 - val_categorical_accuracy: 0.4825 - val_loss: 1.4948 - learning_rate: 1.0000e-05\n",
            "Epoch 25/32\n",
            "\u001b[1m1250/1250\u001b[0m \u001b[32m━━━━━━━━━━━━━━━━━━━━\u001b[0m\u001b[37m\u001b[0m \u001b[1m5s\u001b[0m 3ms/step - categorical_accuracy: 0.5698 - loss: 1.2211 - val_categorical_accuracy: 0.4834 - val_loss: 1.4941 - learning_rate: 1.0000e-06\n",
            "Epoch 26/32\n",
            "\u001b[1m1250/1250\u001b[0m \u001b[32m━━━━━━━━━━━━━━━━━━━━\u001b[0m\u001b[37m\u001b[0m \u001b[1m4s\u001b[0m 3ms/step - categorical_accuracy: 0.5747 - loss: 1.2190 - val_categorical_accuracy: 0.4828 - val_loss: 1.4940 - learning_rate: 1.0000e-06\n",
            "Epoch 27/32\n",
            "\u001b[1m1250/1250\u001b[0m \u001b[32m━━━━━━━━━━━━━━━━━━━━\u001b[0m\u001b[37m\u001b[0m \u001b[1m6s\u001b[0m 4ms/step - categorical_accuracy: 0.5760 - loss: 1.2129 - val_categorical_accuracy: 0.4826 - val_loss: 1.4940 - learning_rate: 1.0000e-06\n",
            "Epoch 28/32\n",
            "\u001b[1m1250/1250\u001b[0m \u001b[32m━━━━━━━━━━━━━━━━━━━━\u001b[0m\u001b[37m\u001b[0m \u001b[1m4s\u001b[0m 3ms/step - categorical_accuracy: 0.5743 - loss: 1.2095 - val_categorical_accuracy: 0.4829 - val_loss: 1.4940 - learning_rate: 1.0000e-06\n",
            "Epoch 29/32\n",
            "\u001b[1m1250/1250\u001b[0m \u001b[32m━━━━━━━━━━━━━━━━━━━━\u001b[0m\u001b[37m\u001b[0m \u001b[1m5s\u001b[0m 3ms/step - categorical_accuracy: 0.5719 - loss: 1.2113 - val_categorical_accuracy: 0.4831 - val_loss: 1.4940 - learning_rate: 1.0000e-06\n",
            "Epoch 30/32\n",
            "\u001b[1m1250/1250\u001b[0m \u001b[32m━━━━━━━━━━━━━━━━━━━━\u001b[0m\u001b[37m\u001b[0m \u001b[1m6s\u001b[0m 4ms/step - categorical_accuracy: 0.5728 - loss: 1.2157 - val_categorical_accuracy: 0.4831 - val_loss: 1.4940 - learning_rate: 1.0000e-07\n",
            "Epoch 31/32\n",
            "\u001b[1m1250/1250\u001b[0m \u001b[32m━━━━━━━━━━━━━━━━━━━━\u001b[0m\u001b[37m\u001b[0m \u001b[1m5s\u001b[0m 3ms/step - categorical_accuracy: 0.5717 - loss: 1.2196 - val_categorical_accuracy: 0.4831 - val_loss: 1.4940 - learning_rate: 1.0000e-07\n",
            "Epoch 32/32\n",
            "\u001b[1m1250/1250\u001b[0m \u001b[32m━━━━━━━━━━━━━━━━━━━━\u001b[0m\u001b[37m\u001b[0m \u001b[1m6s\u001b[0m 4ms/step - categorical_accuracy: 0.5754 - loss: 1.2140 - val_categorical_accuracy: 0.4831 - val_loss: 1.4940 - learning_rate: 1.0000e-07\n",
            "Training Model_2 with SGD optimizer\n",
            "Epoch 1/32\n",
            "\u001b[1m1250/1250\u001b[0m \u001b[32m━━━━━━━━━━━━━━━━━━━━\u001b[0m\u001b[37m\u001b[0m \u001b[1m7s\u001b[0m 4ms/step - categorical_accuracy: 0.2451 - loss: 2.0797 - val_categorical_accuracy: 0.3655 - val_loss: 1.7774 - learning_rate: 0.0100\n",
            "Epoch 2/32\n",
            "\u001b[1m1250/1250\u001b[0m \u001b[32m━━━━━━━━━━━━━━━━━━━━\u001b[0m\u001b[37m\u001b[0m \u001b[1m7s\u001b[0m 3ms/step - categorical_accuracy: 0.4047 - loss: 1.7015 - val_categorical_accuracy: 0.4396 - val_loss: 1.5747 - learning_rate: 0.0100\n",
            "Epoch 3/32\n",
            "\u001b[1m1250/1250\u001b[0m \u001b[32m━━━━━━━━━━━━━━━━━━━━\u001b[0m\u001b[37m\u001b[0m \u001b[1m4s\u001b[0m 3ms/step - categorical_accuracy: 0.4700 - loss: 1.5127 - val_categorical_accuracy: 0.4915 - val_loss: 1.4490 - learning_rate: 0.0100\n",
            "Epoch 4/32\n",
            "\u001b[1m1250/1250\u001b[0m \u001b[32m━━━━━━━━━━━━━━━━━━━━\u001b[0m\u001b[37m\u001b[0m \u001b[1m4s\u001b[0m 3ms/step - categorical_accuracy: 0.5091 - loss: 1.3971 - val_categorical_accuracy: 0.5063 - val_loss: 1.3961 - learning_rate: 0.0100\n",
            "Epoch 5/32\n",
            "\u001b[1m1250/1250\u001b[0m \u001b[32m━━━━━━━━━━━━━━━━━━━━\u001b[0m\u001b[37m\u001b[0m \u001b[1m4s\u001b[0m 3ms/step - categorical_accuracy: 0.5298 - loss: 1.3445 - val_categorical_accuracy: 0.5382 - val_loss: 1.3196 - learning_rate: 0.0100\n",
            "Epoch 6/32\n",
            "\u001b[1m1250/1250\u001b[0m \u001b[32m━━━━━━━━━━━━━━━━━━━━\u001b[0m\u001b[37m\u001b[0m \u001b[1m4s\u001b[0m 3ms/step - categorical_accuracy: 0.5521 - loss: 1.2828 - val_categorical_accuracy: 0.5447 - val_loss: 1.2813 - learning_rate: 0.0100\n",
            "Epoch 7/32\n",
            "\u001b[1m1250/1250\u001b[0m \u001b[32m━━━━━━━━━━━━━━━━━━━━\u001b[0m\u001b[37m\u001b[0m \u001b[1m4s\u001b[0m 3ms/step - categorical_accuracy: 0.5663 - loss: 1.2457 - val_categorical_accuracy: 0.5400 - val_loss: 1.3008 - learning_rate: 0.0100\n",
            "Epoch 8/32\n",
            "\u001b[1m1250/1250\u001b[0m \u001b[32m━━━━━━━━━━━━━━━━━━━━\u001b[0m\u001b[37m\u001b[0m \u001b[1m5s\u001b[0m 4ms/step - categorical_accuracy: 0.5793 - loss: 1.2078 - val_categorical_accuracy: 0.5559 - val_loss: 1.2563 - learning_rate: 0.0100\n",
            "Epoch 9/32\n",
            "\u001b[1m1250/1250\u001b[0m \u001b[32m━━━━━━━━━━━━━━━━━━━━\u001b[0m\u001b[37m\u001b[0m \u001b[1m4s\u001b[0m 3ms/step - categorical_accuracy: 0.5863 - loss: 1.1759 - val_categorical_accuracy: 0.5686 - val_loss: 1.2336 - learning_rate: 0.0100\n",
            "Epoch 10/32\n",
            "\u001b[1m1250/1250\u001b[0m \u001b[32m━━━━━━━━━━━━━━━━━━━━\u001b[0m\u001b[37m\u001b[0m \u001b[1m5s\u001b[0m 3ms/step - categorical_accuracy: 0.5993 - loss: 1.1459 - val_categorical_accuracy: 0.5665 - val_loss: 1.2302 - learning_rate: 0.0100\n",
            "Epoch 11/32\n",
            "\u001b[1m1250/1250\u001b[0m \u001b[32m━━━━━━━━━━━━━━━━━━━━\u001b[0m\u001b[37m\u001b[0m \u001b[1m5s\u001b[0m 3ms/step - categorical_accuracy: 0.6155 - loss: 1.1147 - val_categorical_accuracy: 0.5738 - val_loss: 1.2177 - learning_rate: 0.0100\n",
            "Epoch 12/32\n",
            "\u001b[1m1250/1250\u001b[0m \u001b[32m━━━━━━━━━━━━━━━━━━━━\u001b[0m\u001b[37m\u001b[0m \u001b[1m5s\u001b[0m 3ms/step - categorical_accuracy: 0.6223 - loss: 1.0813 - val_categorical_accuracy: 0.5589 - val_loss: 1.2644 - learning_rate: 0.0100\n",
            "Epoch 13/32\n",
            "\u001b[1m1250/1250\u001b[0m \u001b[32m━━━━━━━━━━━━━━━━━━━━\u001b[0m\u001b[37m\u001b[0m \u001b[1m6s\u001b[0m 3ms/step - categorical_accuracy: 0.6275 - loss: 1.0709 - val_categorical_accuracy: 0.5674 - val_loss: 1.2355 - learning_rate: 0.0100\n",
            "Epoch 14/32\n",
            "\u001b[1m1250/1250\u001b[0m \u001b[32m━━━━━━━━━━━━━━━━━━━━\u001b[0m\u001b[37m\u001b[0m \u001b[1m4s\u001b[0m 3ms/step - categorical_accuracy: 0.6377 - loss: 1.0398 - val_categorical_accuracy: 0.5829 - val_loss: 1.1969 - learning_rate: 0.0100\n",
            "Epoch 15/32\n",
            "\u001b[1m1250/1250\u001b[0m \u001b[32m━━━━━━━━━━━━━━━━━━━━\u001b[0m\u001b[37m\u001b[0m \u001b[1m5s\u001b[0m 3ms/step - categorical_accuracy: 0.6432 - loss: 1.0222 - val_categorical_accuracy: 0.5927 - val_loss: 1.1747 - learning_rate: 0.0100\n",
            "Epoch 16/32\n",
            "\u001b[1m1250/1250\u001b[0m \u001b[32m━━━━━━━━━━━━━━━━━━━━\u001b[0m\u001b[37m\u001b[0m \u001b[1m5s\u001b[0m 4ms/step - categorical_accuracy: 0.6580 - loss: 0.9858 - val_categorical_accuracy: 0.5947 - val_loss: 1.1594 - learning_rate: 0.0100\n",
            "Epoch 17/32\n",
            "\u001b[1m1250/1250\u001b[0m \u001b[32m━━━━━━━━━━━━━━━━━━━━\u001b[0m\u001b[37m\u001b[0m \u001b[1m4s\u001b[0m 3ms/step - categorical_accuracy: 0.6597 - loss: 0.9671 - val_categorical_accuracy: 0.5983 - val_loss: 1.1660 - learning_rate: 0.0100\n",
            "Epoch 18/32\n",
            "\u001b[1m1250/1250\u001b[0m \u001b[32m━━━━━━━━━━━━━━━━━━━━\u001b[0m\u001b[37m\u001b[0m \u001b[1m5s\u001b[0m 3ms/step - categorical_accuracy: 0.6768 - loss: 0.9356 - val_categorical_accuracy: 0.5837 - val_loss: 1.1870 - learning_rate: 0.0100\n",
            "Epoch 19/32\n",
            "\u001b[1m1250/1250\u001b[0m \u001b[32m━━━━━━━━━━━━━━━━━━━━\u001b[0m\u001b[37m\u001b[0m \u001b[1m5s\u001b[0m 3ms/step - categorical_accuracy: 0.6820 - loss: 0.9151 - val_categorical_accuracy: 0.5987 - val_loss: 1.1648 - learning_rate: 0.0100\n",
            "Epoch 20/32\n",
            "\u001b[1m1250/1250\u001b[0m \u001b[32m━━━━━━━━━━━━━━━━━━━━\u001b[0m\u001b[37m\u001b[0m \u001b[1m5s\u001b[0m 3ms/step - categorical_accuracy: 0.6888 - loss: 0.8868 - val_categorical_accuracy: 0.5965 - val_loss: 1.1783 - learning_rate: 0.0100\n",
            "Epoch 21/32\n",
            "\u001b[1m1250/1250\u001b[0m \u001b[32m━━━━━━━━━━━━━━━━━━━━\u001b[0m\u001b[37m\u001b[0m \u001b[1m6s\u001b[0m 4ms/step - categorical_accuracy: 0.6963 - loss: 0.8716 - val_categorical_accuracy: 0.6050 - val_loss: 1.1633 - learning_rate: 0.0100\n",
            "Epoch 22/32\n",
            "\u001b[1m1250/1250\u001b[0m \u001b[32m━━━━━━━━━━━━━━━━━━━━\u001b[0m\u001b[37m\u001b[0m \u001b[1m4s\u001b[0m 3ms/step - categorical_accuracy: 0.7321 - loss: 0.7848 - val_categorical_accuracy: 0.6204 - val_loss: 1.1241 - learning_rate: 1.0000e-03\n",
            "Epoch 23/32\n",
            "\u001b[1m1250/1250\u001b[0m \u001b[32m━━━━━━━━━━━━━━━━━━━━\u001b[0m\u001b[37m\u001b[0m \u001b[1m5s\u001b[0m 3ms/step - categorical_accuracy: 0.7416 - loss: 0.7686 - val_categorical_accuracy: 0.6190 - val_loss: 1.1241 - learning_rate: 1.0000e-03\n",
            "Epoch 24/32\n",
            "\u001b[1m1250/1250\u001b[0m \u001b[32m━━━━━━━━━━━━━━━━━━━━\u001b[0m\u001b[37m\u001b[0m \u001b[1m4s\u001b[0m 3ms/step - categorical_accuracy: 0.7400 - loss: 0.7687 - val_categorical_accuracy: 0.6170 - val_loss: 1.1225 - learning_rate: 1.0000e-03\n",
            "Epoch 25/32\n",
            "\u001b[1m1250/1250\u001b[0m \u001b[32m━━━━━━━━━━━━━━━━━━━━\u001b[0m\u001b[37m\u001b[0m \u001b[1m4s\u001b[0m 3ms/step - categorical_accuracy: 0.7414 - loss: 0.7623 - val_categorical_accuracy: 0.6212 - val_loss: 1.1223 - learning_rate: 1.0000e-03\n",
            "Epoch 26/32\n",
            "\u001b[1m1250/1250\u001b[0m \u001b[32m━━━━━━━━━━━━━━━━━━━━\u001b[0m\u001b[37m\u001b[0m \u001b[1m4s\u001b[0m 3ms/step - categorical_accuracy: 0.7431 - loss: 0.7582 - val_categorical_accuracy: 0.6182 - val_loss: 1.1225 - learning_rate: 1.0000e-03\n",
            "Epoch 27/32\n",
            "\u001b[1m1250/1250\u001b[0m \u001b[32m━━━━━━━━━━━━━━━━━━━━\u001b[0m\u001b[37m\u001b[0m \u001b[1m4s\u001b[0m 3ms/step - categorical_accuracy: 0.7462 - loss: 0.7498 - val_categorical_accuracy: 0.6175 - val_loss: 1.1226 - learning_rate: 1.0000e-03\n",
            "Epoch 28/32\n",
            "\u001b[1m1250/1250\u001b[0m \u001b[32m━━━━━━━━━━━━━━━━━━━━\u001b[0m\u001b[37m\u001b[0m \u001b[1m4s\u001b[0m 3ms/step - categorical_accuracy: 0.7530 - loss: 0.7377 - val_categorical_accuracy: 0.6195 - val_loss: 1.1272 - learning_rate: 1.0000e-03\n",
            "Epoch 29/32\n",
            "\u001b[1m1250/1250\u001b[0m \u001b[32m━━━━━━━━━━━━━━━━━━━━\u001b[0m\u001b[37m\u001b[0m \u001b[1m5s\u001b[0m 3ms/step - categorical_accuracy: 0.7492 - loss: 0.7475 - val_categorical_accuracy: 0.6186 - val_loss: 1.1289 - learning_rate: 1.0000e-03\n",
            "Epoch 30/32\n",
            "\u001b[1m1250/1250\u001b[0m \u001b[32m━━━━━━━━━━━━━━━━━━━━\u001b[0m\u001b[37m\u001b[0m \u001b[1m5s\u001b[0m 3ms/step - categorical_accuracy: 0.7509 - loss: 0.7429 - val_categorical_accuracy: 0.6215 - val_loss: 1.1220 - learning_rate: 1.0000e-04\n",
            "Epoch 31/32\n",
            "\u001b[1m1250/1250\u001b[0m \u001b[32m━━━━━━━━━━━━━━━━━━━━\u001b[0m\u001b[37m\u001b[0m \u001b[1m4s\u001b[0m 3ms/step - categorical_accuracy: 0.7532 - loss: 0.7370 - val_categorical_accuracy: 0.6205 - val_loss: 1.1221 - learning_rate: 1.0000e-04\n",
            "Epoch 32/32\n",
            "\u001b[1m1250/1250\u001b[0m \u001b[32m━━━━━━━━━━━━━━━━━━━━\u001b[0m\u001b[37m\u001b[0m \u001b[1m6s\u001b[0m 4ms/step - categorical_accuracy: 0.7548 - loss: 0.7315 - val_categorical_accuracy: 0.6199 - val_loss: 1.1221 - learning_rate: 1.0000e-04\n",
            "Training Model_2 with Adam optimizer\n",
            "Epoch 1/32\n",
            "\u001b[1m1250/1250\u001b[0m \u001b[32m━━━━━━━━━━━━━━━━━━━━\u001b[0m\u001b[37m\u001b[0m \u001b[1m6s\u001b[0m 4ms/step - categorical_accuracy: 0.4081 - loss: 1.6628 - val_categorical_accuracy: 0.5353 - val_loss: 1.3140 - learning_rate: 0.0010\n",
            "Epoch 2/32\n",
            "\u001b[1m1250/1250\u001b[0m \u001b[32m━━━━━━━━━━━━━━━━━━━━\u001b[0m\u001b[37m\u001b[0m \u001b[1m9s\u001b[0m 3ms/step - categorical_accuracy: 0.5803 - loss: 1.2100 - val_categorical_accuracy: 0.5883 - val_loss: 1.1866 - learning_rate: 0.0010\n",
            "Epoch 3/32\n",
            "\u001b[1m1250/1250\u001b[0m \u001b[32m━━━━━━━━━━━━━━━━━━━━\u001b[0m\u001b[37m\u001b[0m \u001b[1m5s\u001b[0m 3ms/step - categorical_accuracy: 0.6233 - loss: 1.0821 - val_categorical_accuracy: 0.6059 - val_loss: 1.1277 - learning_rate: 0.0010\n",
            "Epoch 4/32\n",
            "\u001b[1m1250/1250\u001b[0m \u001b[32m━━━━━━━━━━━━━━━━━━━━\u001b[0m\u001b[37m\u001b[0m \u001b[1m4s\u001b[0m 4ms/step - categorical_accuracy: 0.6614 - loss: 0.9675 - val_categorical_accuracy: 0.6102 - val_loss: 1.1217 - learning_rate: 0.0010\n",
            "Epoch 5/32\n",
            "\u001b[1m1250/1250\u001b[0m \u001b[32m━━━━━━━━━━━━━━━━━━━━\u001b[0m\u001b[37m\u001b[0m \u001b[1m4s\u001b[0m 3ms/step - categorical_accuracy: 0.6914 - loss: 0.8879 - val_categorical_accuracy: 0.6134 - val_loss: 1.1287 - learning_rate: 0.0010\n",
            "Epoch 6/32\n",
            "\u001b[1m1250/1250\u001b[0m \u001b[32m━━━━━━━━━━━━━━━━━━━━\u001b[0m\u001b[37m\u001b[0m \u001b[1m4s\u001b[0m 3ms/step - categorical_accuracy: 0.7166 - loss: 0.8089 - val_categorical_accuracy: 0.6240 - val_loss: 1.1095 - learning_rate: 0.0010\n",
            "Epoch 7/32\n",
            "\u001b[1m1250/1250\u001b[0m \u001b[32m━━━━━━━━━━━━━━━━━━━━\u001b[0m\u001b[37m\u001b[0m \u001b[1m6s\u001b[0m 3ms/step - categorical_accuracy: 0.7443 - loss: 0.7427 - val_categorical_accuracy: 0.6337 - val_loss: 1.0842 - learning_rate: 0.0010\n",
            "Epoch 8/32\n",
            "\u001b[1m1250/1250\u001b[0m \u001b[32m━━━━━━━━━━━━━━━━━━━━\u001b[0m\u001b[37m\u001b[0m \u001b[1m5s\u001b[0m 3ms/step - categorical_accuracy: 0.7645 - loss: 0.6847 - val_categorical_accuracy: 0.6278 - val_loss: 1.1508 - learning_rate: 0.0010\n",
            "Epoch 9/32\n",
            "\u001b[1m1250/1250\u001b[0m \u001b[32m━━━━━━━━━━━━━━━━━━━━\u001b[0m\u001b[37m\u001b[0m \u001b[1m6s\u001b[0m 4ms/step - categorical_accuracy: 0.7839 - loss: 0.6259 - val_categorical_accuracy: 0.6264 - val_loss: 1.1572 - learning_rate: 0.0010\n",
            "Epoch 10/32\n",
            "\u001b[1m1250/1250\u001b[0m \u001b[32m━━━━━━━━━━━━━━━━━━━━\u001b[0m\u001b[37m\u001b[0m \u001b[1m9s\u001b[0m 3ms/step - categorical_accuracy: 0.8073 - loss: 0.5633 - val_categorical_accuracy: 0.6282 - val_loss: 1.1730 - learning_rate: 0.0010\n",
            "Epoch 11/32\n",
            "\u001b[1m1250/1250\u001b[0m \u001b[32m━━━━━━━━━━━━━━━━━━━━\u001b[0m\u001b[37m\u001b[0m \u001b[1m5s\u001b[0m 4ms/step - categorical_accuracy: 0.8263 - loss: 0.5233 - val_categorical_accuracy: 0.6260 - val_loss: 1.2257 - learning_rate: 0.0010\n",
            "Epoch 12/32\n",
            "\u001b[1m1250/1250\u001b[0m \u001b[32m━━━━━━━━━━━━━━━━━━━━\u001b[0m\u001b[37m\u001b[0m \u001b[1m4s\u001b[0m 3ms/step - categorical_accuracy: 0.8410 - loss: 0.4678 - val_categorical_accuracy: 0.6231 - val_loss: 1.2843 - learning_rate: 0.0010\n",
            "Epoch 13/32\n",
            "\u001b[1m1250/1250\u001b[0m \u001b[32m━━━━━━━━━━━━━━━━━━━━\u001b[0m\u001b[37m\u001b[0m \u001b[1m5s\u001b[0m 3ms/step - categorical_accuracy: 0.8936 - loss: 0.3502 - val_categorical_accuracy: 0.6422 - val_loss: 1.2249 - learning_rate: 1.0000e-04\n",
            "Epoch 14/32\n",
            "\u001b[1m1250/1250\u001b[0m \u001b[32m━━━━━━━━━━━━━━━━━━━━\u001b[0m\u001b[37m\u001b[0m \u001b[1m5s\u001b[0m 3ms/step - categorical_accuracy: 0.9132 - loss: 0.3058 - val_categorical_accuracy: 0.6414 - val_loss: 1.2425 - learning_rate: 1.0000e-04\n",
            "Epoch 15/32\n",
            "\u001b[1m1250/1250\u001b[0m \u001b[32m━━━━━━━━━━━━━━━━━━━━\u001b[0m\u001b[37m\u001b[0m \u001b[1m4s\u001b[0m 3ms/step - categorical_accuracy: 0.9169 - loss: 0.2947 - val_categorical_accuracy: 0.6451 - val_loss: 1.2516 - learning_rate: 1.0000e-04\n",
            "Epoch 16/32\n",
            "\u001b[1m1250/1250\u001b[0m \u001b[32m━━━━━━━━━━━━━━━━━━━━\u001b[0m\u001b[37m\u001b[0m \u001b[1m5s\u001b[0m 4ms/step - categorical_accuracy: 0.9205 - loss: 0.2849 - val_categorical_accuracy: 0.6425 - val_loss: 1.2783 - learning_rate: 1.0000e-04\n",
            "Epoch 17/32\n",
            "\u001b[1m1250/1250\u001b[0m \u001b[32m━━━━━━━━━━━━━━━━━━━━\u001b[0m\u001b[37m\u001b[0m \u001b[1m4s\u001b[0m 3ms/step - categorical_accuracy: 0.9253 - loss: 0.2720 - val_categorical_accuracy: 0.6443 - val_loss: 1.2825 - learning_rate: 1.0000e-04\n",
            "Epoch 18/32\n",
            "\u001b[1m1250/1250\u001b[0m \u001b[32m━━━━━━━━━━━━━━━━━━━━\u001b[0m\u001b[37m\u001b[0m \u001b[1m4s\u001b[0m 3ms/step - categorical_accuracy: 0.9324 - loss: 0.2612 - val_categorical_accuracy: 0.6434 - val_loss: 1.2780 - learning_rate: 1.0000e-05\n",
            "Epoch 19/32\n",
            "\u001b[1m1250/1250\u001b[0m \u001b[32m━━━━━━━━━━━━━━━━━━━━\u001b[0m\u001b[37m\u001b[0m \u001b[1m5s\u001b[0m 4ms/step - categorical_accuracy: 0.9331 - loss: 0.2549 - val_categorical_accuracy: 0.6449 - val_loss: 1.2790 - learning_rate: 1.0000e-05\n",
            "Epoch 20/32\n",
            "\u001b[1m1250/1250\u001b[0m \u001b[32m━━━━━━━━━━━━━━━━━━━━\u001b[0m\u001b[37m\u001b[0m \u001b[1m4s\u001b[0m 3ms/step - categorical_accuracy: 0.9344 - loss: 0.2515 - val_categorical_accuracy: 0.6449 - val_loss: 1.2804 - learning_rate: 1.0000e-05\n",
            "Epoch 21/32\n",
            "\u001b[1m1250/1250\u001b[0m \u001b[32m━━━━━━━━━━━━━━━━━━━━\u001b[0m\u001b[37m\u001b[0m \u001b[1m5s\u001b[0m 3ms/step - categorical_accuracy: 0.9325 - loss: 0.2557 - val_categorical_accuracy: 0.6441 - val_loss: 1.2828 - learning_rate: 1.0000e-05\n",
            "Epoch 22/32\n",
            "\u001b[1m1250/1250\u001b[0m \u001b[32m━━━━━━━━━━━━━━━━━━━━\u001b[0m\u001b[37m\u001b[0m \u001b[1m5s\u001b[0m 4ms/step - categorical_accuracy: 0.9330 - loss: 0.2534 - val_categorical_accuracy: 0.6437 - val_loss: 1.2840 - learning_rate: 1.0000e-05\n",
            "Epoch 23/32\n",
            "\u001b[1m1250/1250\u001b[0m \u001b[32m━━━━━━━━━━━━━━━━━━━━\u001b[0m\u001b[37m\u001b[0m \u001b[1m4s\u001b[0m 3ms/step - categorical_accuracy: 0.9347 - loss: 0.2516 - val_categorical_accuracy: 0.6447 - val_loss: 1.2840 - learning_rate: 1.0000e-06\n",
            "Epoch 24/32\n",
            "\u001b[1m1250/1250\u001b[0m \u001b[32m━━━━━━━━━━━━━━━━━━━━\u001b[0m\u001b[37m\u001b[0m \u001b[1m5s\u001b[0m 3ms/step - categorical_accuracy: 0.9358 - loss: 0.2488 - val_categorical_accuracy: 0.6446 - val_loss: 1.2843 - learning_rate: 1.0000e-06\n",
            "Epoch 25/32\n",
            "\u001b[1m1250/1250\u001b[0m \u001b[32m━━━━━━━━━━━━━━━━━━━━\u001b[0m\u001b[37m\u001b[0m \u001b[1m6s\u001b[0m 3ms/step - categorical_accuracy: 0.9337 - loss: 0.2529 - val_categorical_accuracy: 0.6452 - val_loss: 1.2845 - learning_rate: 1.0000e-06\n",
            "Epoch 26/32\n",
            "\u001b[1m1250/1250\u001b[0m \u001b[32m━━━━━━━━━━━━━━━━━━━━\u001b[0m\u001b[37m\u001b[0m \u001b[1m5s\u001b[0m 3ms/step - categorical_accuracy: 0.9342 - loss: 0.2507 - val_categorical_accuracy: 0.6449 - val_loss: 1.2849 - learning_rate: 1.0000e-06\n",
            "Epoch 27/32\n",
            "\u001b[1m1250/1250\u001b[0m \u001b[32m━━━━━━━━━━━━━━━━━━━━\u001b[0m\u001b[37m\u001b[0m \u001b[1m6s\u001b[0m 4ms/step - categorical_accuracy: 0.9330 - loss: 0.2519 - val_categorical_accuracy: 0.6446 - val_loss: 1.2849 - learning_rate: 1.0000e-06\n",
            "Epoch 28/32\n",
            "\u001b[1m1250/1250\u001b[0m \u001b[32m━━━━━━━━━━━━━━━━━━━━\u001b[0m\u001b[37m\u001b[0m \u001b[1m4s\u001b[0m 3ms/step - categorical_accuracy: 0.9355 - loss: 0.2473 - val_categorical_accuracy: 0.6447 - val_loss: 1.2849 - learning_rate: 1.0000e-07\n",
            "Epoch 29/32\n",
            "\u001b[1m1250/1250\u001b[0m \u001b[32m━━━━━━━━━━━━━━━━━━━━\u001b[0m\u001b[37m\u001b[0m \u001b[1m4s\u001b[0m 3ms/step - categorical_accuracy: 0.9344 - loss: 0.2526 - val_categorical_accuracy: 0.6449 - val_loss: 1.2850 - learning_rate: 1.0000e-07\n",
            "Epoch 30/32\n",
            "\u001b[1m1250/1250\u001b[0m \u001b[32m━━━━━━━━━━━━━━━━━━━━\u001b[0m\u001b[37m\u001b[0m \u001b[1m5s\u001b[0m 4ms/step - categorical_accuracy: 0.9356 - loss: 0.2501 - val_categorical_accuracy: 0.6449 - val_loss: 1.2850 - learning_rate: 1.0000e-07\n",
            "Epoch 31/32\n",
            "\u001b[1m1250/1250\u001b[0m \u001b[32m━━━━━━━━━━━━━━━━━━━━\u001b[0m\u001b[37m\u001b[0m \u001b[1m4s\u001b[0m 3ms/step - categorical_accuracy: 0.9333 - loss: 0.2518 - val_categorical_accuracy: 0.6449 - val_loss: 1.2850 - learning_rate: 1.0000e-07\n",
            "Epoch 32/32\n",
            "\u001b[1m1250/1250\u001b[0m \u001b[32m━━━━━━━━━━━━━━━━━━━━\u001b[0m\u001b[37m\u001b[0m \u001b[1m4s\u001b[0m 3ms/step - categorical_accuracy: 0.9347 - loss: 0.2493 - val_categorical_accuracy: 0.6449 - val_loss: 1.2851 - learning_rate: 1.0000e-07\n",
            "Training Model_2 with RMSprop optimizer\n",
            "Epoch 1/32\n",
            "\u001b[1m1250/1250\u001b[0m \u001b[32m━━━━━━━━━━━━━━━━━━━━\u001b[0m\u001b[37m\u001b[0m \u001b[1m7s\u001b[0m 4ms/step - categorical_accuracy: 0.4085 - loss: 1.6698 - val_categorical_accuracy: 0.5444 - val_loss: 1.2918 - learning_rate: 0.0010\n",
            "Epoch 2/32\n",
            "\u001b[1m1250/1250\u001b[0m \u001b[32m━━━━━━━━━━━━━━━━━━━━\u001b[0m\u001b[37m\u001b[0m \u001b[1m8s\u001b[0m 3ms/step - categorical_accuracy: 0.5735 - loss: 1.2278 - val_categorical_accuracy: 0.5899 - val_loss: 1.1832 - learning_rate: 0.0010\n",
            "Epoch 3/32\n",
            "\u001b[1m1250/1250\u001b[0m \u001b[32m━━━━━━━━━━━━━━━━━━━━\u001b[0m\u001b[37m\u001b[0m \u001b[1m4s\u001b[0m 3ms/step - categorical_accuracy: 0.6170 - loss: 1.0977 - val_categorical_accuracy: 0.6058 - val_loss: 1.1363 - learning_rate: 0.0010\n",
            "Epoch 4/32\n",
            "\u001b[1m1250/1250\u001b[0m \u001b[32m━━━━━━━━━━━━━━━━━━━━\u001b[0m\u001b[37m\u001b[0m \u001b[1m4s\u001b[0m 3ms/step - categorical_accuracy: 0.6599 - loss: 0.9863 - val_categorical_accuracy: 0.6241 - val_loss: 1.1005 - learning_rate: 0.0010\n",
            "Epoch 5/32\n",
            "\u001b[1m1250/1250\u001b[0m \u001b[32m━━━━━━━━━━━━━━━━━━━━\u001b[0m\u001b[37m\u001b[0m \u001b[1m4s\u001b[0m 3ms/step - categorical_accuracy: 0.6815 - loss: 0.9106 - val_categorical_accuracy: 0.6181 - val_loss: 1.1388 - learning_rate: 0.0010\n",
            "Epoch 6/32\n",
            "\u001b[1m1250/1250\u001b[0m \u001b[32m━━━━━━━━━━━━━━━━━━━━\u001b[0m\u001b[37m\u001b[0m \u001b[1m5s\u001b[0m 3ms/step - categorical_accuracy: 0.7094 - loss: 0.8438 - val_categorical_accuracy: 0.6211 - val_loss: 1.1418 - learning_rate: 0.0010\n",
            "Epoch 7/32\n",
            "\u001b[1m1250/1250\u001b[0m \u001b[32m━━━━━━━━━━━━━━━━━━━━\u001b[0m\u001b[37m\u001b[0m \u001b[1m4s\u001b[0m 3ms/step - categorical_accuracy: 0.7277 - loss: 0.7892 - val_categorical_accuracy: 0.6256 - val_loss: 1.1409 - learning_rate: 0.0010\n",
            "Epoch 8/32\n",
            "\u001b[1m1250/1250\u001b[0m \u001b[32m━━━━━━━━━━━━━━━━━━━━\u001b[0m\u001b[37m\u001b[0m \u001b[1m6s\u001b[0m 4ms/step - categorical_accuracy: 0.7540 - loss: 0.7288 - val_categorical_accuracy: 0.6444 - val_loss: 1.1121 - learning_rate: 0.0010\n",
            "Epoch 9/32\n",
            "\u001b[1m1250/1250\u001b[0m \u001b[32m━━━━━━━━━━━━━━━━━━━━\u001b[0m\u001b[37m\u001b[0m \u001b[1m4s\u001b[0m 3ms/step - categorical_accuracy: 0.7735 - loss: 0.6628 - val_categorical_accuracy: 0.6124 - val_loss: 1.2390 - learning_rate: 0.0010\n",
            "Epoch 10/32\n",
            "\u001b[1m1250/1250\u001b[0m \u001b[32m━━━━━━━━━━━━━━━━━━━━\u001b[0m\u001b[37m\u001b[0m \u001b[1m4s\u001b[0m 3ms/step - categorical_accuracy: 0.8282 - loss: 0.5287 - val_categorical_accuracy: 0.6486 - val_loss: 1.1066 - learning_rate: 1.0000e-04\n",
            "Epoch 11/32\n",
            "\u001b[1m1250/1250\u001b[0m \u001b[32m━━━━━━━━━━━━━━━━━━━━\u001b[0m\u001b[37m\u001b[0m \u001b[1m5s\u001b[0m 4ms/step - categorical_accuracy: 0.8398 - loss: 0.4951 - val_categorical_accuracy: 0.6531 - val_loss: 1.1092 - learning_rate: 1.0000e-04\n",
            "Epoch 12/32\n",
            "\u001b[1m1250/1250\u001b[0m \u001b[32m━━━━━━━━━━━━━━━━━━━━\u001b[0m\u001b[37m\u001b[0m \u001b[1m4s\u001b[0m 3ms/step - categorical_accuracy: 0.8461 - loss: 0.4809 - val_categorical_accuracy: 0.6471 - val_loss: 1.1135 - learning_rate: 1.0000e-04\n",
            "Epoch 13/32\n",
            "\u001b[1m1250/1250\u001b[0m \u001b[32m━━━━━━━━━━━━━━━━━━━━\u001b[0m\u001b[37m\u001b[0m \u001b[1m5s\u001b[0m 3ms/step - categorical_accuracy: 0.8466 - loss: 0.4725 - val_categorical_accuracy: 0.6519 - val_loss: 1.1209 - learning_rate: 1.0000e-04\n",
            "Epoch 14/32\n",
            "\u001b[1m1250/1250\u001b[0m \u001b[32m━━━━━━━━━━━━━━━━━━━━\u001b[0m\u001b[37m\u001b[0m \u001b[1m6s\u001b[0m 4ms/step - categorical_accuracy: 0.8532 - loss: 0.4605 - val_categorical_accuracy: 0.6516 - val_loss: 1.1274 - learning_rate: 1.0000e-04\n",
            "Epoch 15/32\n",
            "\u001b[1m1250/1250\u001b[0m \u001b[32m━━━━━━━━━━━━━━━━━━━━\u001b[0m\u001b[37m\u001b[0m \u001b[1m4s\u001b[0m 3ms/step - categorical_accuracy: 0.8567 - loss: 0.4582 - val_categorical_accuracy: 0.6522 - val_loss: 1.1246 - learning_rate: 1.0000e-05\n",
            "Epoch 16/32\n",
            "\u001b[1m1250/1250\u001b[0m \u001b[32m━━━━━━━━━━━━━━━━━━━━\u001b[0m\u001b[37m\u001b[0m \u001b[1m5s\u001b[0m 3ms/step - categorical_accuracy: 0.8625 - loss: 0.4380 - val_categorical_accuracy: 0.6531 - val_loss: 1.1248 - learning_rate: 1.0000e-05\n",
            "Epoch 17/32\n",
            "\u001b[1m1250/1250\u001b[0m \u001b[32m━━━━━━━━━━━━━━━━━━━━\u001b[0m\u001b[37m\u001b[0m \u001b[1m4s\u001b[0m 3ms/step - categorical_accuracy: 0.8647 - loss: 0.4386 - val_categorical_accuracy: 0.6532 - val_loss: 1.1266 - learning_rate: 1.0000e-05\n",
            "Epoch 18/32\n",
            "\u001b[1m1250/1250\u001b[0m \u001b[32m━━━━━━━━━━━━━━━━━━━━\u001b[0m\u001b[37m\u001b[0m \u001b[1m5s\u001b[0m 3ms/step - categorical_accuracy: 0.8586 - loss: 0.4504 - val_categorical_accuracy: 0.6519 - val_loss: 1.1277 - learning_rate: 1.0000e-05\n",
            "Epoch 19/32\n",
            "\u001b[1m1250/1250\u001b[0m \u001b[32m━━━━━━━━━━━━━━━━━━━━\u001b[0m\u001b[37m\u001b[0m \u001b[1m6s\u001b[0m 4ms/step - categorical_accuracy: 0.8623 - loss: 0.4469 - val_categorical_accuracy: 0.6534 - val_loss: 1.1278 - learning_rate: 1.0000e-05\n",
            "Epoch 20/32\n",
            "\u001b[1m1250/1250\u001b[0m \u001b[32m━━━━━━━━━━━━━━━━━━━━\u001b[0m\u001b[37m\u001b[0m \u001b[1m4s\u001b[0m 3ms/step - categorical_accuracy: 0.8638 - loss: 0.4376 - val_categorical_accuracy: 0.6526 - val_loss: 1.1283 - learning_rate: 1.0000e-06\n",
            "Epoch 21/32\n",
            "\u001b[1m1250/1250\u001b[0m \u001b[32m━━━━━━━━━━━━━━━━━━━━\u001b[0m\u001b[37m\u001b[0m \u001b[1m4s\u001b[0m 3ms/step - categorical_accuracy: 0.8615 - loss: 0.4420 - val_categorical_accuracy: 0.6526 - val_loss: 1.1284 - learning_rate: 1.0000e-06\n",
            "Epoch 22/32\n",
            "\u001b[1m1250/1250\u001b[0m \u001b[32m━━━━━━━━━━━━━━━━━━━━\u001b[0m\u001b[37m\u001b[0m \u001b[1m5s\u001b[0m 4ms/step - categorical_accuracy: 0.8605 - loss: 0.4453 - val_categorical_accuracy: 0.6526 - val_loss: 1.1287 - learning_rate: 1.0000e-06\n",
            "Epoch 23/32\n",
            "\u001b[1m1250/1250\u001b[0m \u001b[32m━━━━━━━━━━━━━━━━━━━━\u001b[0m\u001b[37m\u001b[0m \u001b[1m4s\u001b[0m 3ms/step - categorical_accuracy: 0.8641 - loss: 0.4350 - val_categorical_accuracy: 0.6526 - val_loss: 1.1288 - learning_rate: 1.0000e-06\n",
            "Epoch 24/32\n",
            "\u001b[1m1250/1250\u001b[0m \u001b[32m━━━━━━━━━━━━━━━━━━━━\u001b[0m\u001b[37m\u001b[0m \u001b[1m4s\u001b[0m 3ms/step - categorical_accuracy: 0.8595 - loss: 0.4471 - val_categorical_accuracy: 0.6522 - val_loss: 1.1289 - learning_rate: 1.0000e-06\n",
            "Epoch 25/32\n",
            "\u001b[1m1250/1250\u001b[0m \u001b[32m━━━━━━━━━━━━━━━━━━━━\u001b[0m\u001b[37m\u001b[0m \u001b[1m6s\u001b[0m 4ms/step - categorical_accuracy: 0.8668 - loss: 0.4337 - val_categorical_accuracy: 0.6524 - val_loss: 1.1289 - learning_rate: 1.0000e-07\n",
            "Epoch 26/32\n",
            "\u001b[1m1250/1250\u001b[0m \u001b[32m━━━━━━━━━━━━━━━━━━━━\u001b[0m\u001b[37m\u001b[0m \u001b[1m4s\u001b[0m 3ms/step - categorical_accuracy: 0.8661 - loss: 0.4358 - val_categorical_accuracy: 0.6524 - val_loss: 1.1289 - learning_rate: 1.0000e-07\n",
            "Epoch 27/32\n",
            "\u001b[1m1250/1250\u001b[0m \u001b[32m━━━━━━━━━━━━━━━━━━━━\u001b[0m\u001b[37m\u001b[0m \u001b[1m5s\u001b[0m 3ms/step - categorical_accuracy: 0.8622 - loss: 0.4335 - val_categorical_accuracy: 0.6524 - val_loss: 1.1289 - learning_rate: 1.0000e-07\n",
            "Epoch 28/32\n",
            "\u001b[1m1250/1250\u001b[0m \u001b[32m━━━━━━━━━━━━━━━━━━━━\u001b[0m\u001b[37m\u001b[0m \u001b[1m5s\u001b[0m 3ms/step - categorical_accuracy: 0.8651 - loss: 0.4332 - val_categorical_accuracy: 0.6524 - val_loss: 1.1289 - learning_rate: 1.0000e-07\n",
            "Epoch 29/32\n",
            "\u001b[1m1250/1250\u001b[0m \u001b[32m━━━━━━━━━━━━━━━━━━━━\u001b[0m\u001b[37m\u001b[0m \u001b[1m5s\u001b[0m 3ms/step - categorical_accuracy: 0.8627 - loss: 0.4386 - val_categorical_accuracy: 0.6524 - val_loss: 1.1289 - learning_rate: 1.0000e-07\n",
            "Epoch 30/32\n",
            "\u001b[1m1250/1250\u001b[0m \u001b[32m━━━━━━━━━━━━━━━━━━━━\u001b[0m\u001b[37m\u001b[0m \u001b[1m4s\u001b[0m 4ms/step - categorical_accuracy: 0.8658 - loss: 0.4342 - val_categorical_accuracy: 0.6524 - val_loss: 1.1289 - learning_rate: 1.0000e-08\n",
            "Epoch 31/32\n",
            "\u001b[1m1250/1250\u001b[0m \u001b[32m━━━━━━━━━━━━━━━━━━━━\u001b[0m\u001b[37m\u001b[0m \u001b[1m4s\u001b[0m 3ms/step - categorical_accuracy: 0.8648 - loss: 0.4363 - val_categorical_accuracy: 0.6524 - val_loss: 1.1289 - learning_rate: 1.0000e-08\n",
            "Epoch 32/32\n",
            "\u001b[1m1250/1250\u001b[0m \u001b[32m━━━━━━━━━━━━━━━━━━━━\u001b[0m\u001b[37m\u001b[0m \u001b[1m5s\u001b[0m 3ms/step - categorical_accuracy: 0.8655 - loss: 0.4336 - val_categorical_accuracy: 0.6524 - val_loss: 1.1289 - learning_rate: 1.0000e-08\n"
          ]
        },
        {
          "data": {
            "text/plain": [
              "{('Model_1', 'SGD'): <keras.src.callbacks.history.History at 0x7d43e7579990>,\n",
              " ('Model_1', 'Adam'): <keras.src.callbacks.history.History at 0x7d4380630c10>,\n",
              " ('Model_1',\n",
              "  'RMSprop'): <keras.src.callbacks.history.History at 0x7d438015e650>,\n",
              " ('Model_2', 'SGD'): <keras.src.callbacks.history.History at 0x7d4310711690>,\n",
              " ('Model_2', 'Adam'): <keras.src.callbacks.history.History at 0x7d4311e83f70>,\n",
              " ('Model_2',\n",
              "  'RMSprop'): <keras.src.callbacks.history.History at 0x7d4311e82bf0>}"
            ]
          },
          "execution_count": 11,
          "metadata": {},
          "output_type": "execute_result"
        }
      ],
      "source": [
        "evaluator = Evaluator(models= models_, optimizers= optimizers_)\n",
        "evaluator.fit(X_train, y_train, validation_data= (X_val, y_val),\n",
        "              callbacks= callbacks_train, verbose= 1, max_epochs= 32)"
      ]
    },
    {
      "cell_type": "code",
      "execution_count": null,
      "metadata": {
        "colab": {
          "base_uri": "https://localhost:8080/"
        },
        "id": "r8a-TXPu0Srt",
        "outputId": "46263b92-5929-4b5b-f385-e9146276e159"
      },
      "outputs": [
        {
          "name": "stdout",
          "output_type": "stream",
          "text": [
            "Mounted at /content/drive\n"
          ]
        }
      ],
      "source": [
        "from google.colab import drive\n",
        "drive.mount('/content/drive')"
      ]
    },
    {
      "cell_type": "code",
      "execution_count": null,
      "metadata": {
        "colab": {
          "base_uri": "https://localhost:8080/"
        },
        "id": "C-MYTrwK59AN",
        "outputId": "6f3f7982-d80f-4cce-9d03-8b8cb2ce2e5a"
      },
      "outputs": [
        {
          "name": "stdout",
          "output_type": "stream",
          "text": [
            "\u001b[1m313/313\u001b[0m \u001b[32m━━━━━━━━━━━━━━━━━━━━\u001b[0m\u001b[37m\u001b[0m \u001b[1m1s\u001b[0m 3ms/step\n",
            "Final score of Model_1_SGD is 0.5284\n",
            "\u001b[1m313/313\u001b[0m \u001b[32m━━━━━━━━━━━━━━━━━━━━\u001b[0m\u001b[37m\u001b[0m \u001b[1m1s\u001b[0m 2ms/step\n",
            "Final score of Model_1_Adam is 0.4935\n",
            "\u001b[1m313/313\u001b[0m \u001b[32m━━━━━━━━━━━━━━━━━━━━\u001b[0m\u001b[37m\u001b[0m \u001b[1m1s\u001b[0m 2ms/step\n",
            "Final score of Model_1_RMSprop is 0.4831\n",
            "\u001b[1m313/313\u001b[0m \u001b[32m━━━━━━━━━━━━━━━━━━━━\u001b[0m\u001b[37m\u001b[0m \u001b[1m1s\u001b[0m 2ms/step\n",
            "Final score of Model_2_SGD is 0.6199\n",
            "\u001b[1m313/313\u001b[0m \u001b[32m━━━━━━━━━━━━━━━━━━━━\u001b[0m\u001b[37m\u001b[0m \u001b[1m1s\u001b[0m 2ms/step\n",
            "Final score of Model_2_Adam is 0.6449\n",
            "\u001b[1m313/313\u001b[0m \u001b[32m━━━━━━━━━━━━━━━━━━━━\u001b[0m\u001b[37m\u001b[0m \u001b[1m1s\u001b[0m 2ms/step\n",
            "Final score of Model_2_RMSprop is 0.6524\n"
          ]
        }
      ],
      "source": [
        "evaluator.evaluate(X_val, y_val, accuracy_score)"
      ]
    },
    {
      "cell_type": "code",
      "execution_count": null,
      "metadata": {
        "colab": {
          "base_uri": "https://localhost:8080/",
          "height": 1000
        },
        "id": "5_U5P4wxoZbZ",
        "outputId": "a754950a-2f10-434e-84ad-e88738baecb2"
      },
      "outputs": [
        {
          "data": {
            "image/png": "[encoded data removed]",
            "text/plain": [
              "<Figure size 1400x1000 with 1 Axes>"
            ]
          },
          "metadata": {},
          "output_type": "display_data"
        }
      ],
      "source": [
        "evaluator.plot_learning_curves(figsize_= (14, 10))"
      ]
    },
    {
      "cell_type": "code",
      "execution_count": null,
      "metadata": {
        "colab": {
          "base_uri": "https://localhost:8080/"
        },
        "id": "haAsE3xcCPLU",
        "outputId": "01bc8ea0-786f-4646-be5e-b6adddbaf131"
      },
      "outputs": [
        {
          "name": "stdout",
          "output_type": "stream",
          "text": [
            "/content\n"
          ]
        }
      ],
      "source": [
        "!pwd"
      ]
    },
    {
      "cell_type": "markdown",
      "metadata": {
        "id": "hi2NqMJZxTWG"
      },
      "source": [
        "**Выводы**\n",
        "1. После 15-20 эпохи по всем моделям (и оптимизаторам) достигнут предел обучения;\n",
        "2. У CNN (в особенности по оптимизаторам adam, rmsprop) есть тенденция к переобучению;\n",
        "3. При решении классификации изображений, CNN показывают себя гораздо лучше, чем полносвязные модели."
      ]
    },
    {
      "cell_type": "markdown",
      "metadata": {
        "id": "uFMVTSbtxjes"
      },
      "source": [
        "Прокомментируйте полученные результаты."
      ]
    },
    {
      "cell_type": "markdown",
      "metadata": {
        "id": "MVkaJnLWxjet"
      },
      "source": [
        "**Задание 1.4 (опционально)** Добавьте нормализацию по батчу (`BatchNormalization`) между свёрткой и активацией. Попробуйте использовать несколько нормализаций — в свёрточных и полносвязных слоях."
      ]
    },
    {
      "cell_type": "markdown",
      "metadata": {
        "id": "ppe0LGStxjet"
      },
      "source": [
        "Для удобства реализуем класс Models, который по сути будет являться списком моделей с двумя методами: add (добавить слой ко всем моделям) и add_create (создать новую модель на основе базовой с дополнительным слоем). Пользоваться им необязательно, но вдруг :)"
      ]
    },
    {
      "cell_type": "code",
      "execution_count": null,
      "metadata": {
        "id": "2zX9hd6Kxjet"
      },
      "outputs": [],
      "source": [
        "from collections import OrderedDict\n",
        "\n",
        "class Models(OrderedDict):\n",
        "    def __init__(self, models):\n",
        "        if not isinstance(models, dict):\n",
        "            models = OrderedDict({'base_model': models})\n",
        "        super().__init__(models)\n",
        "\n",
        "    def add(self, layer):\n",
        "        for name, model in self.items():\n",
        "            model.add(layer)\n",
        "\n",
        "    def add_create(self, name, layer):\n",
        "        base_model = next(iter(self.items()))[1]\n",
        "        new_model = keras.models.clone_model(base_model)\n",
        "        new_model.add(layer)\n",
        "        self.update({name: new_model})\n",
        "\n",
        "    def add_update(self, name, layer):\n",
        "        base_model = self[next(reversed(self))]\n",
        "        new_model = keras.models.clone_model(base_model)\n",
        "        new_model.add(layer)\n",
        "        self.update({name: new_model})\n",
        "\n",
        "# Example of usage\n",
        "# models = Models(keras.Sequential())\n",
        "# models.add(L.InputLayer(input_shape=(32, 32, 3)))\n",
        "# models.add(L.Convolution2D(filters=10, kernel_size=(3, 3)))\n",
        "# models.add(L.MaxPooling2D())\n",
        "# models.add_create('conv_batchnorm', L.BatchNormalization())\n",
        "# models.add(L.Activation('relu'))\n",
        "# ..."
      ]
    },
    {
      "cell_type": "code",
      "execution_count": null,
      "metadata": {
        "id": "ORtpt21G31YV"
      },
      "outputs": [],
      "source": [
        "def create_model3():\n",
        "    return tf.keras.models.Sequential([\n",
        "        tf.keras.layers.Input(shape= X_train.shape[1:]),\n",
        "\n",
        "        tf.keras.layers.Dense(32),\n",
        "        tf.keras.layers.BatchNormalization(),\n",
        "        tf.keras.layers.Activation('relu'),\n",
        "\n",
        "        tf.keras.layers.Flatten(),\n",
        "\n",
        "        tf.keras.layers.Dense(32),\n",
        "        tf.keras.layers.BatchNormalization(),\n",
        "        tf.keras.layers.Activation('relu'),\n",
        "\n",
        "        tf.keras.layers.Dense(32),\n",
        "        tf.keras.layers.BatchNormalization(),\n",
        "        tf.keras.layers.Activation('relu'),\n",
        "\n",
        "        tf.keras.layers.Dense(10, activation= 'softmax')\n",
        "    ])\n",
        "\n",
        "def create_model4():\n",
        "    return tf.keras.models.Sequential([\n",
        "        tf.keras.layers.Input(shape= X_train.shape[1:]),\n",
        "\n",
        "        tf.keras.layers.Conv2D(filters= 10, kernel_size= (3, 3), padding= 'same'),\n",
        "        tf.keras.layers.BatchNormalization(),\n",
        "        tf.keras.layers.Activation('leaky_relu'),\n",
        "\n",
        "        tf.keras.layers.MaxPooling2D(pool_size= (2, 2), padding= 'valid'),\n",
        "\n",
        "        tf.keras.layers.Flatten(),\n",
        "\n",
        "        tf.keras.layers.Dense(100),\n",
        "        tf.keras.layers.BatchNormalization(),\n",
        "        tf.keras.layers.Activation('leaky_relu'),\n",
        "\n",
        "        tf.keras.layers.Dense(10, activation= 'softmax')\n",
        "    ])"
      ]
    },
    {
      "cell_type": "code",
      "execution_count": null,
      "metadata": {
        "id": "YptgA1DxGXsC"
      },
      "outputs": [],
      "source": [
        "models_['Model_3'] = create_model3()\n",
        "models_['Model_4'] = create_model4()"
      ]
    },
    {
      "cell_type": "markdown",
      "metadata": {
        "id": "VUBUmZoB0Izj"
      },
      "source": [
        "Прокомментируйте полученные результаты."
      ]
    },
    {
      "cell_type": "code",
      "execution_count": null,
      "metadata": {
        "colab": {
          "base_uri": "https://localhost:8080/",
          "height": 1000,
          "referenced_widgets": [
            "c7d97394e78b470dbacb8464a1689a79",
            "d0ced81159754614810f40a2ab4e5a41",
            "4adfe7502ae3408f95830abc199a11d1",
            "58647f254aea4aed9f415c0f2440e14a",
            "6b6a70b69c794b20ba6669d83fe0b8e1",
            "9fd1dacc096b4a39932467759874fb5b",
            "81a5518c9cfc49a89e9f6c5c77e1e00a",
            "946f9b60c54d4b7bbdf50cf9912aaa93",
            "910cf8ec15944bf998791fb46ae12585",
            "14375f32930c446db2575d1434699e0a",
            "c8df5045e1bd4f01bcf2c4e107a3874f"
          ]
        },
        "id": "wBUuoOXf3yMx",
        "outputId": "ea13c6db-5ffc-40c9-eb4d-47cb0572ae3e"
      },
      "outputs": [
        {
          "data": {
            "application/vnd.jupyter.widget-view+json": {
              "model_id": "c7d97394e78b470dbacb8464a1689a79",
              "version_major": 2,
              "version_minor": 0
            },
            "text/plain": [
              "  0%|          | 0/6 [00:00<?, ?it/s]"
            ]
          },
          "metadata": {},
          "output_type": "display_data"
        },
        {
          "name": "stdout",
          "output_type": "stream",
          "text": [
            "Training Model_3 with SGD optimizer\n",
            "Epoch 1/32\n",
            "\u001b[1m1250/1250\u001b[0m \u001b[32m━━━━━━━━━━━━━━━━━━━━\u001b[0m\u001b[37m\u001b[0m \u001b[1m7s\u001b[0m 5ms/step - categorical_accuracy: 0.3479 - loss: 1.8593 - val_categorical_accuracy: 0.4516 - val_loss: 1.5577 - learning_rate: 0.0100\n",
            "Epoch 2/32\n",
            "\u001b[1m1250/1250\u001b[0m \u001b[32m━━━━━━━━━━━━━━━━━━━━\u001b[0m\u001b[37m\u001b[0m \u001b[1m9s\u001b[0m 4ms/step - categorical_accuracy: 0.4732 - loss: 1.5001 - val_categorical_accuracy: 0.4515 - val_loss: 1.5402 - learning_rate: 0.0100\n",
            "Epoch 3/32\n",
            "\u001b[1m1250/1250\u001b[0m \u001b[32m━━━━━━━━━━━━━━━━━━━━\u001b[0m\u001b[37m\u001b[0m \u001b[1m6s\u001b[0m 4ms/step - categorical_accuracy: 0.4992 - loss: 1.4216 - val_categorical_accuracy: 0.4933 - val_loss: 1.4347 - learning_rate: 0.0100\n",
            "Epoch 4/32\n",
            "\u001b[1m1250/1250\u001b[0m \u001b[32m━━━━━━━━━━━━━━━━━━━━\u001b[0m\u001b[37m\u001b[0m \u001b[1m5s\u001b[0m 4ms/step - categorical_accuracy: 0.5154 - loss: 1.3713 - val_categorical_accuracy: 0.4902 - val_loss: 1.4441 - learning_rate: 0.0100\n",
            "Epoch 5/32\n",
            "\u001b[1m1250/1250\u001b[0m \u001b[32m━━━━━━━━━━━━━━━━━━━━\u001b[0m\u001b[37m\u001b[0m \u001b[1m5s\u001b[0m 4ms/step - categorical_accuracy: 0.5323 - loss: 1.3252 - val_categorical_accuracy: 0.4971 - val_loss: 1.4350 - learning_rate: 0.0100\n",
            "Epoch 6/32\n",
            "\u001b[1m1250/1250\u001b[0m \u001b[32m━━━━━━━━━━━━━━━━━━━━\u001b[0m\u001b[37m\u001b[0m \u001b[1m6s\u001b[0m 4ms/step - categorical_accuracy: 0.5457 - loss: 1.2862 - val_categorical_accuracy: 0.5028 - val_loss: 1.4202 - learning_rate: 0.0100\n",
            "Epoch 7/32\n",
            "\u001b[1m1250/1250\u001b[0m \u001b[32m━━━━━━━━━━━━━━━━━━━━\u001b[0m\u001b[37m\u001b[0m \u001b[1m5s\u001b[0m 4ms/step - categorical_accuracy: 0.5536 - loss: 1.2592 - val_categorical_accuracy: 0.5012 - val_loss: 1.4372 - learning_rate: 0.0100\n",
            "Epoch 8/32\n",
            "\u001b[1m1250/1250\u001b[0m \u001b[32m━━━━━━━━━━━━━━━━━━━━\u001b[0m\u001b[37m\u001b[0m \u001b[1m5s\u001b[0m 4ms/step - categorical_accuracy: 0.5671 - loss: 1.2289 - val_categorical_accuracy: 0.5056 - val_loss: 1.4178 - learning_rate: 0.0100\n",
            "Epoch 9/32\n",
            "\u001b[1m1250/1250\u001b[0m \u001b[32m━━━━━━━━━━━━━━━━━━━━\u001b[0m\u001b[37m\u001b[0m \u001b[1m5s\u001b[0m 4ms/step - categorical_accuracy: 0.5793 - loss: 1.1918 - val_categorical_accuracy: 0.5048 - val_loss: 1.4295 - learning_rate: 0.0100\n",
            "Epoch 10/32\n",
            "\u001b[1m1250/1250\u001b[0m \u001b[32m━━━━━━━━━━━━━━━━━━━━\u001b[0m\u001b[37m\u001b[0m \u001b[1m4s\u001b[0m 3ms/step - categorical_accuracy: 0.5876 - loss: 1.1693 - val_categorical_accuracy: 0.4868 - val_loss: 1.4664 - learning_rate: 0.0100\n",
            "Epoch 11/32\n",
            "\u001b[1m1250/1250\u001b[0m \u001b[32m━━━━━━━━━━━━━━━━━━━━\u001b[0m\u001b[37m\u001b[0m \u001b[1m6s\u001b[0m 4ms/step - categorical_accuracy: 0.5913 - loss: 1.1543 - val_categorical_accuracy: 0.4971 - val_loss: 1.4541 - learning_rate: 0.0100\n",
            "Epoch 12/32\n",
            "\u001b[1m1250/1250\u001b[0m \u001b[32m━━━━━━━━━━━━━━━━━━━━\u001b[0m\u001b[37m\u001b[0m \u001b[1m5s\u001b[0m 4ms/step - categorical_accuracy: 0.5986 - loss: 1.1247 - val_categorical_accuracy: 0.4958 - val_loss: 1.4625 - learning_rate: 0.0100\n",
            "Epoch 13/32\n",
            "\u001b[1m1250/1250\u001b[0m \u001b[32m━━━━━━━━━━━━━━━━━━━━\u001b[0m\u001b[37m\u001b[0m \u001b[1m5s\u001b[0m 4ms/step - categorical_accuracy: 0.6103 - loss: 1.1005 - val_categorical_accuracy: 0.4994 - val_loss: 1.4871 - learning_rate: 0.0100\n",
            "Epoch 14/32\n",
            "\u001b[1m1250/1250\u001b[0m \u001b[32m━━━━━━━━━━━━━━━━━━━━\u001b[0m\u001b[37m\u001b[0m \u001b[1m5s\u001b[0m 4ms/step - categorical_accuracy: 0.6387 - loss: 1.0270 - val_categorical_accuracy: 0.5167 - val_loss: 1.3942 - learning_rate: 1.0000e-03\n",
            "Epoch 15/32\n",
            "\u001b[1m1250/1250\u001b[0m \u001b[32m━━━━━━━━━━━━━━━━━━━━\u001b[0m\u001b[37m\u001b[0m \u001b[1m5s\u001b[0m 4ms/step - categorical_accuracy: 0.6523 - loss: 0.9919 - val_categorical_accuracy: 0.5139 - val_loss: 1.4116 - learning_rate: 1.0000e-03\n",
            "Epoch 16/32\n",
            "\u001b[1m1250/1250\u001b[0m \u001b[32m━━━━━━━━━━━━━━━━━━━━\u001b[0m\u001b[37m\u001b[0m \u001b[1m5s\u001b[0m 4ms/step - categorical_accuracy: 0.6624 - loss: 0.9715 - val_categorical_accuracy: 0.5172 - val_loss: 1.4091 - learning_rate: 1.0000e-03\n",
            "Epoch 17/32\n",
            "\u001b[1m1250/1250\u001b[0m \u001b[32m━━━━━━━━━━━━━━━━━━━━\u001b[0m\u001b[37m\u001b[0m \u001b[1m4s\u001b[0m 4ms/step - categorical_accuracy: 0.6645 - loss: 0.9647 - val_categorical_accuracy: 0.5108 - val_loss: 1.4262 - learning_rate: 1.0000e-03\n",
            "Epoch 18/32\n",
            "\u001b[1m1250/1250\u001b[0m \u001b[32m━━━━━━━━━━━━━━━━━━━━\u001b[0m\u001b[37m\u001b[0m \u001b[1m5s\u001b[0m 3ms/step - categorical_accuracy: 0.6662 - loss: 0.9624 - val_categorical_accuracy: 0.5162 - val_loss: 1.4252 - learning_rate: 1.0000e-03\n",
            "Epoch 19/32\n",
            "\u001b[1m1250/1250\u001b[0m \u001b[32m━━━━━━━━━━━━━━━━━━━━\u001b[0m\u001b[37m\u001b[0m \u001b[1m5s\u001b[0m 4ms/step - categorical_accuracy: 0.6687 - loss: 0.9465 - val_categorical_accuracy: 0.5120 - val_loss: 1.4320 - learning_rate: 1.0000e-03\n",
            "Epoch 20/32\n",
            "\u001b[1m1250/1250\u001b[0m \u001b[32m━━━━━━━━━━━━━━━━━━━━\u001b[0m\u001b[37m\u001b[0m \u001b[1m5s\u001b[0m 4ms/step - categorical_accuracy: 0.6748 - loss: 0.9397 - val_categorical_accuracy: 0.5152 - val_loss: 1.4242 - learning_rate: 1.0000e-04\n",
            "Epoch 21/32\n",
            "\u001b[1m1250/1250\u001b[0m \u001b[32m━━━━━━━━━━━━━━━━━━━━\u001b[0m\u001b[37m\u001b[0m \u001b[1m5s\u001b[0m 4ms/step - categorical_accuracy: 0.6791 - loss: 0.9333 - val_categorical_accuracy: 0.5148 - val_loss: 1.4258 - learning_rate: 1.0000e-04\n",
            "Epoch 22/32\n",
            "\u001b[1m1250/1250\u001b[0m \u001b[32m━━━━━━━━━━━━━━━━━━━━\u001b[0m\u001b[37m\u001b[0m \u001b[1m6s\u001b[0m 5ms/step - categorical_accuracy: 0.6775 - loss: 0.9280 - val_categorical_accuracy: 0.5145 - val_loss: 1.4291 - learning_rate: 1.0000e-04\n",
            "Epoch 23/32\n",
            "\u001b[1m1250/1250\u001b[0m \u001b[32m━━━━━━━━━━━━━━━━━━━━\u001b[0m\u001b[37m\u001b[0m \u001b[1m10s\u001b[0m 4ms/step - categorical_accuracy: 0.6820 - loss: 0.9194 - val_categorical_accuracy: 0.5157 - val_loss: 1.4301 - learning_rate: 1.0000e-04\n",
            "Epoch 24/32\n",
            "\u001b[1m1250/1250\u001b[0m \u001b[32m━━━━━━━━━━━━━━━━━━━━\u001b[0m\u001b[37m\u001b[0m \u001b[1m5s\u001b[0m 4ms/step - categorical_accuracy: 0.6798 - loss: 0.9208 - val_categorical_accuracy: 0.5149 - val_loss: 1.4265 - learning_rate: 1.0000e-04\n",
            "Epoch 25/32\n",
            "\u001b[1m1250/1250\u001b[0m \u001b[32m━━━━━━━━━━━━━━━━━━━━\u001b[0m\u001b[37m\u001b[0m \u001b[1m5s\u001b[0m 4ms/step - categorical_accuracy: 0.6818 - loss: 0.9294 - val_categorical_accuracy: 0.5148 - val_loss: 1.4309 - learning_rate: 1.0000e-05\n",
            "Epoch 26/32\n",
            "\u001b[1m1250/1250\u001b[0m \u001b[32m━━━━━━━━━━━━━━━━━━━━\u001b[0m\u001b[37m\u001b[0m \u001b[1m5s\u001b[0m 4ms/step - categorical_accuracy: 0.6752 - loss: 0.9229 - val_categorical_accuracy: 0.5156 - val_loss: 1.4309 - learning_rate: 1.0000e-05\n",
            "Epoch 27/32\n",
            "\u001b[1m1250/1250\u001b[0m \u001b[32m━━━━━━━━━━━━━━━━━━━━\u001b[0m\u001b[37m\u001b[0m \u001b[1m5s\u001b[0m 4ms/step - categorical_accuracy: 0.6779 - loss: 0.9276 - val_categorical_accuracy: 0.5155 - val_loss: 1.4298 - learning_rate: 1.0000e-05\n",
            "Epoch 28/32\n",
            "\u001b[1m1250/1250\u001b[0m \u001b[32m━━━━━━━━━━━━━━━━━━━━\u001b[0m\u001b[37m\u001b[0m \u001b[1m6s\u001b[0m 4ms/step - categorical_accuracy: 0.6788 - loss: 0.9250 - val_categorical_accuracy: 0.5145 - val_loss: 1.4289 - learning_rate: 1.0000e-05\n",
            "Epoch 29/32\n",
            "\u001b[1m1250/1250\u001b[0m \u001b[32m━━━━━━━━━━━━━━━━━━━━\u001b[0m\u001b[37m\u001b[0m \u001b[1m4s\u001b[0m 3ms/step - categorical_accuracy: 0.6822 - loss: 0.9202 - val_categorical_accuracy: 0.5138 - val_loss: 1.4299 - learning_rate: 1.0000e-05\n",
            "Epoch 30/32\n",
            "\u001b[1m1250/1250\u001b[0m \u001b[32m━━━━━━━━━━━━━━━━━━━━\u001b[0m\u001b[37m\u001b[0m \u001b[1m5s\u001b[0m 4ms/step - categorical_accuracy: 0.6784 - loss: 0.9209 - val_categorical_accuracy: 0.5145 - val_loss: 1.4296 - learning_rate: 1.0000e-06\n",
            "Epoch 31/32\n",
            "\u001b[1m1250/1250\u001b[0m \u001b[32m━━━━━━━━━━━━━━━━━━━━\u001b[0m\u001b[37m\u001b[0m \u001b[1m5s\u001b[0m 4ms/step - categorical_accuracy: 0.6787 - loss: 0.9244 - val_categorical_accuracy: 0.5141 - val_loss: 1.4301 - learning_rate: 1.0000e-06\n",
            "Epoch 32/32\n",
            "\u001b[1m1250/1250\u001b[0m \u001b[32m━━━━━━━━━━━━━━━━━━━━\u001b[0m\u001b[37m\u001b[0m \u001b[1m5s\u001b[0m 4ms/step - categorical_accuracy: 0.6795 - loss: 0.9247 - val_categorical_accuracy: 0.5144 - val_loss: 1.4310 - learning_rate: 1.0000e-06\n",
            "Training Model_3 with Adam optimizer\n",
            "Epoch 1/32\n",
            "\u001b[1m1250/1250\u001b[0m \u001b[32m━━━━━━━━━━━━━━━━━━━━\u001b[0m\u001b[37m\u001b[0m \u001b[1m10s\u001b[0m 5ms/step - categorical_accuracy: 0.3563 - loss: 1.8101 - val_categorical_accuracy: 0.4542 - val_loss: 1.5216 - learning_rate: 0.0010\n",
            "Epoch 2/32\n",
            "\u001b[1m1250/1250\u001b[0m \u001b[32m━━━━━━━━━━━━━━━━━━━━\u001b[0m\u001b[37m\u001b[0m \u001b[1m5s\u001b[0m 4ms/step - categorical_accuracy: 0.4799 - loss: 1.4669 - val_categorical_accuracy: 0.4966 - val_loss: 1.4139 - learning_rate: 0.0010\n",
            "Epoch 3/32\n",
            "\u001b[1m1250/1250\u001b[0m \u001b[32m━━━━━━━━━━━━━━━━━━━━\u001b[0m\u001b[37m\u001b[0m \u001b[1m10s\u001b[0m 4ms/step - categorical_accuracy: 0.5145 - loss: 1.3707 - val_categorical_accuracy: 0.4867 - val_loss: 1.4374 - learning_rate: 0.0010\n",
            "Epoch 4/32\n",
            "\u001b[1m1250/1250\u001b[0m \u001b[32m━━━━━━━━━━━━━━━━━━━━\u001b[0m\u001b[37m\u001b[0m \u001b[1m5s\u001b[0m 4ms/step - categorical_accuracy: 0.5343 - loss: 1.3082 - val_categorical_accuracy: 0.5119 - val_loss: 1.3743 - learning_rate: 0.0010\n",
            "Epoch 5/32\n",
            "\u001b[1m1250/1250\u001b[0m \u001b[32m━━━━━━━━━━━━━━━━━━━━\u001b[0m\u001b[37m\u001b[0m \u001b[1m5s\u001b[0m 4ms/step - categorical_accuracy: 0.5542 - loss: 1.2587 - val_categorical_accuracy: 0.5052 - val_loss: 1.4011 - learning_rate: 0.0010\n",
            "Epoch 6/32\n",
            "\u001b[1m1250/1250\u001b[0m \u001b[32m━━━━━━━━━━━━━━━━━━━━\u001b[0m\u001b[37m\u001b[0m \u001b[1m6s\u001b[0m 5ms/step - categorical_accuracy: 0.5622 - loss: 1.2227 - val_categorical_accuracy: 0.5234 - val_loss: 1.3578 - learning_rate: 0.0010\n",
            "Epoch 7/32\n",
            "\u001b[1m1250/1250\u001b[0m \u001b[32m━━━━━━━━━━━━━━━━━━━━\u001b[0m\u001b[37m\u001b[0m \u001b[1m5s\u001b[0m 4ms/step - categorical_accuracy: 0.5830 - loss: 1.1865 - val_categorical_accuracy: 0.4899 - val_loss: 1.4646 - learning_rate: 0.0010\n",
            "Epoch 8/32\n",
            "\u001b[1m1250/1250\u001b[0m \u001b[32m━━━━━━━━━━━━━━━━━━━━\u001b[0m\u001b[37m\u001b[0m \u001b[1m5s\u001b[0m 4ms/step - categorical_accuracy: 0.5954 - loss: 1.1433 - val_categorical_accuracy: 0.5036 - val_loss: 1.4283 - learning_rate: 0.0010\n",
            "Epoch 9/32\n",
            "\u001b[1m1250/1250\u001b[0m \u001b[32m━━━━━━━━━━━━━━━━━━━━\u001b[0m\u001b[37m\u001b[0m \u001b[1m5s\u001b[0m 4ms/step - categorical_accuracy: 0.6087 - loss: 1.1102 - val_categorical_accuracy: 0.5108 - val_loss: 1.4262 - learning_rate: 0.0010\n",
            "Epoch 10/32\n",
            "\u001b[1m1250/1250\u001b[0m \u001b[32m━━━━━━━━━━━━━━━━━━━━\u001b[0m\u001b[37m\u001b[0m \u001b[1m5s\u001b[0m 4ms/step - categorical_accuracy: 0.6197 - loss: 1.0782 - val_categorical_accuracy: 0.4607 - val_loss: 1.6610 - learning_rate: 0.0010\n",
            "Epoch 11/32\n",
            "\u001b[1m1250/1250\u001b[0m \u001b[32m━━━━━━━━━━━━━━━━━━━━\u001b[0m\u001b[37m\u001b[0m \u001b[1m6s\u001b[0m 4ms/step - categorical_accuracy: 0.6294 - loss: 1.0506 - val_categorical_accuracy: 0.5079 - val_loss: 1.4865 - learning_rate: 0.0010\n",
            "Epoch 12/32\n",
            "\u001b[1m1250/1250\u001b[0m \u001b[32m━━━━━━━━━━━━━━━━━━━━\u001b[0m\u001b[37m\u001b[0m \u001b[1m10s\u001b[0m 4ms/step - categorical_accuracy: 0.6657 - loss: 0.9593 - val_categorical_accuracy: 0.5421 - val_loss: 1.3694 - learning_rate: 1.0000e-04\n",
            "Epoch 13/32\n",
            "\u001b[1m1250/1250\u001b[0m \u001b[32m━━━━━━━━━━━━━━━━━━━━\u001b[0m\u001b[37m\u001b[0m \u001b[1m5s\u001b[0m 4ms/step - categorical_accuracy: 0.6787 - loss: 0.9162 - val_categorical_accuracy: 0.5379 - val_loss: 1.3812 - learning_rate: 1.0000e-04\n",
            "Epoch 14/32\n",
            "\u001b[1m1250/1250\u001b[0m \u001b[32m━━━━━━━━━━━━━━━━━━━━\u001b[0m\u001b[37m\u001b[0m \u001b[1m10s\u001b[0m 4ms/step - categorical_accuracy: 0.6866 - loss: 0.9041 - val_categorical_accuracy: 0.5339 - val_loss: 1.3967 - learning_rate: 1.0000e-04\n",
            "Epoch 15/32\n",
            "\u001b[1m1250/1250\u001b[0m \u001b[32m━━━━━━━━━━━━━━━━━━━━\u001b[0m\u001b[37m\u001b[0m \u001b[1m5s\u001b[0m 4ms/step - categorical_accuracy: 0.6855 - loss: 0.8917 - val_categorical_accuracy: 0.5375 - val_loss: 1.4097 - learning_rate: 1.0000e-04\n",
            "Epoch 16/32\n",
            "\u001b[1m1250/1250\u001b[0m \u001b[32m━━━━━━━━━━━━━━━━━━━━\u001b[0m\u001b[37m\u001b[0m \u001b[1m6s\u001b[0m 5ms/step - categorical_accuracy: 0.7008 - loss: 0.8702 - val_categorical_accuracy: 0.5324 - val_loss: 1.4300 - learning_rate: 1.0000e-04\n",
            "Epoch 17/32\n",
            "\u001b[1m1250/1250\u001b[0m \u001b[32m━━━━━━━━━━━━━━━━━━━━\u001b[0m\u001b[37m\u001b[0m \u001b[1m5s\u001b[0m 4ms/step - categorical_accuracy: 0.6976 - loss: 0.8613 - val_categorical_accuracy: 0.5343 - val_loss: 1.4156 - learning_rate: 1.0000e-05\n",
            "Epoch 18/32\n",
            "\u001b[1m1250/1250\u001b[0m \u001b[32m━━━━━━━━━━━━━━━━━━━━\u001b[0m\u001b[37m\u001b[0m \u001b[1m5s\u001b[0m 4ms/step - categorical_accuracy: 0.7013 - loss: 0.8560 - val_categorical_accuracy: 0.5339 - val_loss: 1.4161 - learning_rate: 1.0000e-05\n",
            "Epoch 19/32\n",
            "\u001b[1m1250/1250\u001b[0m \u001b[32m━━━━━━━━━━━━━━━━━━━━\u001b[0m\u001b[37m\u001b[0m \u001b[1m6s\u001b[0m 4ms/step - categorical_accuracy: 0.7007 - loss: 0.8635 - val_categorical_accuracy: 0.5358 - val_loss: 1.4184 - learning_rate: 1.0000e-05\n",
            "Epoch 20/32\n",
            "\u001b[1m1250/1250\u001b[0m \u001b[32m━━━━━━━━━━━━━━━━━━━━\u001b[0m\u001b[37m\u001b[0m \u001b[1m5s\u001b[0m 4ms/step - categorical_accuracy: 0.7000 - loss: 0.8594 - val_categorical_accuracy: 0.5361 - val_loss: 1.4184 - learning_rate: 1.0000e-05\n",
            "Epoch 21/32\n",
            "\u001b[1m1250/1250\u001b[0m \u001b[32m━━━━━━━━━━━━━━━━━━━━\u001b[0m\u001b[37m\u001b[0m \u001b[1m6s\u001b[0m 5ms/step - categorical_accuracy: 0.6996 - loss: 0.8585 - val_categorical_accuracy: 0.5348 - val_loss: 1.4217 - learning_rate: 1.0000e-05\n",
            "Epoch 22/32\n",
            "\u001b[1m1250/1250\u001b[0m \u001b[32m━━━━━━━━━━━━━━━━━━━━\u001b[0m\u001b[37m\u001b[0m \u001b[1m5s\u001b[0m 4ms/step - categorical_accuracy: 0.6988 - loss: 0.8635 - val_categorical_accuracy: 0.5346 - val_loss: 1.4227 - learning_rate: 1.0000e-06\n",
            "Epoch 23/32\n",
            "\u001b[1m1250/1250\u001b[0m \u001b[32m━━━━━━━━━━━━━━━━━━━━\u001b[0m\u001b[37m\u001b[0m \u001b[1m5s\u001b[0m 4ms/step - categorical_accuracy: 0.7016 - loss: 0.8608 - val_categorical_accuracy: 0.5353 - val_loss: 1.4224 - learning_rate: 1.0000e-06\n",
            "Epoch 24/32\n",
            "\u001b[1m1250/1250\u001b[0m \u001b[32m━━━━━━━━━━━━━━━━━━━━\u001b[0m\u001b[37m\u001b[0m \u001b[1m6s\u001b[0m 4ms/step - categorical_accuracy: 0.7032 - loss: 0.8557 - val_categorical_accuracy: 0.5351 - val_loss: 1.4228 - learning_rate: 1.0000e-06\n",
            "Epoch 25/32\n",
            "\u001b[1m1250/1250\u001b[0m \u001b[32m━━━━━━━━━━━━━━━━━━━━\u001b[0m\u001b[37m\u001b[0m \u001b[1m11s\u001b[0m 5ms/step - categorical_accuracy: 0.7078 - loss: 0.8452 - val_categorical_accuracy: 0.5346 - val_loss: 1.4250 - learning_rate: 1.0000e-06\n",
            "Epoch 26/32\n",
            "\u001b[1m1250/1250\u001b[0m \u001b[32m━━━━━━━━━━━━━━━━━━━━\u001b[0m\u001b[37m\u001b[0m \u001b[1m5s\u001b[0m 4ms/step - categorical_accuracy: 0.7005 - loss: 0.8538 - val_categorical_accuracy: 0.5350 - val_loss: 1.4199 - learning_rate: 1.0000e-06\n",
            "Epoch 27/32\n",
            "\u001b[1m1250/1250\u001b[0m \u001b[32m━━━━━━━━━━━━━━━━━━━━\u001b[0m\u001b[37m\u001b[0m \u001b[1m5s\u001b[0m 4ms/step - categorical_accuracy: 0.6988 - loss: 0.8628 - val_categorical_accuracy: 0.5363 - val_loss: 1.4201 - learning_rate: 1.0000e-07\n",
            "Epoch 28/32\n",
            "\u001b[1m1250/1250\u001b[0m \u001b[32m━━━━━━━━━━━━━━━━━━━━\u001b[0m\u001b[37m\u001b[0m \u001b[1m5s\u001b[0m 4ms/step - categorical_accuracy: 0.7013 - loss: 0.8421 - val_categorical_accuracy: 0.5339 - val_loss: 1.4221 - learning_rate: 1.0000e-07\n",
            "Epoch 29/32\n",
            "\u001b[1m1250/1250\u001b[0m \u001b[32m━━━━━━━━━━━━━━━━━━━━\u001b[0m\u001b[37m\u001b[0m \u001b[1m5s\u001b[0m 4ms/step - categorical_accuracy: 0.7051 - loss: 0.8483 - val_categorical_accuracy: 0.5345 - val_loss: 1.4242 - learning_rate: 1.0000e-07\n",
            "Epoch 30/32\n",
            "\u001b[1m1250/1250\u001b[0m \u001b[32m━━━━━━━━━━━━━━━━━━━━\u001b[0m\u001b[37m\u001b[0m \u001b[1m6s\u001b[0m 5ms/step - categorical_accuracy: 0.7039 - loss: 0.8555 - val_categorical_accuracy: 0.5345 - val_loss: 1.4193 - learning_rate: 1.0000e-07\n",
            "Epoch 31/32\n",
            "\u001b[1m1250/1250\u001b[0m \u001b[32m━━━━━━━━━━━━━━━━━━━━\u001b[0m\u001b[37m\u001b[0m \u001b[1m9s\u001b[0m 4ms/step - categorical_accuracy: 0.7012 - loss: 0.8489 - val_categorical_accuracy: 0.5351 - val_loss: 1.4217 - learning_rate: 1.0000e-07\n",
            "Epoch 32/32\n",
            "\u001b[1m1250/1250\u001b[0m \u001b[32m━━━━━━━━━━━━━━━━━━━━\u001b[0m\u001b[37m\u001b[0m \u001b[1m5s\u001b[0m 4ms/step - categorical_accuracy: 0.7023 - loss: 0.8494 - val_categorical_accuracy: 0.5351 - val_loss: 1.4190 - learning_rate: 1.0000e-08\n",
            "Training Model_3 with RMSprop optimizer\n",
            "Epoch 1/32\n",
            "\u001b[1m1250/1250\u001b[0m \u001b[32m━━━━━━━━━━━━━━━━━━━━\u001b[0m\u001b[37m\u001b[0m \u001b[1m10s\u001b[0m 6ms/step - categorical_accuracy: 0.3676 - loss: 1.7923 - val_categorical_accuracy: 0.4736 - val_loss: 1.4760 - learning_rate: 0.0010\n",
            "Epoch 2/32\n",
            "\u001b[1m1250/1250\u001b[0m \u001b[32m━━━━━━━━━━━━━━━━━━━━\u001b[0m\u001b[37m\u001b[0m \u001b[1m6s\u001b[0m 4ms/step - categorical_accuracy: 0.4873 - loss: 1.4422 - val_categorical_accuracy: 0.5097 - val_loss: 1.4034 - learning_rate: 0.0010\n",
            "Epoch 3/32\n",
            "\u001b[1m1250/1250\u001b[0m \u001b[32m━━━━━━━━━━━━━━━━━━━━\u001b[0m\u001b[37m\u001b[0m \u001b[1m6s\u001b[0m 5ms/step - categorical_accuracy: 0.5164 - loss: 1.3624 - val_categorical_accuracy: 0.5145 - val_loss: 1.3771 - learning_rate: 0.0010\n",
            "Epoch 4/32\n",
            "\u001b[1m1250/1250\u001b[0m \u001b[32m━━━━━━━━━━━━━━━━━━━━\u001b[0m\u001b[37m\u001b[0m \u001b[1m9s\u001b[0m 4ms/step - categorical_accuracy: 0.5366 - loss: 1.3049 - val_categorical_accuracy: 0.5107 - val_loss: 1.3896 - learning_rate: 0.0010\n",
            "Epoch 5/32\n",
            "\u001b[1m1250/1250\u001b[0m \u001b[32m━━━━━━━━━━━━━━━━━━━━\u001b[0m\u001b[37m\u001b[0m \u001b[1m6s\u001b[0m 4ms/step - categorical_accuracy: 0.5519 - loss: 1.2633 - val_categorical_accuracy: 0.5108 - val_loss: 1.3923 - learning_rate: 0.0010\n",
            "Epoch 6/32\n",
            "\u001b[1m1250/1250\u001b[0m \u001b[32m━━━━━━━━━━━━━━━━━━━━\u001b[0m\u001b[37m\u001b[0m \u001b[1m10s\u001b[0m 4ms/step - categorical_accuracy: 0.5674 - loss: 1.2214 - val_categorical_accuracy: 0.5133 - val_loss: 1.3897 - learning_rate: 0.0010\n",
            "Epoch 7/32\n",
            "\u001b[1m1250/1250\u001b[0m \u001b[32m━━━━━━━━━━━━━━━━━━━━\u001b[0m\u001b[37m\u001b[0m \u001b[1m5s\u001b[0m 4ms/step - categorical_accuracy: 0.5745 - loss: 1.1897 - val_categorical_accuracy: 0.5089 - val_loss: 1.4293 - learning_rate: 0.0010\n",
            "Epoch 8/32\n",
            "\u001b[1m1250/1250\u001b[0m \u001b[32m━━━━━━━━━━━━━━━━━━━━\u001b[0m\u001b[37m\u001b[0m \u001b[1m5s\u001b[0m 4ms/step - categorical_accuracy: 0.5920 - loss: 1.1587 - val_categorical_accuracy: 0.5203 - val_loss: 1.3809 - learning_rate: 0.0010\n",
            "Epoch 9/32\n",
            "\u001b[1m1250/1250\u001b[0m \u001b[32m━━━━━━━━━━━━━━━━━━━━\u001b[0m\u001b[37m\u001b[0m \u001b[1m5s\u001b[0m 4ms/step - categorical_accuracy: 0.6201 - loss: 1.0788 - val_categorical_accuracy: 0.5349 - val_loss: 1.3314 - learning_rate: 1.0000e-04\n",
            "Epoch 10/32\n",
            "\u001b[1m1250/1250\u001b[0m \u001b[32m━━━━━━━━━━━━━━━━━━━━\u001b[0m\u001b[37m\u001b[0m \u001b[1m5s\u001b[0m 4ms/step - categorical_accuracy: 0.6299 - loss: 1.0463 - val_categorical_accuracy: 0.5384 - val_loss: 1.3352 - learning_rate: 1.0000e-04\n",
            "Epoch 11/32\n",
            "\u001b[1m1250/1250\u001b[0m \u001b[32m━━━━━━━━━━━━━━━━━━━━\u001b[0m\u001b[37m\u001b[0m \u001b[1m5s\u001b[0m 4ms/step - categorical_accuracy: 0.6325 - loss: 1.0343 - val_categorical_accuracy: 0.5354 - val_loss: 1.3485 - learning_rate: 1.0000e-04\n",
            "Epoch 12/32\n",
            "\u001b[1m1250/1250\u001b[0m \u001b[32m━━━━━━━━━━━━━━━━━━━━\u001b[0m\u001b[37m\u001b[0m \u001b[1m5s\u001b[0m 4ms/step - categorical_accuracy: 0.6406 - loss: 1.0260 - val_categorical_accuracy: 0.5335 - val_loss: 1.3522 - learning_rate: 1.0000e-04\n",
            "Epoch 13/32\n",
            "\u001b[1m1250/1250\u001b[0m \u001b[32m━━━━━━━━━━━━━━━━━━━━\u001b[0m\u001b[37m\u001b[0m \u001b[1m5s\u001b[0m 4ms/step - categorical_accuracy: 0.6389 - loss: 1.0174 - val_categorical_accuracy: 0.5292 - val_loss: 1.3599 - learning_rate: 1.0000e-04\n",
            "Epoch 14/32\n",
            "\u001b[1m1250/1250\u001b[0m \u001b[32m━━━━━━━━━━━━━━━━━━━━\u001b[0m\u001b[37m\u001b[0m \u001b[1m5s\u001b[0m 4ms/step - categorical_accuracy: 0.6545 - loss: 0.9900 - val_categorical_accuracy: 0.5298 - val_loss: 1.3703 - learning_rate: 1.0000e-04\n",
            "Epoch 15/32\n",
            "\u001b[1m1250/1250\u001b[0m \u001b[32m━━━━━━━━━━━━━━━━━━━━\u001b[0m\u001b[37m\u001b[0m \u001b[1m10s\u001b[0m 4ms/step - categorical_accuracy: 0.6507 - loss: 0.9845 - val_categorical_accuracy: 0.5316 - val_loss: 1.3645 - learning_rate: 1.0000e-05\n",
            "Epoch 16/32\n",
            "\u001b[1m1250/1250\u001b[0m \u001b[32m━━━━━━━━━━━━━━━━━━━━\u001b[0m\u001b[37m\u001b[0m \u001b[1m5s\u001b[0m 4ms/step - categorical_accuracy: 0.6528 - loss: 0.9742 - val_categorical_accuracy: 0.5313 - val_loss: 1.3639 - learning_rate: 1.0000e-05\n",
            "Epoch 17/32\n",
            "\u001b[1m1250/1250\u001b[0m \u001b[32m━━━━━━━━━━━━━━━━━━━━\u001b[0m\u001b[37m\u001b[0m \u001b[1m10s\u001b[0m 4ms/step - categorical_accuracy: 0.6581 - loss: 0.9685 - val_categorical_accuracy: 0.5332 - val_loss: 1.3644 - learning_rate: 1.0000e-05\n",
            "Epoch 18/32\n",
            "\u001b[1m1250/1250\u001b[0m \u001b[32m━━━━━━━━━━━━━━━━━━━━\u001b[0m\u001b[37m\u001b[0m \u001b[1m10s\u001b[0m 4ms/step - categorical_accuracy: 0.6525 - loss: 0.9815 - val_categorical_accuracy: 0.5335 - val_loss: 1.3665 - learning_rate: 1.0000e-05\n",
            "Epoch 19/32\n",
            "\u001b[1m1250/1250\u001b[0m \u001b[32m━━━━━━━━━━━━━━━━━━━━\u001b[0m\u001b[37m\u001b[0m \u001b[1m5s\u001b[0m 4ms/step - categorical_accuracy: 0.6558 - loss: 0.9698 - val_categorical_accuracy: 0.5316 - val_loss: 1.3670 - learning_rate: 1.0000e-05\n",
            "Epoch 20/32\n",
            "\u001b[1m1250/1250\u001b[0m \u001b[32m━━━━━━━━━━━━━━━━━━━━\u001b[0m\u001b[37m\u001b[0m \u001b[1m5s\u001b[0m 4ms/step - categorical_accuracy: 0.6568 - loss: 0.9749 - val_categorical_accuracy: 0.5327 - val_loss: 1.3668 - learning_rate: 1.0000e-06\n",
            "Epoch 21/32\n",
            "\u001b[1m1250/1250\u001b[0m \u001b[32m━━━━━━━━━━━━━━━━━━━━\u001b[0m\u001b[37m\u001b[0m \u001b[1m6s\u001b[0m 4ms/step - categorical_accuracy: 0.6555 - loss: 0.9720 - val_categorical_accuracy: 0.5332 - val_loss: 1.3634 - learning_rate: 1.0000e-06\n",
            "Epoch 22/32\n",
            "\u001b[1m1250/1250\u001b[0m \u001b[32m━━━━━━━━━━━━━━━━━━━━\u001b[0m\u001b[37m\u001b[0m \u001b[1m5s\u001b[0m 4ms/step - categorical_accuracy: 0.6571 - loss: 0.9654 - val_categorical_accuracy: 0.5326 - val_loss: 1.3680 - learning_rate: 1.0000e-06\n",
            "Epoch 23/32\n",
            "\u001b[1m1250/1250\u001b[0m \u001b[32m━━━━━━━━━━━━━━━━━━━━\u001b[0m\u001b[37m\u001b[0m \u001b[1m5s\u001b[0m 4ms/step - categorical_accuracy: 0.6578 - loss: 0.9673 - val_categorical_accuracy: 0.5317 - val_loss: 1.3693 - learning_rate: 1.0000e-06\n",
            "Epoch 24/32\n",
            "\u001b[1m1250/1250\u001b[0m \u001b[32m━━━━━━━━━━━━━━━━━━━━\u001b[0m\u001b[37m\u001b[0m \u001b[1m5s\u001b[0m 4ms/step - categorical_accuracy: 0.6538 - loss: 0.9742 - val_categorical_accuracy: 0.5322 - val_loss: 1.3683 - learning_rate: 1.0000e-06\n",
            "Epoch 25/32\n",
            "\u001b[1m1250/1250\u001b[0m \u001b[32m━━━━━━━━━━━━━━━━━━━━\u001b[0m\u001b[37m\u001b[0m \u001b[1m10s\u001b[0m 4ms/step - categorical_accuracy: 0.6538 - loss: 0.9736 - val_categorical_accuracy: 0.5346 - val_loss: 1.3693 - learning_rate: 1.0000e-07\n",
            "Epoch 26/32\n",
            "\u001b[1m1250/1250\u001b[0m \u001b[32m━━━━━━━━━━━━━━━━━━━━\u001b[0m\u001b[37m\u001b[0m \u001b[1m5s\u001b[0m 4ms/step - categorical_accuracy: 0.6586 - loss: 0.9690 - val_categorical_accuracy: 0.5327 - val_loss: 1.3659 - learning_rate: 1.0000e-07\n",
            "Epoch 27/32\n",
            "\u001b[1m1250/1250\u001b[0m \u001b[32m━━━━━━━━━━━━━━━━━━━━\u001b[0m\u001b[37m\u001b[0m \u001b[1m5s\u001b[0m 4ms/step - categorical_accuracy: 0.6545 - loss: 0.9733 - val_categorical_accuracy: 0.5320 - val_loss: 1.3653 - learning_rate: 1.0000e-07\n",
            "Epoch 28/32\n",
            "\u001b[1m1250/1250\u001b[0m \u001b[32m━━━━━━━━━━━━━━━━━━━━\u001b[0m\u001b[37m\u001b[0m \u001b[1m5s\u001b[0m 4ms/step - categorical_accuracy: 0.6566 - loss: 0.9719 - val_categorical_accuracy: 0.5316 - val_loss: 1.3676 - learning_rate: 1.0000e-07\n",
            "Epoch 29/32\n",
            "\u001b[1m1250/1250\u001b[0m \u001b[32m━━━━━━━━━━━━━━━━━━━━\u001b[0m\u001b[37m\u001b[0m \u001b[1m5s\u001b[0m 4ms/step - categorical_accuracy: 0.6509 - loss: 0.9773 - val_categorical_accuracy: 0.5319 - val_loss: 1.3703 - learning_rate: 1.0000e-07\n",
            "Epoch 30/32\n",
            "\u001b[1m1250/1250\u001b[0m \u001b[32m━━━━━━━━━━━━━━━━━━━━\u001b[0m\u001b[37m\u001b[0m \u001b[1m5s\u001b[0m 4ms/step - categorical_accuracy: 0.6569 - loss: 0.9668 - val_categorical_accuracy: 0.5328 - val_loss: 1.3664 - learning_rate: 1.0000e-08\n",
            "Epoch 31/32\n",
            "\u001b[1m1250/1250\u001b[0m \u001b[32m━━━━━━━━━━━━━━━━━━━━\u001b[0m\u001b[37m\u001b[0m \u001b[1m5s\u001b[0m 4ms/step - categorical_accuracy: 0.6529 - loss: 0.9767 - val_categorical_accuracy: 0.5324 - val_loss: 1.3662 - learning_rate: 1.0000e-08\n",
            "Epoch 32/32\n",
            "\u001b[1m1250/1250\u001b[0m \u001b[32m━━━━━━━━━━━━━━━━━━━━\u001b[0m\u001b[37m\u001b[0m \u001b[1m5s\u001b[0m 4ms/step - categorical_accuracy: 0.6575 - loss: 0.9636 - val_categorical_accuracy: 0.5336 - val_loss: 1.3686 - learning_rate: 1.0000e-08\n",
            "Training Model_4 with SGD optimizer\n",
            "Epoch 1/32\n",
            "\u001b[1m1250/1250\u001b[0m \u001b[32m━━━━━━━━━━━━━━━━━━━━\u001b[0m\u001b[37m\u001b[0m \u001b[1m7s\u001b[0m 4ms/step - categorical_accuracy: 0.3686 - loss: 1.7866 - val_categorical_accuracy: 0.4477 - val_loss: 1.5795 - learning_rate: 0.0100\n",
            "Epoch 2/32\n",
            "\u001b[1m1250/1250\u001b[0m \u001b[32m━━━━━━━━━━━━━━━━━━━━\u001b[0m\u001b[37m\u001b[0m \u001b[1m4s\u001b[0m 3ms/step - categorical_accuracy: 0.5169 - loss: 1.3742 - val_categorical_accuracy: 0.5350 - val_loss: 1.3199 - learning_rate: 0.0100\n",
            "Epoch 3/32\n",
            "\u001b[1m1250/1250\u001b[0m \u001b[32m━━━━━━━━━━━━━━━━━━━━\u001b[0m\u001b[37m\u001b[0m \u001b[1m4s\u001b[0m 4ms/step - categorical_accuracy: 0.5656 - loss: 1.2377 - val_categorical_accuracy: 0.5527 - val_loss: 1.2860 - learning_rate: 0.0100\n",
            "Epoch 4/32\n",
            "\u001b[1m1250/1250\u001b[0m \u001b[32m━━━━━━━━━━━━━━━━━━━━\u001b[0m\u001b[37m\u001b[0m \u001b[1m4s\u001b[0m 3ms/step - categorical_accuracy: 0.5928 - loss: 1.1591 - val_categorical_accuracy: 0.4157 - val_loss: 1.8877 - learning_rate: 0.0100\n",
            "Epoch 5/32\n",
            "\u001b[1m1250/1250\u001b[0m \u001b[32m━━━━━━━━━━━━━━━━━━━━\u001b[0m\u001b[37m\u001b[0m \u001b[1m5s\u001b[0m 3ms/step - categorical_accuracy: 0.6153 - loss: 1.0870 - val_categorical_accuracy: 0.5426 - val_loss: 1.2785 - learning_rate: 0.0100\n",
            "Epoch 6/32\n",
            "\u001b[1m1250/1250\u001b[0m \u001b[32m━━━━━━━━━━━━━━━━━━━━\u001b[0m\u001b[37m\u001b[0m \u001b[1m5s\u001b[0m 3ms/step - categorical_accuracy: 0.6351 - loss: 1.0437 - val_categorical_accuracy: 0.5598 - val_loss: 1.2894 - learning_rate: 0.0100\n",
            "Epoch 7/32\n",
            "\u001b[1m1250/1250\u001b[0m \u001b[32m━━━━━━━━━━━━━━━━━━━━\u001b[0m\u001b[37m\u001b[0m \u001b[1m5s\u001b[0m 3ms/step - categorical_accuracy: 0.6488 - loss: 1.0120 - val_categorical_accuracy: 0.6099 - val_loss: 1.1157 - learning_rate: 0.0100\n",
            "Epoch 8/32\n",
            "\u001b[1m1250/1250\u001b[0m \u001b[32m━━━━━━━━━━━━━━━━━━━━\u001b[0m\u001b[37m\u001b[0m \u001b[1m5s\u001b[0m 4ms/step - categorical_accuracy: 0.6670 - loss: 0.9579 - val_categorical_accuracy: 0.6061 - val_loss: 1.1308 - learning_rate: 0.0100\n",
            "Epoch 9/32\n",
            "\u001b[1m1250/1250\u001b[0m \u001b[32m━━━━━━━━━━━━━━━━━━━━\u001b[0m\u001b[37m\u001b[0m \u001b[1m4s\u001b[0m 3ms/step - categorical_accuracy: 0.6792 - loss: 0.9237 - val_categorical_accuracy: 0.5937 - val_loss: 1.1722 - learning_rate: 0.0100\n",
            "Epoch 10/32\n",
            "\u001b[1m1250/1250\u001b[0m \u001b[32m━━━━━━━━━━━━━━━━━━━━\u001b[0m\u001b[37m\u001b[0m \u001b[1m4s\u001b[0m 3ms/step - categorical_accuracy: 0.6897 - loss: 0.8872 - val_categorical_accuracy: 0.5349 - val_loss: 1.3845 - learning_rate: 0.0100\n",
            "Epoch 11/32\n",
            "\u001b[1m1250/1250\u001b[0m \u001b[32m━━━━━━━━━━━━━━━━━━━━\u001b[0m\u001b[37m\u001b[0m \u001b[1m6s\u001b[0m 4ms/step - categorical_accuracy: 0.6953 - loss: 0.8689 - val_categorical_accuracy: 0.5760 - val_loss: 1.2461 - learning_rate: 0.0100\n",
            "Epoch 12/32\n",
            "\u001b[1m1250/1250\u001b[0m \u001b[32m━━━━━━━━━━━━━━━━━━━━\u001b[0m\u001b[37m\u001b[0m \u001b[1m4s\u001b[0m 3ms/step - categorical_accuracy: 0.7059 - loss: 0.8403 - val_categorical_accuracy: 0.6167 - val_loss: 1.1218 - learning_rate: 0.0100\n",
            "Epoch 13/32\n",
            "\u001b[1m1250/1250\u001b[0m \u001b[32m━━━━━━━━━━━━━━━━━━━━\u001b[0m\u001b[37m\u001b[0m \u001b[1m5s\u001b[0m 3ms/step - categorical_accuracy: 0.7448 - loss: 0.7573 - val_categorical_accuracy: 0.6440 - val_loss: 1.0470 - learning_rate: 1.0000e-03\n",
            "Epoch 14/32\n",
            "\u001b[1m1250/1250\u001b[0m \u001b[32m━━━━━━━━━━━━━━━━━━━━\u001b[0m\u001b[37m\u001b[0m \u001b[1m5s\u001b[0m 4ms/step - categorical_accuracy: 0.7506 - loss: 0.7416 - val_categorical_accuracy: 0.6425 - val_loss: 1.0448 - learning_rate: 1.0000e-03\n",
            "Epoch 15/32\n",
            "\u001b[1m1250/1250\u001b[0m \u001b[32m━━━━━━━━━━━━━━━━━━━━\u001b[0m\u001b[37m\u001b[0m \u001b[1m4s\u001b[0m 3ms/step - categorical_accuracy: 0.7585 - loss: 0.7250 - val_categorical_accuracy: 0.6408 - val_loss: 1.0456 - learning_rate: 1.0000e-03\n",
            "Epoch 16/32\n",
            "\u001b[1m1250/1250\u001b[0m \u001b[32m━━━━━━━━━━━━━━━━━━━━\u001b[0m\u001b[37m\u001b[0m \u001b[1m4s\u001b[0m 3ms/step - categorical_accuracy: 0.7522 - loss: 0.7323 - val_categorical_accuracy: 0.6398 - val_loss: 1.0548 - learning_rate: 1.0000e-03\n",
            "Epoch 17/32\n",
            "\u001b[1m1250/1250\u001b[0m \u001b[32m━━━━━━━━━━━━━━━━━━━━\u001b[0m\u001b[37m\u001b[0m \u001b[1m5s\u001b[0m 4ms/step - categorical_accuracy: 0.7502 - loss: 0.7353 - val_categorical_accuracy: 0.6443 - val_loss: 1.0376 - learning_rate: 1.0000e-03\n",
            "Epoch 18/32\n",
            "\u001b[1m1250/1250\u001b[0m \u001b[32m━━━━━━━━━━━━━━━━━━━━\u001b[0m\u001b[37m\u001b[0m \u001b[1m4s\u001b[0m 3ms/step - categorical_accuracy: 0.7501 - loss: 0.7314 - val_categorical_accuracy: 0.6437 - val_loss: 1.0503 - learning_rate: 1.0000e-03\n",
            "Epoch 19/32\n",
            "\u001b[1m1250/1250\u001b[0m \u001b[32m━━━━━━━━━━━━━━━━━━━━\u001b[0m\u001b[37m\u001b[0m \u001b[1m5s\u001b[0m 3ms/step - categorical_accuracy: 0.7605 - loss: 0.7203 - val_categorical_accuracy: 0.6409 - val_loss: 1.0538 - learning_rate: 1.0000e-03\n",
            "Epoch 20/32\n",
            "\u001b[1m1250/1250\u001b[0m \u001b[32m━━━━━━━━━━━━━━━━━━━━\u001b[0m\u001b[37m\u001b[0m \u001b[1m6s\u001b[0m 3ms/step - categorical_accuracy: 0.7572 - loss: 0.7185 - val_categorical_accuracy: 0.6446 - val_loss: 1.0452 - learning_rate: 1.0000e-03\n",
            "Epoch 21/32\n",
            "\u001b[1m1250/1250\u001b[0m \u001b[32m━━━━━━━━━━━━━━━━━━━━\u001b[0m\u001b[37m\u001b[0m \u001b[1m4s\u001b[0m 3ms/step - categorical_accuracy: 0.7618 - loss: 0.7074 - val_categorical_accuracy: 0.6412 - val_loss: 1.0539 - learning_rate: 1.0000e-03\n",
            "Epoch 22/32\n",
            "\u001b[1m1250/1250\u001b[0m \u001b[32m━━━━━━━━━━━━━━━━━━━━\u001b[0m\u001b[37m\u001b[0m \u001b[1m5s\u001b[0m 4ms/step - categorical_accuracy: 0.7653 - loss: 0.7043 - val_categorical_accuracy: 0.6434 - val_loss: 1.0463 - learning_rate: 1.0000e-03\n",
            "Epoch 23/32\n",
            "\u001b[1m1250/1250\u001b[0m \u001b[32m━━━━━━━━━━━━━━━━━━━━\u001b[0m\u001b[37m\u001b[0m \u001b[1m9s\u001b[0m 3ms/step - categorical_accuracy: 0.7665 - loss: 0.6947 - val_categorical_accuracy: 0.6487 - val_loss: 1.0369 - learning_rate: 1.0000e-04\n",
            "Epoch 24/32\n",
            "\u001b[1m1250/1250\u001b[0m \u001b[32m━━━━━━━━━━━━━━━━━━━━\u001b[0m\u001b[37m\u001b[0m \u001b[1m5s\u001b[0m 4ms/step - categorical_accuracy: 0.7661 - loss: 0.6940 - val_categorical_accuracy: 0.6471 - val_loss: 1.0399 - learning_rate: 1.0000e-04\n",
            "Epoch 25/32\n",
            "\u001b[1m1250/1250\u001b[0m \u001b[32m━━━━━━━━━━━━━━━━━━━━\u001b[0m\u001b[37m\u001b[0m \u001b[1m4s\u001b[0m 3ms/step - categorical_accuracy: 0.7684 - loss: 0.6932 - val_categorical_accuracy: 0.6497 - val_loss: 1.0371 - learning_rate: 1.0000e-04\n",
            "Epoch 26/32\n",
            "\u001b[1m1250/1250\u001b[0m \u001b[32m━━━━━━━━━━━━━━━━━━━━\u001b[0m\u001b[37m\u001b[0m \u001b[1m5s\u001b[0m 3ms/step - categorical_accuracy: 0.7688 - loss: 0.6891 - val_categorical_accuracy: 0.6479 - val_loss: 1.0382 - learning_rate: 1.0000e-04\n",
            "Epoch 27/32\n",
            "\u001b[1m1250/1250\u001b[0m \u001b[32m━━━━━━━━━━━━━━━━━━━━\u001b[0m\u001b[37m\u001b[0m \u001b[1m5s\u001b[0m 3ms/step - categorical_accuracy: 0.7655 - loss: 0.6986 - val_categorical_accuracy: 0.6471 - val_loss: 1.0383 - learning_rate: 1.0000e-04\n",
            "Epoch 28/32\n",
            "\u001b[1m1250/1250\u001b[0m \u001b[32m━━━━━━━━━━━━━━━━━━━━\u001b[0m\u001b[37m\u001b[0m \u001b[1m4s\u001b[0m 3ms/step - categorical_accuracy: 0.7657 - loss: 0.6978 - val_categorical_accuracy: 0.6496 - val_loss: 1.0370 - learning_rate: 1.0000e-05\n",
            "Epoch 29/32\n",
            "\u001b[1m1250/1250\u001b[0m \u001b[32m━━━━━━━━━━━━━━━━━━━━\u001b[0m\u001b[37m\u001b[0m \u001b[1m5s\u001b[0m 4ms/step - categorical_accuracy: 0.7697 - loss: 0.6918 - val_categorical_accuracy: 0.6483 - val_loss: 1.0375 - learning_rate: 1.0000e-05\n",
            "Epoch 30/32\n",
            "\u001b[1m1250/1250\u001b[0m \u001b[32m━━━━━━━━━━━━━━━━━━━━\u001b[0m\u001b[37m\u001b[0m \u001b[1m4s\u001b[0m 3ms/step - categorical_accuracy: 0.7675 - loss: 0.6963 - val_categorical_accuracy: 0.6467 - val_loss: 1.0380 - learning_rate: 1.0000e-05\n",
            "Epoch 31/32\n",
            "\u001b[1m1250/1250\u001b[0m \u001b[32m━━━━━━━━━━━━━━━━━━━━\u001b[0m\u001b[37m\u001b[0m \u001b[1m4s\u001b[0m 3ms/step - categorical_accuracy: 0.7712 - loss: 0.6915 - val_categorical_accuracy: 0.6474 - val_loss: 1.0373 - learning_rate: 1.0000e-05\n",
            "Epoch 32/32\n",
            "\u001b[1m1250/1250\u001b[0m \u001b[32m━━━━━━━━━━━━━━━━━━━━\u001b[0m\u001b[37m\u001b[0m \u001b[1m6s\u001b[0m 4ms/step - categorical_accuracy: 0.7704 - loss: 0.6897 - val_categorical_accuracy: 0.6482 - val_loss: 1.0372 - learning_rate: 1.0000e-05\n",
            "Training Model_4 with Adam optimizer\n",
            "Epoch 1/32\n",
            "\u001b[1m1250/1250\u001b[0m \u001b[32m━━━━━━━━━━━━━━━━━━━━\u001b[0m\u001b[37m\u001b[0m \u001b[1m8s\u001b[0m 4ms/step - categorical_accuracy: 0.4442 - loss: 1.5789 - val_categorical_accuracy: 0.5012 - val_loss: 1.4229 - learning_rate: 0.0010\n",
            "Epoch 2/32\n",
            "\u001b[1m1250/1250\u001b[0m \u001b[32m━━━━━━━━━━━━━━━━━━━━\u001b[0m\u001b[37m\u001b[0m \u001b[1m8s\u001b[0m 3ms/step - categorical_accuracy: 0.5997 - loss: 1.1399 - val_categorical_accuracy: 0.5529 - val_loss: 1.2640 - learning_rate: 0.0010\n",
            "Epoch 3/32\n",
            "\u001b[1m1250/1250\u001b[0m \u001b[32m━━━━━━━━━━━━━━━━━━━━\u001b[0m\u001b[37m\u001b[0m \u001b[1m4s\u001b[0m 3ms/step - categorical_accuracy: 0.6417 - loss: 1.0144 - val_categorical_accuracy: 0.5531 - val_loss: 1.2947 - learning_rate: 0.0010\n",
            "Epoch 4/32\n",
            "\u001b[1m1250/1250\u001b[0m \u001b[32m━━━━━━━━━━━━━━━━━━━━\u001b[0m\u001b[37m\u001b[0m \u001b[1m5s\u001b[0m 4ms/step - categorical_accuracy: 0.6760 - loss: 0.9234 - val_categorical_accuracy: 0.5827 - val_loss: 1.2073 - learning_rate: 0.0010\n",
            "Epoch 5/32\n",
            "\u001b[1m1250/1250\u001b[0m \u001b[32m━━━━━━━━━━━━━━━━━━━━\u001b[0m\u001b[37m\u001b[0m \u001b[1m4s\u001b[0m 3ms/step - categorical_accuracy: 0.7044 - loss: 0.8485 - val_categorical_accuracy: 0.5760 - val_loss: 1.2560 - learning_rate: 0.0010\n",
            "Epoch 6/32\n",
            "\u001b[1m1250/1250\u001b[0m \u001b[32m━━━━━━━━━━━━━━━━━━━━\u001b[0m\u001b[37m\u001b[0m \u001b[1m4s\u001b[0m 3ms/step - categorical_accuracy: 0.7302 - loss: 0.7711 - val_categorical_accuracy: 0.6324 - val_loss: 1.0784 - learning_rate: 0.0010\n",
            "Epoch 7/32\n",
            "\u001b[1m1250/1250\u001b[0m \u001b[32m━━━━━━━━━━━━━━━━━━━━\u001b[0m\u001b[37m\u001b[0m \u001b[1m5s\u001b[0m 4ms/step - categorical_accuracy: 0.7552 - loss: 0.7075 - val_categorical_accuracy: 0.5593 - val_loss: 1.3645 - learning_rate: 0.0010\n",
            "Epoch 8/32\n",
            "\u001b[1m1250/1250\u001b[0m \u001b[32m━━━━━━━━━━━━━━━━━━━━\u001b[0m\u001b[37m\u001b[0m \u001b[1m4s\u001b[0m 3ms/step - categorical_accuracy: 0.7698 - loss: 0.6683 - val_categorical_accuracy: 0.5788 - val_loss: 1.4047 - learning_rate: 0.0010\n",
            "Epoch 9/32\n",
            "\u001b[1m1250/1250\u001b[0m \u001b[32m━━━━━━━━━━━━━━━━━━━━\u001b[0m\u001b[37m\u001b[0m \u001b[1m6s\u001b[0m 4ms/step - categorical_accuracy: 0.7813 - loss: 0.6290 - val_categorical_accuracy: 0.5965 - val_loss: 1.2897 - learning_rate: 0.0010\n",
            "Epoch 10/32\n",
            "\u001b[1m1250/1250\u001b[0m \u001b[32m━━━━━━━━━━━━━━━━━━━━\u001b[0m\u001b[37m\u001b[0m \u001b[1m4s\u001b[0m 4ms/step - categorical_accuracy: 0.7992 - loss: 0.5780 - val_categorical_accuracy: 0.5569 - val_loss: 1.5357 - learning_rate: 0.0010\n",
            "Epoch 11/32\n",
            "\u001b[1m1250/1250\u001b[0m \u001b[32m━━━━━━━━━━━━━━━━━━━━\u001b[0m\u001b[37m\u001b[0m \u001b[1m5s\u001b[0m 3ms/step - categorical_accuracy: 0.8096 - loss: 0.5448 - val_categorical_accuracy: 0.5557 - val_loss: 1.6267 - learning_rate: 0.0010\n",
            "Epoch 12/32\n",
            "\u001b[1m1250/1250\u001b[0m \u001b[32m━━━━━━━━━━━━━━━━━━━━\u001b[0m\u001b[37m\u001b[0m \u001b[1m5s\u001b[0m 4ms/step - categorical_accuracy: 0.8551 - loss: 0.4429 - val_categorical_accuracy: 0.6568 - val_loss: 1.0953 - learning_rate: 1.0000e-04\n",
            "Epoch 13/32\n",
            "\u001b[1m1250/1250\u001b[0m \u001b[32m━━━━━━━━━━━━━━━━━━━━\u001b[0m\u001b[37m\u001b[0m \u001b[1m4s\u001b[0m 3ms/step - categorical_accuracy: 0.8729 - loss: 0.4058 - val_categorical_accuracy: 0.6495 - val_loss: 1.1048 - learning_rate: 1.0000e-04\n",
            "Epoch 14/32\n",
            "\u001b[1m1250/1250\u001b[0m \u001b[32m━━━━━━━━━━━━━━━━━━━━\u001b[0m\u001b[37m\u001b[0m \u001b[1m5s\u001b[0m 3ms/step - categorical_accuracy: 0.8780 - loss: 0.3841 - val_categorical_accuracy: 0.6556 - val_loss: 1.1077 - learning_rate: 1.0000e-04\n",
            "Epoch 15/32\n",
            "\u001b[1m1250/1250\u001b[0m \u001b[32m━━━━━━━━━━━━━━━━━━━━\u001b[0m\u001b[37m\u001b[0m \u001b[1m6s\u001b[0m 4ms/step - categorical_accuracy: 0.8821 - loss: 0.3742 - val_categorical_accuracy: 0.6533 - val_loss: 1.1169 - learning_rate: 1.0000e-04\n",
            "Epoch 16/32\n",
            "\u001b[1m1250/1250\u001b[0m \u001b[32m━━━━━━━━━━━━━━━━━━━━\u001b[0m\u001b[37m\u001b[0m \u001b[1m4s\u001b[0m 3ms/step - categorical_accuracy: 0.8864 - loss: 0.3622 - val_categorical_accuracy: 0.6492 - val_loss: 1.1467 - learning_rate: 1.0000e-04\n",
            "Epoch 17/32\n",
            "\u001b[1m1250/1250\u001b[0m \u001b[32m━━━━━━━━━━━━━━━━━━━━\u001b[0m\u001b[37m\u001b[0m \u001b[1m6s\u001b[0m 4ms/step - categorical_accuracy: 0.8958 - loss: 0.3452 - val_categorical_accuracy: 0.6550 - val_loss: 1.1198 - learning_rate: 1.0000e-05\n",
            "Epoch 18/32\n",
            "\u001b[1m1250/1250\u001b[0m \u001b[32m━━━━━━━━━━━━━━━━━━━━\u001b[0m\u001b[37m\u001b[0m \u001b[1m4s\u001b[0m 3ms/step - categorical_accuracy: 0.8951 - loss: 0.3417 - val_categorical_accuracy: 0.6547 - val_loss: 1.1222 - learning_rate: 1.0000e-05\n",
            "Epoch 19/32\n",
            "\u001b[1m1250/1250\u001b[0m \u001b[32m━━━━━━━━━━━━━━━━━━━━\u001b[0m\u001b[37m\u001b[0m \u001b[1m4s\u001b[0m 3ms/step - categorical_accuracy: 0.8962 - loss: 0.3410 - val_categorical_accuracy: 0.6547 - val_loss: 1.1232 - learning_rate: 1.0000e-05\n",
            "Epoch 20/32\n",
            "\u001b[1m1250/1250\u001b[0m \u001b[32m━━━━━━━━━━━━━━━━━━━━\u001b[0m\u001b[37m\u001b[0m \u001b[1m6s\u001b[0m 4ms/step - categorical_accuracy: 0.8975 - loss: 0.3438 - val_categorical_accuracy: 0.6539 - val_loss: 1.1235 - learning_rate: 1.0000e-05\n",
            "Epoch 21/32\n",
            "\u001b[1m1250/1250\u001b[0m \u001b[32m━━━━━━━━━━━━━━━━━━━━\u001b[0m\u001b[37m\u001b[0m \u001b[1m4s\u001b[0m 3ms/step - categorical_accuracy: 0.8937 - loss: 0.3431 - val_categorical_accuracy: 0.6551 - val_loss: 1.1236 - learning_rate: 1.0000e-05\n",
            "Epoch 22/32\n",
            "\u001b[1m1250/1250\u001b[0m \u001b[32m━━━━━━━━━━━━━━━━━━━━\u001b[0m\u001b[37m\u001b[0m \u001b[1m6s\u001b[0m 4ms/step - categorical_accuracy: 0.9003 - loss: 0.3379 - val_categorical_accuracy: 0.6545 - val_loss: 1.1230 - learning_rate: 1.0000e-06\n",
            "Epoch 23/32\n",
            "\u001b[1m1250/1250\u001b[0m \u001b[32m━━━━━━━━━━━━━━━━━━━━\u001b[0m\u001b[37m\u001b[0m \u001b[1m4s\u001b[0m 3ms/step - categorical_accuracy: 0.8980 - loss: 0.3357 - val_categorical_accuracy: 0.6548 - val_loss: 1.1230 - learning_rate: 1.0000e-06\n",
            "Epoch 24/32\n",
            "\u001b[1m1250/1250\u001b[0m \u001b[32m━━━━━━━━━━━━━━━━━━━━\u001b[0m\u001b[37m\u001b[0m \u001b[1m5s\u001b[0m 3ms/step - categorical_accuracy: 0.8943 - loss: 0.3440 - val_categorical_accuracy: 0.6533 - val_loss: 1.1258 - learning_rate: 1.0000e-06\n",
            "Epoch 25/32\n",
            "\u001b[1m1250/1250\u001b[0m \u001b[32m━━━━━━━━━━━━━━━━━━━━\u001b[0m\u001b[37m\u001b[0m \u001b[1m5s\u001b[0m 4ms/step - categorical_accuracy: 0.8990 - loss: 0.3340 - val_categorical_accuracy: 0.6547 - val_loss: 1.1246 - learning_rate: 1.0000e-06\n",
            "Epoch 26/32\n",
            "\u001b[1m1250/1250\u001b[0m \u001b[32m━━━━━━━━━━━━━━━━━━━━\u001b[0m\u001b[37m\u001b[0m \u001b[1m4s\u001b[0m 3ms/step - categorical_accuracy: 0.8990 - loss: 0.3401 - val_categorical_accuracy: 0.6545 - val_loss: 1.1243 - learning_rate: 1.0000e-06\n",
            "Epoch 27/32\n",
            "\u001b[1m1250/1250\u001b[0m \u001b[32m━━━━━━━━━━━━━━━━━━━━\u001b[0m\u001b[37m\u001b[0m \u001b[1m4s\u001b[0m 3ms/step - categorical_accuracy: 0.8927 - loss: 0.3439 - val_categorical_accuracy: 0.6547 - val_loss: 1.1258 - learning_rate: 1.0000e-07\n",
            "Epoch 28/32\n",
            "\u001b[1m1250/1250\u001b[0m \u001b[32m━━━━━━━━━━━━━━━━━━━━\u001b[0m\u001b[37m\u001b[0m \u001b[1m5s\u001b[0m 4ms/step - categorical_accuracy: 0.8964 - loss: 0.3383 - val_categorical_accuracy: 0.6546 - val_loss: 1.1255 - learning_rate: 1.0000e-07\n",
            "Epoch 29/32\n",
            "\u001b[1m1250/1250\u001b[0m \u001b[32m━━━━━━━━━━━━━━━━━━━━\u001b[0m\u001b[37m\u001b[0m \u001b[1m4s\u001b[0m 3ms/step - categorical_accuracy: 0.8982 - loss: 0.3409 - val_categorical_accuracy: 0.6559 - val_loss: 1.1272 - learning_rate: 1.0000e-07\n",
            "Epoch 30/32\n",
            "\u001b[1m1250/1250\u001b[0m \u001b[32m━━━━━━━━━━━━━━━━━━━━\u001b[0m\u001b[37m\u001b[0m \u001b[1m4s\u001b[0m 3ms/step - categorical_accuracy: 0.8976 - loss: 0.3376 - val_categorical_accuracy: 0.6538 - val_loss: 1.1242 - learning_rate: 1.0000e-07\n",
            "Epoch 31/32\n",
            "\u001b[1m1250/1250\u001b[0m \u001b[32m━━━━━━━━━━━━━━━━━━━━\u001b[0m\u001b[37m\u001b[0m \u001b[1m5s\u001b[0m 4ms/step - categorical_accuracy: 0.8968 - loss: 0.3386 - val_categorical_accuracy: 0.6544 - val_loss: 1.1261 - learning_rate: 1.0000e-07\n",
            "Epoch 32/32\n",
            "\u001b[1m1250/1250\u001b[0m \u001b[32m━━━━━━━━━━━━━━━━━━━━\u001b[0m\u001b[37m\u001b[0m \u001b[1m4s\u001b[0m 3ms/step - categorical_accuracy: 0.9007 - loss: 0.3284 - val_categorical_accuracy: 0.6541 - val_loss: 1.1232 - learning_rate: 1.0000e-08\n",
            "Training Model_4 with RMSprop optimizer\n",
            "Epoch 1/32\n",
            "\u001b[1m1250/1250\u001b[0m \u001b[32m━━━━━━━━━━━━━━━━━━━━\u001b[0m\u001b[37m\u001b[0m \u001b[1m8s\u001b[0m 5ms/step - categorical_accuracy: 0.4412 - loss: 1.5958 - val_categorical_accuracy: 0.3757 - val_loss: 1.9447 - learning_rate: 0.0010\n",
            "Epoch 2/32\n",
            "\u001b[1m1250/1250\u001b[0m \u001b[32m━━━━━━━━━━━━━━━━━━━━\u001b[0m\u001b[37m\u001b[0m \u001b[1m4s\u001b[0m 3ms/step - categorical_accuracy: 0.5963 - loss: 1.1503 - val_categorical_accuracy: 0.5760 - val_loss: 1.2090 - learning_rate: 0.0010\n",
            "Epoch 3/32\n",
            "\u001b[1m1250/1250\u001b[0m \u001b[32m━━━━━━━━━━━━━━━━━━━━\u001b[0m\u001b[37m\u001b[0m \u001b[1m4s\u001b[0m 3ms/step - categorical_accuracy: 0.6446 - loss: 1.0131 - val_categorical_accuracy: 0.5917 - val_loss: 1.1455 - learning_rate: 0.0010\n",
            "Epoch 4/32\n",
            "\u001b[1m1250/1250\u001b[0m \u001b[32m━━━━━━━━━━━━━━━━━━━━\u001b[0m\u001b[37m\u001b[0m \u001b[1m5s\u001b[0m 4ms/step - categorical_accuracy: 0.6781 - loss: 0.9153 - val_categorical_accuracy: 0.5829 - val_loss: 1.2337 - learning_rate: 0.0010\n",
            "Epoch 5/32\n",
            "\u001b[1m1250/1250\u001b[0m \u001b[32m━━━━━━━━━━━━━━━━━━━━\u001b[0m\u001b[37m\u001b[0m \u001b[1m4s\u001b[0m 3ms/step - categorical_accuracy: 0.6951 - loss: 0.8624 - val_categorical_accuracy: 0.5767 - val_loss: 1.2708 - learning_rate: 0.0010\n",
            "Epoch 6/32\n",
            "\u001b[1m1250/1250\u001b[0m \u001b[32m━━━━━━━━━━━━━━━━━━━━\u001b[0m\u001b[37m\u001b[0m \u001b[1m5s\u001b[0m 3ms/step - categorical_accuracy: 0.7260 - loss: 0.7856 - val_categorical_accuracy: 0.6060 - val_loss: 1.2101 - learning_rate: 0.0010\n",
            "Epoch 7/32\n",
            "\u001b[1m1250/1250\u001b[0m \u001b[32m━━━━━━━━━━━━━━━━━━━━\u001b[0m\u001b[37m\u001b[0m \u001b[1m5s\u001b[0m 4ms/step - categorical_accuracy: 0.7492 - loss: 0.7252 - val_categorical_accuracy: 0.6256 - val_loss: 1.1124 - learning_rate: 0.0010\n",
            "Epoch 8/32\n",
            "\u001b[1m1250/1250\u001b[0m \u001b[32m━━━━━━━━━━━━━━━━━━━━\u001b[0m\u001b[37m\u001b[0m \u001b[1m4s\u001b[0m 3ms/step - categorical_accuracy: 0.7625 - loss: 0.6876 - val_categorical_accuracy: 0.5959 - val_loss: 1.2545 - learning_rate: 0.0010\n",
            "Epoch 9/32\n",
            "\u001b[1m1250/1250\u001b[0m \u001b[32m━━━━━━━━━━━━━━━━━━━━\u001b[0m\u001b[37m\u001b[0m \u001b[1m4s\u001b[0m 3ms/step - categorical_accuracy: 0.7792 - loss: 0.6366 - val_categorical_accuracy: 0.6247 - val_loss: 1.1342 - learning_rate: 0.0010\n",
            "Epoch 10/32\n",
            "\u001b[1m1250/1250\u001b[0m \u001b[32m━━━━━━━━━━━━━━━━━━━━\u001b[0m\u001b[37m\u001b[0m \u001b[1m5s\u001b[0m 4ms/step - categorical_accuracy: 0.7945 - loss: 0.5908 - val_categorical_accuracy: 0.5512 - val_loss: 1.5877 - learning_rate: 0.0010\n",
            "Epoch 11/32\n",
            "\u001b[1m1250/1250\u001b[0m \u001b[32m━━━━━━━━━━━━━━━━━━━━\u001b[0m\u001b[37m\u001b[0m \u001b[1m4s\u001b[0m 3ms/step - categorical_accuracy: 0.8071 - loss: 0.5603 - val_categorical_accuracy: 0.6283 - val_loss: 1.1638 - learning_rate: 0.0010\n",
            "Epoch 12/32\n",
            "\u001b[1m1250/1250\u001b[0m \u001b[32m━━━━━━━━━━━━━━━━━━━━\u001b[0m\u001b[37m\u001b[0m \u001b[1m6s\u001b[0m 4ms/step - categorical_accuracy: 0.8162 - loss: 0.5357 - val_categorical_accuracy: 0.5812 - val_loss: 1.4575 - learning_rate: 0.0010\n",
            "Epoch 13/32\n",
            "\u001b[1m1250/1250\u001b[0m \u001b[32m━━━━━━━━━━━━━━━━━━━━\u001b[0m\u001b[37m\u001b[0m \u001b[1m4s\u001b[0m 3ms/step - categorical_accuracy: 0.8594 - loss: 0.4247 - val_categorical_accuracy: 0.6430 - val_loss: 1.1576 - learning_rate: 1.0000e-04\n",
            "Epoch 14/32\n",
            "\u001b[1m1250/1250\u001b[0m \u001b[32m━━━━━━━━━━━━━━━━━━━━\u001b[0m\u001b[37m\u001b[0m \u001b[1m5s\u001b[0m 4ms/step - categorical_accuracy: 0.8744 - loss: 0.3867 - val_categorical_accuracy: 0.6425 - val_loss: 1.1590 - learning_rate: 1.0000e-04\n",
            "Epoch 15/32\n",
            "\u001b[1m1250/1250\u001b[0m \u001b[32m━━━━━━━━━━━━━━━━━━━━\u001b[0m\u001b[37m\u001b[0m \u001b[1m5s\u001b[0m 4ms/step - categorical_accuracy: 0.8843 - loss: 0.3653 - val_categorical_accuracy: 0.6334 - val_loss: 1.2287 - learning_rate: 1.0000e-04\n",
            "Epoch 16/32\n",
            "\u001b[1m1250/1250\u001b[0m \u001b[32m━━━━━━━━━━━━━━━━━━━━\u001b[0m\u001b[37m\u001b[0m \u001b[1m4s\u001b[0m 3ms/step - categorical_accuracy: 0.8828 - loss: 0.3653 - val_categorical_accuracy: 0.6450 - val_loss: 1.1743 - learning_rate: 1.0000e-04\n",
            "Epoch 17/32\n",
            "\u001b[1m1250/1250\u001b[0m \u001b[32m━━━━━━━━━━━━━━━━━━━━\u001b[0m\u001b[37m\u001b[0m \u001b[1m4s\u001b[0m 3ms/step - categorical_accuracy: 0.8890 - loss: 0.3543 - val_categorical_accuracy: 0.6407 - val_loss: 1.2183 - learning_rate: 1.0000e-04\n",
            "Epoch 18/32\n",
            "\u001b[1m1250/1250\u001b[0m \u001b[32m━━━━━━━━━━━━━━━━━━━━\u001b[0m\u001b[37m\u001b[0m \u001b[1m5s\u001b[0m 4ms/step - categorical_accuracy: 0.8966 - loss: 0.3339 - val_categorical_accuracy: 0.6435 - val_loss: 1.1834 - learning_rate: 1.0000e-05\n",
            "Epoch 19/32\n",
            "\u001b[1m1250/1250\u001b[0m \u001b[32m━━━━━━━━━━━━━━━━━━━━\u001b[0m\u001b[37m\u001b[0m \u001b[1m5s\u001b[0m 3ms/step - categorical_accuracy: 0.8973 - loss: 0.3340 - val_categorical_accuracy: 0.6438 - val_loss: 1.1814 - learning_rate: 1.0000e-05\n",
            "Epoch 20/32\n",
            "\u001b[1m1250/1250\u001b[0m \u001b[32m━━━━━━━━━━━━━━━━━━━━\u001b[0m\u001b[37m\u001b[0m \u001b[1m4s\u001b[0m 3ms/step - categorical_accuracy: 0.8997 - loss: 0.3258 - val_categorical_accuracy: 0.6429 - val_loss: 1.1826 - learning_rate: 1.0000e-05\n",
            "Epoch 21/32\n",
            "\u001b[1m1250/1250\u001b[0m \u001b[32m━━━━━━━━━━━━━━━━━━━━\u001b[0m\u001b[37m\u001b[0m \u001b[1m6s\u001b[0m 4ms/step - categorical_accuracy: 0.8987 - loss: 0.3305 - val_categorical_accuracy: 0.6426 - val_loss: 1.1888 - learning_rate: 1.0000e-05\n",
            "Epoch 22/32\n",
            "\u001b[1m1250/1250\u001b[0m \u001b[32m━━━━━━━━━━━━━━━━━━━━\u001b[0m\u001b[37m\u001b[0m \u001b[1m4s\u001b[0m 3ms/step - categorical_accuracy: 0.8952 - loss: 0.3347 - val_categorical_accuracy: 0.6427 - val_loss: 1.1844 - learning_rate: 1.0000e-05\n",
            "Epoch 23/32\n",
            "\u001b[1m1250/1250\u001b[0m \u001b[32m━━━━━━━━━━━━━━━━━━━━\u001b[0m\u001b[37m\u001b[0m \u001b[1m5s\u001b[0m 3ms/step - categorical_accuracy: 0.8989 - loss: 0.3297 - val_categorical_accuracy: 0.6430 - val_loss: 1.1873 - learning_rate: 1.0000e-06\n",
            "Epoch 24/32\n",
            "\u001b[1m1250/1250\u001b[0m \u001b[32m━━━━━━━━━━━━━━━━━━━━\u001b[0m\u001b[37m\u001b[0m \u001b[1m5s\u001b[0m 4ms/step - categorical_accuracy: 0.8951 - loss: 0.3316 - val_categorical_accuracy: 0.6433 - val_loss: 1.1858 - learning_rate: 1.0000e-06\n",
            "Epoch 25/32\n",
            "\u001b[1m1250/1250\u001b[0m \u001b[32m━━━━━━━━━━━━━━━━━━━━\u001b[0m\u001b[37m\u001b[0m \u001b[1m4s\u001b[0m 3ms/step - categorical_accuracy: 0.8975 - loss: 0.3293 - val_categorical_accuracy: 0.6421 - val_loss: 1.1851 - learning_rate: 1.0000e-06\n",
            "Epoch 26/32\n",
            "\u001b[1m1250/1250\u001b[0m \u001b[32m━━━━━━━━━━━━━━━━━━━━\u001b[0m\u001b[37m\u001b[0m \u001b[1m5s\u001b[0m 4ms/step - categorical_accuracy: 0.8950 - loss: 0.3345 - val_categorical_accuracy: 0.6439 - val_loss: 1.1852 - learning_rate: 1.0000e-06\n",
            "Epoch 27/32\n",
            "\u001b[1m1250/1250\u001b[0m \u001b[32m━━━━━━━━━━━━━━━━━━━━\u001b[0m\u001b[37m\u001b[0m \u001b[1m4s\u001b[0m 3ms/step - categorical_accuracy: 0.8973 - loss: 0.3301 - val_categorical_accuracy: 0.6429 - val_loss: 1.1881 - learning_rate: 1.0000e-06\n",
            "Epoch 28/32\n",
            "\u001b[1m1250/1250\u001b[0m \u001b[32m━━━━━━━━━━━━━━━━━━━━\u001b[0m\u001b[37m\u001b[0m \u001b[1m4s\u001b[0m 3ms/step - categorical_accuracy: 0.8995 - loss: 0.3258 - val_categorical_accuracy: 0.6421 - val_loss: 1.1884 - learning_rate: 1.0000e-07\n",
            "Epoch 29/32\n",
            "\u001b[1m1250/1250\u001b[0m \u001b[32m━━━━━━━━━━━━━━━━━━━━\u001b[0m\u001b[37m\u001b[0m \u001b[1m6s\u001b[0m 4ms/step - categorical_accuracy: 0.8944 - loss: 0.3305 - val_categorical_accuracy: 0.6429 - val_loss: 1.1871 - learning_rate: 1.0000e-07\n",
            "Epoch 30/32\n",
            "\u001b[1m1250/1250\u001b[0m \u001b[32m━━━━━━━━━━━━━━━━━━━━\u001b[0m\u001b[37m\u001b[0m \u001b[1m4s\u001b[0m 3ms/step - categorical_accuracy: 0.8981 - loss: 0.3285 - val_categorical_accuracy: 0.6422 - val_loss: 1.1846 - learning_rate: 1.0000e-07\n",
            "Epoch 31/32\n",
            "\u001b[1m1250/1250\u001b[0m \u001b[32m━━━━━━━━━━━━━━━━━━━━\u001b[0m\u001b[37m\u001b[0m \u001b[1m4s\u001b[0m 3ms/step - categorical_accuracy: 0.8944 - loss: 0.3310 - val_categorical_accuracy: 0.6426 - val_loss: 1.1876 - learning_rate: 1.0000e-07\n",
            "Epoch 32/32\n",
            "\u001b[1m1250/1250\u001b[0m \u001b[32m━━━━━━━━━━━━━━━━━━━━\u001b[0m\u001b[37m\u001b[0m \u001b[1m5s\u001b[0m 4ms/step - categorical_accuracy: 0.8972 - loss: 0.3261 - val_categorical_accuracy: 0.6431 - val_loss: 1.1870 - learning_rate: 1.0000e-07\n"
          ]
        },
        {
          "data": {
            "text/plain": [
              "{('Model_3', 'SGD'): <keras.src.callbacks.history.History at 0x7d42f03329b0>,\n",
              " ('Model_3', 'Adam'): <keras.src.callbacks.history.History at 0x7d4311ff9840>,\n",
              " ('Model_3',\n",
              "  'RMSprop'): <keras.src.callbacks.history.History at 0x7d4310c61900>,\n",
              " ('Model_4', 'SGD'): <keras.src.callbacks.history.History at 0x7d42c569ab00>,\n",
              " ('Model_4', 'Adam'): <keras.src.callbacks.history.History at 0x7d42c6e8e7a0>,\n",
              " ('Model_4',\n",
              "  'RMSprop'): <keras.src.callbacks.history.History at 0x7d42c688ba90>}"
            ]
          },
          "execution_count": 19,
          "metadata": {},
          "output_type": "execute_result"
        }
      ],
      "source": [
        "evaluator_bn = Evaluator(models= dict(list(models_.items())[-2:]), optimizers= optimizers_)\n",
        "evaluator_bn.fit(X_train, y_train, validation_data= (X_val, y_val),\n",
        "                 callbacks= callbacks_train, verbose= 1, max_epochs= 32)"
      ]
    },
    {
      "cell_type": "code",
      "execution_count": null,
      "metadata": {
        "colab": {
          "base_uri": "https://localhost:8080/"
        },
        "id": "wrucjy0UJWgA",
        "outputId": "1e79a491-1cdd-467d-9698-d650cb75014d"
      },
      "outputs": [
        {
          "name": "stdout",
          "output_type": "stream",
          "text": [
            "\u001b[1m313/313\u001b[0m \u001b[32m━━━━━━━━━━━━━━━━━━━━\u001b[0m\u001b[37m\u001b[0m \u001b[1m1s\u001b[0m 2ms/step\n",
            "Final score of Model_3_SGD is 0.5144\n",
            "\u001b[1m313/313\u001b[0m \u001b[32m━━━━━━━━━━━━━━━━━━━━\u001b[0m\u001b[37m\u001b[0m \u001b[1m1s\u001b[0m 2ms/step\n",
            "Final score of Model_3_Adam is 0.5351\n",
            "\u001b[1m313/313\u001b[0m \u001b[32m━━━━━━━━━━━━━━━━━━━━\u001b[0m\u001b[37m\u001b[0m \u001b[1m1s\u001b[0m 2ms/step\n",
            "Final score of Model_3_RMSprop is 0.5336\n",
            "\u001b[1m313/313\u001b[0m \u001b[32m━━━━━━━━━━━━━━━━━━━━\u001b[0m\u001b[37m\u001b[0m \u001b[1m1s\u001b[0m 2ms/step\n",
            "Final score of Model_4_SGD is 0.6482\n",
            "\u001b[1m313/313\u001b[0m \u001b[32m━━━━━━━━━━━━━━━━━━━━\u001b[0m\u001b[37m\u001b[0m \u001b[1m1s\u001b[0m 2ms/step\n",
            "Final score of Model_4_Adam is 0.6541\n",
            "\u001b[1m313/313\u001b[0m \u001b[32m━━━━━━━━━━━━━━━━━━━━\u001b[0m\u001b[37m\u001b[0m \u001b[1m1s\u001b[0m 2ms/step\n",
            "Final score of Model_4_RMSprop is 0.6431\n"
          ]
        }
      ],
      "source": [
        "evaluator_bn.evaluate(X_val, y_val, accuracy_score)"
      ]
    },
    {
      "cell_type": "code",
      "execution_count": null,
      "metadata": {
        "colab": {
          "base_uri": "https://localhost:8080/",
          "height": 807
        },
        "id": "x-G-WbkPJdzn",
        "outputId": "bbfc3d98-7f7f-4ead-c2b5-bc6118eabede"
      },
      "outputs": [
        {
          "data": {
            "image/png": "[encoded data removed]",
            "text/plain": [
              "<Figure size 1200x800 with 1 Axes>"
            ]
          },
          "metadata": {},
          "output_type": "display_data"
        }
      ],
      "source": [
        "evaluator_bn.plot_learning_curves()"
      ]
    },
    {
      "cell_type": "markdown",
      "metadata": {
        "id": "G3Doml67xjev"
      },
      "source": [
        "**Задание 1.5 (опционально)** Посмотрите на batch_size (параметр model.fit) - при большем батче модель будет быстрее проходить эпохи, но с совсем огромным батчом вам потребуется больше эпох для сходимости (т.к. сеть делает меньше шагов за одну эпоху).\n",
        "Найдите такое значение, при котором модель быстрее достигает точности 55%. **Hint**: используйте early stopping callback."
      ]
    },
    {
      "cell_type": "markdown",
      "metadata": {
        "id": "L1GsMtyIxjew"
      },
      "source": [
        "**Задание 1.6 (опционально)** Попробуйте найти такую комбинацию метода обучения и нормализации, при которой сеть имеет наилучшую кривую обучения. Поясните, что вы понимаете под \"наилучшей\" кривой обучения."
      ]
    },
    {
      "cell_type": "markdown",
      "metadata": {
        "id": "4VlHIK2vA36o"
      },
      "source": [
        "**Выводы**\n",
        "1. Нормализация не сильно изменила ситуацию и предельные значения по метрике accurracy на валидационной выборке остались прежними;\n",
        "2. Алгоритмы rmsprop и adam в данных экспериментах оказались более склонны к переобучению в CNN на тренировочных выборках;\n",
        "3. По всей видимости достигнут предел обучения данных архитектур моделей по метрике accurracy"
      ]
    },
    {
      "cell_type": "markdown",
      "metadata": {
        "id": "-unmmw3Txjey"
      },
      "source": [
        "## Свёрточная нейросеть здорового человека\n",
        "\n",
        "**Задание 1.7 (обязательно попытаться)** Наигравшись выше, обучим большую свёрточную сеть, которая даст на тестовой выборке __accuracy больше 80%__. В этом задании вам потребуется провести эксперименты, сравнив их между собой в конце. Возможно, может быть несколько проще, если писать выводы во время или сразу после каждого эксперимента, после чего сделать общие выводы.\n",
        "\n",
        "Рекомендуем начать с лучшей модели предыдущего задания и постепенно её улучшать. Вы можете использовать всё, что угодно: любые активации, сколь угодно большие свёрточные слои и глубокие сети. Единственное ограничение: __нельзя использовать предобученные сети и дополнительные данные__.\n",
        "\n",
        "### Полезные советы\n",
        "* Для начала, неплохо бы научить что-нибудь побольше, чем 10 фильтров 3x3.\n",
        "* __Главное правило: одно изменение на эксперимент__. Если у вас есть 2 идеи по улучшению сети, сначала попробуйте их независимо. Может оказаться, что одно из них дало __+10%__ точности а другое __-7%__. А вы так и будете думать, что сделали 2 полезных изменения которые в сумме дают __+3%__. Если какая-то идея не работает — даже если она вам нравится - опишите ее и выкидывайте из дальнейших экспериментов.\n",
        "* __Be careful or you will dropout__. Дропаут (`L.Dropout`) может позволить вам обучить в несколько раз бОльшую сеть без переобучения, выжав несколько процентов качества. Это круто, но не стоит сразу ставить dropout 50%. Во-первых, слишком сильный дропаут только ухудшит сеть (underfitting). Во-вторых, даже если дропаут улучшает качество, он замедляет обучение. Рекомендуем начинать с небольшого дропаута, быстро провести основные эксперименты, а потом жахнуть в 2 раза больше нейронов и дропаута ~~на ночь~~.\n",
        "* __Аугментация данных__. Если котика слегка повернуть и подрезать (простите), он всё равно останется котиком. А в керасе есть [удобный класс](https://keras.io/preprocessing/image/), который поставит подрезание котиков на поток. Ещё можно сделать этот трюк в тесте: вертим картинку 10 раз, предсказываем вероятности и усредняем. Только один совет: прежде, чем учить, посмотрите глазами на аугментированные картинки. Если вы сами не можете их различить, то и сеть не сможет.\n",
        "* __Don't just stack more layers__. Есть более эффективные способы организовать слои, чем простой Sequential. Вот пара идей: [Inception family](https://hacktilldawn.com/2016/09/25/inception-modules-explained-and-implemented/), [ResNet family](https://towardsdatascience.com/an-overview-of-resnet-and-its-variants-5281e2f56035?gi=9018057983ca), [Densely-connected convolutions](https://arxiv.org/abs/1608.06993). Только не копируйте архитектуру подчистую — вам скорее всего хватит меньшего размера.\n",
        "* __Долго != плохо__. Более глубокие архитектуры обычно требуют бОльше эпох до сходимости. Это значит, что в первые несколько эпох они могут быть хуже менее глубоких аналогов. Дайте им время, запаситесь чаем и обмажьтесь batch-norm-ом."
      ]
    },
    {
      "cell_type": "code",
      "execution_count": null,
      "metadata": {
        "id": "SPxrsPf9Uwkx"
      },
      "outputs": [],
      "source": [
        "datagen = tf.keras.preprocessing.image.ImageDataGenerator(\n",
        "    rotation_range= 20,\n",
        "    width_shift_range= .2,\n",
        "    height_shift_range= .2,\n",
        "    horizontal_flip= True\n",
        ")"
      ]
    },
    {
      "cell_type": "code",
      "execution_count": null,
      "metadata": {
        "id": "qEqpWz_OWUR-"
      },
      "outputs": [],
      "source": [
        "val_datagen = tf.keras.preprocessing.image.ImageDataGenerator()\n",
        "\n",
        "split = 30000\n",
        "dg_x_train, dg_x_val = X_train[:split], X_train[split:]\n",
        "dg_y_train, dg_y_val = y_train[:split], y_train[split:]"
      ]
    },
    {
      "cell_type": "code",
      "execution_count": null,
      "metadata": {
        "id": "ywy0k3Mllqu_"
      },
      "outputs": [],
      "source": [
        "train_generator = datagen.flow(dg_x_train, dg_y_train, batch_size= 64)\n",
        "val_generator = val_datagen.flow(dg_x_val, dg_y_val, batch_size= 64)"
      ]
    },
    {
      "cell_type": "markdown",
      "source": [
        "**Модель 1го поколения**"
      ],
      "metadata": {
        "id": "32xJmu6nSMFP"
      }
    },
    {
      "cell_type": "code",
      "execution_count": null,
      "metadata": {
        "id": "fJkfhCNZ2ZEs"
      },
      "outputs": [],
      "source": [
        "inputs = keras.Input(shape= X_train.shape[1:], name=\"final_model\")\n",
        "\n",
        "# 1st conv block\n",
        "x = tf.keras.layers.Conv2D(32, (3, 3), padding='same', trainable=True)(inputs)\n",
        "x = tf.keras.layers.BatchNormalization()(x)\n",
        "x = tf.keras.layers.Activation('relu')(x)\n",
        "\n",
        "# 2nd conv block\n",
        "x = tf.keras.layers.Conv2D(64, (3, 3), padding='same', trainable=True)(x)\n",
        "x = tf.keras.layers.BatchNormalization()(x)\n",
        "x = tf.keras.layers.Activation('leaky_relu')(x)\n",
        "\n",
        "block_1_output = tf.keras.layers.MaxPooling2D(pool_size=(3, 3))(x)\n",
        "\n",
        "# 3rd conv block\n",
        "x = tf.keras.layers.Conv2D(64, (3, 3), padding=\"same\", trainable=True)(block_1_output)\n",
        "x = tf.keras.layers.BatchNormalization()(x)\n",
        "x = tf.keras.layers.Activation('leaky_relu')(x)\n",
        "\n",
        "# 4th conv block\n",
        "x = tf.keras.layers.Conv2D(64, (3, 3), padding=\"same\", trainable=True)(x)\n",
        "x = tf.keras.layers.Activation('leaky_relu')(x)\n",
        "\n",
        "block_2_output = tf.keras.layers.add([x, block_1_output])\n",
        "\n",
        "# 5th conv block\n",
        "x = tf.keras.layers.Conv2D(64, (3, 3), padding=\"same\", trainable=True)(block_2_output)\n",
        "x = tf.keras.layers.BatchNormalization()(x)\n",
        "x = tf.keras.layers.Activation('leaky_relu')(x)\n",
        "\n",
        "x = tf.keras.layers.Dropout(0.3)(x)\n",
        "\n",
        "# 6th conv block\n",
        "x = tf.keras.layers.Conv2D(64, (3, 3), padding=\"same\", trainable=True)(x)\n",
        "x = tf.keras.layers.Activation('leaky_relu')(x)\n",
        "\n",
        "block_3_output = tf.keras.layers.add([x, block_2_output])\n",
        "\n",
        "# 7th conv block\n",
        "x = tf.keras.layers.Conv2D(128, (3, 3), padding=\"same\", trainable=True)(block_3_output)\n",
        "x = tf.keras.layers.BatchNormalization()(x)\n",
        "x = tf.keras.layers.Activation('leaky_relu')(x)\n",
        "\n",
        "# global pooling\n",
        "x = tf.keras.layers.GlobalAveragePooling2D()(x)\n",
        "\n",
        "# full linked layer after pooling\n",
        "x = tf.keras.layers.Dense(128, activation='elu', trainable=True)(x)\n",
        "\n",
        "x = tf.keras.layers.Dropout(0.3)(x)\n",
        "\n",
        "# final layer\n",
        "outputs = tf.keras.layers.Dense(10, activation='softmax', trainable=True)(x)\n",
        "\n",
        "final_model = keras.Model(inputs, outputs, name=\"final_model_resnet\")"
      ]
    },
    {
      "cell_type": "code",
      "execution_count": null,
      "metadata": {
        "id": "DPB8KYQGFFiA"
      },
      "outputs": [],
      "source": [
        "final_callbacks = [\n",
        "    tf.keras.callbacks.ModelCheckpoint(filepath= './model/model.{epoch:02d}-{val_loss:.2f}.h5.keras'),\n",
        "    tf.keras.callbacks.TensorBoard(log_dir= './logs')\n",
        "]"
      ]
    },
    {
      "cell_type": "code",
      "execution_count": null,
      "metadata": {
        "colab": {
          "base_uri": "https://localhost:8080/",
          "height": 1000
        },
        "id": "vqy7cc_yIO4N",
        "outputId": "21af94c0-4b4c-44fb-af7a-90600f18362e"
      },
      "outputs": [
        {
          "data": {
            "text/html": [
              "<pre style=\"white-space:pre;overflow-x:auto;line-height:normal;font-family:Menlo,'DejaVu Sans Mono',consolas,'Courier New',monospace\"><span style=\"font-weight: bold\">Model: \"final_model_resnet\"</span>\n",
              "</pre>\n"
            ],
            "text/plain": [
              "\u001b[1mModel: \"final_model_resnet\"\u001b[0m\n"
            ]
          },
          "metadata": {},
          "output_type": "display_data"
        },
        {
          "data": {
            "text/html": [
              "<pre style=\"white-space:pre;overflow-x:auto;line-height:normal;font-family:Menlo,'DejaVu Sans Mono',consolas,'Courier New',monospace\">┏━━━━━━━━━━━━━━━━━━━━━┳━━━━━━━━━━━━━━━━━━━┳━━━━━━━━━━━━┳━━━━━━━━━━━━━━━━━━━┓\n",
              "┃<span style=\"font-weight: bold\"> Layer (type)        </span>┃<span style=\"font-weight: bold\"> Output Shape      </span>┃<span style=\"font-weight: bold\">    Param # </span>┃<span style=\"font-weight: bold\"> Connected to      </span>┃\n",
              "┡━━━━━━━━━━━━━━━━━━━━━╇━━━━━━━━━━━━━━━━━━━╇━━━━━━━━━━━━╇━━━━━━━━━━━━━━━━━━━┩\n",
              "│ final_model         │ (<span style=\"color: #00d7ff; text-decoration-color: #00d7ff\">None</span>, <span style=\"color: #00af00; text-decoration-color: #00af00\">32</span>, <span style=\"color: #00af00; text-decoration-color: #00af00\">32</span>, <span style=\"color: #00af00; text-decoration-color: #00af00\">3</span>) │          <span style=\"color: #00af00; text-decoration-color: #00af00\">0</span> │ -                 │\n",
              "│ (<span style=\"color: #0087ff; text-decoration-color: #0087ff\">InputLayer</span>)        │                   │            │                   │\n",
              "├─────────────────────┼───────────────────┼────────────┼───────────────────┤\n",
              "│ conv2d (<span style=\"color: #0087ff; text-decoration-color: #0087ff\">Conv2D</span>)     │ (<span style=\"color: #00d7ff; text-decoration-color: #00d7ff\">None</span>, <span style=\"color: #00af00; text-decoration-color: #00af00\">32</span>, <span style=\"color: #00af00; text-decoration-color: #00af00\">32</span>,    │        <span style=\"color: #00af00; text-decoration-color: #00af00\">896</span> │ final_model[<span style=\"color: #00af00; text-decoration-color: #00af00\">0</span>][<span style=\"color: #00af00; text-decoration-color: #00af00\">0</span>] │\n",
              "│                     │ <span style=\"color: #00af00; text-decoration-color: #00af00\">32</span>)               │            │                   │\n",
              "├─────────────────────┼───────────────────┼────────────┼───────────────────┤\n",
              "│ batch_normalization │ (<span style=\"color: #00d7ff; text-decoration-color: #00d7ff\">None</span>, <span style=\"color: #00af00; text-decoration-color: #00af00\">32</span>, <span style=\"color: #00af00; text-decoration-color: #00af00\">32</span>,    │        <span style=\"color: #00af00; text-decoration-color: #00af00\">128</span> │ conv2d[<span style=\"color: #00af00; text-decoration-color: #00af00\">0</span>][<span style=\"color: #00af00; text-decoration-color: #00af00\">0</span>]      │\n",
              "│ (<span style=\"color: #0087ff; text-decoration-color: #0087ff\">BatchNormalizatio…</span> │ <span style=\"color: #00af00; text-decoration-color: #00af00\">32</span>)               │            │                   │\n",
              "├─────────────────────┼───────────────────┼────────────┼───────────────────┤\n",
              "│ activation          │ (<span style=\"color: #00d7ff; text-decoration-color: #00d7ff\">None</span>, <span style=\"color: #00af00; text-decoration-color: #00af00\">32</span>, <span style=\"color: #00af00; text-decoration-color: #00af00\">32</span>,    │          <span style=\"color: #00af00; text-decoration-color: #00af00\">0</span> │ batch_normalizat… │\n",
              "│ (<span style=\"color: #0087ff; text-decoration-color: #0087ff\">Activation</span>)        │ <span style=\"color: #00af00; text-decoration-color: #00af00\">32</span>)               │            │                   │\n",
              "├─────────────────────┼───────────────────┼────────────┼───────────────────┤\n",
              "│ conv2d_1 (<span style=\"color: #0087ff; text-decoration-color: #0087ff\">Conv2D</span>)   │ (<span style=\"color: #00d7ff; text-decoration-color: #00d7ff\">None</span>, <span style=\"color: #00af00; text-decoration-color: #00af00\">32</span>, <span style=\"color: #00af00; text-decoration-color: #00af00\">32</span>,    │     <span style=\"color: #00af00; text-decoration-color: #00af00\">18,496</span> │ activation[<span style=\"color: #00af00; text-decoration-color: #00af00\">0</span>][<span style=\"color: #00af00; text-decoration-color: #00af00\">0</span>]  │\n",
              "│                     │ <span style=\"color: #00af00; text-decoration-color: #00af00\">64</span>)               │            │                   │\n",
              "├─────────────────────┼───────────────────┼────────────┼───────────────────┤\n",
              "│ batch_normalizatio… │ (<span style=\"color: #00d7ff; text-decoration-color: #00d7ff\">None</span>, <span style=\"color: #00af00; text-decoration-color: #00af00\">32</span>, <span style=\"color: #00af00; text-decoration-color: #00af00\">32</span>,    │        <span style=\"color: #00af00; text-decoration-color: #00af00\">256</span> │ conv2d_1[<span style=\"color: #00af00; text-decoration-color: #00af00\">0</span>][<span style=\"color: #00af00; text-decoration-color: #00af00\">0</span>]    │\n",
              "│ (<span style=\"color: #0087ff; text-decoration-color: #0087ff\">BatchNormalizatio…</span> │ <span style=\"color: #00af00; text-decoration-color: #00af00\">64</span>)               │            │                   │\n",
              "├─────────────────────┼───────────────────┼────────────┼───────────────────┤\n",
              "│ activation_1        │ (<span style=\"color: #00d7ff; text-decoration-color: #00d7ff\">None</span>, <span style=\"color: #00af00; text-decoration-color: #00af00\">32</span>, <span style=\"color: #00af00; text-decoration-color: #00af00\">32</span>,    │          <span style=\"color: #00af00; text-decoration-color: #00af00\">0</span> │ batch_normalizat… │\n",
              "│ (<span style=\"color: #0087ff; text-decoration-color: #0087ff\">Activation</span>)        │ <span style=\"color: #00af00; text-decoration-color: #00af00\">64</span>)               │            │                   │\n",
              "├─────────────────────┼───────────────────┼────────────┼───────────────────┤\n",
              "│ max_pooling2d       │ (<span style=\"color: #00d7ff; text-decoration-color: #00d7ff\">None</span>, <span style=\"color: #00af00; text-decoration-color: #00af00\">10</span>, <span style=\"color: #00af00; text-decoration-color: #00af00\">10</span>,    │          <span style=\"color: #00af00; text-decoration-color: #00af00\">0</span> │ activation_1[<span style=\"color: #00af00; text-decoration-color: #00af00\">0</span>][<span style=\"color: #00af00; text-decoration-color: #00af00\">…</span> │\n",
              "│ (<span style=\"color: #0087ff; text-decoration-color: #0087ff\">MaxPooling2D</span>)      │ <span style=\"color: #00af00; text-decoration-color: #00af00\">64</span>)               │            │                   │\n",
              "├─────────────────────┼───────────────────┼────────────┼───────────────────┤\n",
              "│ conv2d_2 (<span style=\"color: #0087ff; text-decoration-color: #0087ff\">Conv2D</span>)   │ (<span style=\"color: #00d7ff; text-decoration-color: #00d7ff\">None</span>, <span style=\"color: #00af00; text-decoration-color: #00af00\">10</span>, <span style=\"color: #00af00; text-decoration-color: #00af00\">10</span>,    │     <span style=\"color: #00af00; text-decoration-color: #00af00\">36,928</span> │ max_pooling2d[<span style=\"color: #00af00; text-decoration-color: #00af00\">0</span>]… │\n",
              "│                     │ <span style=\"color: #00af00; text-decoration-color: #00af00\">64</span>)               │            │                   │\n",
              "├─────────────────────┼───────────────────┼────────────┼───────────────────┤\n",
              "│ batch_normalizatio… │ (<span style=\"color: #00d7ff; text-decoration-color: #00d7ff\">None</span>, <span style=\"color: #00af00; text-decoration-color: #00af00\">10</span>, <span style=\"color: #00af00; text-decoration-color: #00af00\">10</span>,    │        <span style=\"color: #00af00; text-decoration-color: #00af00\">256</span> │ conv2d_2[<span style=\"color: #00af00; text-decoration-color: #00af00\">0</span>][<span style=\"color: #00af00; text-decoration-color: #00af00\">0</span>]    │\n",
              "│ (<span style=\"color: #0087ff; text-decoration-color: #0087ff\">BatchNormalizatio…</span> │ <span style=\"color: #00af00; text-decoration-color: #00af00\">64</span>)               │            │                   │\n",
              "├─────────────────────┼───────────────────┼────────────┼───────────────────┤\n",
              "│ activation_2        │ (<span style=\"color: #00d7ff; text-decoration-color: #00d7ff\">None</span>, <span style=\"color: #00af00; text-decoration-color: #00af00\">10</span>, <span style=\"color: #00af00; text-decoration-color: #00af00\">10</span>,    │          <span style=\"color: #00af00; text-decoration-color: #00af00\">0</span> │ batch_normalizat… │\n",
              "│ (<span style=\"color: #0087ff; text-decoration-color: #0087ff\">Activation</span>)        │ <span style=\"color: #00af00; text-decoration-color: #00af00\">64</span>)               │            │                   │\n",
              "├─────────────────────┼───────────────────┼────────────┼───────────────────┤\n",
              "│ conv2d_3 (<span style=\"color: #0087ff; text-decoration-color: #0087ff\">Conv2D</span>)   │ (<span style=\"color: #00d7ff; text-decoration-color: #00d7ff\">None</span>, <span style=\"color: #00af00; text-decoration-color: #00af00\">10</span>, <span style=\"color: #00af00; text-decoration-color: #00af00\">10</span>,    │     <span style=\"color: #00af00; text-decoration-color: #00af00\">36,928</span> │ activation_2[<span style=\"color: #00af00; text-decoration-color: #00af00\">0</span>][<span style=\"color: #00af00; text-decoration-color: #00af00\">…</span> │\n",
              "│                     │ <span style=\"color: #00af00; text-decoration-color: #00af00\">64</span>)               │            │                   │\n",
              "├─────────────────────┼───────────────────┼────────────┼───────────────────┤\n",
              "│ activation_3        │ (<span style=\"color: #00d7ff; text-decoration-color: #00d7ff\">None</span>, <span style=\"color: #00af00; text-decoration-color: #00af00\">10</span>, <span style=\"color: #00af00; text-decoration-color: #00af00\">10</span>,    │          <span style=\"color: #00af00; text-decoration-color: #00af00\">0</span> │ conv2d_3[<span style=\"color: #00af00; text-decoration-color: #00af00\">0</span>][<span style=\"color: #00af00; text-decoration-color: #00af00\">0</span>]    │\n",
              "│ (<span style=\"color: #0087ff; text-decoration-color: #0087ff\">Activation</span>)        │ <span style=\"color: #00af00; text-decoration-color: #00af00\">64</span>)               │            │                   │\n",
              "├─────────────────────┼───────────────────┼────────────┼───────────────────┤\n",
              "│ add (<span style=\"color: #0087ff; text-decoration-color: #0087ff\">Add</span>)           │ (<span style=\"color: #00d7ff; text-decoration-color: #00d7ff\">None</span>, <span style=\"color: #00af00; text-decoration-color: #00af00\">10</span>, <span style=\"color: #00af00; text-decoration-color: #00af00\">10</span>,    │          <span style=\"color: #00af00; text-decoration-color: #00af00\">0</span> │ activation_3[<span style=\"color: #00af00; text-decoration-color: #00af00\">0</span>][<span style=\"color: #00af00; text-decoration-color: #00af00\">…</span> │\n",
              "│                     │ <span style=\"color: #00af00; text-decoration-color: #00af00\">64</span>)               │            │ max_pooling2d[<span style=\"color: #00af00; text-decoration-color: #00af00\">0</span>]… │\n",
              "├─────────────────────┼───────────────────┼────────────┼───────────────────┤\n",
              "│ conv2d_4 (<span style=\"color: #0087ff; text-decoration-color: #0087ff\">Conv2D</span>)   │ (<span style=\"color: #00d7ff; text-decoration-color: #00d7ff\">None</span>, <span style=\"color: #00af00; text-decoration-color: #00af00\">10</span>, <span style=\"color: #00af00; text-decoration-color: #00af00\">10</span>,    │     <span style=\"color: #00af00; text-decoration-color: #00af00\">36,928</span> │ add[<span style=\"color: #00af00; text-decoration-color: #00af00\">0</span>][<span style=\"color: #00af00; text-decoration-color: #00af00\">0</span>]         │\n",
              "│                     │ <span style=\"color: #00af00; text-decoration-color: #00af00\">64</span>)               │            │                   │\n",
              "├─────────────────────┼───────────────────┼────────────┼───────────────────┤\n",
              "│ batch_normalizatio… │ (<span style=\"color: #00d7ff; text-decoration-color: #00d7ff\">None</span>, <span style=\"color: #00af00; text-decoration-color: #00af00\">10</span>, <span style=\"color: #00af00; text-decoration-color: #00af00\">10</span>,    │        <span style=\"color: #00af00; text-decoration-color: #00af00\">256</span> │ conv2d_4[<span style=\"color: #00af00; text-decoration-color: #00af00\">0</span>][<span style=\"color: #00af00; text-decoration-color: #00af00\">0</span>]    │\n",
              "│ (<span style=\"color: #0087ff; text-decoration-color: #0087ff\">BatchNormalizatio…</span> │ <span style=\"color: #00af00; text-decoration-color: #00af00\">64</span>)               │            │                   │\n",
              "├─────────────────────┼───────────────────┼────────────┼───────────────────┤\n",
              "│ activation_4        │ (<span style=\"color: #00d7ff; text-decoration-color: #00d7ff\">None</span>, <span style=\"color: #00af00; text-decoration-color: #00af00\">10</span>, <span style=\"color: #00af00; text-decoration-color: #00af00\">10</span>,    │          <span style=\"color: #00af00; text-decoration-color: #00af00\">0</span> │ batch_normalizat… │\n",
              "│ (<span style=\"color: #0087ff; text-decoration-color: #0087ff\">Activation</span>)        │ <span style=\"color: #00af00; text-decoration-color: #00af00\">64</span>)               │            │                   │\n",
              "├─────────────────────┼───────────────────┼────────────┼───────────────────┤\n",
              "│ dropout (<span style=\"color: #0087ff; text-decoration-color: #0087ff\">Dropout</span>)   │ (<span style=\"color: #00d7ff; text-decoration-color: #00d7ff\">None</span>, <span style=\"color: #00af00; text-decoration-color: #00af00\">10</span>, <span style=\"color: #00af00; text-decoration-color: #00af00\">10</span>,    │          <span style=\"color: #00af00; text-decoration-color: #00af00\">0</span> │ activation_4[<span style=\"color: #00af00; text-decoration-color: #00af00\">0</span>][<span style=\"color: #00af00; text-decoration-color: #00af00\">…</span> │\n",
              "│                     │ <span style=\"color: #00af00; text-decoration-color: #00af00\">64</span>)               │            │                   │\n",
              "├─────────────────────┼───────────────────┼────────────┼───────────────────┤\n",
              "│ conv2d_5 (<span style=\"color: #0087ff; text-decoration-color: #0087ff\">Conv2D</span>)   │ (<span style=\"color: #00d7ff; text-decoration-color: #00d7ff\">None</span>, <span style=\"color: #00af00; text-decoration-color: #00af00\">10</span>, <span style=\"color: #00af00; text-decoration-color: #00af00\">10</span>,    │     <span style=\"color: #00af00; text-decoration-color: #00af00\">36,928</span> │ dropout[<span style=\"color: #00af00; text-decoration-color: #00af00\">0</span>][<span style=\"color: #00af00; text-decoration-color: #00af00\">0</span>]     │\n",
              "│                     │ <span style=\"color: #00af00; text-decoration-color: #00af00\">64</span>)               │            │                   │\n",
              "├─────────────────────┼───────────────────┼────────────┼───────────────────┤\n",
              "│ activation_5        │ (<span style=\"color: #00d7ff; text-decoration-color: #00d7ff\">None</span>, <span style=\"color: #00af00; text-decoration-color: #00af00\">10</span>, <span style=\"color: #00af00; text-decoration-color: #00af00\">10</span>,    │          <span style=\"color: #00af00; text-decoration-color: #00af00\">0</span> │ conv2d_5[<span style=\"color: #00af00; text-decoration-color: #00af00\">0</span>][<span style=\"color: #00af00; text-decoration-color: #00af00\">0</span>]    │\n",
              "│ (<span style=\"color: #0087ff; text-decoration-color: #0087ff\">Activation</span>)        │ <span style=\"color: #00af00; text-decoration-color: #00af00\">64</span>)               │            │                   │\n",
              "├─────────────────────┼───────────────────┼────────────┼───────────────────┤\n",
              "│ add_1 (<span style=\"color: #0087ff; text-decoration-color: #0087ff\">Add</span>)         │ (<span style=\"color: #00d7ff; text-decoration-color: #00d7ff\">None</span>, <span style=\"color: #00af00; text-decoration-color: #00af00\">10</span>, <span style=\"color: #00af00; text-decoration-color: #00af00\">10</span>,    │          <span style=\"color: #00af00; text-decoration-color: #00af00\">0</span> │ activation_5[<span style=\"color: #00af00; text-decoration-color: #00af00\">0</span>][<span style=\"color: #00af00; text-decoration-color: #00af00\">…</span> │\n",
              "│                     │ <span style=\"color: #00af00; text-decoration-color: #00af00\">64</span>)               │            │ add[<span style=\"color: #00af00; text-decoration-color: #00af00\">0</span>][<span style=\"color: #00af00; text-decoration-color: #00af00\">0</span>]         │\n",
              "├─────────────────────┼───────────────────┼────────────┼───────────────────┤\n",
              "│ conv2d_6 (<span style=\"color: #0087ff; text-decoration-color: #0087ff\">Conv2D</span>)   │ (<span style=\"color: #00d7ff; text-decoration-color: #00d7ff\">None</span>, <span style=\"color: #00af00; text-decoration-color: #00af00\">10</span>, <span style=\"color: #00af00; text-decoration-color: #00af00\">10</span>,    │     <span style=\"color: #00af00; text-decoration-color: #00af00\">73,856</span> │ add_1[<span style=\"color: #00af00; text-decoration-color: #00af00\">0</span>][<span style=\"color: #00af00; text-decoration-color: #00af00\">0</span>]       │\n",
              "│                     │ <span style=\"color: #00af00; text-decoration-color: #00af00\">128</span>)              │            │                   │\n",
              "├─────────────────────┼───────────────────┼────────────┼───────────────────┤\n",
              "│ batch_normalizatio… │ (<span style=\"color: #00d7ff; text-decoration-color: #00d7ff\">None</span>, <span style=\"color: #00af00; text-decoration-color: #00af00\">10</span>, <span style=\"color: #00af00; text-decoration-color: #00af00\">10</span>,    │        <span style=\"color: #00af00; text-decoration-color: #00af00\">512</span> │ conv2d_6[<span style=\"color: #00af00; text-decoration-color: #00af00\">0</span>][<span style=\"color: #00af00; text-decoration-color: #00af00\">0</span>]    │\n",
              "│ (<span style=\"color: #0087ff; text-decoration-color: #0087ff\">BatchNormalizatio…</span> │ <span style=\"color: #00af00; text-decoration-color: #00af00\">128</span>)              │            │                   │\n",
              "├─────────────────────┼───────────────────┼────────────┼───────────────────┤\n",
              "│ activation_6        │ (<span style=\"color: #00d7ff; text-decoration-color: #00d7ff\">None</span>, <span style=\"color: #00af00; text-decoration-color: #00af00\">10</span>, <span style=\"color: #00af00; text-decoration-color: #00af00\">10</span>,    │          <span style=\"color: #00af00; text-decoration-color: #00af00\">0</span> │ batch_normalizat… │\n",
              "│ (<span style=\"color: #0087ff; text-decoration-color: #0087ff\">Activation</span>)        │ <span style=\"color: #00af00; text-decoration-color: #00af00\">128</span>)              │            │                   │\n",
              "├─────────────────────┼───────────────────┼────────────┼───────────────────┤\n",
              "│ global_average_poo… │ (<span style=\"color: #00d7ff; text-decoration-color: #00d7ff\">None</span>, <span style=\"color: #00af00; text-decoration-color: #00af00\">128</span>)       │          <span style=\"color: #00af00; text-decoration-color: #00af00\">0</span> │ activation_6[<span style=\"color: #00af00; text-decoration-color: #00af00\">0</span>][<span style=\"color: #00af00; text-decoration-color: #00af00\">…</span> │\n",
              "│ (<span style=\"color: #0087ff; text-decoration-color: #0087ff\">GlobalAveragePool…</span> │                   │            │                   │\n",
              "├─────────────────────┼───────────────────┼────────────┼───────────────────┤\n",
              "│ dense (<span style=\"color: #0087ff; text-decoration-color: #0087ff\">Dense</span>)       │ (<span style=\"color: #00d7ff; text-decoration-color: #00d7ff\">None</span>, <span style=\"color: #00af00; text-decoration-color: #00af00\">128</span>)       │     <span style=\"color: #00af00; text-decoration-color: #00af00\">16,512</span> │ global_average_p… │\n",
              "├─────────────────────┼───────────────────┼────────────┼───────────────────┤\n",
              "│ dropout_1 (<span style=\"color: #0087ff; text-decoration-color: #0087ff\">Dropout</span>) │ (<span style=\"color: #00d7ff; text-decoration-color: #00d7ff\">None</span>, <span style=\"color: #00af00; text-decoration-color: #00af00\">128</span>)       │          <span style=\"color: #00af00; text-decoration-color: #00af00\">0</span> │ dense[<span style=\"color: #00af00; text-decoration-color: #00af00\">0</span>][<span style=\"color: #00af00; text-decoration-color: #00af00\">0</span>]       │\n",
              "├─────────────────────┼───────────────────┼────────────┼───────────────────┤\n",
              "│ dense_1 (<span style=\"color: #0087ff; text-decoration-color: #0087ff\">Dense</span>)     │ (<span style=\"color: #00d7ff; text-decoration-color: #00d7ff\">None</span>, <span style=\"color: #00af00; text-decoration-color: #00af00\">10</span>)        │      <span style=\"color: #00af00; text-decoration-color: #00af00\">1,290</span> │ dropout_1[<span style=\"color: #00af00; text-decoration-color: #00af00\">0</span>][<span style=\"color: #00af00; text-decoration-color: #00af00\">0</span>]   │\n",
              "└─────────────────────┴───────────────────┴────────────┴───────────────────┘\n",
              "</pre>\n"
            ],
            "text/plain": [
              "┏━━━━━━━━━━━━━━━━━━━━━┳━━━━━━━━━━━━━━━━━━━┳━━━━━━━━━━━━┳━━━━━━━━━━━━━━━━━━━┓\n",
              "┃\u001b[1m \u001b[0m\u001b[1mLayer (type)       \u001b[0m\u001b[1m \u001b[0m┃\u001b[1m \u001b[0m\u001b[1mOutput Shape     \u001b[0m\u001b[1m \u001b[0m┃\u001b[1m \u001b[0m\u001b[1m   Param #\u001b[0m\u001b[1m \u001b[0m┃\u001b[1m \u001b[0m\u001b[1mConnected to     \u001b[0m\u001b[1m \u001b[0m┃\n",
              "┡━━━━━━━━━━━━━━━━━━━━━╇━━━━━━━━━━━━━━━━━━━╇━━━━━━━━━━━━╇━━━━━━━━━━━━━━━━━━━┩\n",
              "│ final_model         │ (\u001b[38;5;45mNone\u001b[0m, \u001b[38;5;34m32\u001b[0m, \u001b[38;5;34m32\u001b[0m, \u001b[38;5;34m3\u001b[0m) │          \u001b[38;5;34m0\u001b[0m │ -                 │\n",
              "│ (\u001b[38;5;33mInputLayer\u001b[0m)        │                   │            │                   │\n",
              "├─────────────────────┼───────────────────┼────────────┼───────────────────┤\n",
              "│ conv2d (\u001b[38;5;33mConv2D\u001b[0m)     │ (\u001b[38;5;45mNone\u001b[0m, \u001b[38;5;34m32\u001b[0m, \u001b[38;5;34m32\u001b[0m,    │        \u001b[38;5;34m896\u001b[0m │ final_model[\u001b[38;5;34m0\u001b[0m][\u001b[38;5;34m0\u001b[0m] │\n",
              "│                     │ \u001b[38;5;34m32\u001b[0m)               │            │                   │\n",
              "├─────────────────────┼───────────────────┼────────────┼───────────────────┤\n",
              "│ batch_normalization │ (\u001b[38;5;45mNone\u001b[0m, \u001b[38;5;34m32\u001b[0m, \u001b[38;5;34m32\u001b[0m,    │        \u001b[38;5;34m128\u001b[0m │ conv2d[\u001b[38;5;34m0\u001b[0m][\u001b[38;5;34m0\u001b[0m]      │\n",
              "│ (\u001b[38;5;33mBatchNormalizatio…\u001b[0m │ \u001b[38;5;34m32\u001b[0m)               │            │                   │\n",
              "├─────────────────────┼───────────────────┼────────────┼───────────────────┤\n",
              "│ activation          │ (\u001b[38;5;45mNone\u001b[0m, \u001b[38;5;34m32\u001b[0m, \u001b[38;5;34m32\u001b[0m,    │          \u001b[38;5;34m0\u001b[0m │ batch_normalizat… │\n",
              "│ (\u001b[38;5;33mActivation\u001b[0m)        │ \u001b[38;5;34m32\u001b[0m)               │            │                   │\n",
              "├─────────────────────┼───────────────────┼────────────┼───────────────────┤\n",
              "│ conv2d_1 (\u001b[38;5;33mConv2D\u001b[0m)   │ (\u001b[38;5;45mNone\u001b[0m, \u001b[38;5;34m32\u001b[0m, \u001b[38;5;34m32\u001b[0m,    │     \u001b[38;5;34m18,496\u001b[0m │ activation[\u001b[38;5;34m0\u001b[0m][\u001b[38;5;34m0\u001b[0m]  │\n",
              "│                     │ \u001b[38;5;34m64\u001b[0m)               │            │                   │\n",
              "├─────────────────────┼───────────────────┼────────────┼───────────────────┤\n",
              "│ batch_normalizatio… │ (\u001b[38;5;45mNone\u001b[0m, \u001b[38;5;34m32\u001b[0m, \u001b[38;5;34m32\u001b[0m,    │        \u001b[38;5;34m256\u001b[0m │ conv2d_1[\u001b[38;5;34m0\u001b[0m][\u001b[38;5;34m0\u001b[0m]    │\n",
              "│ (\u001b[38;5;33mBatchNormalizatio…\u001b[0m │ \u001b[38;5;34m64\u001b[0m)               │            │                   │\n",
              "├─────────────────────┼───────────────────┼────────────┼───────────────────┤\n",
              "│ activation_1        │ (\u001b[38;5;45mNone\u001b[0m, \u001b[38;5;34m32\u001b[0m, \u001b[38;5;34m32\u001b[0m,    │          \u001b[38;5;34m0\u001b[0m │ batch_normalizat… │\n",
              "│ (\u001b[38;5;33mActivation\u001b[0m)        │ \u001b[38;5;34m64\u001b[0m)               │            │                   │\n",
              "├─────────────────────┼───────────────────┼────────────┼───────────────────┤\n",
              "│ max_pooling2d       │ (\u001b[38;5;45mNone\u001b[0m, \u001b[38;5;34m10\u001b[0m, \u001b[38;5;34m10\u001b[0m,    │          \u001b[38;5;34m0\u001b[0m │ activation_1[\u001b[38;5;34m0\u001b[0m][\u001b[38;5;34m…\u001b[0m │\n",
              "│ (\u001b[38;5;33mMaxPooling2D\u001b[0m)      │ \u001b[38;5;34m64\u001b[0m)               │            │                   │\n",
              "├─────────────────────┼───────────────────┼────────────┼───────────────────┤\n",
              "│ conv2d_2 (\u001b[38;5;33mConv2D\u001b[0m)   │ (\u001b[38;5;45mNone\u001b[0m, \u001b[38;5;34m10\u001b[0m, \u001b[38;5;34m10\u001b[0m,    │     \u001b[38;5;34m36,928\u001b[0m │ max_pooling2d[\u001b[38;5;34m0\u001b[0m]… │\n",
              "│                     │ \u001b[38;5;34m64\u001b[0m)               │            │                   │\n",
              "├─────────────────────┼───────────────────┼────────────┼───────────────────┤\n",
              "│ batch_normalizatio… │ (\u001b[38;5;45mNone\u001b[0m, \u001b[38;5;34m10\u001b[0m, \u001b[38;5;34m10\u001b[0m,    │        \u001b[38;5;34m256\u001b[0m │ conv2d_2[\u001b[38;5;34m0\u001b[0m][\u001b[38;5;34m0\u001b[0m]    │\n",
              "│ (\u001b[38;5;33mBatchNormalizatio…\u001b[0m │ \u001b[38;5;34m64\u001b[0m)               │            │                   │\n",
              "├─────────────────────┼───────────────────┼────────────┼───────────────────┤\n",
              "│ activation_2        │ (\u001b[38;5;45mNone\u001b[0m, \u001b[38;5;34m10\u001b[0m, \u001b[38;5;34m10\u001b[0m,    │          \u001b[38;5;34m0\u001b[0m │ batch_normalizat… │\n",
              "│ (\u001b[38;5;33mActivation\u001b[0m)        │ \u001b[38;5;34m64\u001b[0m)               │            │                   │\n",
              "├─────────────────────┼───────────────────┼────────────┼───────────────────┤\n",
              "│ conv2d_3 (\u001b[38;5;33mConv2D\u001b[0m)   │ (\u001b[38;5;45mNone\u001b[0m, \u001b[38;5;34m10\u001b[0m, \u001b[38;5;34m10\u001b[0m,    │     \u001b[38;5;34m36,928\u001b[0m │ activation_2[\u001b[38;5;34m0\u001b[0m][\u001b[38;5;34m…\u001b[0m │\n",
              "│                     │ \u001b[38;5;34m64\u001b[0m)               │            │                   │\n",
              "├─────────────────────┼───────────────────┼────────────┼───────────────────┤\n",
              "│ activation_3        │ (\u001b[38;5;45mNone\u001b[0m, \u001b[38;5;34m10\u001b[0m, \u001b[38;5;34m10\u001b[0m,    │          \u001b[38;5;34m0\u001b[0m │ conv2d_3[\u001b[38;5;34m0\u001b[0m][\u001b[38;5;34m0\u001b[0m]    │\n",
              "│ (\u001b[38;5;33mActivation\u001b[0m)        │ \u001b[38;5;34m64\u001b[0m)               │            │                   │\n",
              "├─────────────────────┼───────────────────┼────────────┼───────────────────┤\n",
              "│ add (\u001b[38;5;33mAdd\u001b[0m)           │ (\u001b[38;5;45mNone\u001b[0m, \u001b[38;5;34m10\u001b[0m, \u001b[38;5;34m10\u001b[0m,    │          \u001b[38;5;34m0\u001b[0m │ activation_3[\u001b[38;5;34m0\u001b[0m][\u001b[38;5;34m…\u001b[0m │\n",
              "│                     │ \u001b[38;5;34m64\u001b[0m)               │            │ max_pooling2d[\u001b[38;5;34m0\u001b[0m]… │\n",
              "├─────────────────────┼───────────────────┼────────────┼───────────────────┤\n",
              "│ conv2d_4 (\u001b[38;5;33mConv2D\u001b[0m)   │ (\u001b[38;5;45mNone\u001b[0m, \u001b[38;5;34m10\u001b[0m, \u001b[38;5;34m10\u001b[0m,    │     \u001b[38;5;34m36,928\u001b[0m │ add[\u001b[38;5;34m0\u001b[0m][\u001b[38;5;34m0\u001b[0m]         │\n",
              "│                     │ \u001b[38;5;34m64\u001b[0m)               │            │                   │\n",
              "├─────────────────────┼───────────────────┼────────────┼───────────────────┤\n",
              "│ batch_normalizatio… │ (\u001b[38;5;45mNone\u001b[0m, \u001b[38;5;34m10\u001b[0m, \u001b[38;5;34m10\u001b[0m,    │        \u001b[38;5;34m256\u001b[0m │ conv2d_4[\u001b[38;5;34m0\u001b[0m][\u001b[38;5;34m0\u001b[0m]    │\n",
              "│ (\u001b[38;5;33mBatchNormalizatio…\u001b[0m │ \u001b[38;5;34m64\u001b[0m)               │            │                   │\n",
              "├─────────────────────┼───────────────────┼────────────┼───────────────────┤\n",
              "│ activation_4        │ (\u001b[38;5;45mNone\u001b[0m, \u001b[38;5;34m10\u001b[0m, \u001b[38;5;34m10\u001b[0m,    │          \u001b[38;5;34m0\u001b[0m │ batch_normalizat… │\n",
              "│ (\u001b[38;5;33mActivation\u001b[0m)        │ \u001b[38;5;34m64\u001b[0m)               │            │                   │\n",
              "├─────────────────────┼───────────────────┼────────────┼───────────────────┤\n",
              "│ dropout (\u001b[38;5;33mDropout\u001b[0m)   │ (\u001b[38;5;45mNone\u001b[0m, \u001b[38;5;34m10\u001b[0m, \u001b[38;5;34m10\u001b[0m,    │          \u001b[38;5;34m0\u001b[0m │ activation_4[\u001b[38;5;34m0\u001b[0m][\u001b[38;5;34m…\u001b[0m │\n",
              "│                     │ \u001b[38;5;34m64\u001b[0m)               │            │                   │\n",
              "├─────────────────────┼───────────────────┼────────────┼───────────────────┤\n",
              "│ conv2d_5 (\u001b[38;5;33mConv2D\u001b[0m)   │ (\u001b[38;5;45mNone\u001b[0m, \u001b[38;5;34m10\u001b[0m, \u001b[38;5;34m10\u001b[0m,    │     \u001b[38;5;34m36,928\u001b[0m │ dropout[\u001b[38;5;34m0\u001b[0m][\u001b[38;5;34m0\u001b[0m]     │\n",
              "│                     │ \u001b[38;5;34m64\u001b[0m)               │            │                   │\n",
              "├─────────────────────┼───────────────────┼────────────┼───────────────────┤\n",
              "│ activation_5        │ (\u001b[38;5;45mNone\u001b[0m, \u001b[38;5;34m10\u001b[0m, \u001b[38;5;34m10\u001b[0m,    │          \u001b[38;5;34m0\u001b[0m │ conv2d_5[\u001b[38;5;34m0\u001b[0m][\u001b[38;5;34m0\u001b[0m]    │\n",
              "│ (\u001b[38;5;33mActivation\u001b[0m)        │ \u001b[38;5;34m64\u001b[0m)               │            │                   │\n",
              "├─────────────────────┼───────────────────┼────────────┼───────────────────┤\n",
              "│ add_1 (\u001b[38;5;33mAdd\u001b[0m)         │ (\u001b[38;5;45mNone\u001b[0m, \u001b[38;5;34m10\u001b[0m, \u001b[38;5;34m10\u001b[0m,    │          \u001b[38;5;34m0\u001b[0m │ activation_5[\u001b[38;5;34m0\u001b[0m][\u001b[38;5;34m…\u001b[0m │\n",
              "│                     │ \u001b[38;5;34m64\u001b[0m)               │            │ add[\u001b[38;5;34m0\u001b[0m][\u001b[38;5;34m0\u001b[0m]         │\n",
              "├─────────────────────┼───────────────────┼────────────┼───────────────────┤\n",
              "│ conv2d_6 (\u001b[38;5;33mConv2D\u001b[0m)   │ (\u001b[38;5;45mNone\u001b[0m, \u001b[38;5;34m10\u001b[0m, \u001b[38;5;34m10\u001b[0m,    │     \u001b[38;5;34m73,856\u001b[0m │ add_1[\u001b[38;5;34m0\u001b[0m][\u001b[38;5;34m0\u001b[0m]       │\n",
              "│                     │ \u001b[38;5;34m128\u001b[0m)              │            │                   │\n",
              "├─────────────────────┼───────────────────┼────────────┼───────────────────┤\n",
              "│ batch_normalizatio… │ (\u001b[38;5;45mNone\u001b[0m, \u001b[38;5;34m10\u001b[0m, \u001b[38;5;34m10\u001b[0m,    │        \u001b[38;5;34m512\u001b[0m │ conv2d_6[\u001b[38;5;34m0\u001b[0m][\u001b[38;5;34m0\u001b[0m]    │\n",
              "│ (\u001b[38;5;33mBatchNormalizatio…\u001b[0m │ \u001b[38;5;34m128\u001b[0m)              │            │                   │\n",
              "├─────────────────────┼───────────────────┼────────────┼───────────────────┤\n",
              "│ activation_6        │ (\u001b[38;5;45mNone\u001b[0m, \u001b[38;5;34m10\u001b[0m, \u001b[38;5;34m10\u001b[0m,    │          \u001b[38;5;34m0\u001b[0m │ batch_normalizat… │\n",
              "│ (\u001b[38;5;33mActivation\u001b[0m)        │ \u001b[38;5;34m128\u001b[0m)              │            │                   │\n",
              "├─────────────────────┼───────────────────┼────────────┼───────────────────┤\n",
              "│ global_average_poo… │ (\u001b[38;5;45mNone\u001b[0m, \u001b[38;5;34m128\u001b[0m)       │          \u001b[38;5;34m0\u001b[0m │ activation_6[\u001b[38;5;34m0\u001b[0m][\u001b[38;5;34m…\u001b[0m │\n",
              "│ (\u001b[38;5;33mGlobalAveragePool…\u001b[0m │                   │            │                   │\n",
              "├─────────────────────┼───────────────────┼────────────┼───────────────────┤\n",
              "│ dense (\u001b[38;5;33mDense\u001b[0m)       │ (\u001b[38;5;45mNone\u001b[0m, \u001b[38;5;34m128\u001b[0m)       │     \u001b[38;5;34m16,512\u001b[0m │ global_average_p… │\n",
              "├─────────────────────┼───────────────────┼────────────┼───────────────────┤\n",
              "│ dropout_1 (\u001b[38;5;33mDropout\u001b[0m) │ (\u001b[38;5;45mNone\u001b[0m, \u001b[38;5;34m128\u001b[0m)       │          \u001b[38;5;34m0\u001b[0m │ dense[\u001b[38;5;34m0\u001b[0m][\u001b[38;5;34m0\u001b[0m]       │\n",
              "├─────────────────────┼───────────────────┼────────────┼───────────────────┤\n",
              "│ dense_1 (\u001b[38;5;33mDense\u001b[0m)     │ (\u001b[38;5;45mNone\u001b[0m, \u001b[38;5;34m10\u001b[0m)        │      \u001b[38;5;34m1,290\u001b[0m │ dropout_1[\u001b[38;5;34m0\u001b[0m][\u001b[38;5;34m0\u001b[0m]   │\n",
              "└─────────────────────┴───────────────────┴────────────┴───────────────────┘\n"
            ]
          },
          "metadata": {},
          "output_type": "display_data"
        },
        {
          "data": {
            "text/html": [
              "<pre style=\"white-space:pre;overflow-x:auto;line-height:normal;font-family:Menlo,'DejaVu Sans Mono',consolas,'Courier New',monospace\"><span style=\"font-weight: bold\"> Total params: </span><span style=\"color: #00af00; text-decoration-color: #00af00\">260,170</span> (1016.29 KB)\n",
              "</pre>\n"
            ],
            "text/plain": [
              "\u001b[1m Total params: \u001b[0m\u001b[38;5;34m260,170\u001b[0m (1016.29 KB)\n"
            ]
          },
          "metadata": {},
          "output_type": "display_data"
        },
        {
          "data": {
            "text/html": [
              "<pre style=\"white-space:pre;overflow-x:auto;line-height:normal;font-family:Menlo,'DejaVu Sans Mono',consolas,'Courier New',monospace\"><span style=\"font-weight: bold\"> Trainable params: </span><span style=\"color: #00af00; text-decoration-color: #00af00\">259,466</span> (1013.54 KB)\n",
              "</pre>\n"
            ],
            "text/plain": [
              "\u001b[1m Trainable params: \u001b[0m\u001b[38;5;34m259,466\u001b[0m (1013.54 KB)\n"
            ]
          },
          "metadata": {},
          "output_type": "display_data"
        },
        {
          "data": {
            "text/html": [
              "<pre style=\"white-space:pre;overflow-x:auto;line-height:normal;font-family:Menlo,'DejaVu Sans Mono',consolas,'Courier New',monospace\"><span style=\"font-weight: bold\"> Non-trainable params: </span><span style=\"color: #00af00; text-decoration-color: #00af00\">704</span> (2.75 KB)\n",
              "</pre>\n"
            ],
            "text/plain": [
              "\u001b[1m Non-trainable params: \u001b[0m\u001b[38;5;34m704\u001b[0m (2.75 KB)\n"
            ]
          },
          "metadata": {},
          "output_type": "display_data"
        }
      ],
      "source": [
        "final_model.summary()"
      ]
    },
    {
      "cell_type": "code",
      "execution_count": null,
      "metadata": {
        "colab": {
          "base_uri": "https://localhost:8080/",
          "height": 1000
        },
        "id": "PSy6jsxxIjx7",
        "outputId": "cd76e40b-92f2-4387-a2f8-dd7ef2e5b228"
      },
      "outputs": [
        {
          "name": "stdout",
          "output_type": "stream",
          "text": [
            "You must install graphviz (see instructions at https://graphviz.gitlab.io/download/) for `plot_model` to work.\n"
          ]
        }
      ],
      "source": [
        "tf.keras.utils.plot_model(final_model, \"final_model.png\", show_shapes= True)"
      ]
    },
    {
      "cell_type": "markdown",
      "source": [
        "**Обучение модели 1го поколения**"
      ],
      "metadata": {
        "id": "dFK2EmTlSb8l"
      }
    },
    {
      "cell_type": "code",
      "execution_count": null,
      "metadata": {
        "colab": {
          "base_uri": "https://localhost:8080/"
        },
        "id": "fIk4ANp6FQJ4",
        "outputId": "734190f4-a59f-4f3e-c3dd-d5df1786c706"
      },
      "outputs": [
        {
          "name": "stdout",
          "output_type": "stream",
          "text": [
            "Epoch 1/64\n",
            "\u001b[1m  1/625\u001b[0m \u001b[37m━━━━━━━━━━━━━━━━━━━━\u001b[0m \u001b[1m20:19\u001b[0m 2s/step - accuracy: 0.4844 - loss: 1.4138"
          ]
        },
        {
          "name": "stderr",
          "output_type": "stream",
          "text": [
            "E0000 00:00:1732288537.094315  298041 meta_optimizer.cc:966] remapper failed: INVALID_ARGUMENT: Mutation::Apply error: fanout 'StatefulPartitionedCall/gradient_tape/final_model_resnet_1/activation_5_1/LeakyRelu/LeakyReluGrad' exist for missing node 'StatefulPartitionedCall/final_model_resnet_1/conv2d_5_1/add'.\n"
          ]
        },
        {
          "name": "stdout",
          "output_type": "stream",
          "text": [
            "\u001b[1m625/625\u001b[0m \u001b[32m━━━━━━━━━━━━━━━━━━━━\u001b[0m\u001b[37m\u001b[0m \u001b[1m50s\u001b[0m 77ms/step - accuracy: 0.4227 - loss: 1.5538 - val_accuracy: 0.4665 - val_loss: 1.4723\n",
            "Epoch 2/64\n",
            "\u001b[1m625/625\u001b[0m \u001b[32m━━━━━━━━━━━━━━━━━━━━\u001b[0m\u001b[37m\u001b[0m \u001b[1m48s\u001b[0m 76ms/step - accuracy: 0.4887 - loss: 1.3897 - val_accuracy: 0.4681 - val_loss: 1.4999\n",
            "Epoch 3/64\n",
            "\u001b[1m625/625\u001b[0m \u001b[32m━━━━━━━━━━━━━━━━━━━━\u001b[0m\u001b[37m\u001b[0m \u001b[1m48s\u001b[0m 77ms/step - accuracy: 0.5324 - loss: 1.2899 - val_accuracy: 0.5360 - val_loss: 1.2732\n",
            "Epoch 4/64\n",
            "\u001b[1m625/625\u001b[0m \u001b[32m━━━━━━━━━━━━━━━━━━━━\u001b[0m\u001b[37m\u001b[0m \u001b[1m83s\u001b[0m 78ms/step - accuracy: 0.5716 - loss: 1.1874 - val_accuracy: 0.5355 - val_loss: 1.3029\n",
            "Epoch 5/64\n",
            "\u001b[1m625/625\u001b[0m \u001b[32m━━━━━━━━━━━━━━━━━━━━\u001b[0m\u001b[37m\u001b[0m \u001b[1m49s\u001b[0m 79ms/step - accuracy: 0.5926 - loss: 1.1353 - val_accuracy: 0.4860 - val_loss: 1.4394\n",
            "Epoch 6/64\n",
            "\u001b[1m625/625\u001b[0m \u001b[32m━━━━━━━━━━━━━━━━━━━━\u001b[0m\u001b[37m\u001b[0m \u001b[1m49s\u001b[0m 79ms/step - accuracy: 0.6217 - loss: 1.0627 - val_accuracy: 0.5761 - val_loss: 1.1905\n",
            "Epoch 7/64\n",
            "\u001b[1m625/625\u001b[0m \u001b[32m━━━━━━━━━━━━━━━━━━━━\u001b[0m\u001b[37m\u001b[0m \u001b[1m78s\u001b[0m 73ms/step - accuracy: 0.6336 - loss: 1.0237 - val_accuracy: 0.5546 - val_loss: 1.2683\n",
            "Epoch 8/64\n",
            "\u001b[1m625/625\u001b[0m \u001b[32m━━━━━━━━━━━━━━━━━━━━\u001b[0m\u001b[37m\u001b[0m \u001b[1m46s\u001b[0m 73ms/step - accuracy: 0.6547 - loss: 0.9732 - val_accuracy: 0.6397 - val_loss: 1.0053\n",
            "Epoch 9/64\n",
            "\u001b[1m625/625\u001b[0m \u001b[32m━━━━━━━━━━━━━━━━━━━━\u001b[0m\u001b[37m\u001b[0m \u001b[1m84s\u001b[0m 76ms/step - accuracy: 0.6608 - loss: 0.9541 - val_accuracy: 0.5153 - val_loss: 1.3580\n",
            "Epoch 10/64\n",
            "\u001b[1m625/625\u001b[0m \u001b[32m━━━━━━━━━━━━━━━━━━━━\u001b[0m\u001b[37m\u001b[0m \u001b[1m81s\u001b[0m 74ms/step - accuracy: 0.6752 - loss: 0.9109 - val_accuracy: 0.5962 - val_loss: 1.1409\n",
            "Epoch 11/64\n",
            "\u001b[1m625/625\u001b[0m \u001b[32m━━━━━━━━━━━━━━━━━━━━\u001b[0m\u001b[37m\u001b[0m \u001b[1m44s\u001b[0m 71ms/step - accuracy: 0.6908 - loss: 0.8742 - val_accuracy: 0.6044 - val_loss: 1.1221\n",
            "Epoch 12/64\n",
            "\u001b[1m625/625\u001b[0m \u001b[32m━━━━━━━━━━━━━━━━━━━━\u001b[0m\u001b[37m\u001b[0m \u001b[1m40s\u001b[0m 65ms/step - accuracy: 0.7046 - loss: 0.8405 - val_accuracy: 0.5603 - val_loss: 1.3664\n",
            "Epoch 13/64\n",
            "\u001b[1m625/625\u001b[0m \u001b[32m━━━━━━━━━━━━━━━━━━━━\u001b[0m\u001b[37m\u001b[0m \u001b[1m41s\u001b[0m 65ms/step - accuracy: 0.7086 - loss: 0.8233 - val_accuracy: 0.5498 - val_loss: 1.3228\n",
            "Epoch 14/64\n",
            "\u001b[1m625/625\u001b[0m \u001b[32m━━━━━━━━━━━━━━━━━━━━\u001b[0m\u001b[37m\u001b[0m \u001b[1m40s\u001b[0m 64ms/step - accuracy: 0.7173 - loss: 0.8017 - val_accuracy: 0.6644 - val_loss: 0.9581\n",
            "Epoch 15/64\n",
            "\u001b[1m625/625\u001b[0m \u001b[32m━━━━━━━━━━━━━━━━━━━━\u001b[0m\u001b[37m\u001b[0m \u001b[1m41s\u001b[0m 66ms/step - accuracy: 0.7277 - loss: 0.7756 - val_accuracy: 0.7060 - val_loss: 0.8187\n",
            "Epoch 16/64\n",
            "\u001b[1m625/625\u001b[0m \u001b[32m━━━━━━━━━━━━━━━━━━━━\u001b[0m\u001b[37m\u001b[0m \u001b[1m83s\u001b[0m 67ms/step - accuracy: 0.7321 - loss: 0.7578 - val_accuracy: 0.6392 - val_loss: 1.1018\n",
            "Epoch 17/64\n",
            "\u001b[1m625/625\u001b[0m \u001b[32m━━━━━━━━━━━━━━━━━━━━\u001b[0m\u001b[37m\u001b[0m \u001b[1m41s\u001b[0m 66ms/step - accuracy: 0.7455 - loss: 0.7303 - val_accuracy: 0.6750 - val_loss: 0.9307\n",
            "Epoch 18/64\n",
            "\u001b[1m625/625\u001b[0m \u001b[32m━━━━━━━━━━━━━━━━━━━━\u001b[0m\u001b[37m\u001b[0m \u001b[1m42s\u001b[0m 66ms/step - accuracy: 0.7477 - loss: 0.7185 - val_accuracy: 0.6607 - val_loss: 0.9775\n",
            "Epoch 19/64\n",
            "\u001b[1m625/625\u001b[0m \u001b[32m━━━━━━━━━━━━━━━━━━━━\u001b[0m\u001b[37m\u001b[0m \u001b[1m82s\u001b[0m 66ms/step - accuracy: 0.7572 - loss: 0.6884 - val_accuracy: 0.6977 - val_loss: 0.8505\n",
            "Epoch 20/64\n",
            "\u001b[1m625/625\u001b[0m \u001b[32m━━━━━━━━━━━━━━━━━━━━\u001b[0m\u001b[37m\u001b[0m \u001b[1m41s\u001b[0m 66ms/step - accuracy: 0.7630 - loss: 0.6775 - val_accuracy: 0.6341 - val_loss: 1.1642\n",
            "Epoch 21/64\n",
            "\u001b[1m625/625\u001b[0m \u001b[32m━━━━━━━━━━━━━━━━━━━━\u001b[0m\u001b[37m\u001b[0m \u001b[1m42s\u001b[0m 67ms/step - accuracy: 0.7683 - loss: 0.6571 - val_accuracy: 0.7348 - val_loss: 0.7603\n",
            "Epoch 22/64\n",
            "\u001b[1m625/625\u001b[0m \u001b[32m━━━━━━━━━━━━━━━━━━━━\u001b[0m\u001b[37m\u001b[0m \u001b[1m82s\u001b[0m 68ms/step - accuracy: 0.7717 - loss: 0.6483 - val_accuracy: 0.6636 - val_loss: 0.9815\n",
            "Epoch 23/64\n",
            "\u001b[1m625/625\u001b[0m \u001b[32m━━━━━━━━━━━━━━━━━━━━\u001b[0m\u001b[37m\u001b[0m \u001b[1m42s\u001b[0m 67ms/step - accuracy: 0.7785 - loss: 0.6330 - val_accuracy: 0.7015 - val_loss: 0.8827\n",
            "Epoch 24/64\n",
            "\u001b[1m625/625\u001b[0m \u001b[32m━━━━━━━━━━━━━━━━━━━━\u001b[0m\u001b[37m\u001b[0m \u001b[1m81s\u001b[0m 66ms/step - accuracy: 0.7757 - loss: 0.6380 - val_accuracy: 0.7097 - val_loss: 0.8308\n",
            "Epoch 25/64\n",
            "\u001b[1m625/625\u001b[0m \u001b[32m━━━━━━━━━━━━━━━━━━━━\u001b[0m\u001b[37m\u001b[0m \u001b[1m83s\u001b[0m 68ms/step - accuracy: 0.7883 - loss: 0.6068 - val_accuracy: 0.6648 - val_loss: 1.0136\n",
            "Epoch 26/64\n",
            "\u001b[1m625/625\u001b[0m \u001b[32m━━━━━━━━━━━━━━━━━━━━\u001b[0m\u001b[37m\u001b[0m \u001b[1m42s\u001b[0m 67ms/step - accuracy: 0.7989 - loss: 0.5882 - val_accuracy: 0.7315 - val_loss: 0.7669\n",
            "Epoch 27/64\n",
            "\u001b[1m625/625\u001b[0m \u001b[32m━━━━━━━━━━━━━━━━━━━━\u001b[0m\u001b[37m\u001b[0m \u001b[1m41s\u001b[0m 66ms/step - accuracy: 0.7988 - loss: 0.5773 - val_accuracy: 0.6483 - val_loss: 1.1813\n",
            "Epoch 28/64\n",
            "\u001b[1m625/625\u001b[0m \u001b[32m━━━━━━━━━━━━━━━━━━━━\u001b[0m\u001b[37m\u001b[0m \u001b[1m41s\u001b[0m 66ms/step - accuracy: 0.8024 - loss: 0.5663 - val_accuracy: 0.7049 - val_loss: 0.8663\n",
            "Epoch 29/64\n",
            "\u001b[1m625/625\u001b[0m \u001b[32m━━━━━━━━━━━━━━━━━━━━\u001b[0m\u001b[37m\u001b[0m \u001b[1m41s\u001b[0m 65ms/step - accuracy: 0.8045 - loss: 0.5597 - val_accuracy: 0.7161 - val_loss: 0.8162\n",
            "Epoch 30/64\n",
            "\u001b[1m625/625\u001b[0m \u001b[32m━━━━━━━━━━━━━━━━━━━━\u001b[0m\u001b[37m\u001b[0m \u001b[1m41s\u001b[0m 66ms/step - accuracy: 0.8055 - loss: 0.5525 - val_accuracy: 0.6448 - val_loss: 1.0613\n",
            "Epoch 31/64\n",
            "\u001b[1m625/625\u001b[0m \u001b[32m━━━━━━━━━━━━━━━━━━━━\u001b[0m\u001b[37m\u001b[0m \u001b[1m41s\u001b[0m 66ms/step - accuracy: 0.8144 - loss: 0.5332 - val_accuracy: 0.6595 - val_loss: 1.0495\n",
            "Epoch 32/64\n",
            "\u001b[1m625/625\u001b[0m \u001b[32m━━━━━━━━━━━━━━━━━━━━\u001b[0m\u001b[37m\u001b[0m \u001b[1m42s\u001b[0m 67ms/step - accuracy: 0.8168 - loss: 0.5238 - val_accuracy: 0.6674 - val_loss: 1.0513\n",
            "Epoch 33/64\n",
            "\u001b[1m625/625\u001b[0m \u001b[32m━━━━━━━━━━━━━━━━━━━━\u001b[0m\u001b[37m\u001b[0m \u001b[1m82s\u001b[0m 67ms/step - accuracy: 0.8214 - loss: 0.5110 - val_accuracy: 0.7117 - val_loss: 0.8961\n",
            "Epoch 34/64\n",
            "\u001b[1m625/625\u001b[0m \u001b[32m━━━━━━━━━━━━━━━━━━━━\u001b[0m\u001b[37m\u001b[0m \u001b[1m42s\u001b[0m 67ms/step - accuracy: 0.8258 - loss: 0.5011 - val_accuracy: 0.6941 - val_loss: 1.0094\n",
            "Epoch 35/64\n",
            "\u001b[1m625/625\u001b[0m \u001b[32m━━━━━━━━━━━━━━━━━━━━\u001b[0m\u001b[37m\u001b[0m \u001b[1m42s\u001b[0m 67ms/step - accuracy: 0.8257 - loss: 0.4973 - val_accuracy: 0.7547 - val_loss: 0.7098\n",
            "Epoch 36/64\n",
            "\u001b[1m625/625\u001b[0m \u001b[32m━━━━━━━━━━━━━━━━━━━━\u001b[0m\u001b[37m\u001b[0m \u001b[1m41s\u001b[0m 66ms/step - accuracy: 0.8343 - loss: 0.4803 - val_accuracy: 0.7235 - val_loss: 0.8160\n",
            "Epoch 37/64\n",
            "\u001b[1m625/625\u001b[0m \u001b[32m━━━━━━━━━━━━━━━━━━━━\u001b[0m\u001b[37m\u001b[0m \u001b[1m41s\u001b[0m 66ms/step - accuracy: 0.8323 - loss: 0.4751 - val_accuracy: 0.7254 - val_loss: 0.8154\n",
            "Epoch 38/64\n",
            "\u001b[1m625/625\u001b[0m \u001b[32m━━━━━━━━━━━━━━━━━━━━\u001b[0m\u001b[37m\u001b[0m \u001b[1m42s\u001b[0m 67ms/step - accuracy: 0.8359 - loss: 0.4711 - val_accuracy: 0.6848 - val_loss: 0.9468\n",
            "Epoch 39/64\n",
            "\u001b[1m625/625\u001b[0m \u001b[32m━━━━━━━━━━━━━━━━━━━━\u001b[0m\u001b[37m\u001b[0m \u001b[1m41s\u001b[0m 66ms/step - accuracy: 0.8440 - loss: 0.4531 - val_accuracy: 0.7510 - val_loss: 0.7423\n",
            "Epoch 40/64\n",
            "\u001b[1m625/625\u001b[0m \u001b[32m━━━━━━━━━━━━━━━━━━━━\u001b[0m\u001b[37m\u001b[0m \u001b[1m42s\u001b[0m 67ms/step - accuracy: 0.8398 - loss: 0.4495 - val_accuracy: 0.7068 - val_loss: 0.9020\n",
            "Epoch 41/64\n",
            "\u001b[1m625/625\u001b[0m \u001b[32m━━━━━━━━━━━━━━━━━━━━\u001b[0m\u001b[37m\u001b[0m \u001b[1m42s\u001b[0m 67ms/step - accuracy: 0.8417 - loss: 0.4492 - val_accuracy: 0.6447 - val_loss: 1.3130\n",
            "Epoch 42/64\n",
            "\u001b[1m625/625\u001b[0m \u001b[32m━━━━━━━━━━━━━━━━━━━━\u001b[0m\u001b[37m\u001b[0m \u001b[1m82s\u001b[0m 67ms/step - accuracy: 0.8510 - loss: 0.4315 - val_accuracy: 0.7357 - val_loss: 0.8165\n",
            "Epoch 43/64\n",
            "\u001b[1m625/625\u001b[0m \u001b[32m━━━━━━━━━━━━━━━━━━━━\u001b[0m\u001b[37m\u001b[0m \u001b[1m41s\u001b[0m 66ms/step - accuracy: 0.8521 - loss: 0.4249 - val_accuracy: 0.6713 - val_loss: 1.0743\n",
            "Epoch 44/64\n",
            "\u001b[1m625/625\u001b[0m \u001b[32m━━━━━━━━━━━━━━━━━━━━\u001b[0m\u001b[37m\u001b[0m \u001b[1m84s\u001b[0m 70ms/step - accuracy: 0.8546 - loss: 0.4169 - val_accuracy: 0.7195 - val_loss: 0.9616\n",
            "Epoch 45/64\n",
            "\u001b[1m625/625\u001b[0m \u001b[32m━━━━━━━━━━━━━━━━━━━━\u001b[0m\u001b[37m\u001b[0m \u001b[1m44s\u001b[0m 70ms/step - accuracy: 0.8582 - loss: 0.4076 - val_accuracy: 0.6569 - val_loss: 1.2153\n",
            "Epoch 46/64\n",
            "\u001b[1m625/625\u001b[0m \u001b[32m━━━━━━━━━━━━━━━━━━━━\u001b[0m\u001b[37m\u001b[0m \u001b[1m80s\u001b[0m 67ms/step - accuracy: 0.8581 - loss: 0.3997 - val_accuracy: 0.6685 - val_loss: 1.0883\n",
            "Epoch 47/64\n",
            "\u001b[1m625/625\u001b[0m \u001b[32m━━━━━━━━━━━━━━━━━━━━\u001b[0m\u001b[37m\u001b[0m \u001b[1m82s\u001b[0m 67ms/step - accuracy: 0.8630 - loss: 0.3901 - val_accuracy: 0.6767 - val_loss: 1.1339\n",
            "Epoch 48/64\n",
            "\u001b[1m625/625\u001b[0m \u001b[32m━━━━━━━━━━━━━━━━━━━━\u001b[0m\u001b[37m\u001b[0m \u001b[1m42s\u001b[0m 67ms/step - accuracy: 0.8705 - loss: 0.3734 - val_accuracy: 0.7242 - val_loss: 0.8683\n",
            "Epoch 49/64\n",
            "\u001b[1m625/625\u001b[0m \u001b[32m━━━━━━━━━━━━━━━━━━━━\u001b[0m\u001b[37m\u001b[0m \u001b[1m83s\u001b[0m 69ms/step - accuracy: 0.8714 - loss: 0.3717 - val_accuracy: 0.6982 - val_loss: 1.0373\n",
            "Epoch 50/64\n",
            "\u001b[1m625/625\u001b[0m \u001b[32m━━━━━━━━━━━━━━━━━━━━\u001b[0m\u001b[37m\u001b[0m \u001b[1m81s\u001b[0m 68ms/step - accuracy: 0.8710 - loss: 0.3677 - val_accuracy: 0.7517 - val_loss: 0.7841\n",
            "Epoch 51/64\n",
            "\u001b[1m625/625\u001b[0m \u001b[32m━━━━━━━━━━━━━━━━━━━━\u001b[0m\u001b[37m\u001b[0m \u001b[1m81s\u001b[0m 66ms/step - accuracy: 0.8679 - loss: 0.3757 - val_accuracy: 0.7237 - val_loss: 0.9297\n",
            "Epoch 52/64\n",
            "\u001b[1m625/625\u001b[0m \u001b[32m━━━━━━━━━━━━━━━━━━━━\u001b[0m\u001b[37m\u001b[0m \u001b[1m41s\u001b[0m 66ms/step - accuracy: 0.8767 - loss: 0.3539 - val_accuracy: 0.7807 - val_loss: 0.6750\n",
            "Epoch 53/64\n",
            "\u001b[1m625/625\u001b[0m \u001b[32m━━━━━━━━━━━━━━━━━━━━\u001b[0m\u001b[37m\u001b[0m \u001b[1m42s\u001b[0m 67ms/step - accuracy: 0.8779 - loss: 0.3555 - val_accuracy: 0.6374 - val_loss: 1.3125\n",
            "Epoch 54/64\n",
            "\u001b[1m625/625\u001b[0m \u001b[32m━━━━━━━━━━━━━━━━━━━━\u001b[0m\u001b[37m\u001b[0m \u001b[1m82s\u001b[0m 67ms/step - accuracy: 0.8855 - loss: 0.3358 - val_accuracy: 0.6949 - val_loss: 1.1399\n",
            "Epoch 55/64\n",
            "\u001b[1m625/625\u001b[0m \u001b[32m━━━━━━━━━━━━━━━━━━━━\u001b[0m\u001b[37m\u001b[0m \u001b[1m41s\u001b[0m 66ms/step - accuracy: 0.8828 - loss: 0.3342 - val_accuracy: 0.6557 - val_loss: 1.3215\n",
            "Epoch 56/64\n",
            "\u001b[1m625/625\u001b[0m \u001b[32m━━━━━━━━━━━━━━━━━━━━\u001b[0m\u001b[37m\u001b[0m \u001b[1m42s\u001b[0m 67ms/step - accuracy: 0.8854 - loss: 0.3239 - val_accuracy: 0.7219 - val_loss: 0.9279\n",
            "Epoch 57/64\n",
            "\u001b[1m625/625\u001b[0m \u001b[32m━━━━━━━━━━━━━━━━━━━━\u001b[0m\u001b[37m\u001b[0m \u001b[1m82s\u001b[0m 67ms/step - accuracy: 0.8912 - loss: 0.3143 - val_accuracy: 0.7744 - val_loss: 0.7385\n",
            "Epoch 58/64\n",
            "\u001b[1m625/625\u001b[0m \u001b[32m━━━━━━━━━━━━━━━━━━━━\u001b[0m\u001b[37m\u001b[0m \u001b[1m82s\u001b[0m 66ms/step - accuracy: 0.8921 - loss: 0.3079 - val_accuracy: 0.7687 - val_loss: 0.7191\n",
            "Epoch 59/64\n",
            "\u001b[1m625/625\u001b[0m \u001b[32m━━━━━━━━━━━━━━━━━━━━\u001b[0m\u001b[37m\u001b[0m \u001b[1m41s\u001b[0m 66ms/step - accuracy: 0.8896 - loss: 0.3055 - val_accuracy: 0.7318 - val_loss: 0.9268\n",
            "Epoch 60/64\n",
            "\u001b[1m625/625\u001b[0m \u001b[32m━━━━━━━━━━━━━━━━━━━━\u001b[0m\u001b[37m\u001b[0m \u001b[1m81s\u001b[0m 66ms/step - accuracy: 0.8935 - loss: 0.2999 - val_accuracy: 0.7236 - val_loss: 0.9295\n",
            "Epoch 61/64\n",
            "\u001b[1m625/625\u001b[0m \u001b[32m━━━━━━━━━━━━━━━━━━━━\u001b[0m\u001b[37m\u001b[0m \u001b[1m82s\u001b[0m 66ms/step - accuracy: 0.8994 - loss: 0.2889 - val_accuracy: 0.6457 - val_loss: 1.4129\n",
            "Epoch 62/64\n",
            "\u001b[1m625/625\u001b[0m \u001b[32m━━━━━━━━━━━━━━━━━━━━\u001b[0m\u001b[37m\u001b[0m \u001b[1m41s\u001b[0m 65ms/step - accuracy: 0.8976 - loss: 0.2909 - val_accuracy: 0.7460 - val_loss: 0.8608\n",
            "Epoch 63/64\n",
            "\u001b[1m625/625\u001b[0m \u001b[32m━━━━━━━━━━━━━━━━━━━━\u001b[0m\u001b[37m\u001b[0m \u001b[1m42s\u001b[0m 66ms/step - accuracy: 0.9010 - loss: 0.2782 - val_accuracy: 0.7298 - val_loss: 0.9994\n",
            "Epoch 64/64\n",
            "\u001b[1m625/625\u001b[0m \u001b[32m━━━━━━━━━━━━━━━━━━━━\u001b[0m\u001b[37m\u001b[0m \u001b[1m82s\u001b[0m 66ms/step - accuracy: 0.9044 - loss: 0.2740 - val_accuracy: 0.6695 - val_loss: 1.3190\n"
          ]
        },
        {
          "data": {
            "text/plain": [
              "<keras.src.callbacks.history.History at 0x7f6d66e93170>"
            ]
          },
          "execution_count": 10,
          "metadata": {},
          "output_type": "execute_result"
        }
      ],
      "source": [
        "## TODO\n",
        "final_model.compile(\n",
        "    optimizer= tf.keras.optimizers.SGD(\n",
        "       learning_rate= .005,\n",
        "       momentum= 1/4,\n",
        "       nesterov= True\n",
        "    ),\n",
        "    loss= categorical_crossentropy,\n",
        "    metrics= ['accuracy']\n",
        ")\n",
        "final_model.fit(\n",
        "    X_train,\n",
        "    y_train,\n",
        "    batch_size= 64,\n",
        "    epochs= 64,\n",
        "    validation_data= (X_val, y_val),\n",
        "    callbacks= final_callbacks\n",
        ")"
      ]
    },
    {
      "cell_type": "markdown",
      "metadata": {
        "id": "8Mm6fAOTxje1"
      },
      "source": [
        "Момент истины: проверьте, какого качества достигла ваша сеть."
      ]
    },
    {
      "cell_type": "code",
      "execution_count": null,
      "metadata": {
        "colab": {
          "base_uri": "https://localhost:8080/"
        },
        "id": "BgUcJYLzxje2",
        "outputId": "e682d4b8-40d3-4826-fd13-d7ab557a6035"
      },
      "outputs": [
        {
          "name": "stdout",
          "output_type": "stream",
          "text": [
            "\u001b[1m313/313\u001b[0m \u001b[32m━━━━━━━━━━━━━━━━━━━━\u001b[0m\u001b[37m\u001b[0m \u001b[1m4s\u001b[0m 11ms/step\n",
            "\n",
            " Test_acc = 0.6635\n"
          ]
        }
      ],
      "source": [
        "predict_x= final_model.predict(X_test)\n",
        "classes_x= np.argmax(predict_x, axis= 1)\n",
        "\n",
        "test_acc = accuracy_score(y_test, classes_x)\n",
        "print(\"\\n Test_acc =\", test_acc)\n",
        "if test_acc > 0.8:\n",
        "    print(\"Это победа!\")"
      ]
    },
    {
      "cell_type": "code",
      "execution_count": null,
      "metadata": {
        "colab": {
          "base_uri": "https://localhost:8080/"
        },
        "id": "lWjfDxOAEAhQ",
        "outputId": "b27d9a6a-cbcf-4c89-c247-31acccf76907"
      },
      "outputs": [
        {
          "name": "stdout",
          "output_type": "stream",
          "text": [
            "              precision    recall  f1-score   support\n",
            "\n",
            "           0       0.74      0.80      0.77      1000\n",
            "           1       0.68      0.94      0.79      1000\n",
            "           2       0.66      0.59      0.63      1000\n",
            "           3       0.51      0.64      0.57      1000\n",
            "           4       0.92      0.21      0.34      1000\n",
            "           5       0.91      0.33      0.49      1000\n",
            "           6       0.43      0.96      0.59      1000\n",
            "           7       0.91      0.56      0.70      1000\n",
            "           8       0.95      0.71      0.81      1000\n",
            "           9       0.74      0.88      0.80      1000\n",
            "\n",
            "    accuracy                           0.66     10000\n",
            "   macro avg       0.75      0.66      0.65     10000\n",
            "weighted avg       0.75      0.66      0.65     10000\n",
            "\n"
          ]
        }
      ],
      "source": [
        "print(classification_report(y_test, classes_x))"
      ]
    },
    {
      "cell_type": "markdown",
      "source": [
        "**Попытка дообучить модель 1го поколения**"
      ],
      "metadata": {
        "id": "Wv98sSHJSpfl"
      }
    },
    {
      "cell_type": "code",
      "execution_count": null,
      "metadata": {
        "id": "VaCKBR77FsRp"
      },
      "outputs": [],
      "source": [
        "new_final_callbacks = [\n",
        "    tf.keras.callbacks.ModelCheckpoint(filepath= './new_model_dg/new_model_dg.{epoch:02d}-{val_loss:.2f}.h5.keras'),\n",
        "    tf.keras.callbacks.TensorBoard(log_dir= './new_model_dg_logs')\n",
        "]"
      ]
    },
    {
      "cell_type": "code",
      "execution_count": null,
      "metadata": {
        "id": "JVsDS4H_FsRp",
        "outputId": "76e853b5-b724-402d-c026-ed8eb0e39f87"
      },
      "outputs": [
        {
          "name": "stdout",
          "output_type": "stream",
          "text": [
            "Epoch 1/32\n"
          ]
        },
        {
          "name": "stderr",
          "output_type": "stream",
          "text": [
            "E0000 00:00:1732334218.041726  502261 meta_optimizer.cc:966] remapper failed: INVALID_ARGUMENT: Mutation::Apply error: fanout 'StatefulPartitionedCall/gradient_tape/final_model_resnet_1/activation_5_1/LeakyRelu/LeakyReluGrad' exist for missing node 'StatefulPartitionedCall/final_model_resnet_1/conv2d_5_1/add'.\n"
          ]
        },
        {
          "name": "stdout",
          "output_type": "stream",
          "text": [
            "\u001b[1m625/625\u001b[0m \u001b[32m━━━━━━━━━━━━━━━━━━━━\u001b[0m\u001b[37m\u001b[0m \u001b[1m49s\u001b[0m 76ms/step - accuracy: 0.8784 - loss: 0.3483 - val_accuracy: 0.6435 - val_loss: 1.2710\n",
            "Epoch 2/32\n",
            "\u001b[1m625/625\u001b[0m \u001b[32m━━━━━━━━━━━━━━━━━━━━\u001b[0m\u001b[37m\u001b[0m \u001b[1m98s\u001b[0m 101ms/step - accuracy: 0.8826 - loss: 0.3403 - val_accuracy: 0.7503 - val_loss: 0.7816\n",
            "Epoch 3/32\n",
            "\u001b[1m625/625\u001b[0m \u001b[32m━━━━━━━━━━━━━━━━━━━━\u001b[0m\u001b[37m\u001b[0m \u001b[1m83s\u001b[0m 103ms/step - accuracy: 0.8808 - loss: 0.3361 - val_accuracy: 0.7154 - val_loss: 0.9201\n",
            "Epoch 4/32\n",
            "\u001b[1m625/625\u001b[0m \u001b[32m━━━━━━━━━━━━━━━━━━━━\u001b[0m\u001b[37m\u001b[0m \u001b[1m65s\u001b[0m 104ms/step - accuracy: 0.8861 - loss: 0.3223 - val_accuracy: 0.6733 - val_loss: 1.2225\n",
            "Epoch 5/32\n",
            "\u001b[1m625/625\u001b[0m \u001b[32m━━━━━━━━━━━━━━━━━━━━\u001b[0m\u001b[37m\u001b[0m \u001b[1m63s\u001b[0m 74ms/step - accuracy: 0.8895 - loss: 0.3176 - val_accuracy: 0.6582 - val_loss: 1.2673\n",
            "Epoch 6/32\n",
            "\u001b[1m625/625\u001b[0m \u001b[32m━━━━━━━━━━━━━━━━━━━━\u001b[0m\u001b[37m\u001b[0m \u001b[1m45s\u001b[0m 72ms/step - accuracy: 0.8907 - loss: 0.3112 - val_accuracy: 0.7364 - val_loss: 0.9146\n",
            "Epoch 7/32\n",
            "\u001b[1m625/625\u001b[0m \u001b[32m━━━━━━━━━━━━━━━━━━━━\u001b[0m\u001b[37m\u001b[0m \u001b[1m45s\u001b[0m 72ms/step - accuracy: 0.8959 - loss: 0.3001 - val_accuracy: 0.7054 - val_loss: 1.0787\n",
            "Epoch 8/32\n",
            "\u001b[1m625/625\u001b[0m \u001b[32m━━━━━━━━━━━━━━━━━━━━\u001b[0m\u001b[37m\u001b[0m \u001b[1m45s\u001b[0m 72ms/step - accuracy: 0.8948 - loss: 0.3016 - val_accuracy: 0.6846 - val_loss: 1.1923\n",
            "Epoch 9/32\n",
            "\u001b[1m625/625\u001b[0m \u001b[32m━━━━━━━━━━━━━━━━━━━━\u001b[0m\u001b[37m\u001b[0m \u001b[1m83s\u001b[0m 74ms/step - accuracy: 0.8965 - loss: 0.2888 - val_accuracy: 0.7116 - val_loss: 1.0245\n",
            "Epoch 10/32\n",
            "\u001b[1m625/625\u001b[0m \u001b[32m━━━━━━━━━━━━━━━━━━━━\u001b[0m\u001b[37m\u001b[0m \u001b[1m79s\u001b[0m 69ms/step - accuracy: 0.9000 - loss: 0.2850 - val_accuracy: 0.7477 - val_loss: 0.8486\n",
            "Epoch 11/32\n",
            "\u001b[1m625/625\u001b[0m \u001b[32m━━━━━━━━━━━━━━━━━━━━\u001b[0m\u001b[37m\u001b[0m \u001b[1m79s\u001b[0m 64ms/step - accuracy: 0.9031 - loss: 0.2763 - val_accuracy: 0.7448 - val_loss: 0.9003\n",
            "Epoch 12/32\n",
            "\u001b[1m625/625\u001b[0m \u001b[32m━━━━━━━━━━━━━━━━━━━━\u001b[0m\u001b[37m\u001b[0m \u001b[1m41s\u001b[0m 64ms/step - accuracy: 0.9083 - loss: 0.2642 - val_accuracy: 0.7421 - val_loss: 0.8632\n",
            "Epoch 13/32\n",
            "\u001b[1m625/625\u001b[0m \u001b[32m━━━━━━━━━━━━━━━━━━━━\u001b[0m\u001b[37m\u001b[0m \u001b[1m42s\u001b[0m 66ms/step - accuracy: 0.9038 - loss: 0.2718 - val_accuracy: 0.6624 - val_loss: 1.5468\n",
            "Epoch 14/32\n",
            "\u001b[1m625/625\u001b[0m \u001b[32m━━━━━━━━━━━━━━━━━━━━\u001b[0m\u001b[37m\u001b[0m \u001b[1m81s\u001b[0m 64ms/step - accuracy: 0.9066 - loss: 0.2682 - val_accuracy: 0.7888 - val_loss: 0.7590\n",
            "Epoch 15/32\n",
            "\u001b[1m625/625\u001b[0m \u001b[32m━━━━━━━━━━━━━━━━━━━━\u001b[0m\u001b[37m\u001b[0m \u001b[1m40s\u001b[0m 64ms/step - accuracy: 0.9088 - loss: 0.2574 - val_accuracy: 0.6699 - val_loss: 1.5774\n",
            "Epoch 16/32\n",
            "\u001b[1m625/625\u001b[0m \u001b[32m━━━━━━━━━━━━━━━━━━━━\u001b[0m\u001b[37m\u001b[0m \u001b[1m40s\u001b[0m 64ms/step - accuracy: 0.9127 - loss: 0.2508 - val_accuracy: 0.7334 - val_loss: 0.9666\n",
            "Epoch 17/32\n",
            "\u001b[1m625/625\u001b[0m \u001b[32m━━━━━━━━━━━━━━━━━━━━\u001b[0m\u001b[37m\u001b[0m \u001b[1m41s\u001b[0m 64ms/step - accuracy: 0.9119 - loss: 0.2478 - val_accuracy: 0.7022 - val_loss: 1.1708\n",
            "Epoch 18/32\n",
            "\u001b[1m625/625\u001b[0m \u001b[32m━━━━━━━━━━━━━━━━━━━━\u001b[0m\u001b[37m\u001b[0m \u001b[1m40s\u001b[0m 64ms/step - accuracy: 0.9148 - loss: 0.2447 - val_accuracy: 0.7653 - val_loss: 0.7958\n",
            "Epoch 19/32\n",
            "\u001b[1m625/625\u001b[0m \u001b[32m━━━━━━━━━━━━━━━━━━━━\u001b[0m\u001b[37m\u001b[0m \u001b[1m41s\u001b[0m 65ms/step - accuracy: 0.9201 - loss: 0.2313 - val_accuracy: 0.7115 - val_loss: 1.0830\n",
            "Epoch 20/32\n",
            "\u001b[1m625/625\u001b[0m \u001b[32m━━━━━━━━━━━━━━━━━━━━\u001b[0m\u001b[37m\u001b[0m \u001b[1m41s\u001b[0m 65ms/step - accuracy: 0.9196 - loss: 0.2293 - val_accuracy: 0.7060 - val_loss: 1.0623\n",
            "Epoch 21/32\n",
            "\u001b[1m625/625\u001b[0m \u001b[32m━━━━━━━━━━━━━━━━━━━━\u001b[0m\u001b[37m\u001b[0m \u001b[1m41s\u001b[0m 66ms/step - accuracy: 0.9238 - loss: 0.2238 - val_accuracy: 0.7476 - val_loss: 0.8441\n",
            "Epoch 22/32\n",
            "\u001b[1m625/625\u001b[0m \u001b[32m━━━━━━━━━━━━━━━━━━━━\u001b[0m\u001b[37m\u001b[0m \u001b[1m82s\u001b[0m 66ms/step - accuracy: 0.9241 - loss: 0.2181 - val_accuracy: 0.6816 - val_loss: 1.2473\n",
            "Epoch 23/32\n",
            "\u001b[1m625/625\u001b[0m \u001b[32m━━━━━━━━━━━━━━━━━━━━\u001b[0m\u001b[37m\u001b[0m \u001b[1m42s\u001b[0m 67ms/step - accuracy: 0.9273 - loss: 0.2079 - val_accuracy: 0.7261 - val_loss: 1.0238\n",
            "Epoch 24/32\n",
            "\u001b[1m625/625\u001b[0m \u001b[32m━━━━━━━━━━━━━━━━━━━━\u001b[0m\u001b[37m\u001b[0m \u001b[1m41s\u001b[0m 66ms/step - accuracy: 0.9242 - loss: 0.2123 - val_accuracy: 0.7141 - val_loss: 1.1084\n",
            "Epoch 25/32\n",
            "\u001b[1m625/625\u001b[0m \u001b[32m━━━━━━━━━━━━━━━━━━━━\u001b[0m\u001b[37m\u001b[0m \u001b[1m83s\u001b[0m 68ms/step - accuracy: 0.9258 - loss: 0.2102 - val_accuracy: 0.7586 - val_loss: 0.8652\n",
            "Epoch 26/32\n",
            "\u001b[1m625/625\u001b[0m \u001b[32m━━━━━━━━━━━━━━━━━━━━\u001b[0m\u001b[37m\u001b[0m \u001b[1m80s\u001b[0m 65ms/step - accuracy: 0.9293 - loss: 0.2045 - val_accuracy: 0.7416 - val_loss: 1.0462\n",
            "Epoch 27/32\n",
            "\u001b[1m625/625\u001b[0m \u001b[32m━━━━━━━━━━━━━━━━━━━━\u001b[0m\u001b[37m\u001b[0m \u001b[1m41s\u001b[0m 65ms/step - accuracy: 0.9302 - loss: 0.2000 - val_accuracy: 0.6886 - val_loss: 1.3308\n",
            "Epoch 28/32\n",
            "\u001b[1m625/625\u001b[0m \u001b[32m━━━━━━━━━━━━━━━━━━━━\u001b[0m\u001b[37m\u001b[0m \u001b[1m41s\u001b[0m 65ms/step - accuracy: 0.9317 - loss: 0.1944 - val_accuracy: 0.6610 - val_loss: 1.4959\n",
            "Epoch 29/32\n",
            "\u001b[1m625/625\u001b[0m \u001b[32m━━━━━━━━━━━━━━━━━━━━\u001b[0m\u001b[37m\u001b[0m \u001b[1m41s\u001b[0m 65ms/step - accuracy: 0.9362 - loss: 0.1869 - val_accuracy: 0.6719 - val_loss: 1.3525\n",
            "Epoch 30/32\n",
            "\u001b[1m625/625\u001b[0m \u001b[32m━━━━━━━━━━━━━━━━━━━━\u001b[0m\u001b[37m\u001b[0m \u001b[1m40s\u001b[0m 64ms/step - accuracy: 0.9372 - loss: 0.1772 - val_accuracy: 0.6542 - val_loss: 1.5219\n",
            "Epoch 31/32\n",
            "\u001b[1m625/625\u001b[0m \u001b[32m━━━━━━━━━━━━━━━━━━━━\u001b[0m\u001b[37m\u001b[0m \u001b[1m42s\u001b[0m 66ms/step - accuracy: 0.9357 - loss: 0.1815 - val_accuracy: 0.6824 - val_loss: 1.4553\n",
            "Epoch 32/32\n",
            "\u001b[1m625/625\u001b[0m \u001b[32m━━━━━━━━━━━━━━━━━━━━\u001b[0m\u001b[37m\u001b[0m \u001b[1m82s\u001b[0m 65ms/step - accuracy: 0.9372 - loss: 0.1780 - val_accuracy: 0.7305 - val_loss: 1.1086\n"
          ]
        },
        {
          "data": {
            "text/plain": [
              "<keras.src.callbacks.history.History at 0x7faa27a90680>"
            ]
          },
          "execution_count": 7,
          "metadata": {},
          "output_type": "execute_result"
        }
      ],
      "source": [
        "## TODO\n",
        "new_final_model.compile(\n",
        "    optimizer= tf.keras.optimizers.SGD(\n",
        "       learning_rate= .005,\n",
        "       momentum= 1/4,\n",
        "       nesterov= True\n",
        "    ),\n",
        "    loss= categorical_crossentropy,\n",
        "    metrics= ['accuracy']\n",
        ")\n",
        "new_final_model.fit(\n",
        "    X_train,\n",
        "    y_train,\n",
        "    batch_size= 64,\n",
        "    epochs= 32,\n",
        "    validation_data= (X_val, y_val),\n",
        "    callbacks= new_final_callbacks\n",
        ")"
      ]
    },
    {
      "cell_type": "code",
      "execution_count": null,
      "metadata": {
        "id": "c4H829rTFsRp",
        "outputId": "dc326401-2ce7-497b-b818-6e560ce07d0d"
      },
      "outputs": [
        {
          "name": "stdout",
          "output_type": "stream",
          "text": [
            "\u001b[1m313/313\u001b[0m \u001b[32m━━━━━━━━━━━━━━━━━━━━\u001b[0m\u001b[37m\u001b[0m \u001b[1m3s\u001b[0m 11ms/step\n",
            "              precision    recall  f1-score   support\n",
            "\n",
            "           0       0.69      0.90      0.78      1000\n",
            "           1       0.99      0.62      0.76      1000\n",
            "           2       0.72      0.68      0.70      1000\n",
            "           3       0.43      0.88      0.58      1000\n",
            "           4       0.74      0.81      0.77      1000\n",
            "           5       0.95      0.29      0.45      1000\n",
            "           6       0.95      0.59      0.73      1000\n",
            "           7       0.90      0.76      0.82      1000\n",
            "           8       0.82      0.87      0.84      1000\n",
            "           9       0.76      0.89      0.82      1000\n",
            "\n",
            "    accuracy                           0.73     10000\n",
            "   macro avg       0.80      0.73      0.73     10000\n",
            "weighted avg       0.80      0.73      0.73     10000\n",
            "\n"
          ]
        }
      ],
      "source": [
        "new_predict_x = new_final_model.predict(X_test)\n",
        "new_classes_x = np.argmax(new_predict_x, axis= 1)\n",
        "\n",
        "print(classification_report(y_test, new_classes_x))"
      ]
    },
    {
      "cell_type": "markdown",
      "source": [
        "**Обучение модели 1го поколения с использованием аугментации**"
      ],
      "metadata": {
        "id": "amaT4eUUSx3A"
      }
    },
    {
      "cell_type": "code",
      "execution_count": null,
      "metadata": {
        "colab": {
          "base_uri": "https://localhost:8080/"
        },
        "id": "gBPL8KoZaUcu",
        "outputId": "3afea374-f76a-42b6-ffd8-0ff80575f55a"
      },
      "outputs": [
        {
          "name": "stdout",
          "output_type": "stream",
          "text": [
            "Epoch 1/64\n"
          ]
        },
        {
          "name": "stderr",
          "output_type": "stream",
          "text": [
            "/home/akozlov/Documents/work/Python_scripts/photo_classifier_cifar10_ipynb/cnn_env/lib/python3.12/site-packages/keras/src/trainers/data_adapters/py_dataset_adapter.py:121: UserWarning: Your `PyDataset` class should call `super().__init__(**kwargs)` in its constructor. `**kwargs` can include `workers`, `use_multiprocessing`, `max_queue_size`. Do not pass these arguments to `fit()`, as they will be ignored.\n",
            "  self._warn_if_super_not_called()\n"
          ]
        },
        {
          "name": "stdout",
          "output_type": "stream",
          "text": [
            "\u001b[1m469/469\u001b[0m \u001b[32m━━━━━━━━━━━━━━━━━━━━\u001b[0m\u001b[37m\u001b[0m \u001b[1m35s\u001b[0m 71ms/step - accuracy: 0.6849 - loss: 0.9603 - val_accuracy: 0.6957 - val_loss: 0.9133\n",
            "Epoch 2/64\n",
            "\u001b[1m469/469\u001b[0m \u001b[32m━━━━━━━━━━━━━━━━━━━━\u001b[0m\u001b[37m\u001b[0m \u001b[1m30s\u001b[0m 63ms/step - accuracy: 0.7155 - loss: 0.8301 - val_accuracy: 0.7692 - val_loss: 0.6971\n",
            "Epoch 3/64\n",
            "\u001b[1m469/469\u001b[0m \u001b[32m━━━━━━━━━━━━━━━━━━━━\u001b[0m\u001b[37m\u001b[0m \u001b[1m32s\u001b[0m 68ms/step - accuracy: 0.7224 - loss: 0.8077 - val_accuracy: 0.7663 - val_loss: 0.6671\n",
            "Epoch 4/64\n",
            "\u001b[1m469/469\u001b[0m \u001b[32m━━━━━━━━━━━━━━━━━━━━\u001b[0m\u001b[37m\u001b[0m \u001b[1m32s\u001b[0m 67ms/step - accuracy: 0.7216 - loss: 0.7992 - val_accuracy: 0.7940 - val_loss: 0.5841\n",
            "Epoch 5/64\n",
            "\u001b[1m469/469\u001b[0m \u001b[32m━━━━━━━━━━━━━━━━━━━━\u001b[0m\u001b[37m\u001b[0m \u001b[1m43s\u001b[0m 72ms/step - accuracy: 0.7318 - loss: 0.7822 - val_accuracy: 0.6562 - val_loss: 1.1449\n",
            "Epoch 6/64\n",
            "\u001b[1m469/469\u001b[0m \u001b[32m━━━━━━━━━━━━━━━━━━━━\u001b[0m\u001b[37m\u001b[0m \u001b[1m42s\u001b[0m 73ms/step - accuracy: 0.7358 - loss: 0.7733 - val_accuracy: 0.6974 - val_loss: 0.9552\n",
            "Epoch 7/64\n",
            "\u001b[1m469/469\u001b[0m \u001b[32m━━━━━━━━━━━━━━━━━━━━\u001b[0m\u001b[37m\u001b[0m \u001b[1m35s\u001b[0m 75ms/step - accuracy: 0.7314 - loss: 0.7699 - val_accuracy: 0.7209 - val_loss: 0.8752\n",
            "Epoch 8/64\n",
            "\u001b[1m469/469\u001b[0m \u001b[32m━━━━━━━━━━━━━━━━━━━━\u001b[0m\u001b[37m\u001b[0m \u001b[1m35s\u001b[0m 75ms/step - accuracy: 0.7344 - loss: 0.7746 - val_accuracy: 0.6835 - val_loss: 1.0339\n",
            "Epoch 9/64\n",
            "\u001b[1m469/469\u001b[0m \u001b[32m━━━━━━━━━━━━━━━━━━━━\u001b[0m\u001b[37m\u001b[0m \u001b[1m37s\u001b[0m 67ms/step - accuracy: 0.7385 - loss: 0.7475 - val_accuracy: 0.6733 - val_loss: 1.1356\n",
            "Epoch 10/64\n",
            "\u001b[1m469/469\u001b[0m \u001b[32m━━━━━━━━━━━━━━━━━━━━\u001b[0m\u001b[37m\u001b[0m \u001b[1m41s\u001b[0m 68ms/step - accuracy: 0.7471 - loss: 0.7346 - val_accuracy: 0.7172 - val_loss: 0.8235\n",
            "Epoch 11/64\n",
            "\u001b[1m469/469\u001b[0m \u001b[32m━━━━━━━━━━━━━━━━━━━━\u001b[0m\u001b[37m\u001b[0m \u001b[1m32s\u001b[0m 69ms/step - accuracy: 0.7457 - loss: 0.7278 - val_accuracy: 0.7329 - val_loss: 0.7814\n",
            "Epoch 12/64\n",
            "\u001b[1m469/469\u001b[0m \u001b[32m━━━━━━━━━━━━━━━━━━━━\u001b[0m\u001b[37m\u001b[0m \u001b[1m32s\u001b[0m 67ms/step - accuracy: 0.7490 - loss: 0.7366 - val_accuracy: 0.6936 - val_loss: 0.9791\n",
            "Epoch 13/64\n",
            "\u001b[1m469/469\u001b[0m \u001b[32m━━━━━━━━━━━━━━━━━━━━\u001b[0m\u001b[37m\u001b[0m \u001b[1m31s\u001b[0m 66ms/step - accuracy: 0.7494 - loss: 0.7273 - val_accuracy: 0.7360 - val_loss: 0.7794\n",
            "Epoch 14/64\n",
            "\u001b[1m469/469\u001b[0m \u001b[32m━━━━━━━━━━━━━━━━━━━━\u001b[0m\u001b[37m\u001b[0m \u001b[1m33s\u001b[0m 69ms/step - accuracy: 0.7490 - loss: 0.7211 - val_accuracy: 0.7037 - val_loss: 0.9255\n",
            "Epoch 15/64\n",
            "\u001b[1m469/469\u001b[0m \u001b[32m━━━━━━━━━━━━━━━━━━━━\u001b[0m\u001b[37m\u001b[0m \u001b[1m41s\u001b[0m 69ms/step - accuracy: 0.7563 - loss: 0.7156 - val_accuracy: 0.7666 - val_loss: 0.6955\n",
            "Epoch 16/64\n",
            "\u001b[1m469/469\u001b[0m \u001b[32m━━━━━━━━━━━━━━━━━━━━\u001b[0m\u001b[37m\u001b[0m \u001b[1m32s\u001b[0m 68ms/step - accuracy: 0.7519 - loss: 0.7158 - val_accuracy: 0.7107 - val_loss: 0.9096\n",
            "Epoch 17/64\n",
            "\u001b[1m469/469\u001b[0m \u001b[32m━━━━━━━━━━━━━━━━━━━━\u001b[0m\u001b[37m\u001b[0m \u001b[1m32s\u001b[0m 68ms/step - accuracy: 0.7498 - loss: 0.7163 - val_accuracy: 0.7581 - val_loss: 0.7545\n",
            "Epoch 18/64\n",
            "\u001b[1m469/469\u001b[0m \u001b[32m━━━━━━━━━━━━━━━━━━━━\u001b[0m\u001b[37m\u001b[0m \u001b[1m32s\u001b[0m 68ms/step - accuracy: 0.7531 - loss: 0.7070 - val_accuracy: 0.6641 - val_loss: 1.0926\n",
            "Epoch 19/64\n",
            "\u001b[1m469/469\u001b[0m \u001b[32m━━━━━━━━━━━━━━━━━━━━\u001b[0m\u001b[37m\u001b[0m \u001b[1m41s\u001b[0m 68ms/step - accuracy: 0.7531 - loss: 0.7045 - val_accuracy: 0.6877 - val_loss: 0.9134\n",
            "Epoch 20/64\n",
            "\u001b[1m469/469\u001b[0m \u001b[32m━━━━━━━━━━━━━━━━━━━━\u001b[0m\u001b[37m\u001b[0m \u001b[1m31s\u001b[0m 67ms/step - accuracy: 0.7589 - loss: 0.6910 - val_accuracy: 0.6967 - val_loss: 0.9421\n",
            "Epoch 21/64\n",
            "\u001b[1m469/469\u001b[0m \u001b[32m━━━━━━━━━━━━━━━━━━━━\u001b[0m\u001b[37m\u001b[0m \u001b[1m32s\u001b[0m 68ms/step - accuracy: 0.7563 - loss: 0.7036 - val_accuracy: 0.7325 - val_loss: 0.8027\n",
            "Epoch 22/64\n",
            "\u001b[1m469/469\u001b[0m \u001b[32m━━━━━━━━━━━━━━━━━━━━\u001b[0m\u001b[37m\u001b[0m \u001b[1m33s\u001b[0m 70ms/step - accuracy: 0.7577 - loss: 0.7009 - val_accuracy: 0.6789 - val_loss: 1.0925\n",
            "Epoch 23/64\n",
            "\u001b[1m469/469\u001b[0m \u001b[32m━━━━━━━━━━━━━━━━━━━━\u001b[0m\u001b[37m\u001b[0m \u001b[1m33s\u001b[0m 70ms/step - accuracy: 0.7625 - loss: 0.6779 - val_accuracy: 0.7364 - val_loss: 0.7778\n",
            "Epoch 24/64\n",
            "\u001b[1m469/469\u001b[0m \u001b[32m━━━━━━━━━━━━━━━━━━━━\u001b[0m\u001b[37m\u001b[0m \u001b[1m33s\u001b[0m 70ms/step - accuracy: 0.7621 - loss: 0.6800 - val_accuracy: 0.7417 - val_loss: 0.8056\n",
            "Epoch 25/64\n",
            "\u001b[1m469/469\u001b[0m \u001b[32m━━━━━━━━━━━━━━━━━━━━\u001b[0m\u001b[37m\u001b[0m \u001b[1m32s\u001b[0m 67ms/step - accuracy: 0.7681 - loss: 0.6859 - val_accuracy: 0.7344 - val_loss: 0.7775\n",
            "Epoch 26/64\n",
            "\u001b[1m469/469\u001b[0m \u001b[32m━━━━━━━━━━━━━━━━━━━━\u001b[0m\u001b[37m\u001b[0m \u001b[1m41s\u001b[0m 67ms/step - accuracy: 0.7638 - loss: 0.6801 - val_accuracy: 0.7646 - val_loss: 0.7199\n",
            "Epoch 27/64\n",
            "\u001b[1m469/469\u001b[0m \u001b[32m━━━━━━━━━━━━━━━━━━━━\u001b[0m\u001b[37m\u001b[0m \u001b[1m32s\u001b[0m 68ms/step - accuracy: 0.7667 - loss: 0.6826 - val_accuracy: 0.7595 - val_loss: 0.7132\n",
            "Epoch 28/64\n",
            "\u001b[1m469/469\u001b[0m \u001b[32m━━━━━━━━━━━━━━━━━━━━\u001b[0m\u001b[37m\u001b[0m \u001b[1m32s\u001b[0m 68ms/step - accuracy: 0.7716 - loss: 0.6565 - val_accuracy: 0.6943 - val_loss: 0.9055\n",
            "Epoch 29/64\n",
            "\u001b[1m469/469\u001b[0m \u001b[32m━━━━━━━━━━━━━━━━━━━━\u001b[0m\u001b[37m\u001b[0m \u001b[1m32s\u001b[0m 68ms/step - accuracy: 0.7708 - loss: 0.6680 - val_accuracy: 0.7314 - val_loss: 0.7694\n",
            "Epoch 30/64\n",
            "\u001b[1m469/469\u001b[0m \u001b[32m━━━━━━━━━━━━━━━━━━━━\u001b[0m\u001b[37m\u001b[0m \u001b[1m42s\u001b[0m 69ms/step - accuracy: 0.7710 - loss: 0.6634 - val_accuracy: 0.6758 - val_loss: 1.0336\n",
            "Epoch 31/64\n",
            "\u001b[1m469/469\u001b[0m \u001b[32m━━━━━━━━━━━━━━━━━━━━\u001b[0m\u001b[37m\u001b[0m \u001b[1m31s\u001b[0m 67ms/step - accuracy: 0.7706 - loss: 0.6572 - val_accuracy: 0.7602 - val_loss: 0.7312\n",
            "Epoch 32/64\n",
            "\u001b[1m469/469\u001b[0m \u001b[32m━━━━━━━━━━━━━━━━━━━━\u001b[0m\u001b[37m\u001b[0m \u001b[1m31s\u001b[0m 67ms/step - accuracy: 0.7785 - loss: 0.6442 - val_accuracy: 0.7629 - val_loss: 0.7208\n",
            "Epoch 33/64\n",
            "\u001b[1m469/469\u001b[0m \u001b[32m━━━━━━━━━━━━━━━━━━━━\u001b[0m\u001b[37m\u001b[0m \u001b[1m32s\u001b[0m 69ms/step - accuracy: 0.7714 - loss: 0.6618 - val_accuracy: 0.7503 - val_loss: 0.7718\n",
            "Epoch 34/64\n",
            "\u001b[1m469/469\u001b[0m \u001b[32m━━━━━━━━━━━━━━━━━━━━\u001b[0m\u001b[37m\u001b[0m \u001b[1m32s\u001b[0m 67ms/step - accuracy: 0.7795 - loss: 0.6354 - val_accuracy: 0.6974 - val_loss: 1.0328\n",
            "Epoch 35/64\n",
            "\u001b[1m469/469\u001b[0m \u001b[32m━━━━━━━━━━━━━━━━━━━━\u001b[0m\u001b[37m\u001b[0m \u001b[1m41s\u001b[0m 67ms/step - accuracy: 0.7703 - loss: 0.6661 - val_accuracy: 0.7061 - val_loss: 0.9231\n",
            "Epoch 36/64\n",
            "\u001b[1m469/469\u001b[0m \u001b[32m━━━━━━━━━━━━━━━━━━━━\u001b[0m\u001b[37m\u001b[0m \u001b[1m41s\u001b[0m 66ms/step - accuracy: 0.7740 - loss: 0.6566 - val_accuracy: 0.6985 - val_loss: 1.0214\n",
            "Epoch 37/64\n",
            "\u001b[1m469/469\u001b[0m \u001b[32m━━━━━━━━━━━━━━━━━━━━\u001b[0m\u001b[37m\u001b[0m \u001b[1m32s\u001b[0m 69ms/step - accuracy: 0.7783 - loss: 0.6378 - val_accuracy: 0.6959 - val_loss: 1.0029\n",
            "Epoch 38/64\n",
            "\u001b[1m469/469\u001b[0m \u001b[32m━━━━━━━━━━━━━━━━━━━━\u001b[0m\u001b[37m\u001b[0m \u001b[1m32s\u001b[0m 68ms/step - accuracy: 0.7740 - loss: 0.6504 - val_accuracy: 0.7549 - val_loss: 0.7352\n",
            "Epoch 39/64\n",
            "\u001b[1m469/469\u001b[0m \u001b[32m━━━━━━━━━━━━━━━━━━━━\u001b[0m\u001b[37m\u001b[0m \u001b[1m33s\u001b[0m 69ms/step - accuracy: 0.7743 - loss: 0.6420 - val_accuracy: 0.6892 - val_loss: 0.9861\n",
            "Epoch 40/64\n",
            "\u001b[1m469/469\u001b[0m \u001b[32m━━━━━━━━━━━━━━━━━━━━\u001b[0m\u001b[37m\u001b[0m \u001b[1m33s\u001b[0m 70ms/step - accuracy: 0.7865 - loss: 0.6298 - val_accuracy: 0.7482 - val_loss: 0.7573\n",
            "Epoch 41/64\n",
            "\u001b[1m469/469\u001b[0m \u001b[32m━━━━━━━━━━━━━━━━━━━━\u001b[0m\u001b[37m\u001b[0m \u001b[1m32s\u001b[0m 69ms/step - accuracy: 0.7836 - loss: 0.6346 - val_accuracy: 0.7411 - val_loss: 0.7875\n",
            "Epoch 42/64\n",
            "\u001b[1m469/469\u001b[0m \u001b[32m━━━━━━━━━━━━━━━━━━━━\u001b[0m\u001b[37m\u001b[0m \u001b[1m32s\u001b[0m 68ms/step - accuracy: 0.7793 - loss: 0.6388 - val_accuracy: 0.7104 - val_loss: 0.9530\n",
            "Epoch 43/64\n",
            "\u001b[1m469/469\u001b[0m \u001b[32m━━━━━━━━━━━━━━━━━━━━\u001b[0m\u001b[37m\u001b[0m \u001b[1m32s\u001b[0m 69ms/step - accuracy: 0.7823 - loss: 0.6309 - val_accuracy: 0.7529 - val_loss: 0.7551\n",
            "Epoch 44/64\n",
            "\u001b[1m469/469\u001b[0m \u001b[32m━━━━━━━━━━━━━━━━━━━━\u001b[0m\u001b[37m\u001b[0m \u001b[1m41s\u001b[0m 70ms/step - accuracy: 0.7850 - loss: 0.6241 - val_accuracy: 0.7086 - val_loss: 0.9039\n",
            "Epoch 45/64\n",
            "\u001b[1m469/469\u001b[0m \u001b[32m━━━━━━━━━━━━━━━━━━━━\u001b[0m\u001b[37m\u001b[0m \u001b[1m33s\u001b[0m 70ms/step - accuracy: 0.7892 - loss: 0.6022 - val_accuracy: 0.7387 - val_loss: 0.8315\n",
            "Epoch 46/64\n",
            "\u001b[1m469/469\u001b[0m \u001b[32m━━━━━━━━━━━━━━━━━━━━\u001b[0m\u001b[37m\u001b[0m \u001b[1m33s\u001b[0m 70ms/step - accuracy: 0.7830 - loss: 0.6228 - val_accuracy: 0.6260 - val_loss: 1.2694\n",
            "Epoch 47/64\n",
            "\u001b[1m469/469\u001b[0m \u001b[32m━━━━━━━━━━━━━━━━━━━━\u001b[0m\u001b[37m\u001b[0m \u001b[1m31s\u001b[0m 66ms/step - accuracy: 0.7827 - loss: 0.6268 - val_accuracy: 0.7675 - val_loss: 0.7092\n",
            "Epoch 48/64\n",
            "\u001b[1m469/469\u001b[0m \u001b[32m━━━━━━━━━━━━━━━━━━━━\u001b[0m\u001b[37m\u001b[0m \u001b[1m43s\u001b[0m 70ms/step - accuracy: 0.7839 - loss: 0.6249 - val_accuracy: 0.7487 - val_loss: 0.7633\n",
            "Epoch 49/64\n",
            "\u001b[1m469/469\u001b[0m \u001b[32m━━━━━━━━━━━━━━━━━━━━\u001b[0m\u001b[37m\u001b[0m \u001b[1m33s\u001b[0m 70ms/step - accuracy: 0.7865 - loss: 0.6167 - val_accuracy: 0.7762 - val_loss: 0.6786\n",
            "Epoch 50/64\n",
            "\u001b[1m469/469\u001b[0m \u001b[32m━━━━━━━━━━━━━━━━━━━━\u001b[0m\u001b[37m\u001b[0m \u001b[1m40s\u001b[0m 68ms/step - accuracy: 0.7933 - loss: 0.6072 - val_accuracy: 0.7119 - val_loss: 0.8997\n",
            "Epoch 51/64\n",
            "\u001b[1m469/469\u001b[0m \u001b[32m━━━━━━━━━━━━━━━━━━━━\u001b[0m\u001b[37m\u001b[0m \u001b[1m32s\u001b[0m 68ms/step - accuracy: 0.7903 - loss: 0.6046 - val_accuracy: 0.7094 - val_loss: 0.9701\n",
            "Epoch 52/64\n",
            "\u001b[1m469/469\u001b[0m \u001b[32m━━━━━━━━━━━━━━━━━━━━\u001b[0m\u001b[37m\u001b[0m \u001b[1m33s\u001b[0m 69ms/step - accuracy: 0.7831 - loss: 0.6218 - val_accuracy: 0.7299 - val_loss: 0.8559\n",
            "Epoch 53/64\n",
            "\u001b[1m469/469\u001b[0m \u001b[32m━━━━━━━━━━━━━━━━━━━━\u001b[0m\u001b[37m\u001b[0m \u001b[1m32s\u001b[0m 68ms/step - accuracy: 0.7910 - loss: 0.6019 - val_accuracy: 0.7717 - val_loss: 0.6981\n",
            "Epoch 54/64\n",
            "\u001b[1m469/469\u001b[0m \u001b[32m━━━━━━━━━━━━━━━━━━━━\u001b[0m\u001b[37m\u001b[0m \u001b[1m32s\u001b[0m 69ms/step - accuracy: 0.7948 - loss: 0.5967 - val_accuracy: 0.7298 - val_loss: 0.9036\n",
            "Epoch 55/64\n",
            "\u001b[1m469/469\u001b[0m \u001b[32m━━━━━━━━━━━━━━━━━━━━\u001b[0m\u001b[37m\u001b[0m \u001b[1m41s\u001b[0m 68ms/step - accuracy: 0.7935 - loss: 0.5949 - val_accuracy: 0.7401 - val_loss: 0.8242\n",
            "Epoch 56/64\n",
            "\u001b[1m469/469\u001b[0m \u001b[32m━━━━━━━━━━━━━━━━━━━━\u001b[0m\u001b[37m\u001b[0m \u001b[1m32s\u001b[0m 69ms/step - accuracy: 0.7963 - loss: 0.5968 - val_accuracy: 0.7288 - val_loss: 0.8563\n",
            "Epoch 57/64\n",
            "\u001b[1m469/469\u001b[0m \u001b[32m━━━━━━━━━━━━━━━━━━━━\u001b[0m\u001b[37m\u001b[0m \u001b[1m33s\u001b[0m 69ms/step - accuracy: 0.7946 - loss: 0.5924 - val_accuracy: 0.7048 - val_loss: 0.9879\n",
            "Epoch 58/64\n",
            "\u001b[1m469/469\u001b[0m \u001b[32m━━━━━━━━━━━━━━━━━━━━\u001b[0m\u001b[37m\u001b[0m \u001b[1m40s\u001b[0m 67ms/step - accuracy: 0.7905 - loss: 0.5968 - val_accuracy: 0.7088 - val_loss: 0.9009\n",
            "Epoch 59/64\n",
            "\u001b[1m469/469\u001b[0m \u001b[32m━━━━━━━━━━━━━━━━━━━━\u001b[0m\u001b[37m\u001b[0m \u001b[1m32s\u001b[0m 67ms/step - accuracy: 0.7925 - loss: 0.5900 - val_accuracy: 0.7214 - val_loss: 0.9285\n",
            "Epoch 60/64\n",
            "\u001b[1m469/469\u001b[0m \u001b[32m━━━━━━━━━━━━━━━━━━━━\u001b[0m\u001b[37m\u001b[0m \u001b[1m32s\u001b[0m 67ms/step - accuracy: 0.7921 - loss: 0.5910 - val_accuracy: 0.7430 - val_loss: 0.7735\n",
            "Epoch 61/64\n",
            "\u001b[1m469/469\u001b[0m \u001b[32m━━━━━━━━━━━━━━━━━━━━\u001b[0m\u001b[37m\u001b[0m \u001b[1m31s\u001b[0m 67ms/step - accuracy: 0.7948 - loss: 0.5993 - val_accuracy: 0.7716 - val_loss: 0.6844\n",
            "Epoch 62/64\n",
            "\u001b[1m469/469\u001b[0m \u001b[32m━━━━━━━━━━━━━━━━━━━━\u001b[0m\u001b[37m\u001b[0m \u001b[1m31s\u001b[0m 67ms/step - accuracy: 0.7958 - loss: 0.5989 - val_accuracy: 0.7841 - val_loss: 0.6475\n",
            "Epoch 63/64\n",
            "\u001b[1m469/469\u001b[0m \u001b[32m━━━━━━━━━━━━━━━━━━━━\u001b[0m\u001b[37m\u001b[0m \u001b[1m32s\u001b[0m 68ms/step - accuracy: 0.7987 - loss: 0.5763 - val_accuracy: 0.7672 - val_loss: 0.7173\n",
            "Epoch 64/64\n",
            "\u001b[1m469/469\u001b[0m \u001b[32m━━━━━━━━━━━━━━━━━━━━\u001b[0m\u001b[37m\u001b[0m \u001b[1m34s\u001b[0m 72ms/step - accuracy: 0.8007 - loss: 0.5787 - val_accuracy: 0.7530 - val_loss: 0.7560\n"
          ]
        },
        {
          "data": {
            "text/plain": [
              "<keras.src.callbacks.history.History at 0x7f8f92347830>"
            ]
          },
          "execution_count": 25,
          "metadata": {},
          "output_type": "execute_result"
        }
      ],
      "source": [
        "## TODO\n",
        "new_final_model_1.compile(\n",
        "    optimizer= tf.keras.optimizers.SGD(\n",
        "       learning_rate= .01,\n",
        "       momentum= 1/2,\n",
        "       nesterov= True\n",
        "    ),\n",
        "    loss= categorical_crossentropy,\n",
        "    metrics= ['accuracy']\n",
        ")\n",
        "new_final_model_1.fit(\n",
        "    train_generator,\n",
        "    batch_size= 64,\n",
        "    epochs= 64,\n",
        "    validation_data= val_generator,\n",
        "    callbacks= new_final_callbacks\n",
        ")"
      ]
    },
    {
      "cell_type": "markdown",
      "metadata": {
        "id": "TjZo-jifxje2"
      },
      "source": [
        "А теперь, опишите свои <s>ощущения</s> результаты от проведенных экспериментов."
      ]
    },
    {
      "cell_type": "code",
      "execution_count": null,
      "metadata": {
        "id": "k5RxAjHKCj5S",
        "outputId": "09d31263-d0e4-44e6-b3e5-c8d3da5fddf6"
      },
      "outputs": [
        {
          "name": "stdout",
          "output_type": "stream",
          "text": [
            "\u001b[1m313/313\u001b[0m \u001b[32m━━━━━━━━━━━━━━━━━━━━\u001b[0m\u001b[37m\u001b[0m \u001b[1m3s\u001b[0m 10ms/step\n",
            "              precision    recall  f1-score   support\n",
            "\n",
            "           0       0.86      0.60      0.71      1000\n",
            "           1       0.89      0.85      0.87      1000\n",
            "           2       0.96      0.41      0.57      1000\n",
            "           3       0.69      0.58      0.63      1000\n",
            "           4       0.60      0.86      0.71      1000\n",
            "           5       0.75      0.71      0.73      1000\n",
            "           6       0.76      0.86      0.80      1000\n",
            "           7       0.90      0.69      0.78      1000\n",
            "           8       0.55      0.98      0.70      1000\n",
            "           9       0.85      0.86      0.86      1000\n",
            "\n",
            "    accuracy                           0.74     10000\n",
            "   macro avg       0.78      0.74      0.74     10000\n",
            "weighted avg       0.78      0.74      0.74     10000\n",
            "\n",
            "\n",
            " Test_acc = 0.74\n"
          ]
        }
      ],
      "source": [
        "new_predict_x_dg = new_final_model_1.predict(X_test)\n",
        "new_classes_x_dg = np.argmax(new_predict_x_dg, axis= 1)\n",
        "\n",
        "print(classification_report(y_test, new_classes_x_dg))\n",
        "\n",
        "test_acc = accuracy_score(y_test, new_classes_x_dg)\n",
        "print(\"\\n Test_acc =\", test_acc)\n",
        "if test_acc > 0.8:\n",
        "    print(\"Это победа!\")"
      ]
    },
    {
      "cell_type": "markdown",
      "source": [
        "**Изменены параметры оптимизатора и следующая попытка обучения модели 1го поколения**"
      ],
      "metadata": {
        "id": "BGDe74FNTCnd"
      }
    },
    {
      "cell_type": "code",
      "execution_count": null,
      "metadata": {
        "id": "8zlNxTwlCj5T"
      },
      "outputs": [],
      "source": [
        "new_final_callbacks = [\n",
        "    tf.keras.callbacks.ModelCheckpoint(filepath= './new_model_dg/new_model_dg.{epoch:02d}-{val_loss:.2f}.h5.keras'),\n",
        "    tf.keras.callbacks.TensorBoard(log_dir= './new_model_dg_logs')\n",
        "]"
      ]
    },
    {
      "cell_type": "code",
      "execution_count": null,
      "metadata": {
        "id": "8XIG28sKCj5T"
      },
      "outputs": [],
      "source": [
        "datagen = tf.keras.preprocessing.image.ImageDataGenerator(\n",
        "    rotation_range= 20,\n",
        "    width_shift_range= .2,\n",
        "    height_shift_range= .2,\n",
        "    horizontal_flip= True\n",
        ")\n",
        "\n",
        "val_datagen = tf.keras.preprocessing.image.ImageDataGenerator()\n",
        "\n",
        "split = 30000\n",
        "dg_x_train, dg_x_val = X_train[:split], X_train[split:]\n",
        "dg_y_train, dg_y_val = y_train[:split], y_train[split:]\n",
        "\n",
        "train_generator = datagen.flow(dg_x_train, dg_y_train, batch_size= 128)\n",
        "val_generator = val_datagen.flow(dg_x_val, dg_y_val, batch_size= 128)"
      ]
    },
    {
      "cell_type": "code",
      "execution_count": null,
      "metadata": {
        "id": "uD4BGf99Cj5U",
        "outputId": "ebb417cb-65d0-4bc4-e8a9-22aff8de2f84"
      },
      "outputs": [
        {
          "name": "stdout",
          "output_type": "stream",
          "text": [
            "Epoch 1/64\n",
            "\u001b[1m469/469\u001b[0m \u001b[32m━━━━━━━━━━━━━━━━━━━━\u001b[0m\u001b[37m\u001b[0m \u001b[1m35s\u001b[0m 71ms/step - accuracy: 0.7948 - loss: 0.5887 - val_accuracy: 0.7303 - val_loss: 0.8854\n",
            "Epoch 2/64\n",
            "\u001b[1m469/469\u001b[0m \u001b[32m━━━━━━━━━━━━━━━━━━━━\u001b[0m\u001b[37m\u001b[0m \u001b[1m29s\u001b[0m 63ms/step - accuracy: 0.7974 - loss: 0.5885 - val_accuracy: 0.7665 - val_loss: 0.7233\n",
            "Epoch 3/64\n",
            "\u001b[1m469/469\u001b[0m \u001b[32m━━━━━━━━━━━━━━━━━━━━\u001b[0m\u001b[37m\u001b[0m \u001b[1m34s\u001b[0m 72ms/step - accuracy: 0.7974 - loss: 0.5782 - val_accuracy: 0.7721 - val_loss: 0.7101\n",
            "Epoch 4/64\n",
            "\u001b[1m469/469\u001b[0m \u001b[32m━━━━━━━━━━━━━━━━━━━━\u001b[0m\u001b[37m\u001b[0m \u001b[1m28s\u001b[0m 60ms/step - accuracy: 0.7996 - loss: 0.5787 - val_accuracy: 0.7833 - val_loss: 0.6382\n",
            "Epoch 5/64\n",
            "\u001b[1m469/469\u001b[0m \u001b[32m━━━━━━━━━━━━━━━━━━━━\u001b[0m\u001b[37m\u001b[0m \u001b[1m30s\u001b[0m 63ms/step - accuracy: 0.7969 - loss: 0.5862 - val_accuracy: 0.7019 - val_loss: 1.0713\n",
            "Epoch 6/64\n",
            "\u001b[1m469/469\u001b[0m \u001b[32m━━━━━━━━━━━━━━━━━━━━\u001b[0m\u001b[37m\u001b[0m \u001b[1m34s\u001b[0m 72ms/step - accuracy: 0.8012 - loss: 0.5742 - val_accuracy: 0.7168 - val_loss: 0.9668\n",
            "Epoch 7/64\n",
            "\u001b[1m469/469\u001b[0m \u001b[32m━━━━━━━━━━━━━━━━━━━━\u001b[0m\u001b[37m\u001b[0m \u001b[1m39s\u001b[0m 68ms/step - accuracy: 0.7994 - loss: 0.5756 - val_accuracy: 0.7946 - val_loss: 0.6072\n",
            "Epoch 8/64\n",
            "\u001b[1m469/469\u001b[0m \u001b[32m━━━━━━━━━━━━━━━━━━━━\u001b[0m\u001b[37m\u001b[0m \u001b[1m37s\u001b[0m 78ms/step - accuracy: 0.8017 - loss: 0.5766 - val_accuracy: 0.7484 - val_loss: 0.7874\n",
            "Epoch 9/64\n",
            "\u001b[1m469/469\u001b[0m \u001b[32m━━━━━━━━━━━━━━━━━━━━\u001b[0m\u001b[37m\u001b[0m \u001b[1m30s\u001b[0m 64ms/step - accuracy: 0.8017 - loss: 0.5709 - val_accuracy: 0.8033 - val_loss: 0.5758\n",
            "Epoch 10/64\n",
            "\u001b[1m469/469\u001b[0m \u001b[32m━━━━━━━━━━━━━━━━━━━━\u001b[0m\u001b[37m\u001b[0m \u001b[1m31s\u001b[0m 66ms/step - accuracy: 0.8068 - loss: 0.5666 - val_accuracy: 0.7487 - val_loss: 0.8354\n",
            "Epoch 11/64\n",
            "\u001b[1m469/469\u001b[0m \u001b[32m━━━━━━━━━━━━━━━━━━━━\u001b[0m\u001b[37m\u001b[0m \u001b[1m35s\u001b[0m 75ms/step - accuracy: 0.8037 - loss: 0.5602 - val_accuracy: 0.7723 - val_loss: 0.6941\n",
            "Epoch 12/64\n",
            "\u001b[1m469/469\u001b[0m \u001b[32m━━━━━━━━━━━━━━━━━━━━\u001b[0m\u001b[37m\u001b[0m \u001b[1m35s\u001b[0m 75ms/step - accuracy: 0.8045 - loss: 0.5663 - val_accuracy: 0.7717 - val_loss: 0.7550\n",
            "Epoch 13/64\n",
            "\u001b[1m469/469\u001b[0m \u001b[32m━━━━━━━━━━━━━━━━━━━━\u001b[0m\u001b[37m\u001b[0m \u001b[1m34s\u001b[0m 72ms/step - accuracy: 0.8062 - loss: 0.5679 - val_accuracy: 0.7528 - val_loss: 0.7602\n",
            "Epoch 14/64\n",
            "\u001b[1m469/469\u001b[0m \u001b[32m━━━━━━━━━━━━━━━━━━━━\u001b[0m\u001b[37m\u001b[0m \u001b[1m33s\u001b[0m 71ms/step - accuracy: 0.8119 - loss: 0.5500 - val_accuracy: 0.7525 - val_loss: 0.7960\n",
            "Epoch 15/64\n",
            "\u001b[1m469/469\u001b[0m \u001b[32m━━━━━━━━━━━━━━━━━━━━\u001b[0m\u001b[37m\u001b[0m \u001b[1m33s\u001b[0m 71ms/step - accuracy: 0.8095 - loss: 0.5497 - val_accuracy: 0.7828 - val_loss: 0.6534\n",
            "Epoch 16/64\n",
            "\u001b[1m469/469\u001b[0m \u001b[32m━━━━━━━━━━━━━━━━━━━━\u001b[0m\u001b[37m\u001b[0m \u001b[1m33s\u001b[0m 71ms/step - accuracy: 0.8097 - loss: 0.5525 - val_accuracy: 0.7587 - val_loss: 0.7954\n",
            "Epoch 17/64\n",
            "\u001b[1m469/469\u001b[0m \u001b[32m━━━━━━━━━━━━━━━━━━━━\u001b[0m\u001b[37m\u001b[0m \u001b[1m33s\u001b[0m 71ms/step - accuracy: 0.8080 - loss: 0.5521 - val_accuracy: 0.7103 - val_loss: 0.9067\n",
            "Epoch 18/64\n",
            "\u001b[1m469/469\u001b[0m \u001b[32m━━━━━━━━━━━━━━━━━━━━\u001b[0m\u001b[37m\u001b[0m \u001b[1m35s\u001b[0m 73ms/step - accuracy: 0.8085 - loss: 0.5534 - val_accuracy: 0.7712 - val_loss: 0.6913\n",
            "Epoch 19/64\n",
            "\u001b[1m469/469\u001b[0m \u001b[32m━━━━━━━━━━━━━━━━━━━━\u001b[0m\u001b[37m\u001b[0m \u001b[1m32s\u001b[0m 67ms/step - accuracy: 0.8079 - loss: 0.5523 - val_accuracy: 0.7628 - val_loss: 0.7272\n",
            "Epoch 20/64\n",
            "\u001b[1m469/469\u001b[0m \u001b[32m━━━━━━━━━━━━━━━━━━━━\u001b[0m\u001b[37m\u001b[0m \u001b[1m32s\u001b[0m 68ms/step - accuracy: 0.8089 - loss: 0.5571 - val_accuracy: 0.7752 - val_loss: 0.6754\n",
            "Epoch 21/64\n",
            "\u001b[1m469/469\u001b[0m \u001b[32m━━━━━━━━━━━━━━━━━━━━\u001b[0m\u001b[37m\u001b[0m \u001b[1m32s\u001b[0m 68ms/step - accuracy: 0.8088 - loss: 0.5548 - val_accuracy: 0.7114 - val_loss: 1.0057\n",
            "Epoch 22/64\n",
            "\u001b[1m469/469\u001b[0m \u001b[32m━━━━━━━━━━━━━━━━━━━━\u001b[0m\u001b[37m\u001b[0m \u001b[1m30s\u001b[0m 65ms/step - accuracy: 0.8064 - loss: 0.5566 - val_accuracy: 0.7833 - val_loss: 0.6722\n",
            "Epoch 23/64\n",
            "\u001b[1m469/469\u001b[0m \u001b[32m━━━━━━━━━━━━━━━━━━━━\u001b[0m\u001b[37m\u001b[0m \u001b[1m31s\u001b[0m 67ms/step - accuracy: 0.8091 - loss: 0.5538 - val_accuracy: 0.7781 - val_loss: 0.6968\n",
            "Epoch 24/64\n",
            "\u001b[1m469/469\u001b[0m \u001b[32m━━━━━━━━━━━━━━━━━━━━\u001b[0m\u001b[37m\u001b[0m \u001b[1m31s\u001b[0m 66ms/step - accuracy: 0.8123 - loss: 0.5470 - val_accuracy: 0.7924 - val_loss: 0.6574\n",
            "Epoch 25/64\n",
            "\u001b[1m469/469\u001b[0m \u001b[32m━━━━━━━━━━━━━━━━━━━━\u001b[0m\u001b[37m\u001b[0m \u001b[1m31s\u001b[0m 66ms/step - accuracy: 0.8107 - loss: 0.5430 - val_accuracy: 0.7401 - val_loss: 0.8392\n",
            "Epoch 26/64\n",
            "\u001b[1m469/469\u001b[0m \u001b[32m━━━━━━━━━━━━━━━━━━━━\u001b[0m\u001b[37m\u001b[0m \u001b[1m31s\u001b[0m 67ms/step - accuracy: 0.8110 - loss: 0.5439 - val_accuracy: 0.7586 - val_loss: 0.7600\n",
            "Epoch 27/64\n",
            "\u001b[1m469/469\u001b[0m \u001b[32m━━━━━━━━━━━━━━━━━━━━\u001b[0m\u001b[37m\u001b[0m \u001b[1m41s\u001b[0m 68ms/step - accuracy: 0.8140 - loss: 0.5417 - val_accuracy: 0.7602 - val_loss: 0.7427\n",
            "Epoch 28/64\n",
            "\u001b[1m469/469\u001b[0m \u001b[32m━━━━━━━━━━━━━━━━━━━━\u001b[0m\u001b[37m\u001b[0m \u001b[1m31s\u001b[0m 67ms/step - accuracy: 0.8197 - loss: 0.5239 - val_accuracy: 0.7442 - val_loss: 0.8191\n",
            "Epoch 29/64\n",
            "\u001b[1m469/469\u001b[0m \u001b[32m━━━━━━━━━━━━━━━━━━━━\u001b[0m\u001b[37m\u001b[0m \u001b[1m32s\u001b[0m 68ms/step - accuracy: 0.8148 - loss: 0.5417 - val_accuracy: 0.7684 - val_loss: 0.7652\n",
            "Epoch 30/64\n",
            "\u001b[1m469/469\u001b[0m \u001b[32m━━━━━━━━━━━━━━━━━━━━\u001b[0m\u001b[37m\u001b[0m \u001b[1m31s\u001b[0m 66ms/step - accuracy: 0.8131 - loss: 0.5368 - val_accuracy: 0.7716 - val_loss: 0.7398\n",
            "Epoch 31/64\n",
            "\u001b[1m469/469\u001b[0m \u001b[32m━━━━━━━━━━━━━━━━━━━━\u001b[0m\u001b[37m\u001b[0m \u001b[1m31s\u001b[0m 66ms/step - accuracy: 0.8160 - loss: 0.5303 - val_accuracy: 0.7746 - val_loss: 0.7236\n",
            "Epoch 32/64\n",
            "\u001b[1m469/469\u001b[0m \u001b[32m━━━━━━━━━━━━━━━━━━━━\u001b[0m\u001b[37m\u001b[0m \u001b[1m32s\u001b[0m 67ms/step - accuracy: 0.8094 - loss: 0.5482 - val_accuracy: 0.7516 - val_loss: 0.8425\n",
            "Epoch 33/64\n",
            "\u001b[1m469/469\u001b[0m \u001b[32m━━━━━━━━━━━━━━━━━━━━\u001b[0m\u001b[37m\u001b[0m \u001b[1m31s\u001b[0m 67ms/step - accuracy: 0.8145 - loss: 0.5354 - val_accuracy: 0.7137 - val_loss: 0.9638\n",
            "Epoch 34/64\n",
            "\u001b[1m469/469\u001b[0m \u001b[32m━━━━━━━━━━━━━━━━━━━━\u001b[0m\u001b[37m\u001b[0m \u001b[1m31s\u001b[0m 66ms/step - accuracy: 0.8173 - loss: 0.5308 - val_accuracy: 0.7828 - val_loss: 0.6558\n",
            "Epoch 35/64\n",
            "\u001b[1m469/469\u001b[0m \u001b[32m━━━━━━━━━━━━━━━━━━━━\u001b[0m\u001b[37m\u001b[0m \u001b[1m31s\u001b[0m 67ms/step - accuracy: 0.8161 - loss: 0.5397 - val_accuracy: 0.7661 - val_loss: 0.7181\n",
            "Epoch 36/64\n",
            "\u001b[1m469/469\u001b[0m \u001b[32m━━━━━━━━━━━━━━━━━━━━\u001b[0m\u001b[37m\u001b[0m \u001b[1m32s\u001b[0m 68ms/step - accuracy: 0.8166 - loss: 0.5290 - val_accuracy: 0.7366 - val_loss: 0.8283\n",
            "Epoch 37/64\n",
            "\u001b[1m469/469\u001b[0m \u001b[32m━━━━━━━━━━━━━━━━━━━━\u001b[0m\u001b[37m\u001b[0m \u001b[1m31s\u001b[0m 67ms/step - accuracy: 0.8096 - loss: 0.5434 - val_accuracy: 0.8001 - val_loss: 0.6242\n",
            "Epoch 38/64\n",
            "\u001b[1m469/469\u001b[0m \u001b[32m━━━━━━━━━━━━━━━━━━━━\u001b[0m\u001b[37m\u001b[0m \u001b[1m31s\u001b[0m 65ms/step - accuracy: 0.8195 - loss: 0.5292 - val_accuracy: 0.7441 - val_loss: 0.8541\n",
            "Epoch 39/64\n",
            "\u001b[1m469/469\u001b[0m \u001b[32m━━━━━━━━━━━━━━━━━━━━\u001b[0m\u001b[37m\u001b[0m \u001b[1m29s\u001b[0m 62ms/step - accuracy: 0.8189 - loss: 0.5246 - val_accuracy: 0.7756 - val_loss: 0.7352\n",
            "Epoch 40/64\n",
            "\u001b[1m469/469\u001b[0m \u001b[32m━━━━━━━━━━━━━━━━━━━━\u001b[0m\u001b[37m\u001b[0m \u001b[1m30s\u001b[0m 63ms/step - accuracy: 0.8187 - loss: 0.5239 - val_accuracy: 0.7549 - val_loss: 0.7821\n",
            "Epoch 41/64\n",
            "\u001b[1m469/469\u001b[0m \u001b[32m━━━━━━━━━━━━━━━━━━━━\u001b[0m\u001b[37m\u001b[0m \u001b[1m30s\u001b[0m 64ms/step - accuracy: 0.8158 - loss: 0.5315 - val_accuracy: 0.7797 - val_loss: 0.6841\n",
            "Epoch 42/64\n",
            "\u001b[1m469/469\u001b[0m \u001b[32m━━━━━━━━━━━━━━━━━━━━\u001b[0m\u001b[37m\u001b[0m \u001b[1m29s\u001b[0m 63ms/step - accuracy: 0.8140 - loss: 0.5306 - val_accuracy: 0.7744 - val_loss: 0.7191\n",
            "Epoch 43/64\n",
            "\u001b[1m469/469\u001b[0m \u001b[32m━━━━━━━━━━━━━━━━━━━━\u001b[0m\u001b[37m\u001b[0m \u001b[1m30s\u001b[0m 64ms/step - accuracy: 0.8212 - loss: 0.5275 - val_accuracy: 0.7713 - val_loss: 0.6922\n",
            "Epoch 44/64\n",
            "\u001b[1m469/469\u001b[0m \u001b[32m━━━━━━━━━━━━━━━━━━━━\u001b[0m\u001b[37m\u001b[0m \u001b[1m31s\u001b[0m 65ms/step - accuracy: 0.8170 - loss: 0.5225 - val_accuracy: 0.7934 - val_loss: 0.6418\n",
            "Epoch 45/64\n",
            "\u001b[1m469/469\u001b[0m \u001b[32m━━━━━━━━━━━━━━━━━━━━\u001b[0m\u001b[37m\u001b[0m \u001b[1m30s\u001b[0m 65ms/step - accuracy: 0.8218 - loss: 0.5122 - val_accuracy: 0.7918 - val_loss: 0.6438\n",
            "Epoch 46/64\n",
            "\u001b[1m469/469\u001b[0m \u001b[32m━━━━━━━━━━━━━━━━━━━━\u001b[0m\u001b[37m\u001b[0m \u001b[1m30s\u001b[0m 65ms/step - accuracy: 0.8203 - loss: 0.5200 - val_accuracy: 0.7996 - val_loss: 0.6156\n",
            "Epoch 47/64\n",
            "\u001b[1m469/469\u001b[0m \u001b[32m━━━━━━━━━━━━━━━━━━━━\u001b[0m\u001b[37m\u001b[0m \u001b[1m30s\u001b[0m 65ms/step - accuracy: 0.8204 - loss: 0.5206 - val_accuracy: 0.7420 - val_loss: 0.8546\n",
            "Epoch 48/64\n",
            "\u001b[1m469/469\u001b[0m \u001b[32m━━━━━━━━━━━━━━━━━━━━\u001b[0m\u001b[37m\u001b[0m \u001b[1m31s\u001b[0m 67ms/step - accuracy: 0.8235 - loss: 0.5096 - val_accuracy: 0.7544 - val_loss: 0.7819\n",
            "Epoch 49/64\n",
            "\u001b[1m469/469\u001b[0m \u001b[32m━━━━━━━━━━━━━━━━━━━━\u001b[0m\u001b[37m\u001b[0m \u001b[1m26s\u001b[0m 56ms/step - accuracy: 0.8190 - loss: 0.5225 - val_accuracy: 0.7865 - val_loss: 0.6807\n",
            "Epoch 50/64\n",
            "\u001b[1m469/469\u001b[0m \u001b[32m━━━━━━━━━━━━━━━━━━━━\u001b[0m\u001b[37m\u001b[0m \u001b[1m31s\u001b[0m 66ms/step - accuracy: 0.8250 - loss: 0.5029 - val_accuracy: 0.7943 - val_loss: 0.6066\n",
            "Epoch 51/64\n",
            "\u001b[1m469/469\u001b[0m \u001b[32m━━━━━━━━━━━━━━━━━━━━\u001b[0m\u001b[37m\u001b[0m \u001b[1m30s\u001b[0m 64ms/step - accuracy: 0.8211 - loss: 0.5219 - val_accuracy: 0.8099 - val_loss: 0.5782\n",
            "Epoch 52/64\n",
            "\u001b[1m469/469\u001b[0m \u001b[32m━━━━━━━━━━━━━━━━━━━━\u001b[0m\u001b[37m\u001b[0m \u001b[1m31s\u001b[0m 65ms/step - accuracy: 0.8283 - loss: 0.5042 - val_accuracy: 0.7282 - val_loss: 0.9548\n",
            "Epoch 53/64\n",
            "\u001b[1m469/469\u001b[0m \u001b[32m━━━━━━━━━━━━━━━━━━━━\u001b[0m\u001b[37m\u001b[0m \u001b[1m30s\u001b[0m 65ms/step - accuracy: 0.8304 - loss: 0.4956 - val_accuracy: 0.7634 - val_loss: 0.7690\n",
            "Epoch 54/64\n",
            "\u001b[1m469/469\u001b[0m \u001b[32m━━━━━━━━━━━━━━━━━━━━\u001b[0m\u001b[37m\u001b[0m \u001b[1m30s\u001b[0m 64ms/step - accuracy: 0.8239 - loss: 0.5058 - val_accuracy: 0.7862 - val_loss: 0.6666\n",
            "Epoch 55/64\n",
            "\u001b[1m469/469\u001b[0m \u001b[32m━━━━━━━━━━━━━━━━━━━━\u001b[0m\u001b[37m\u001b[0m \u001b[1m30s\u001b[0m 64ms/step - accuracy: 0.8253 - loss: 0.5058 - val_accuracy: 0.7868 - val_loss: 0.6625\n",
            "Epoch 56/64\n",
            "\u001b[1m469/469\u001b[0m \u001b[32m━━━━━━━━━━━━━━━━━━━━\u001b[0m\u001b[37m\u001b[0m \u001b[1m30s\u001b[0m 64ms/step - accuracy: 0.8249 - loss: 0.5102 - val_accuracy: 0.7561 - val_loss: 0.7910\n",
            "Epoch 57/64\n",
            "\u001b[1m469/469\u001b[0m \u001b[32m━━━━━━━━━━━━━━━━━━━━\u001b[0m\u001b[37m\u001b[0m \u001b[1m41s\u001b[0m 65ms/step - accuracy: 0.8301 - loss: 0.5023 - val_accuracy: 0.7779 - val_loss: 0.7168\n",
            "Epoch 58/64\n",
            "\u001b[1m469/469\u001b[0m \u001b[32m━━━━━━━━━━━━━━━━━━━━\u001b[0m\u001b[37m\u001b[0m \u001b[1m30s\u001b[0m 65ms/step - accuracy: 0.8274 - loss: 0.4922 - val_accuracy: 0.7882 - val_loss: 0.6580\n",
            "Epoch 59/64\n",
            "\u001b[1m469/469\u001b[0m \u001b[32m━━━━━━━━━━━━━━━━━━━━\u001b[0m\u001b[37m\u001b[0m \u001b[1m33s\u001b[0m 71ms/step - accuracy: 0.8244 - loss: 0.4955 - val_accuracy: 0.7990 - val_loss: 0.6247\n",
            "Epoch 60/64\n",
            "\u001b[1m469/469\u001b[0m \u001b[32m━━━━━━━━━━━━━━━━━━━━\u001b[0m\u001b[37m\u001b[0m \u001b[1m31s\u001b[0m 65ms/step - accuracy: 0.8300 - loss: 0.5007 - val_accuracy: 0.7741 - val_loss: 0.7020\n",
            "Epoch 61/64\n",
            "\u001b[1m469/469\u001b[0m \u001b[32m━━━━━━━━━━━━━━━━━━━━\u001b[0m\u001b[37m\u001b[0m \u001b[1m30s\u001b[0m 65ms/step - accuracy: 0.8297 - loss: 0.4957 - val_accuracy: 0.7910 - val_loss: 0.6782\n",
            "Epoch 62/64\n",
            "\u001b[1m469/469\u001b[0m \u001b[32m━━━━━━━━━━━━━━━━━━━━\u001b[0m\u001b[37m\u001b[0m \u001b[1m31s\u001b[0m 66ms/step - accuracy: 0.8308 - loss: 0.4992 - val_accuracy: 0.7185 - val_loss: 1.0179\n",
            "Epoch 63/64\n",
            "\u001b[1m469/469\u001b[0m \u001b[32m━━━━━━━━━━━━━━━━━━━━\u001b[0m\u001b[37m\u001b[0m \u001b[1m32s\u001b[0m 68ms/step - accuracy: 0.8290 - loss: 0.4879 - val_accuracy: 0.7300 - val_loss: 0.9062\n",
            "Epoch 64/64\n",
            "\u001b[1m469/469\u001b[0m \u001b[32m━━━━━━━━━━━━━━━━━━━━\u001b[0m\u001b[37m\u001b[0m \u001b[1m31s\u001b[0m 66ms/step - accuracy: 0.8280 - loss: 0.5003 - val_accuracy: 0.8005 - val_loss: 0.6242\n"
          ]
        },
        {
          "data": {
            "text/plain": [
              "<keras.src.callbacks.history.History at 0x7f8f929b7500>"
            ]
          },
          "execution_count": 31,
          "metadata": {},
          "output_type": "execute_result"
        }
      ],
      "source": [
        "## TODO\n",
        "new_final_model_1.compile(\n",
        "    optimizer= tf.keras.optimizers.SGD(\n",
        "       learning_rate= .005,\n",
        "       momentum= 1/3,\n",
        "       nesterov= True\n",
        "    ),\n",
        "    loss= categorical_crossentropy,\n",
        "    metrics= ['accuracy']\n",
        ")\n",
        "new_final_model_1.fit(\n",
        "    train_generator,\n",
        "    batch_size= 128,\n",
        "    epochs= 64,\n",
        "    validation_data= val_generator,\n",
        "    callbacks= new_final_callbacks\n",
        ")"
      ]
    },
    {
      "cell_type": "code",
      "execution_count": null,
      "metadata": {
        "id": "LCtsYS6eCj5V",
        "outputId": "137046dd-11dc-4ae1-803e-8ae3df53518c"
      },
      "outputs": [
        {
          "name": "stdout",
          "output_type": "stream",
          "text": [
            "\u001b[1m313/313\u001b[0m \u001b[32m━━━━━━━━━━━━━━━━━━━━\u001b[0m\u001b[37m\u001b[0m \u001b[1m3s\u001b[0m 10ms/step\n",
            "              precision    recall  f1-score   support\n",
            "\n",
            "           0       0.78      0.88      0.82      1000\n",
            "           1       0.94      0.84      0.89      1000\n",
            "           2       0.58      0.83      0.68      1000\n",
            "           3       0.76      0.55      0.64      1000\n",
            "           4       0.91      0.54      0.68      1000\n",
            "           5       0.82      0.68      0.75      1000\n",
            "           6       0.72      0.92      0.81      1000\n",
            "           7       0.86      0.84      0.85      1000\n",
            "           8       0.88      0.90      0.89      1000\n",
            "           9       0.81      0.94      0.87      1000\n",
            "\n",
            "    accuracy                           0.79     10000\n",
            "   macro avg       0.81      0.79      0.79     10000\n",
            "weighted avg       0.81      0.79      0.79     10000\n",
            "\n"
          ]
        }
      ],
      "source": [
        "new_predict_x_dg = new_final_model_1.predict(X_test)\n",
        "new_classes_x_dg = np.argmax(new_predict_x_dg, axis= 1)\n",
        "\n",
        "print(classification_report(y_test, new_classes_x_dg))"
      ]
    },
    {
      "cell_type": "markdown",
      "source": [
        "**Модель 2го поколения**"
      ],
      "metadata": {
        "id": "KzikKQw0TUHB"
      }
    },
    {
      "cell_type": "code",
      "execution_count": null,
      "metadata": {
        "id": "bqrjrNv6Cj5W"
      },
      "outputs": [],
      "source": [
        "inputs = keras.Input(shape= dg_x_train.shape[1:], name= \"new_final_model_dg_1\")\n",
        "\n",
        "# 1st conv block\n",
        "x = keras.layers.Conv2D(32, (2, 2), padding= \"same\", trainable=True)(inputs)\n",
        "x = keras.layers.BatchNormalization()(x)\n",
        "x = keras.layers.Activation('relu')(x)\n",
        "\n",
        "# 2nd conv block\n",
        "x = keras.layers.Conv2D(64, (3, 3), padding= \"same\", trainable=True)(x)\n",
        "x = keras.layers.Activation('relu')(x)\n",
        "\n",
        "# 3nd conv block\n",
        "x = keras.layers.Conv2D(128, (3, 3), padding= \"same\", trainable=True)(x)\n",
        "x = keras.layers.Activation('relu')(x)\n",
        "\n",
        "# 4th conv block\n",
        "x = keras.layers.Conv2D(128, (5, 5), padding= \"same\", trainable=True)(x)\n",
        "x = keras.layers.Activation('relu')(x)\n",
        "\n",
        "block_1_output = keras.layers.MaxPooling2D(4)(x)\n",
        "\n",
        "# 5th conv block\n",
        "x = keras.layers.Conv2D(128, (5, 5), padding= \"same\", trainable=True)(block_1_output)\n",
        "x = keras.layers.BatchNormalization()(x)\n",
        "x = keras.layers.Activation('leaky_relu')(x)\n",
        "\n",
        "# 6th conv block\n",
        "x = keras.layers.Conv2D(128, (5, 5), padding= \"same\", trainable=True)(x)\n",
        "x = keras.layers.Activation('relu')(x)\n",
        "\n",
        "block_2_output = keras.layers.add([x, block_1_output])\n",
        "\n",
        "# 7th conv block\n",
        "x = keras.layers.Conv2D(128, (5, 5), padding=\"same\", trainable=True)(block_2_output)\n",
        "x = keras.layers.BatchNormalization()(x)\n",
        "x = keras.layers.Activation('leaky_relu')(x)\n",
        "\n",
        "block_3_output = keras.layers.add([x, block_2_output])\n",
        "\n",
        "# 8th conv block\n",
        "x = keras.layers.Conv2D(256, (5, 5), padding=\"same\", trainable=True)(block_3_output)\n",
        "x = keras.layers.BatchNormalization()(x)\n",
        "x = keras.layers.Activation('leaky_relu')(x)\n",
        "\n",
        "# global pooling\n",
        "x = keras.layers.GlobalAveragePooling2D()(x)\n",
        "\n",
        "# 1st full linked layer after pooling\n",
        "x = keras.layers.Dense(1024, trainable=True)(x)\n",
        "x = keras.layers.Activation('relu')(x)\n",
        "\n",
        "x = keras.layers.Dropout(1/3)(x)\n",
        "\n",
        "# final layer\n",
        "outputs = keras.layers.Dense(10, activation='softmax', trainable=True)(x)\n",
        "\n",
        "new_final_model_gd_1 = keras.Model(inputs, outputs, name=\"final_model_resnet_gd_1\")"
      ]
    },
    {
      "cell_type": "code",
      "execution_count": null,
      "metadata": {
        "id": "y5bMtN_mCj5W",
        "outputId": "821c9162-2a7e-4955-ed10-0e115698ab8c"
      },
      "outputs": [
        {
          "data": {
            "text/html": [
              "<pre style=\"white-space:pre;overflow-x:auto;line-height:normal;font-family:Menlo,'DejaVu Sans Mono',consolas,'Courier New',monospace\"><span style=\"font-weight: bold\">Model: \"final_model_resnet_gd_1\"</span>\n",
              "</pre>\n"
            ],
            "text/plain": [
              "\u001b[1mModel: \"final_model_resnet_gd_1\"\u001b[0m\n"
            ]
          },
          "metadata": {},
          "output_type": "display_data"
        },
        {
          "data": {
            "text/html": [
              "<pre style=\"white-space:pre;overflow-x:auto;line-height:normal;font-family:Menlo,'DejaVu Sans Mono',consolas,'Courier New',monospace\">┏━━━━━━━━━━━━━━━━━━━━━┳━━━━━━━━━━━━━━━━━━━┳━━━━━━━━━━━━┳━━━━━━━━━━━━━━━━━━━┓\n",
              "┃<span style=\"font-weight: bold\"> Layer (type)        </span>┃<span style=\"font-weight: bold\"> Output Shape      </span>┃<span style=\"font-weight: bold\">    Param # </span>┃<span style=\"font-weight: bold\"> Connected to      </span>┃\n",
              "┡━━━━━━━━━━━━━━━━━━━━━╇━━━━━━━━━━━━━━━━━━━╇━━━━━━━━━━━━╇━━━━━━━━━━━━━━━━━━━┩\n",
              "│ new_final_model_dg… │ (<span style=\"color: #00d7ff; text-decoration-color: #00d7ff\">None</span>, <span style=\"color: #00af00; text-decoration-color: #00af00\">32</span>, <span style=\"color: #00af00; text-decoration-color: #00af00\">32</span>, <span style=\"color: #00af00; text-decoration-color: #00af00\">3</span>) │          <span style=\"color: #00af00; text-decoration-color: #00af00\">0</span> │ -                 │\n",
              "│ (<span style=\"color: #0087ff; text-decoration-color: #0087ff\">InputLayer</span>)        │                   │            │                   │\n",
              "├─────────────────────┼───────────────────┼────────────┼───────────────────┤\n",
              "│ conv2d_164 (<span style=\"color: #0087ff; text-decoration-color: #0087ff\">Conv2D</span>) │ (<span style=\"color: #00d7ff; text-decoration-color: #00d7ff\">None</span>, <span style=\"color: #00af00; text-decoration-color: #00af00\">32</span>, <span style=\"color: #00af00; text-decoration-color: #00af00\">32</span>,    │        <span style=\"color: #00af00; text-decoration-color: #00af00\">416</span> │ new_final_model_… │\n",
              "│                     │ <span style=\"color: #00af00; text-decoration-color: #00af00\">32</span>)               │            │                   │\n",
              "├─────────────────────┼───────────────────┼────────────┼───────────────────┤\n",
              "│ batch_normalizatio… │ (<span style=\"color: #00d7ff; text-decoration-color: #00d7ff\">None</span>, <span style=\"color: #00af00; text-decoration-color: #00af00\">32</span>, <span style=\"color: #00af00; text-decoration-color: #00af00\">32</span>,    │        <span style=\"color: #00af00; text-decoration-color: #00af00\">128</span> │ conv2d_164[<span style=\"color: #00af00; text-decoration-color: #00af00\">0</span>][<span style=\"color: #00af00; text-decoration-color: #00af00\">0</span>]  │\n",
              "│ (<span style=\"color: #0087ff; text-decoration-color: #0087ff\">BatchNormalizatio…</span> │ <span style=\"color: #00af00; text-decoration-color: #00af00\">32</span>)               │            │                   │\n",
              "├─────────────────────┼───────────────────┼────────────┼───────────────────┤\n",
              "│ activation_189      │ (<span style=\"color: #00d7ff; text-decoration-color: #00d7ff\">None</span>, <span style=\"color: #00af00; text-decoration-color: #00af00\">32</span>, <span style=\"color: #00af00; text-decoration-color: #00af00\">32</span>,    │          <span style=\"color: #00af00; text-decoration-color: #00af00\">0</span> │ batch_normalizat… │\n",
              "│ (<span style=\"color: #0087ff; text-decoration-color: #0087ff\">Activation</span>)        │ <span style=\"color: #00af00; text-decoration-color: #00af00\">32</span>)               │            │                   │\n",
              "├─────────────────────┼───────────────────┼────────────┼───────────────────┤\n",
              "│ conv2d_165 (<span style=\"color: #0087ff; text-decoration-color: #0087ff\">Conv2D</span>) │ (<span style=\"color: #00d7ff; text-decoration-color: #00d7ff\">None</span>, <span style=\"color: #00af00; text-decoration-color: #00af00\">32</span>, <span style=\"color: #00af00; text-decoration-color: #00af00\">32</span>,    │     <span style=\"color: #00af00; text-decoration-color: #00af00\">18,496</span> │ activation_189[<span style=\"color: #00af00; text-decoration-color: #00af00\">0</span>… │\n",
              "│                     │ <span style=\"color: #00af00; text-decoration-color: #00af00\">64</span>)               │            │                   │\n",
              "├─────────────────────┼───────────────────┼────────────┼───────────────────┤\n",
              "│ activation_190      │ (<span style=\"color: #00d7ff; text-decoration-color: #00d7ff\">None</span>, <span style=\"color: #00af00; text-decoration-color: #00af00\">32</span>, <span style=\"color: #00af00; text-decoration-color: #00af00\">32</span>,    │          <span style=\"color: #00af00; text-decoration-color: #00af00\">0</span> │ conv2d_165[<span style=\"color: #00af00; text-decoration-color: #00af00\">0</span>][<span style=\"color: #00af00; text-decoration-color: #00af00\">0</span>]  │\n",
              "│ (<span style=\"color: #0087ff; text-decoration-color: #0087ff\">Activation</span>)        │ <span style=\"color: #00af00; text-decoration-color: #00af00\">64</span>)               │            │                   │\n",
              "├─────────────────────┼───────────────────┼────────────┼───────────────────┤\n",
              "│ conv2d_166 (<span style=\"color: #0087ff; text-decoration-color: #0087ff\">Conv2D</span>) │ (<span style=\"color: #00d7ff; text-decoration-color: #00d7ff\">None</span>, <span style=\"color: #00af00; text-decoration-color: #00af00\">32</span>, <span style=\"color: #00af00; text-decoration-color: #00af00\">32</span>,    │     <span style=\"color: #00af00; text-decoration-color: #00af00\">73,856</span> │ activation_190[<span style=\"color: #00af00; text-decoration-color: #00af00\">0</span>… │\n",
              "│                     │ <span style=\"color: #00af00; text-decoration-color: #00af00\">128</span>)              │            │                   │\n",
              "├─────────────────────┼───────────────────┼────────────┼───────────────────┤\n",
              "│ activation_191      │ (<span style=\"color: #00d7ff; text-decoration-color: #00d7ff\">None</span>, <span style=\"color: #00af00; text-decoration-color: #00af00\">32</span>, <span style=\"color: #00af00; text-decoration-color: #00af00\">32</span>,    │          <span style=\"color: #00af00; text-decoration-color: #00af00\">0</span> │ conv2d_166[<span style=\"color: #00af00; text-decoration-color: #00af00\">0</span>][<span style=\"color: #00af00; text-decoration-color: #00af00\">0</span>]  │\n",
              "│ (<span style=\"color: #0087ff; text-decoration-color: #0087ff\">Activation</span>)        │ <span style=\"color: #00af00; text-decoration-color: #00af00\">128</span>)              │            │                   │\n",
              "├─────────────────────┼───────────────────┼────────────┼───────────────────┤\n",
              "│ conv2d_167 (<span style=\"color: #0087ff; text-decoration-color: #0087ff\">Conv2D</span>) │ (<span style=\"color: #00d7ff; text-decoration-color: #00d7ff\">None</span>, <span style=\"color: #00af00; text-decoration-color: #00af00\">32</span>, <span style=\"color: #00af00; text-decoration-color: #00af00\">32</span>,    │    <span style=\"color: #00af00; text-decoration-color: #00af00\">409,728</span> │ activation_191[<span style=\"color: #00af00; text-decoration-color: #00af00\">0</span>… │\n",
              "│                     │ <span style=\"color: #00af00; text-decoration-color: #00af00\">128</span>)              │            │                   │\n",
              "├─────────────────────┼───────────────────┼────────────┼───────────────────┤\n",
              "│ activation_192      │ (<span style=\"color: #00d7ff; text-decoration-color: #00d7ff\">None</span>, <span style=\"color: #00af00; text-decoration-color: #00af00\">32</span>, <span style=\"color: #00af00; text-decoration-color: #00af00\">32</span>,    │          <span style=\"color: #00af00; text-decoration-color: #00af00\">0</span> │ conv2d_167[<span style=\"color: #00af00; text-decoration-color: #00af00\">0</span>][<span style=\"color: #00af00; text-decoration-color: #00af00\">0</span>]  │\n",
              "│ (<span style=\"color: #0087ff; text-decoration-color: #0087ff\">Activation</span>)        │ <span style=\"color: #00af00; text-decoration-color: #00af00\">128</span>)              │            │                   │\n",
              "├─────────────────────┼───────────────────┼────────────┼───────────────────┤\n",
              "│ max_pooling2d_22    │ (<span style=\"color: #00d7ff; text-decoration-color: #00d7ff\">None</span>, <span style=\"color: #00af00; text-decoration-color: #00af00\">8</span>, <span style=\"color: #00af00; text-decoration-color: #00af00\">8</span>, <span style=\"color: #00af00; text-decoration-color: #00af00\">128</span>) │          <span style=\"color: #00af00; text-decoration-color: #00af00\">0</span> │ activation_192[<span style=\"color: #00af00; text-decoration-color: #00af00\">0</span>… │\n",
              "│ (<span style=\"color: #0087ff; text-decoration-color: #0087ff\">MaxPooling2D</span>)      │                   │            │                   │\n",
              "├─────────────────────┼───────────────────┼────────────┼───────────────────┤\n",
              "│ conv2d_168 (<span style=\"color: #0087ff; text-decoration-color: #0087ff\">Conv2D</span>) │ (<span style=\"color: #00d7ff; text-decoration-color: #00d7ff\">None</span>, <span style=\"color: #00af00; text-decoration-color: #00af00\">8</span>, <span style=\"color: #00af00; text-decoration-color: #00af00\">8</span>, <span style=\"color: #00af00; text-decoration-color: #00af00\">128</span>) │    <span style=\"color: #00af00; text-decoration-color: #00af00\">409,728</span> │ max_pooling2d_22… │\n",
              "├─────────────────────┼───────────────────┼────────────┼───────────────────┤\n",
              "│ batch_normalizatio… │ (<span style=\"color: #00d7ff; text-decoration-color: #00d7ff\">None</span>, <span style=\"color: #00af00; text-decoration-color: #00af00\">8</span>, <span style=\"color: #00af00; text-decoration-color: #00af00\">8</span>, <span style=\"color: #00af00; text-decoration-color: #00af00\">128</span>) │        <span style=\"color: #00af00; text-decoration-color: #00af00\">512</span> │ conv2d_168[<span style=\"color: #00af00; text-decoration-color: #00af00\">0</span>][<span style=\"color: #00af00; text-decoration-color: #00af00\">0</span>]  │\n",
              "│ (<span style=\"color: #0087ff; text-decoration-color: #0087ff\">BatchNormalizatio…</span> │                   │            │                   │\n",
              "├─────────────────────┼───────────────────┼────────────┼───────────────────┤\n",
              "│ activation_193      │ (<span style=\"color: #00d7ff; text-decoration-color: #00d7ff\">None</span>, <span style=\"color: #00af00; text-decoration-color: #00af00\">8</span>, <span style=\"color: #00af00; text-decoration-color: #00af00\">8</span>, <span style=\"color: #00af00; text-decoration-color: #00af00\">128</span>) │          <span style=\"color: #00af00; text-decoration-color: #00af00\">0</span> │ batch_normalizat… │\n",
              "│ (<span style=\"color: #0087ff; text-decoration-color: #0087ff\">Activation</span>)        │                   │            │                   │\n",
              "├─────────────────────┼───────────────────┼────────────┼───────────────────┤\n",
              "│ conv2d_169 (<span style=\"color: #0087ff; text-decoration-color: #0087ff\">Conv2D</span>) │ (<span style=\"color: #00d7ff; text-decoration-color: #00d7ff\">None</span>, <span style=\"color: #00af00; text-decoration-color: #00af00\">8</span>, <span style=\"color: #00af00; text-decoration-color: #00af00\">8</span>, <span style=\"color: #00af00; text-decoration-color: #00af00\">128</span>) │    <span style=\"color: #00af00; text-decoration-color: #00af00\">409,728</span> │ activation_193[<span style=\"color: #00af00; text-decoration-color: #00af00\">0</span>… │\n",
              "├─────────────────────┼───────────────────┼────────────┼───────────────────┤\n",
              "│ activation_194      │ (<span style=\"color: #00d7ff; text-decoration-color: #00d7ff\">None</span>, <span style=\"color: #00af00; text-decoration-color: #00af00\">8</span>, <span style=\"color: #00af00; text-decoration-color: #00af00\">8</span>, <span style=\"color: #00af00; text-decoration-color: #00af00\">128</span>) │          <span style=\"color: #00af00; text-decoration-color: #00af00\">0</span> │ conv2d_169[<span style=\"color: #00af00; text-decoration-color: #00af00\">0</span>][<span style=\"color: #00af00; text-decoration-color: #00af00\">0</span>]  │\n",
              "│ (<span style=\"color: #0087ff; text-decoration-color: #0087ff\">Activation</span>)        │                   │            │                   │\n",
              "├─────────────────────┼───────────────────┼────────────┼───────────────────┤\n",
              "│ add_37 (<span style=\"color: #0087ff; text-decoration-color: #0087ff\">Add</span>)        │ (<span style=\"color: #00d7ff; text-decoration-color: #00d7ff\">None</span>, <span style=\"color: #00af00; text-decoration-color: #00af00\">8</span>, <span style=\"color: #00af00; text-decoration-color: #00af00\">8</span>, <span style=\"color: #00af00; text-decoration-color: #00af00\">128</span>) │          <span style=\"color: #00af00; text-decoration-color: #00af00\">0</span> │ activation_194[<span style=\"color: #00af00; text-decoration-color: #00af00\">0</span>… │\n",
              "│                     │                   │            │ max_pooling2d_22… │\n",
              "├─────────────────────┼───────────────────┼────────────┼───────────────────┤\n",
              "│ conv2d_170 (<span style=\"color: #0087ff; text-decoration-color: #0087ff\">Conv2D</span>) │ (<span style=\"color: #00d7ff; text-decoration-color: #00d7ff\">None</span>, <span style=\"color: #00af00; text-decoration-color: #00af00\">8</span>, <span style=\"color: #00af00; text-decoration-color: #00af00\">8</span>, <span style=\"color: #00af00; text-decoration-color: #00af00\">128</span>) │    <span style=\"color: #00af00; text-decoration-color: #00af00\">409,728</span> │ add_37[<span style=\"color: #00af00; text-decoration-color: #00af00\">0</span>][<span style=\"color: #00af00; text-decoration-color: #00af00\">0</span>]      │\n",
              "├─────────────────────┼───────────────────┼────────────┼───────────────────┤\n",
              "│ batch_normalizatio… │ (<span style=\"color: #00d7ff; text-decoration-color: #00d7ff\">None</span>, <span style=\"color: #00af00; text-decoration-color: #00af00\">8</span>, <span style=\"color: #00af00; text-decoration-color: #00af00\">8</span>, <span style=\"color: #00af00; text-decoration-color: #00af00\">128</span>) │        <span style=\"color: #00af00; text-decoration-color: #00af00\">512</span> │ conv2d_170[<span style=\"color: #00af00; text-decoration-color: #00af00\">0</span>][<span style=\"color: #00af00; text-decoration-color: #00af00\">0</span>]  │\n",
              "│ (<span style=\"color: #0087ff; text-decoration-color: #0087ff\">BatchNormalizatio…</span> │                   │            │                   │\n",
              "├─────────────────────┼───────────────────┼────────────┼───────────────────┤\n",
              "│ activation_195      │ (<span style=\"color: #00d7ff; text-decoration-color: #00d7ff\">None</span>, <span style=\"color: #00af00; text-decoration-color: #00af00\">8</span>, <span style=\"color: #00af00; text-decoration-color: #00af00\">8</span>, <span style=\"color: #00af00; text-decoration-color: #00af00\">128</span>) │          <span style=\"color: #00af00; text-decoration-color: #00af00\">0</span> │ batch_normalizat… │\n",
              "│ (<span style=\"color: #0087ff; text-decoration-color: #0087ff\">Activation</span>)        │                   │            │                   │\n",
              "├─────────────────────┼───────────────────┼────────────┼───────────────────┤\n",
              "│ add_38 (<span style=\"color: #0087ff; text-decoration-color: #0087ff\">Add</span>)        │ (<span style=\"color: #00d7ff; text-decoration-color: #00d7ff\">None</span>, <span style=\"color: #00af00; text-decoration-color: #00af00\">8</span>, <span style=\"color: #00af00; text-decoration-color: #00af00\">8</span>, <span style=\"color: #00af00; text-decoration-color: #00af00\">128</span>) │          <span style=\"color: #00af00; text-decoration-color: #00af00\">0</span> │ activation_195[<span style=\"color: #00af00; text-decoration-color: #00af00\">0</span>… │\n",
              "│                     │                   │            │ add_37[<span style=\"color: #00af00; text-decoration-color: #00af00\">0</span>][<span style=\"color: #00af00; text-decoration-color: #00af00\">0</span>]      │\n",
              "├─────────────────────┼───────────────────┼────────────┼───────────────────┤\n",
              "│ conv2d_171 (<span style=\"color: #0087ff; text-decoration-color: #0087ff\">Conv2D</span>) │ (<span style=\"color: #00d7ff; text-decoration-color: #00d7ff\">None</span>, <span style=\"color: #00af00; text-decoration-color: #00af00\">8</span>, <span style=\"color: #00af00; text-decoration-color: #00af00\">8</span>, <span style=\"color: #00af00; text-decoration-color: #00af00\">256</span>) │    <span style=\"color: #00af00; text-decoration-color: #00af00\">819,456</span> │ add_38[<span style=\"color: #00af00; text-decoration-color: #00af00\">0</span>][<span style=\"color: #00af00; text-decoration-color: #00af00\">0</span>]      │\n",
              "├─────────────────────┼───────────────────┼────────────┼───────────────────┤\n",
              "│ batch_normalizatio… │ (<span style=\"color: #00d7ff; text-decoration-color: #00d7ff\">None</span>, <span style=\"color: #00af00; text-decoration-color: #00af00\">8</span>, <span style=\"color: #00af00; text-decoration-color: #00af00\">8</span>, <span style=\"color: #00af00; text-decoration-color: #00af00\">256</span>) │      <span style=\"color: #00af00; text-decoration-color: #00af00\">1,024</span> │ conv2d_171[<span style=\"color: #00af00; text-decoration-color: #00af00\">0</span>][<span style=\"color: #00af00; text-decoration-color: #00af00\">0</span>]  │\n",
              "│ (<span style=\"color: #0087ff; text-decoration-color: #0087ff\">BatchNormalizatio…</span> │                   │            │                   │\n",
              "├─────────────────────┼───────────────────┼────────────┼───────────────────┤\n",
              "│ activation_196      │ (<span style=\"color: #00d7ff; text-decoration-color: #00d7ff\">None</span>, <span style=\"color: #00af00; text-decoration-color: #00af00\">8</span>, <span style=\"color: #00af00; text-decoration-color: #00af00\">8</span>, <span style=\"color: #00af00; text-decoration-color: #00af00\">256</span>) │          <span style=\"color: #00af00; text-decoration-color: #00af00\">0</span> │ batch_normalizat… │\n",
              "│ (<span style=\"color: #0087ff; text-decoration-color: #0087ff\">Activation</span>)        │                   │            │                   │\n",
              "├─────────────────────┼───────────────────┼────────────┼───────────────────┤\n",
              "│ global_average_poo… │ (<span style=\"color: #00d7ff; text-decoration-color: #00d7ff\">None</span>, <span style=\"color: #00af00; text-decoration-color: #00af00\">256</span>)       │          <span style=\"color: #00af00; text-decoration-color: #00af00\">0</span> │ activation_196[<span style=\"color: #00af00; text-decoration-color: #00af00\">0</span>… │\n",
              "│ (<span style=\"color: #0087ff; text-decoration-color: #0087ff\">GlobalAveragePool…</span> │                   │            │                   │\n",
              "├─────────────────────┼───────────────────┼────────────┼───────────────────┤\n",
              "│ dense_45 (<span style=\"color: #0087ff; text-decoration-color: #0087ff\">Dense</span>)    │ (<span style=\"color: #00d7ff; text-decoration-color: #00d7ff\">None</span>, <span style=\"color: #00af00; text-decoration-color: #00af00\">1024</span>)      │    <span style=\"color: #00af00; text-decoration-color: #00af00\">263,168</span> │ global_average_p… │\n",
              "├─────────────────────┼───────────────────┼────────────┼───────────────────┤\n",
              "│ activation_197      │ (<span style=\"color: #00d7ff; text-decoration-color: #00d7ff\">None</span>, <span style=\"color: #00af00; text-decoration-color: #00af00\">1024</span>)      │          <span style=\"color: #00af00; text-decoration-color: #00af00\">0</span> │ dense_45[<span style=\"color: #00af00; text-decoration-color: #00af00\">0</span>][<span style=\"color: #00af00; text-decoration-color: #00af00\">0</span>]    │\n",
              "│ (<span style=\"color: #0087ff; text-decoration-color: #0087ff\">Activation</span>)        │                   │            │                   │\n",
              "├─────────────────────┼───────────────────┼────────────┼───────────────────┤\n",
              "│ dropout_20          │ (<span style=\"color: #00d7ff; text-decoration-color: #00d7ff\">None</span>, <span style=\"color: #00af00; text-decoration-color: #00af00\">1024</span>)      │          <span style=\"color: #00af00; text-decoration-color: #00af00\">0</span> │ activation_197[<span style=\"color: #00af00; text-decoration-color: #00af00\">0</span>… │\n",
              "│ (<span style=\"color: #0087ff; text-decoration-color: #0087ff\">Dropout</span>)           │                   │            │                   │\n",
              "├─────────────────────┼───────────────────┼────────────┼───────────────────┤\n",
              "│ dense_46 (<span style=\"color: #0087ff; text-decoration-color: #0087ff\">Dense</span>)    │ (<span style=\"color: #00d7ff; text-decoration-color: #00d7ff\">None</span>, <span style=\"color: #00af00; text-decoration-color: #00af00\">10</span>)        │     <span style=\"color: #00af00; text-decoration-color: #00af00\">10,250</span> │ dropout_20[<span style=\"color: #00af00; text-decoration-color: #00af00\">0</span>][<span style=\"color: #00af00; text-decoration-color: #00af00\">0</span>]  │\n",
              "└─────────────────────┴───────────────────┴────────────┴───────────────────┘\n",
              "</pre>\n"
            ],
            "text/plain": [
              "┏━━━━━━━━━━━━━━━━━━━━━┳━━━━━━━━━━━━━━━━━━━┳━━━━━━━━━━━━┳━━━━━━━━━━━━━━━━━━━┓\n",
              "┃\u001b[1m \u001b[0m\u001b[1mLayer (type)       \u001b[0m\u001b[1m \u001b[0m┃\u001b[1m \u001b[0m\u001b[1mOutput Shape     \u001b[0m\u001b[1m \u001b[0m┃\u001b[1m \u001b[0m\u001b[1m   Param #\u001b[0m\u001b[1m \u001b[0m┃\u001b[1m \u001b[0m\u001b[1mConnected to     \u001b[0m\u001b[1m \u001b[0m┃\n",
              "┡━━━━━━━━━━━━━━━━━━━━━╇━━━━━━━━━━━━━━━━━━━╇━━━━━━━━━━━━╇━━━━━━━━━━━━━━━━━━━┩\n",
              "│ new_final_model_dg… │ (\u001b[38;5;45mNone\u001b[0m, \u001b[38;5;34m32\u001b[0m, \u001b[38;5;34m32\u001b[0m, \u001b[38;5;34m3\u001b[0m) │          \u001b[38;5;34m0\u001b[0m │ -                 │\n",
              "│ (\u001b[38;5;33mInputLayer\u001b[0m)        │                   │            │                   │\n",
              "├─────────────────────┼───────────────────┼────────────┼───────────────────┤\n",
              "│ conv2d_164 (\u001b[38;5;33mConv2D\u001b[0m) │ (\u001b[38;5;45mNone\u001b[0m, \u001b[38;5;34m32\u001b[0m, \u001b[38;5;34m32\u001b[0m,    │        \u001b[38;5;34m416\u001b[0m │ new_final_model_… │\n",
              "│                     │ \u001b[38;5;34m32\u001b[0m)               │            │                   │\n",
              "├─────────────────────┼───────────────────┼────────────┼───────────────────┤\n",
              "│ batch_normalizatio… │ (\u001b[38;5;45mNone\u001b[0m, \u001b[38;5;34m32\u001b[0m, \u001b[38;5;34m32\u001b[0m,    │        \u001b[38;5;34m128\u001b[0m │ conv2d_164[\u001b[38;5;34m0\u001b[0m][\u001b[38;5;34m0\u001b[0m]  │\n",
              "│ (\u001b[38;5;33mBatchNormalizatio…\u001b[0m │ \u001b[38;5;34m32\u001b[0m)               │            │                   │\n",
              "├─────────────────────┼───────────────────┼────────────┼───────────────────┤\n",
              "│ activation_189      │ (\u001b[38;5;45mNone\u001b[0m, \u001b[38;5;34m32\u001b[0m, \u001b[38;5;34m32\u001b[0m,    │          \u001b[38;5;34m0\u001b[0m │ batch_normalizat… │\n",
              "│ (\u001b[38;5;33mActivation\u001b[0m)        │ \u001b[38;5;34m32\u001b[0m)               │            │                   │\n",
              "├─────────────────────┼───────────────────┼────────────┼───────────────────┤\n",
              "│ conv2d_165 (\u001b[38;5;33mConv2D\u001b[0m) │ (\u001b[38;5;45mNone\u001b[0m, \u001b[38;5;34m32\u001b[0m, \u001b[38;5;34m32\u001b[0m,    │     \u001b[38;5;34m18,496\u001b[0m │ activation_189[\u001b[38;5;34m0\u001b[0m… │\n",
              "│                     │ \u001b[38;5;34m64\u001b[0m)               │            │                   │\n",
              "├─────────────────────┼───────────────────┼────────────┼───────────────────┤\n",
              "│ activation_190      │ (\u001b[38;5;45mNone\u001b[0m, \u001b[38;5;34m32\u001b[0m, \u001b[38;5;34m32\u001b[0m,    │          \u001b[38;5;34m0\u001b[0m │ conv2d_165[\u001b[38;5;34m0\u001b[0m][\u001b[38;5;34m0\u001b[0m]  │\n",
              "│ (\u001b[38;5;33mActivation\u001b[0m)        │ \u001b[38;5;34m64\u001b[0m)               │            │                   │\n",
              "├─────────────────────┼───────────────────┼────────────┼───────────────────┤\n",
              "│ conv2d_166 (\u001b[38;5;33mConv2D\u001b[0m) │ (\u001b[38;5;45mNone\u001b[0m, \u001b[38;5;34m32\u001b[0m, \u001b[38;5;34m32\u001b[0m,    │     \u001b[38;5;34m73,856\u001b[0m │ activation_190[\u001b[38;5;34m0\u001b[0m… │\n",
              "│                     │ \u001b[38;5;34m128\u001b[0m)              │            │                   │\n",
              "├─────────────────────┼───────────────────┼────────────┼───────────────────┤\n",
              "│ activation_191      │ (\u001b[38;5;45mNone\u001b[0m, \u001b[38;5;34m32\u001b[0m, \u001b[38;5;34m32\u001b[0m,    │          \u001b[38;5;34m0\u001b[0m │ conv2d_166[\u001b[38;5;34m0\u001b[0m][\u001b[38;5;34m0\u001b[0m]  │\n",
              "│ (\u001b[38;5;33mActivation\u001b[0m)        │ \u001b[38;5;34m128\u001b[0m)              │            │                   │\n",
              "├─────────────────────┼───────────────────┼────────────┼───────────────────┤\n",
              "│ conv2d_167 (\u001b[38;5;33mConv2D\u001b[0m) │ (\u001b[38;5;45mNone\u001b[0m, \u001b[38;5;34m32\u001b[0m, \u001b[38;5;34m32\u001b[0m,    │    \u001b[38;5;34m409,728\u001b[0m │ activation_191[\u001b[38;5;34m0\u001b[0m… │\n",
              "│                     │ \u001b[38;5;34m128\u001b[0m)              │            │                   │\n",
              "├─────────────────────┼───────────────────┼────────────┼───────────────────┤\n",
              "│ activation_192      │ (\u001b[38;5;45mNone\u001b[0m, \u001b[38;5;34m32\u001b[0m, \u001b[38;5;34m32\u001b[0m,    │          \u001b[38;5;34m0\u001b[0m │ conv2d_167[\u001b[38;5;34m0\u001b[0m][\u001b[38;5;34m0\u001b[0m]  │\n",
              "│ (\u001b[38;5;33mActivation\u001b[0m)        │ \u001b[38;5;34m128\u001b[0m)              │            │                   │\n",
              "├─────────────────────┼───────────────────┼────────────┼───────────────────┤\n",
              "│ max_pooling2d_22    │ (\u001b[38;5;45mNone\u001b[0m, \u001b[38;5;34m8\u001b[0m, \u001b[38;5;34m8\u001b[0m, \u001b[38;5;34m128\u001b[0m) │          \u001b[38;5;34m0\u001b[0m │ activation_192[\u001b[38;5;34m0\u001b[0m… │\n",
              "│ (\u001b[38;5;33mMaxPooling2D\u001b[0m)      │                   │            │                   │\n",
              "├─────────────────────┼───────────────────┼────────────┼───────────────────┤\n",
              "│ conv2d_168 (\u001b[38;5;33mConv2D\u001b[0m) │ (\u001b[38;5;45mNone\u001b[0m, \u001b[38;5;34m8\u001b[0m, \u001b[38;5;34m8\u001b[0m, \u001b[38;5;34m128\u001b[0m) │    \u001b[38;5;34m409,728\u001b[0m │ max_pooling2d_22… │\n",
              "├─────────────────────┼───────────────────┼────────────┼───────────────────┤\n",
              "│ batch_normalizatio… │ (\u001b[38;5;45mNone\u001b[0m, \u001b[38;5;34m8\u001b[0m, \u001b[38;5;34m8\u001b[0m, \u001b[38;5;34m128\u001b[0m) │        \u001b[38;5;34m512\u001b[0m │ conv2d_168[\u001b[38;5;34m0\u001b[0m][\u001b[38;5;34m0\u001b[0m]  │\n",
              "│ (\u001b[38;5;33mBatchNormalizatio…\u001b[0m │                   │            │                   │\n",
              "├─────────────────────┼───────────────────┼────────────┼───────────────────┤\n",
              "│ activation_193      │ (\u001b[38;5;45mNone\u001b[0m, \u001b[38;5;34m8\u001b[0m, \u001b[38;5;34m8\u001b[0m, \u001b[38;5;34m128\u001b[0m) │          \u001b[38;5;34m0\u001b[0m │ batch_normalizat… │\n",
              "│ (\u001b[38;5;33mActivation\u001b[0m)        │                   │            │                   │\n",
              "├─────────────────────┼───────────────────┼────────────┼───────────────────┤\n",
              "│ conv2d_169 (\u001b[38;5;33mConv2D\u001b[0m) │ (\u001b[38;5;45mNone\u001b[0m, \u001b[38;5;34m8\u001b[0m, \u001b[38;5;34m8\u001b[0m, \u001b[38;5;34m128\u001b[0m) │    \u001b[38;5;34m409,728\u001b[0m │ activation_193[\u001b[38;5;34m0\u001b[0m… │\n",
              "├─────────────────────┼───────────────────┼────────────┼───────────────────┤\n",
              "│ activation_194      │ (\u001b[38;5;45mNone\u001b[0m, \u001b[38;5;34m8\u001b[0m, \u001b[38;5;34m8\u001b[0m, \u001b[38;5;34m128\u001b[0m) │          \u001b[38;5;34m0\u001b[0m │ conv2d_169[\u001b[38;5;34m0\u001b[0m][\u001b[38;5;34m0\u001b[0m]  │\n",
              "│ (\u001b[38;5;33mActivation\u001b[0m)        │                   │            │                   │\n",
              "├─────────────────────┼───────────────────┼────────────┼───────────────────┤\n",
              "│ add_37 (\u001b[38;5;33mAdd\u001b[0m)        │ (\u001b[38;5;45mNone\u001b[0m, \u001b[38;5;34m8\u001b[0m, \u001b[38;5;34m8\u001b[0m, \u001b[38;5;34m128\u001b[0m) │          \u001b[38;5;34m0\u001b[0m │ activation_194[\u001b[38;5;34m0\u001b[0m… │\n",
              "│                     │                   │            │ max_pooling2d_22… │\n",
              "├─────────────────────┼───────────────────┼────────────┼───────────────────┤\n",
              "│ conv2d_170 (\u001b[38;5;33mConv2D\u001b[0m) │ (\u001b[38;5;45mNone\u001b[0m, \u001b[38;5;34m8\u001b[0m, \u001b[38;5;34m8\u001b[0m, \u001b[38;5;34m128\u001b[0m) │    \u001b[38;5;34m409,728\u001b[0m │ add_37[\u001b[38;5;34m0\u001b[0m][\u001b[38;5;34m0\u001b[0m]      │\n",
              "├─────────────────────┼───────────────────┼────────────┼───────────────────┤\n",
              "│ batch_normalizatio… │ (\u001b[38;5;45mNone\u001b[0m, \u001b[38;5;34m8\u001b[0m, \u001b[38;5;34m8\u001b[0m, \u001b[38;5;34m128\u001b[0m) │        \u001b[38;5;34m512\u001b[0m │ conv2d_170[\u001b[38;5;34m0\u001b[0m][\u001b[38;5;34m0\u001b[0m]  │\n",
              "│ (\u001b[38;5;33mBatchNormalizatio…\u001b[0m │                   │            │                   │\n",
              "├─────────────────────┼───────────────────┼────────────┼───────────────────┤\n",
              "│ activation_195      │ (\u001b[38;5;45mNone\u001b[0m, \u001b[38;5;34m8\u001b[0m, \u001b[38;5;34m8\u001b[0m, \u001b[38;5;34m128\u001b[0m) │          \u001b[38;5;34m0\u001b[0m │ batch_normalizat… │\n",
              "│ (\u001b[38;5;33mActivation\u001b[0m)        │                   │            │                   │\n",
              "├─────────────────────┼───────────────────┼────────────┼───────────────────┤\n",
              "│ add_38 (\u001b[38;5;33mAdd\u001b[0m)        │ (\u001b[38;5;45mNone\u001b[0m, \u001b[38;5;34m8\u001b[0m, \u001b[38;5;34m8\u001b[0m, \u001b[38;5;34m128\u001b[0m) │          \u001b[38;5;34m0\u001b[0m │ activation_195[\u001b[38;5;34m0\u001b[0m… │\n",
              "│                     │                   │            │ add_37[\u001b[38;5;34m0\u001b[0m][\u001b[38;5;34m0\u001b[0m]      │\n",
              "├─────────────────────┼───────────────────┼────────────┼───────────────────┤\n",
              "│ conv2d_171 (\u001b[38;5;33mConv2D\u001b[0m) │ (\u001b[38;5;45mNone\u001b[0m, \u001b[38;5;34m8\u001b[0m, \u001b[38;5;34m8\u001b[0m, \u001b[38;5;34m256\u001b[0m) │    \u001b[38;5;34m819,456\u001b[0m │ add_38[\u001b[38;5;34m0\u001b[0m][\u001b[38;5;34m0\u001b[0m]      │\n",
              "├─────────────────────┼───────────────────┼────────────┼───────────────────┤\n",
              "│ batch_normalizatio… │ (\u001b[38;5;45mNone\u001b[0m, \u001b[38;5;34m8\u001b[0m, \u001b[38;5;34m8\u001b[0m, \u001b[38;5;34m256\u001b[0m) │      \u001b[38;5;34m1,024\u001b[0m │ conv2d_171[\u001b[38;5;34m0\u001b[0m][\u001b[38;5;34m0\u001b[0m]  │\n",
              "│ (\u001b[38;5;33mBatchNormalizatio…\u001b[0m │                   │            │                   │\n",
              "├─────────────────────┼───────────────────┼────────────┼───────────────────┤\n",
              "│ activation_196      │ (\u001b[38;5;45mNone\u001b[0m, \u001b[38;5;34m8\u001b[0m, \u001b[38;5;34m8\u001b[0m, \u001b[38;5;34m256\u001b[0m) │          \u001b[38;5;34m0\u001b[0m │ batch_normalizat… │\n",
              "│ (\u001b[38;5;33mActivation\u001b[0m)        │                   │            │                   │\n",
              "├─────────────────────┼───────────────────┼────────────┼───────────────────┤\n",
              "│ global_average_poo… │ (\u001b[38;5;45mNone\u001b[0m, \u001b[38;5;34m256\u001b[0m)       │          \u001b[38;5;34m0\u001b[0m │ activation_196[\u001b[38;5;34m0\u001b[0m… │\n",
              "│ (\u001b[38;5;33mGlobalAveragePool…\u001b[0m │                   │            │                   │\n",
              "├─────────────────────┼───────────────────┼────────────┼───────────────────┤\n",
              "│ dense_45 (\u001b[38;5;33mDense\u001b[0m)    │ (\u001b[38;5;45mNone\u001b[0m, \u001b[38;5;34m1024\u001b[0m)      │    \u001b[38;5;34m263,168\u001b[0m │ global_average_p… │\n",
              "├─────────────────────┼───────────────────┼────────────┼───────────────────┤\n",
              "│ activation_197      │ (\u001b[38;5;45mNone\u001b[0m, \u001b[38;5;34m1024\u001b[0m)      │          \u001b[38;5;34m0\u001b[0m │ dense_45[\u001b[38;5;34m0\u001b[0m][\u001b[38;5;34m0\u001b[0m]    │\n",
              "│ (\u001b[38;5;33mActivation\u001b[0m)        │                   │            │                   │\n",
              "├─────────────────────┼───────────────────┼────────────┼───────────────────┤\n",
              "│ dropout_20          │ (\u001b[38;5;45mNone\u001b[0m, \u001b[38;5;34m1024\u001b[0m)      │          \u001b[38;5;34m0\u001b[0m │ activation_197[\u001b[38;5;34m0\u001b[0m… │\n",
              "│ (\u001b[38;5;33mDropout\u001b[0m)           │                   │            │                   │\n",
              "├─────────────────────┼───────────────────┼────────────┼───────────────────┤\n",
              "│ dense_46 (\u001b[38;5;33mDense\u001b[0m)    │ (\u001b[38;5;45mNone\u001b[0m, \u001b[38;5;34m10\u001b[0m)        │     \u001b[38;5;34m10,250\u001b[0m │ dropout_20[\u001b[38;5;34m0\u001b[0m][\u001b[38;5;34m0\u001b[0m]  │\n",
              "└─────────────────────┴───────────────────┴────────────┴───────────────────┘\n"
            ]
          },
          "metadata": {},
          "output_type": "display_data"
        },
        {
          "data": {
            "text/html": [
              "<pre style=\"white-space:pre;overflow-x:auto;line-height:normal;font-family:Menlo,'DejaVu Sans Mono',consolas,'Courier New',monospace\"><span style=\"font-weight: bold\"> Total params: </span><span style=\"color: #00af00; text-decoration-color: #00af00\">2,826,730</span> (10.78 MB)\n",
              "</pre>\n"
            ],
            "text/plain": [
              "\u001b[1m Total params: \u001b[0m\u001b[38;5;34m2,826,730\u001b[0m (10.78 MB)\n"
            ]
          },
          "metadata": {},
          "output_type": "display_data"
        },
        {
          "data": {
            "text/html": [
              "<pre style=\"white-space:pre;overflow-x:auto;line-height:normal;font-family:Menlo,'DejaVu Sans Mono',consolas,'Courier New',monospace\"><span style=\"font-weight: bold\"> Trainable params: </span><span style=\"color: #00af00; text-decoration-color: #00af00\">2,825,642</span> (10.78 MB)\n",
              "</pre>\n"
            ],
            "text/plain": [
              "\u001b[1m Trainable params: \u001b[0m\u001b[38;5;34m2,825,642\u001b[0m (10.78 MB)\n"
            ]
          },
          "metadata": {},
          "output_type": "display_data"
        },
        {
          "data": {
            "text/html": [
              "<pre style=\"white-space:pre;overflow-x:auto;line-height:normal;font-family:Menlo,'DejaVu Sans Mono',consolas,'Courier New',monospace\"><span style=\"font-weight: bold\"> Non-trainable params: </span><span style=\"color: #00af00; text-decoration-color: #00af00\">1,088</span> (4.25 KB)\n",
              "</pre>\n"
            ],
            "text/plain": [
              "\u001b[1m Non-trainable params: \u001b[0m\u001b[38;5;34m1,088\u001b[0m (4.25 KB)\n"
            ]
          },
          "metadata": {},
          "output_type": "display_data"
        }
      ],
      "source": [
        "new_final_model_gd_1.summary()"
      ]
    },
    {
      "cell_type": "code",
      "execution_count": null,
      "metadata": {
        "id": "p_Nrurc-Cj5X"
      },
      "outputs": [],
      "source": [
        "datagen = tf.keras.preprocessing.image.ImageDataGenerator(\n",
        "    rotation_range= 30,\n",
        "    width_shift_range= .25,\n",
        "    height_shift_range= .25,\n",
        "    horizontal_flip= True\n",
        ")\n",
        "\n",
        "val_datagen = tf.keras.preprocessing.image.ImageDataGenerator()\n",
        "\n",
        "split = 30000\n",
        "dg_x_train, dg_x_val = X_train[:split], X_train[split:]\n",
        "dg_y_train, dg_y_val = y_train[:split], y_train[split:]\n",
        "\n",
        "train_generator = datagen.flow(dg_x_train, dg_y_train, batch_size= 64)\n",
        "val_generator = val_datagen.flow(dg_x_val, dg_y_val, batch_size= 64)"
      ]
    },
    {
      "cell_type": "markdown",
      "source": [
        "**Обучение модели 2го поколения с использованием аугментации**"
      ],
      "metadata": {
        "id": "mbDaBVFeTp4a"
      }
    },
    {
      "cell_type": "code",
      "execution_count": null,
      "metadata": {
        "id": "852f9_chCj5Y",
        "outputId": "6c4b67c2-5221-4464-bb31-5c761e3d80b8"
      },
      "outputs": [
        {
          "name": "stdout",
          "output_type": "stream",
          "text": [
            "Epoch 1/98\n",
            "\u001b[1m469/469\u001b[0m \u001b[32m━━━━━━━━━━━━━━━━━━━━\u001b[0m\u001b[37m\u001b[0m \u001b[1m179s\u001b[0m 378ms/step - accuracy: 0.3138 - loss: 1.8525 - val_accuracy: 0.3134 - val_loss: 1.9320\n",
            "Epoch 2/98\n",
            "\u001b[1m469/469\u001b[0m \u001b[32m━━━━━━━━━━━━━━━━━━━━\u001b[0m\u001b[37m\u001b[0m \u001b[1m181s\u001b[0m 385ms/step - accuracy: 0.4736 - loss: 1.4372 - val_accuracy: 0.4473 - val_loss: 1.7672\n",
            "Epoch 3/98\n",
            "\u001b[1m469/469\u001b[0m \u001b[32m━━━━━━━━━━━━━━━━━━━━\u001b[0m\u001b[37m\u001b[0m \u001b[1m174s\u001b[0m 371ms/step - accuracy: 0.5354 - loss: 1.2886 - val_accuracy: 0.2740 - val_loss: 3.4145\n",
            "Epoch 4/98\n",
            "\u001b[1m469/469\u001b[0m \u001b[32m━━━━━━━━━━━━━━━━━━━━\u001b[0m\u001b[37m\u001b[0m \u001b[1m179s\u001b[0m 382ms/step - accuracy: 0.5778 - loss: 1.1900 - val_accuracy: 0.6089 - val_loss: 1.1148\n",
            "Epoch 5/98\n",
            "\u001b[1m469/469\u001b[0m \u001b[32m━━━━━━━━━━━━━━━━━━━━\u001b[0m\u001b[37m\u001b[0m \u001b[1m176s\u001b[0m 375ms/step - accuracy: 0.6142 - loss: 1.0973 - val_accuracy: 0.5610 - val_loss: 1.4285\n",
            "Epoch 6/98\n",
            "\u001b[1m469/469\u001b[0m \u001b[32m━━━━━━━━━━━━━━━━━━━━\u001b[0m\u001b[37m\u001b[0m \u001b[1m177s\u001b[0m 378ms/step - accuracy: 0.6383 - loss: 1.0226 - val_accuracy: 0.6219 - val_loss: 1.1069\n",
            "Epoch 7/98\n",
            "\u001b[1m469/469\u001b[0m \u001b[32m━━━━━━━━━━━━━━━━━━━━\u001b[0m\u001b[37m\u001b[0m \u001b[1m210s\u001b[0m 395ms/step - accuracy: 0.6571 - loss: 0.9731 - val_accuracy: 0.6271 - val_loss: 1.1065\n",
            "Epoch 8/98\n",
            "\u001b[1m469/469\u001b[0m \u001b[32m━━━━━━━━━━━━━━━━━━━━\u001b[0m\u001b[37m\u001b[0m \u001b[1m180s\u001b[0m 384ms/step - accuracy: 0.6746 - loss: 0.9280 - val_accuracy: 0.6352 - val_loss: 1.1036\n",
            "Epoch 9/98\n",
            "\u001b[1m469/469\u001b[0m \u001b[32m━━━━━━━━━━━━━━━━━━━━\u001b[0m\u001b[37m\u001b[0m \u001b[1m175s\u001b[0m 373ms/step - accuracy: 0.6875 - loss: 0.8857 - val_accuracy: 0.6608 - val_loss: 1.0718\n",
            "Epoch 10/98\n",
            "\u001b[1m469/469\u001b[0m \u001b[32m━━━━━━━━━━━━━━━━━━━━\u001b[0m\u001b[37m\u001b[0m \u001b[1m169s\u001b[0m 361ms/step - accuracy: 0.7021 - loss: 0.8454 - val_accuracy: 0.6531 - val_loss: 1.0258\n",
            "Epoch 11/98\n",
            "\u001b[1m469/469\u001b[0m \u001b[32m━━━━━━━━━━━━━━━━━━━━\u001b[0m\u001b[37m\u001b[0m \u001b[1m169s\u001b[0m 360ms/step - accuracy: 0.7182 - loss: 0.8126 - val_accuracy: 0.7239 - val_loss: 0.7984\n",
            "Epoch 12/98\n",
            "\u001b[1m469/469\u001b[0m \u001b[32m━━━━━━━━━━━━━━━━━━━━\u001b[0m\u001b[37m\u001b[0m \u001b[1m167s\u001b[0m 356ms/step - accuracy: 0.7264 - loss: 0.7818 - val_accuracy: 0.7091 - val_loss: 0.8902\n",
            "Epoch 13/98\n",
            "\u001b[1m469/469\u001b[0m \u001b[32m━━━━━━━━━━━━━━━━━━━━\u001b[0m\u001b[37m\u001b[0m \u001b[1m160s\u001b[0m 342ms/step - accuracy: 0.7329 - loss: 0.7614 - val_accuracy: 0.6832 - val_loss: 0.9819\n",
            "Epoch 14/98\n",
            "\u001b[1m469/469\u001b[0m \u001b[32m━━━━━━━━━━━━━━━━━━━━\u001b[0m\u001b[37m\u001b[0m \u001b[1m157s\u001b[0m 335ms/step - accuracy: 0.7433 - loss: 0.7314 - val_accuracy: 0.7527 - val_loss: 0.7229\n",
            "Epoch 15/98\n",
            "\u001b[1m469/469\u001b[0m \u001b[32m━━━━━━━━━━━━━━━━━━━━\u001b[0m\u001b[37m\u001b[0m \u001b[1m157s\u001b[0m 334ms/step - accuracy: 0.7543 - loss: 0.7005 - val_accuracy: 0.6995 - val_loss: 1.0326\n",
            "Epoch 16/98\n",
            "\u001b[1m469/469\u001b[0m \u001b[32m━━━━━━━━━━━━━━━━━━━━\u001b[0m\u001b[37m\u001b[0m \u001b[1m202s\u001b[0m 334ms/step - accuracy: 0.7544 - loss: 0.6978 - val_accuracy: 0.7173 - val_loss: 0.8887\n",
            "Epoch 17/98\n",
            "\u001b[1m469/469\u001b[0m \u001b[32m━━━━━━━━━━━━━━━━━━━━\u001b[0m\u001b[37m\u001b[0m \u001b[1m156s\u001b[0m 333ms/step - accuracy: 0.7675 - loss: 0.6707 - val_accuracy: 0.7311 - val_loss: 0.7705\n",
            "Epoch 18/98\n",
            "\u001b[1m469/469\u001b[0m \u001b[32m━━━━━━━━━━━━━━━━━━━━\u001b[0m\u001b[37m\u001b[0m \u001b[1m157s\u001b[0m 334ms/step - accuracy: 0.7722 - loss: 0.6478 - val_accuracy: 0.7222 - val_loss: 0.8782\n",
            "Epoch 19/98\n",
            "\u001b[1m469/469\u001b[0m \u001b[32m━━━━━━━━━━━━━━━━━━━━\u001b[0m\u001b[37m\u001b[0m \u001b[1m156s\u001b[0m 333ms/step - accuracy: 0.7778 - loss: 0.6300 - val_accuracy: 0.7717 - val_loss: 0.6615\n",
            "Epoch 20/98\n",
            "\u001b[1m469/469\u001b[0m \u001b[32m━━━━━━━━━━━━━━━━━━━━\u001b[0m\u001b[37m\u001b[0m \u001b[1m158s\u001b[0m 338ms/step - accuracy: 0.7831 - loss: 0.6267 - val_accuracy: 0.7310 - val_loss: 0.7798\n",
            "Epoch 21/98\n",
            "\u001b[1m469/469\u001b[0m \u001b[32m━━━━━━━━━━━━━━━━━━━━\u001b[0m\u001b[37m\u001b[0m \u001b[1m158s\u001b[0m 338ms/step - accuracy: 0.7926 - loss: 0.6050 - val_accuracy: 0.7276 - val_loss: 0.8068\n",
            "Epoch 22/98\n",
            "\u001b[1m469/469\u001b[0m \u001b[32m━━━━━━━━━━━━━━━━━━━━\u001b[0m\u001b[37m\u001b[0m \u001b[1m157s\u001b[0m 334ms/step - accuracy: 0.7975 - loss: 0.5872 - val_accuracy: 0.6817 - val_loss: 1.0938\n",
            "Epoch 23/98\n",
            "\u001b[1m469/469\u001b[0m \u001b[32m━━━━━━━━━━━━━━━━━━━━\u001b[0m\u001b[37m\u001b[0m \u001b[1m168s\u001b[0m 357ms/step - accuracy: 0.7953 - loss: 0.5818 - val_accuracy: 0.7895 - val_loss: 0.6292\n",
            "Epoch 24/98\n",
            "\u001b[1m469/469\u001b[0m \u001b[32m━━━━━━━━━━━━━━━━━━━━\u001b[0m\u001b[37m\u001b[0m \u001b[1m215s\u001b[0m 386ms/step - accuracy: 0.8077 - loss: 0.5550 - val_accuracy: 0.7788 - val_loss: 0.6608\n",
            "Epoch 25/98\n",
            "\u001b[1m469/469\u001b[0m \u001b[32m━━━━━━━━━━━━━━━━━━━━\u001b[0m\u001b[37m\u001b[0m \u001b[1m190s\u001b[0m 360ms/step - accuracy: 0.8098 - loss: 0.5476 - val_accuracy: 0.7850 - val_loss: 0.6479\n",
            "Epoch 26/98\n",
            "\u001b[1m469/469\u001b[0m \u001b[32m━━━━━━━━━━━━━━━━━━━━\u001b[0m\u001b[37m\u001b[0m \u001b[1m171s\u001b[0m 364ms/step - accuracy: 0.8131 - loss: 0.5422 - val_accuracy: 0.7475 - val_loss: 0.7598\n",
            "Epoch 27/98\n",
            "\u001b[1m469/469\u001b[0m \u001b[32m━━━━━━━━━━━━━━━━━━━━\u001b[0m\u001b[37m\u001b[0m \u001b[1m163s\u001b[0m 348ms/step - accuracy: 0.8145 - loss: 0.5334 - val_accuracy: 0.7415 - val_loss: 0.8280\n",
            "Epoch 28/98\n",
            "\u001b[1m469/469\u001b[0m \u001b[32m━━━━━━━━━━━━━━━━━━━━\u001b[0m\u001b[37m\u001b[0m \u001b[1m165s\u001b[0m 351ms/step - accuracy: 0.8156 - loss: 0.5263 - val_accuracy: 0.7875 - val_loss: 0.6453\n",
            "Epoch 29/98\n",
            "\u001b[1m469/469\u001b[0m \u001b[32m━━━━━━━━━━━━━━━━━━━━\u001b[0m\u001b[37m\u001b[0m \u001b[1m171s\u001b[0m 365ms/step - accuracy: 0.8245 - loss: 0.5056 - val_accuracy: 0.7856 - val_loss: 0.6632\n",
            "Epoch 30/98\n",
            "\u001b[1m469/469\u001b[0m \u001b[32m━━━━━━━━━━━━━━━━━━━━\u001b[0m\u001b[37m\u001b[0m \u001b[1m163s\u001b[0m 347ms/step - accuracy: 0.8263 - loss: 0.5037 - val_accuracy: 0.8007 - val_loss: 0.6051\n",
            "Epoch 31/98\n",
            "\u001b[1m469/469\u001b[0m \u001b[32m━━━━━━━━━━━━━━━━━━━━\u001b[0m\u001b[37m\u001b[0m \u001b[1m149s\u001b[0m 318ms/step - accuracy: 0.8353 - loss: 0.4798 - val_accuracy: 0.8101 - val_loss: 0.5642\n",
            "Epoch 32/98\n",
            "\u001b[1m469/469\u001b[0m \u001b[32m━━━━━━━━━━━━━━━━━━━━\u001b[0m\u001b[37m\u001b[0m \u001b[1m149s\u001b[0m 318ms/step - accuracy: 0.8374 - loss: 0.4786 - val_accuracy: 0.7999 - val_loss: 0.5917\n",
            "Epoch 33/98\n",
            "\u001b[1m469/469\u001b[0m \u001b[32m━━━━━━━━━━━━━━━━━━━━\u001b[0m\u001b[37m\u001b[0m \u001b[1m149s\u001b[0m 318ms/step - accuracy: 0.8351 - loss: 0.4796 - val_accuracy: 0.7980 - val_loss: 0.5960\n",
            "Epoch 34/98\n",
            "\u001b[1m469/469\u001b[0m \u001b[32m━━━━━━━━━━━━━━━━━━━━\u001b[0m\u001b[37m\u001b[0m \u001b[1m151s\u001b[0m 322ms/step - accuracy: 0.8413 - loss: 0.4639 - val_accuracy: 0.7981 - val_loss: 0.6194\n",
            "Epoch 35/98\n",
            "\u001b[1m469/469\u001b[0m \u001b[32m━━━━━━━━━━━━━━━━━━━━\u001b[0m\u001b[37m\u001b[0m \u001b[1m154s\u001b[0m 328ms/step - accuracy: 0.8404 - loss: 0.4570 - val_accuracy: 0.8178 - val_loss: 0.5293\n",
            "Epoch 36/98\n",
            "\u001b[1m469/469\u001b[0m \u001b[32m━━━━━━━━━━━━━━━━━━━━\u001b[0m\u001b[37m\u001b[0m \u001b[1m154s\u001b[0m 328ms/step - accuracy: 0.8434 - loss: 0.4554 - val_accuracy: 0.7978 - val_loss: 0.6335\n",
            "Epoch 37/98\n",
            "\u001b[1m469/469\u001b[0m \u001b[32m━━━━━━━━━━━━━━━━━━━━\u001b[0m\u001b[37m\u001b[0m \u001b[1m156s\u001b[0m 332ms/step - accuracy: 0.8475 - loss: 0.4379 - val_accuracy: 0.7811 - val_loss: 0.7089\n",
            "Epoch 38/98\n",
            "\u001b[1m469/469\u001b[0m \u001b[32m━━━━━━━━━━━━━━━━━━━━\u001b[0m\u001b[37m\u001b[0m \u001b[1m153s\u001b[0m 326ms/step - accuracy: 0.8482 - loss: 0.4373 - val_accuracy: 0.7748 - val_loss: 0.7220\n",
            "Epoch 39/98\n",
            "\u001b[1m469/469\u001b[0m \u001b[32m━━━━━━━━━━━━━━━━━━━━\u001b[0m\u001b[37m\u001b[0m \u001b[1m153s\u001b[0m 326ms/step - accuracy: 0.8482 - loss: 0.4402 - val_accuracy: 0.7943 - val_loss: 0.6087\n",
            "Epoch 40/98\n",
            "\u001b[1m469/469\u001b[0m \u001b[32m━━━━━━━━━━━━━━━━━━━━\u001b[0m\u001b[37m\u001b[0m \u001b[1m152s\u001b[0m 324ms/step - accuracy: 0.8534 - loss: 0.4124 - val_accuracy: 0.8143 - val_loss: 0.5713\n",
            "Epoch 41/98\n",
            "\u001b[1m469/469\u001b[0m \u001b[32m━━━━━━━━━━━━━━━━━━━━\u001b[0m\u001b[37m\u001b[0m \u001b[1m152s\u001b[0m 325ms/step - accuracy: 0.8542 - loss: 0.4190 - val_accuracy: 0.7789 - val_loss: 0.6669\n",
            "Epoch 42/98\n",
            "\u001b[1m469/469\u001b[0m \u001b[32m━━━━━━━━━━━━━━━━━━━━\u001b[0m\u001b[37m\u001b[0m \u001b[1m151s\u001b[0m 321ms/step - accuracy: 0.8581 - loss: 0.4098 - val_accuracy: 0.8296 - val_loss: 0.5261\n",
            "Epoch 43/98\n",
            "\u001b[1m469/469\u001b[0m \u001b[32m━━━━━━━━━━━━━━━━━━━━\u001b[0m\u001b[37m\u001b[0m \u001b[1m148s\u001b[0m 316ms/step - accuracy: 0.8589 - loss: 0.4056 - val_accuracy: 0.7841 - val_loss: 0.6824\n",
            "Epoch 44/98\n",
            "\u001b[1m469/469\u001b[0m \u001b[32m━━━━━━━━━━━━━━━━━━━━\u001b[0m\u001b[37m\u001b[0m \u001b[1m149s\u001b[0m 317ms/step - accuracy: 0.8611 - loss: 0.3961 - val_accuracy: 0.8044 - val_loss: 0.6013\n",
            "Epoch 45/98\n",
            "\u001b[1m469/469\u001b[0m \u001b[32m━━━━━━━━━━━━━━━━━━━━\u001b[0m\u001b[37m\u001b[0m \u001b[1m148s\u001b[0m 316ms/step - accuracy: 0.8662 - loss: 0.3914 - val_accuracy: 0.7942 - val_loss: 0.6538\n",
            "Epoch 46/98\n",
            "\u001b[1m469/469\u001b[0m \u001b[32m━━━━━━━━━━━━━━━━━━━━\u001b[0m\u001b[37m\u001b[0m \u001b[1m148s\u001b[0m 316ms/step - accuracy: 0.8703 - loss: 0.3734 - val_accuracy: 0.8353 - val_loss: 0.5011\n",
            "Epoch 47/98\n",
            "\u001b[1m469/469\u001b[0m \u001b[32m━━━━━━━━━━━━━━━━━━━━\u001b[0m\u001b[37m\u001b[0m \u001b[1m149s\u001b[0m 317ms/step - accuracy: 0.8689 - loss: 0.3734 - val_accuracy: 0.7940 - val_loss: 0.6570\n",
            "Epoch 48/98\n",
            "\u001b[1m469/469\u001b[0m \u001b[32m━━━━━━━━━━━━━━━━━━━━\u001b[0m\u001b[37m\u001b[0m \u001b[1m149s\u001b[0m 318ms/step - accuracy: 0.8705 - loss: 0.3680 - val_accuracy: 0.7860 - val_loss: 0.7506\n",
            "Epoch 49/98\n",
            "\u001b[1m469/469\u001b[0m \u001b[32m━━━━━━━━━━━━━━━━━━━━\u001b[0m\u001b[37m\u001b[0m \u001b[1m201s\u001b[0m 317ms/step - accuracy: 0.8743 - loss: 0.3672 - val_accuracy: 0.8318 - val_loss: 0.5481\n",
            "Epoch 50/98\n",
            "\u001b[1m469/469\u001b[0m \u001b[32m━━━━━━━━━━━━━━━━━━━━\u001b[0m\u001b[37m\u001b[0m \u001b[1m149s\u001b[0m 318ms/step - accuracy: 0.8707 - loss: 0.3716 - val_accuracy: 0.8057 - val_loss: 0.6379\n",
            "Epoch 51/98\n",
            "\u001b[1m469/469\u001b[0m \u001b[32m━━━━━━━━━━━━━━━━━━━━\u001b[0m\u001b[37m\u001b[0m \u001b[1m149s\u001b[0m 318ms/step - accuracy: 0.8715 - loss: 0.3668 - val_accuracy: 0.8038 - val_loss: 0.6212\n",
            "Epoch 52/98\n",
            "\u001b[1m469/469\u001b[0m \u001b[32m━━━━━━━━━━━━━━━━━━━━\u001b[0m\u001b[37m\u001b[0m \u001b[1m148s\u001b[0m 316ms/step - accuracy: 0.8815 - loss: 0.3391 - val_accuracy: 0.8195 - val_loss: 0.5730\n",
            "Epoch 53/98\n",
            "\u001b[1m469/469\u001b[0m \u001b[32m━━━━━━━━━━━━━━━━━━━━\u001b[0m\u001b[37m\u001b[0m \u001b[1m150s\u001b[0m 320ms/step - accuracy: 0.8821 - loss: 0.3448 - val_accuracy: 0.8039 - val_loss: 0.5936\n",
            "Epoch 54/98\n",
            "\u001b[1m469/469\u001b[0m \u001b[32m━━━━━━━━━━━━━━━━━━━━\u001b[0m\u001b[37m\u001b[0m \u001b[1m151s\u001b[0m 322ms/step - accuracy: 0.8830 - loss: 0.3434 - val_accuracy: 0.8140 - val_loss: 0.5893\n",
            "Epoch 55/98\n",
            "\u001b[1m469/469\u001b[0m \u001b[32m━━━━━━━━━━━━━━━━━━━━\u001b[0m\u001b[37m\u001b[0m \u001b[1m201s\u001b[0m 319ms/step - accuracy: 0.8856 - loss: 0.3277 - val_accuracy: 0.8036 - val_loss: 0.6635\n",
            "Epoch 56/98\n",
            "\u001b[1m469/469\u001b[0m \u001b[32m━━━━━━━━━━━━━━━━━━━━\u001b[0m\u001b[37m\u001b[0m \u001b[1m150s\u001b[0m 319ms/step - accuracy: 0.8862 - loss: 0.3305 - val_accuracy: 0.8426 - val_loss: 0.4779\n",
            "Epoch 57/98\n",
            "\u001b[1m469/469\u001b[0m \u001b[32m━━━━━━━━━━━━━━━━━━━━\u001b[0m\u001b[37m\u001b[0m \u001b[1m150s\u001b[0m 319ms/step - accuracy: 0.8833 - loss: 0.3297 - val_accuracy: 0.8283 - val_loss: 0.5626\n",
            "Epoch 58/98\n",
            "\u001b[1m469/469\u001b[0m \u001b[32m━━━━━━━━━━━━━━━━━━━━\u001b[0m\u001b[37m\u001b[0m \u001b[1m149s\u001b[0m 318ms/step - accuracy: 0.8849 - loss: 0.3283 - val_accuracy: 0.8132 - val_loss: 0.5761\n",
            "Epoch 59/98\n",
            "\u001b[1m469/469\u001b[0m \u001b[32m━━━━━━━━━━━━━━━━━━━━\u001b[0m\u001b[37m\u001b[0m \u001b[1m150s\u001b[0m 319ms/step - accuracy: 0.8876 - loss: 0.3245 - val_accuracy: 0.8241 - val_loss: 0.5629\n",
            "Epoch 60/98\n",
            "\u001b[1m469/469\u001b[0m \u001b[32m━━━━━━━━━━━━━━━━━━━━\u001b[0m\u001b[37m\u001b[0m \u001b[1m151s\u001b[0m 321ms/step - accuracy: 0.8873 - loss: 0.3156 - val_accuracy: 0.8103 - val_loss: 0.6236\n",
            "Epoch 61/98\n",
            "\u001b[1m469/469\u001b[0m \u001b[32m━━━━━━━━━━━━━━━━━━━━\u001b[0m\u001b[37m\u001b[0m \u001b[1m150s\u001b[0m 320ms/step - accuracy: 0.8889 - loss: 0.3194 - val_accuracy: 0.8235 - val_loss: 0.5886\n",
            "Epoch 62/98\n",
            "\u001b[1m469/469\u001b[0m \u001b[32m━━━━━━━━━━━━━━━━━━━━\u001b[0m\u001b[37m\u001b[0m \u001b[1m150s\u001b[0m 320ms/step - accuracy: 0.8907 - loss: 0.3117 - val_accuracy: 0.8078 - val_loss: 0.6515\n",
            "Epoch 63/98\n",
            "\u001b[1m469/469\u001b[0m \u001b[32m━━━━━━━━━━━━━━━━━━━━\u001b[0m\u001b[37m\u001b[0m \u001b[1m202s\u001b[0m 321ms/step - accuracy: 0.8912 - loss: 0.3037 - val_accuracy: 0.8294 - val_loss: 0.5266\n",
            "Epoch 64/98\n",
            "\u001b[1m469/469\u001b[0m \u001b[32m━━━━━━━━━━━━━━━━━━━━\u001b[0m\u001b[37m\u001b[0m \u001b[1m150s\u001b[0m 319ms/step - accuracy: 0.8970 - loss: 0.2979 - val_accuracy: 0.8269 - val_loss: 0.5520\n",
            "Epoch 65/98\n",
            "\u001b[1m469/469\u001b[0m \u001b[32m━━━━━━━━━━━━━━━━━━━━\u001b[0m\u001b[37m\u001b[0m \u001b[1m150s\u001b[0m 320ms/step - accuracy: 0.8993 - loss: 0.2913 - val_accuracy: 0.8298 - val_loss: 0.5777\n",
            "Epoch 66/98\n",
            "\u001b[1m469/469\u001b[0m \u001b[32m━━━━━━━━━━━━━━━━━━━━\u001b[0m\u001b[37m\u001b[0m \u001b[1m149s\u001b[0m 318ms/step - accuracy: 0.8962 - loss: 0.2956 - val_accuracy: 0.8047 - val_loss: 0.6563\n",
            "Epoch 67/98\n",
            "\u001b[1m469/469\u001b[0m \u001b[32m━━━━━━━━━━━━━━━━━━━━\u001b[0m\u001b[37m\u001b[0m \u001b[1m149s\u001b[0m 318ms/step - accuracy: 0.8992 - loss: 0.2903 - val_accuracy: 0.8303 - val_loss: 0.5586\n",
            "Epoch 68/98\n",
            "\u001b[1m469/469\u001b[0m \u001b[32m━━━━━━━━━━━━━━━━━━━━\u001b[0m\u001b[37m\u001b[0m \u001b[1m203s\u001b[0m 320ms/step - accuracy: 0.8972 - loss: 0.2990 - val_accuracy: 0.8446 - val_loss: 0.5132\n",
            "Epoch 69/98\n",
            "\u001b[1m469/469\u001b[0m \u001b[32m━━━━━━━━━━━━━━━━━━━━\u001b[0m\u001b[37m\u001b[0m \u001b[1m151s\u001b[0m 321ms/step - accuracy: 0.8991 - loss: 0.2839 - val_accuracy: 0.8445 - val_loss: 0.5155\n",
            "Epoch 70/98\n",
            "\u001b[1m469/469\u001b[0m \u001b[32m━━━━━━━━━━━━━━━━━━━━\u001b[0m\u001b[37m\u001b[0m \u001b[1m151s\u001b[0m 321ms/step - accuracy: 0.8978 - loss: 0.2890 - val_accuracy: 0.8278 - val_loss: 0.5487\n",
            "Epoch 71/98\n",
            "\u001b[1m469/469\u001b[0m \u001b[32m━━━━━━━━━━━━━━━━━━━━\u001b[0m\u001b[37m\u001b[0m \u001b[1m152s\u001b[0m 324ms/step - accuracy: 0.9033 - loss: 0.2739 - val_accuracy: 0.8493 - val_loss: 0.4945\n",
            "Epoch 72/98\n",
            "\u001b[1m469/469\u001b[0m \u001b[32m━━━━━━━━━━━━━━━━━━━━\u001b[0m\u001b[37m\u001b[0m \u001b[1m151s\u001b[0m 322ms/step - accuracy: 0.9002 - loss: 0.2859 - val_accuracy: 0.8318 - val_loss: 0.5655\n",
            "Epoch 73/98\n",
            "\u001b[1m469/469\u001b[0m \u001b[32m━━━━━━━━━━━━━━━━━━━━\u001b[0m\u001b[37m\u001b[0m \u001b[1m150s\u001b[0m 320ms/step - accuracy: 0.9039 - loss: 0.2775 - val_accuracy: 0.8121 - val_loss: 0.6421\n",
            "Epoch 74/98\n",
            "\u001b[1m469/469\u001b[0m \u001b[32m━━━━━━━━━━━━━━━━━━━━\u001b[0m\u001b[37m\u001b[0m \u001b[1m151s\u001b[0m 322ms/step - accuracy: 0.9078 - loss: 0.2659 - val_accuracy: 0.8307 - val_loss: 0.5964\n",
            "Epoch 75/98\n",
            "\u001b[1m469/469\u001b[0m \u001b[32m━━━━━━━━━━━━━━━━━━━━\u001b[0m\u001b[37m\u001b[0m \u001b[1m201s\u001b[0m 319ms/step - accuracy: 0.9018 - loss: 0.2751 - val_accuracy: 0.8087 - val_loss: 0.6403\n",
            "Epoch 76/98\n",
            "\u001b[1m469/469\u001b[0m \u001b[32m━━━━━━━━━━━━━━━━━━━━\u001b[0m\u001b[37m\u001b[0m \u001b[1m150s\u001b[0m 321ms/step - accuracy: 0.9066 - loss: 0.2710 - val_accuracy: 0.8362 - val_loss: 0.5349\n",
            "Epoch 77/98\n",
            "\u001b[1m469/469\u001b[0m \u001b[32m━━━━━━━━━━━━━━━━━━━━\u001b[0m\u001b[37m\u001b[0m \u001b[1m156s\u001b[0m 333ms/step - accuracy: 0.9069 - loss: 0.2684 - val_accuracy: 0.8477 - val_loss: 0.4923\n",
            "Epoch 78/98\n",
            "\u001b[1m469/469\u001b[0m \u001b[32m━━━━━━━━━━━━━━━━━━━━\u001b[0m\u001b[37m\u001b[0m \u001b[1m153s\u001b[0m 326ms/step - accuracy: 0.9092 - loss: 0.2582 - val_accuracy: 0.8164 - val_loss: 0.6196\n",
            "Epoch 79/98\n",
            "\u001b[1m469/469\u001b[0m \u001b[32m━━━━━━━━━━━━━━━━━━━━\u001b[0m\u001b[37m\u001b[0m \u001b[1m148s\u001b[0m 316ms/step - accuracy: 0.9130 - loss: 0.2529 - val_accuracy: 0.8554 - val_loss: 0.4686\n",
            "Epoch 80/98\n",
            "\u001b[1m469/469\u001b[0m \u001b[32m━━━━━━━━━━━━━━━━━━━━\u001b[0m\u001b[37m\u001b[0m \u001b[1m148s\u001b[0m 315ms/step - accuracy: 0.9119 - loss: 0.2517 - val_accuracy: 0.8165 - val_loss: 0.6398\n",
            "Epoch 81/98\n",
            "\u001b[1m469/469\u001b[0m \u001b[32m━━━━━━━━━━━━━━━━━━━━\u001b[0m\u001b[37m\u001b[0m \u001b[1m148s\u001b[0m 315ms/step - accuracy: 0.9144 - loss: 0.2491 - val_accuracy: 0.8412 - val_loss: 0.5144\n",
            "Epoch 82/98\n",
            "\u001b[1m469/469\u001b[0m \u001b[32m━━━━━━━━━━━━━━━━━━━━\u001b[0m\u001b[37m\u001b[0m \u001b[1m147s\u001b[0m 314ms/step - accuracy: 0.9147 - loss: 0.2456 - val_accuracy: 0.8117 - val_loss: 0.6994\n",
            "Epoch 83/98\n",
            "\u001b[1m469/469\u001b[0m \u001b[32m━━━━━━━━━━━━━━━━━━━━\u001b[0m\u001b[37m\u001b[0m \u001b[1m150s\u001b[0m 319ms/step - accuracy: 0.9136 - loss: 0.2490 - val_accuracy: 0.8534 - val_loss: 0.4717\n",
            "Epoch 84/98\n",
            "\u001b[1m469/469\u001b[0m \u001b[32m━━━━━━━━━━━━━━━━━━━━\u001b[0m\u001b[37m\u001b[0m \u001b[1m148s\u001b[0m 315ms/step - accuracy: 0.9137 - loss: 0.2475 - val_accuracy: 0.8154 - val_loss: 0.6547\n",
            "Epoch 85/98\n",
            "\u001b[1m469/469\u001b[0m \u001b[32m━━━━━━━━━━━━━━━━━━━━\u001b[0m\u001b[37m\u001b[0m \u001b[1m148s\u001b[0m 315ms/step - accuracy: 0.9155 - loss: 0.2438 - val_accuracy: 0.8357 - val_loss: 0.5765\n",
            "Epoch 86/98\n",
            "\u001b[1m469/469\u001b[0m \u001b[32m━━━━━━━━━━━━━━━━━━━━\u001b[0m\u001b[37m\u001b[0m \u001b[1m202s\u001b[0m 315ms/step - accuracy: 0.9178 - loss: 0.2305 - val_accuracy: 0.8339 - val_loss: 0.5987\n",
            "Epoch 87/98\n",
            "\u001b[1m469/469\u001b[0m \u001b[32m━━━━━━━━━━━━━━━━━━━━\u001b[0m\u001b[37m\u001b[0m \u001b[1m202s\u001b[0m 316ms/step - accuracy: 0.9138 - loss: 0.2452 - val_accuracy: 0.8416 - val_loss: 0.5234\n",
            "Epoch 88/98\n",
            "\u001b[1m469/469\u001b[0m \u001b[32m━━━━━━━━━━━━━━━━━━━━\u001b[0m\u001b[37m\u001b[0m \u001b[1m203s\u001b[0m 318ms/step - accuracy: 0.9180 - loss: 0.2379 - val_accuracy: 0.8267 - val_loss: 0.6114\n",
            "Epoch 89/98\n",
            "\u001b[1m469/469\u001b[0m \u001b[32m━━━━━━━━━━━━━━━━━━━━\u001b[0m\u001b[37m\u001b[0m \u001b[1m152s\u001b[0m 323ms/step - accuracy: 0.9197 - loss: 0.2334 - val_accuracy: 0.8462 - val_loss: 0.5248\n",
            "Epoch 90/98\n",
            "\u001b[1m469/469\u001b[0m \u001b[32m━━━━━━━━━━━━━━━━━━━━\u001b[0m\u001b[37m\u001b[0m \u001b[1m150s\u001b[0m 319ms/step - accuracy: 0.9217 - loss: 0.2263 - val_accuracy: 0.8424 - val_loss: 0.5434\n",
            "Epoch 91/98\n",
            "\u001b[1m469/469\u001b[0m \u001b[32m━━━━━━━━━━━━━━━━━━━━\u001b[0m\u001b[37m\u001b[0m \u001b[1m151s\u001b[0m 322ms/step - accuracy: 0.9233 - loss: 0.2148 - val_accuracy: 0.8440 - val_loss: 0.5795\n",
            "Epoch 92/98\n",
            "\u001b[1m469/469\u001b[0m \u001b[32m━━━━━━━━━━━━━━━━━━━━\u001b[0m\u001b[37m\u001b[0m \u001b[1m150s\u001b[0m 319ms/step - accuracy: 0.9202 - loss: 0.2263 - val_accuracy: 0.8328 - val_loss: 0.6096\n",
            "Epoch 93/98\n",
            "\u001b[1m469/469\u001b[0m \u001b[32m━━━━━━━━━━━━━━━━━━━━\u001b[0m\u001b[37m\u001b[0m \u001b[1m202s\u001b[0m 320ms/step - accuracy: 0.9202 - loss: 0.2248 - val_accuracy: 0.8487 - val_loss: 0.4941\n",
            "Epoch 94/98\n",
            "\u001b[1m469/469\u001b[0m \u001b[32m━━━━━━━━━━━━━━━━━━━━\u001b[0m\u001b[37m\u001b[0m \u001b[1m150s\u001b[0m 321ms/step - accuracy: 0.9232 - loss: 0.2231 - val_accuracy: 0.7980 - val_loss: 0.7783\n",
            "Epoch 95/98\n",
            "\u001b[1m469/469\u001b[0m \u001b[32m━━━━━━━━━━━━━━━━━━━━\u001b[0m\u001b[37m\u001b[0m \u001b[1m150s\u001b[0m 320ms/step - accuracy: 0.9280 - loss: 0.2146 - val_accuracy: 0.8453 - val_loss: 0.5402\n",
            "Epoch 96/98\n",
            "\u001b[1m469/469\u001b[0m \u001b[32m━━━━━━━━━━━━━━━━━━━━\u001b[0m\u001b[37m\u001b[0m \u001b[1m204s\u001b[0m 325ms/step - accuracy: 0.9244 - loss: 0.2107 - val_accuracy: 0.8396 - val_loss: 0.5622\n",
            "Epoch 97/98\n",
            "\u001b[1m469/469\u001b[0m \u001b[32m━━━━━━━━━━━━━━━━━━━━\u001b[0m\u001b[37m\u001b[0m \u001b[1m151s\u001b[0m 322ms/step - accuracy: 0.9288 - loss: 0.2067 - val_accuracy: 0.8592 - val_loss: 0.4951\n",
            "Epoch 98/98\n",
            "\u001b[1m469/469\u001b[0m \u001b[32m━━━━━━━━━━━━━━━━━━━━\u001b[0m\u001b[37m\u001b[0m \u001b[1m150s\u001b[0m 321ms/step - accuracy: 0.9225 - loss: 0.2157 - val_accuracy: 0.8518 - val_loss: 0.5234\n"
          ]
        },
        {
          "data": {
            "text/plain": [
              "<keras.src.callbacks.history.History at 0x7f8f917e0f50>"
            ]
          },
          "execution_count": 81,
          "metadata": {},
          "output_type": "execute_result"
        }
      ],
      "source": [
        "## TODO\n",
        "new_final_model_gd_1.compile(\n",
        "    optimizer= tf.keras.optimizers.SGD(\n",
        "       learning_rate= .01,\n",
        "       momentum= 1/3,\n",
        "       nesterov= True\n",
        "    ),\n",
        "    loss= categorical_crossentropy,\n",
        "    metrics= ['accuracy']\n",
        ")\n",
        "new_final_model_gd_1.fit(\n",
        "    train_generator,\n",
        "    batch_size= 64,\n",
        "    epochs= 98,\n",
        "    validation_data= val_generator,\n",
        "    callbacks= new_final_callbacks\n",
        ")"
      ]
    },
    {
      "cell_type": "code",
      "execution_count": null,
      "metadata": {
        "id": "BYdqwduFCj5Y",
        "outputId": "74cf08f6-11c0-4df5-feb0-a722f953542c"
      },
      "outputs": [
        {
          "name": "stdout",
          "output_type": "stream",
          "text": [
            "\u001b[1m313/313\u001b[0m \u001b[32m━━━━━━━━━━━━━━━━━━━━\u001b[0m\u001b[37m\u001b[0m \u001b[1m28s\u001b[0m 86ms/step\n",
            "\n",
            " Test_acc = 0.8528\n",
            "Это победа!\n"
          ]
        }
      ],
      "source": [
        "new_predict_x_gd_1 = new_final_model_gd_1.predict(X_test)\n",
        "new_classes_x_gd_1 = np.argmax(new_predict_x_gd_1, axis= 1)\n",
        "\n",
        "test_acc = accuracy_score(y_test, new_classes_x_gd_1)\n",
        "print(\"\\n Test_acc =\", test_acc)\n",
        "if test_acc > 0.8:\n",
        "    print(\"Это победа!\")"
      ]
    },
    {
      "cell_type": "markdown",
      "metadata": {
        "id": "ETRY5kqevnU2"
      },
      "source": [
        "**Выводы**\n",
        "1. В отличие от тренировочных моделей нейросетей, final_model более сбалансированно обучалась => на тестовой (X_val) выборке наблюдалась меньшая разница с обучаемой (X_train);\n",
        "2. При настройке параметров оптимизатора (в отличе от настроек по умолчанию) наблюдалось улучшение сходимости функции потерь уже на ранних этапах обучения => настройка и выбор оптимизатора - одна из первостепенных вещей при создании модели;\n",
        "3. Предположу, что при аугментации данных точность может еще сильнее повысится (этот вывод был написан до того, как я исспользовал аугментацию, так что да, точность еще сильнее повысилась);\n",
        "4. Прототип модели взят отсюда (https://keras.io/guides/functional_api/#a-toy-resnet-model), но моя модель имеет более чем в 10 раз больше обучаемых параметров (~ 2.9M), чем та, что указана в источнике (~220K) и за счет этого accurracy увеличилась более чем на 5 % по сравнению с прототипом"
      ]
    }
  ],
  "metadata": {
    "accelerator": "GPU",
    "colab": {
      "gpuType": "T4",
      "provenance": [],
      "include_colab_link": true
    },
    "kernelspec": {
      "display_name": "Python 3",
      "name": "python3"
    },
    "language_info": {
      "codemirror_mode": {
        "name": "ipython",
        "version": 3
      },
      "file_extension": ".py",
      "mimetype": "text/x-python",
      "name": "python",
      "nbconvert_exporter": "python",
      "pygments_lexer": "ipython3",
      "version": "3.12.4"
    },
    "latex_envs": {
      "LaTeX_envs_menu_present": true,
      "autoclose": false,
      "autocomplete": true,
      "bibliofile": "biblio.bib",
      "cite_by": "apalike",
      "current_citInitial": 1,
      "eqLabelWithNumbers": true,
      "eqNumInitial": 1,
      "hotkeys": {
        "equation": "Ctrl-E",
        "itemize": "Ctrl-I"
      },
      "labels_anchors": false,
      "latex_user_defs": false,
      "report_style_numbering": false,
      "user_envs_cfg": false
    },
    "toc": {
      "base_numbering": 1,
      "nav_menu": {},
      "number_sections": true,
      "sideBar": true,
      "skip_h1_title": false,
      "title_cell": "Table of Contents",
      "title_sidebar": "Contents",
      "toc_cell": false,
      "toc_position": {},
      "toc_section_display": true,
      "toc_window_display": false
    },
    "varInspector": {
      "cols": {
        "lenName": 16,
        "lenType": 16,
        "lenVar": 40
      },
      "kernels_config": {
        "python": {
          "delete_cmd_postfix": "",
          "delete_cmd_prefix": "del ",
          "library": "var_list.py",
          "varRefreshCmd": "print(var_dic_list())"
        },
        "r": {
          "delete_cmd_postfix": ") ",
          "delete_cmd_prefix": "rm(",
          "library": "var_list.r",
          "varRefreshCmd": "cat(var_dic_list()) "
        }
      },
      "types_to_exclude": [
        "module",
        "function",
        "builtin_function_or_method",
        "instance",
        "_Feature"
      ],
      "window_display": false
    },
    "widgets": {
      "application/vnd.jupyter.widget-state+json": {
        "0129a65cd8c04d4a8e1f041259c05cde": {
          "model_module": "@jupyter-widgets/controls",
          "model_module_version": "1.5.0",
          "model_name": "FloatProgressModel",
          "state": {
            "_dom_classes": [],
            "_model_module": "@jupyter-widgets/controls",
            "_model_module_version": "1.5.0",
            "_model_name": "FloatProgressModel",
            "_view_count": null,
            "_view_module": "@jupyter-widgets/controls",
            "_view_module_version": "1.5.0",
            "_view_name": "ProgressView",
            "bar_style": "success",
            "description": "",
            "description_tooltip": null,
            "layout": "IPY_MODEL_acde28cf500045fe8f4b8cf7c4990f65",
            "max": 6,
            "min": 0,
            "orientation": "horizontal",
            "style": "IPY_MODEL_3cb57363f3ce47d5af17220726bcc712",
            "value": 6
          }
        },
        "14375f32930c446db2575d1434699e0a": {
          "model_module": "@jupyter-widgets/base",
          "model_module_version": "1.2.0",
          "model_name": "LayoutModel",
          "state": {
            "_model_module": "@jupyter-widgets/base",
            "_model_module_version": "1.2.0",
            "_model_name": "LayoutModel",
            "_view_count": null,
            "_view_module": "@jupyter-widgets/base",
            "_view_module_version": "1.2.0",
            "_view_name": "LayoutView",
            "align_content": null,
            "align_items": null,
            "align_self": null,
            "border": null,
            "bottom": null,
            "display": null,
            "flex": null,
            "flex_flow": null,
            "grid_area": null,
            "grid_auto_columns": null,
            "grid_auto_flow": null,
            "grid_auto_rows": null,
            "grid_column": null,
            "grid_gap": null,
            "grid_row": null,
            "grid_template_areas": null,
            "grid_template_columns": null,
            "grid_template_rows": null,
            "height": null,
            "justify_content": null,
            "justify_items": null,
            "left": null,
            "margin": null,
            "max_height": null,
            "max_width": null,
            "min_height": null,
            "min_width": null,
            "object_fit": null,
            "object_position": null,
            "order": null,
            "overflow": null,
            "overflow_x": null,
            "overflow_y": null,
            "padding": null,
            "right": null,
            "top": null,
            "visibility": null,
            "width": null
          }
        },
        "33b22685a8944fecbb95787643a82a4e": {
          "model_module": "@jupyter-widgets/controls",
          "model_module_version": "1.5.0",
          "model_name": "HBoxModel",
          "state": {
            "_dom_classes": [],
            "_model_module": "@jupyter-widgets/controls",
            "_model_module_version": "1.5.0",
            "_model_name": "HBoxModel",
            "_view_count": null,
            "_view_module": "@jupyter-widgets/controls",
            "_view_module_version": "1.5.0",
            "_view_name": "HBoxView",
            "box_style": "",
            "children": [
              "IPY_MODEL_481a0e1291624405b5e187f448a5d16f",
              "IPY_MODEL_0129a65cd8c04d4a8e1f041259c05cde",
              "IPY_MODEL_5a887664815545e68e1535f78198e3ae"
            ],
            "layout": "IPY_MODEL_c43e59f1b6da4026b9a0ab53bd48ca35"
          }
        },
        "3cb57363f3ce47d5af17220726bcc712": {
          "model_module": "@jupyter-widgets/controls",
          "model_module_version": "1.5.0",
          "model_name": "ProgressStyleModel",
          "state": {
            "_model_module": "@jupyter-widgets/controls",
            "_model_module_version": "1.5.0",
            "_model_name": "ProgressStyleModel",
            "_view_count": null,
            "_view_module": "@jupyter-widgets/base",
            "_view_module_version": "1.2.0",
            "_view_name": "StyleView",
            "bar_color": null,
            "description_width": ""
          }
        },
        "481a0e1291624405b5e187f448a5d16f": {
          "model_module": "@jupyter-widgets/controls",
          "model_module_version": "1.5.0",
          "model_name": "HTMLModel",
          "state": {
            "_dom_classes": [],
            "_model_module": "@jupyter-widgets/controls",
            "_model_module_version": "1.5.0",
            "_model_name": "HTMLModel",
            "_view_count": null,
            "_view_module": "@jupyter-widgets/controls",
            "_view_module_version": "1.5.0",
            "_view_name": "HTMLView",
            "description": "",
            "description_tooltip": null,
            "layout": "IPY_MODEL_6fe3b70ec1074638966393677b02b508",
            "placeholder": "​",
            "style": "IPY_MODEL_5c8b84ef6509495ca09f39fb62915f95",
            "value": "100%"
          }
        },
        "4adfe7502ae3408f95830abc199a11d1": {
          "model_module": "@jupyter-widgets/controls",
          "model_module_version": "1.5.0",
          "model_name": "FloatProgressModel",
          "state": {
            "_dom_classes": [],
            "_model_module": "@jupyter-widgets/controls",
            "_model_module_version": "1.5.0",
            "_model_name": "FloatProgressModel",
            "_view_count": null,
            "_view_module": "@jupyter-widgets/controls",
            "_view_module_version": "1.5.0",
            "_view_name": "ProgressView",
            "bar_style": "success",
            "description": "",
            "description_tooltip": null,
            "layout": "IPY_MODEL_946f9b60c54d4b7bbdf50cf9912aaa93",
            "max": 6,
            "min": 0,
            "orientation": "horizontal",
            "style": "IPY_MODEL_910cf8ec15944bf998791fb46ae12585",
            "value": 6
          }
        },
        "58647f254aea4aed9f415c0f2440e14a": {
          "model_module": "@jupyter-widgets/controls",
          "model_module_version": "1.5.0",
          "model_name": "HTMLModel",
          "state": {
            "_dom_classes": [],
            "_model_module": "@jupyter-widgets/controls",
            "_model_module_version": "1.5.0",
            "_model_name": "HTMLModel",
            "_view_count": null,
            "_view_module": "@jupyter-widgets/controls",
            "_view_module_version": "1.5.0",
            "_view_name": "HTMLView",
            "description": "",
            "description_tooltip": null,
            "layout": "IPY_MODEL_14375f32930c446db2575d1434699e0a",
            "placeholder": "​",
            "style": "IPY_MODEL_c8df5045e1bd4f01bcf2c4e107a3874f",
            "value": " 6/6 [17:11&lt;00:00, 163.56s/it]"
          }
        },
        "5a887664815545e68e1535f78198e3ae": {
          "model_module": "@jupyter-widgets/controls",
          "model_module_version": "1.5.0",
          "model_name": "HTMLModel",
          "state": {
            "_dom_classes": [],
            "_model_module": "@jupyter-widgets/controls",
            "_model_module_version": "1.5.0",
            "_model_name": "HTMLModel",
            "_view_count": null,
            "_view_module": "@jupyter-widgets/controls",
            "_view_module_version": "1.5.0",
            "_view_name": "HTMLView",
            "description": "",
            "description_tooltip": null,
            "layout": "IPY_MODEL_9bb5c8c662f940358894a49a4e2bae53",
            "placeholder": "​",
            "style": "IPY_MODEL_5c848d7735014312ac45cdaa8b062603",
            "value": " 6/6 [15:47&lt;00:00, 156.46s/it]"
          }
        },
        "5c848d7735014312ac45cdaa8b062603": {
          "model_module": "@jupyter-widgets/controls",
          "model_module_version": "1.5.0",
          "model_name": "DescriptionStyleModel",
          "state": {
            "_model_module": "@jupyter-widgets/controls",
            "_model_module_version": "1.5.0",
            "_model_name": "DescriptionStyleModel",
            "_view_count": null,
            "_view_module": "@jupyter-widgets/base",
            "_view_module_version": "1.2.0",
            "_view_name": "StyleView",
            "description_width": ""
          }
        },
        "5c8b84ef6509495ca09f39fb62915f95": {
          "model_module": "@jupyter-widgets/controls",
          "model_module_version": "1.5.0",
          "model_name": "DescriptionStyleModel",
          "state": {
            "_model_module": "@jupyter-widgets/controls",
            "_model_module_version": "1.5.0",
            "_model_name": "DescriptionStyleModel",
            "_view_count": null,
            "_view_module": "@jupyter-widgets/base",
            "_view_module_version": "1.2.0",
            "_view_name": "StyleView",
            "description_width": ""
          }
        },
        "6b6a70b69c794b20ba6669d83fe0b8e1": {
          "model_module": "@jupyter-widgets/base",
          "model_module_version": "1.2.0",
          "model_name": "LayoutModel",
          "state": {
            "_model_module": "@jupyter-widgets/base",
            "_model_module_version": "1.2.0",
            "_model_name": "LayoutModel",
            "_view_count": null,
            "_view_module": "@jupyter-widgets/base",
            "_view_module_version": "1.2.0",
            "_view_name": "LayoutView",
            "align_content": null,
            "align_items": null,
            "align_self": null,
            "border": null,
            "bottom": null,
            "display": null,
            "flex": null,
            "flex_flow": null,
            "grid_area": null,
            "grid_auto_columns": null,
            "grid_auto_flow": null,
            "grid_auto_rows": null,
            "grid_column": null,
            "grid_gap": null,
            "grid_row": null,
            "grid_template_areas": null,
            "grid_template_columns": null,
            "grid_template_rows": null,
            "height": null,
            "justify_content": null,
            "justify_items": null,
            "left": null,
            "margin": null,
            "max_height": null,
            "max_width": null,
            "min_height": null,
            "min_width": null,
            "object_fit": null,
            "object_position": null,
            "order": null,
            "overflow": null,
            "overflow_x": null,
            "overflow_y": null,
            "padding": null,
            "right": null,
            "top": null,
            "visibility": null,
            "width": null
          }
        },
        "6fe3b70ec1074638966393677b02b508": {
          "model_module": "@jupyter-widgets/base",
          "model_module_version": "1.2.0",
          "model_name": "LayoutModel",
          "state": {
            "_model_module": "@jupyter-widgets/base",
            "_model_module_version": "1.2.0",
            "_model_name": "LayoutModel",
            "_view_count": null,
            "_view_module": "@jupyter-widgets/base",
            "_view_module_version": "1.2.0",
            "_view_name": "LayoutView",
            "align_content": null,
            "align_items": null,
            "align_self": null,
            "border": null,
            "bottom": null,
            "display": null,
            "flex": null,
            "flex_flow": null,
            "grid_area": null,
            "grid_auto_columns": null,
            "grid_auto_flow": null,
            "grid_auto_rows": null,
            "grid_column": null,
            "grid_gap": null,
            "grid_row": null,
            "grid_template_areas": null,
            "grid_template_columns": null,
            "grid_template_rows": null,
            "height": null,
            "justify_content": null,
            "justify_items": null,
            "left": null,
            "margin": null,
            "max_height": null,
            "max_width": null,
            "min_height": null,
            "min_width": null,
            "object_fit": null,
            "object_position": null,
            "order": null,
            "overflow": null,
            "overflow_x": null,
            "overflow_y": null,
            "padding": null,
            "right": null,
            "top": null,
            "visibility": null,
            "width": null
          }
        },
        "81a5518c9cfc49a89e9f6c5c77e1e00a": {
          "model_module": "@jupyter-widgets/controls",
          "model_module_version": "1.5.0",
          "model_name": "DescriptionStyleModel",
          "state": {
            "_model_module": "@jupyter-widgets/controls",
            "_model_module_version": "1.5.0",
            "_model_name": "DescriptionStyleModel",
            "_view_count": null,
            "_view_module": "@jupyter-widgets/base",
            "_view_module_version": "1.2.0",
            "_view_name": "StyleView",
            "description_width": ""
          }
        },
        "910cf8ec15944bf998791fb46ae12585": {
          "model_module": "@jupyter-widgets/controls",
          "model_module_version": "1.5.0",
          "model_name": "ProgressStyleModel",
          "state": {
            "_model_module": "@jupyter-widgets/controls",
            "_model_module_version": "1.5.0",
            "_model_name": "ProgressStyleModel",
            "_view_count": null,
            "_view_module": "@jupyter-widgets/base",
            "_view_module_version": "1.2.0",
            "_view_name": "StyleView",
            "bar_color": null,
            "description_width": ""
          }
        },
        "946f9b60c54d4b7bbdf50cf9912aaa93": {
          "model_module": "@jupyter-widgets/base",
          "model_module_version": "1.2.0",
          "model_name": "LayoutModel",
          "state": {
            "_model_module": "@jupyter-widgets/base",
            "_model_module_version": "1.2.0",
            "_model_name": "LayoutModel",
            "_view_count": null,
            "_view_module": "@jupyter-widgets/base",
            "_view_module_version": "1.2.0",
            "_view_name": "LayoutView",
            "align_content": null,
            "align_items": null,
            "align_self": null,
            "border": null,
            "bottom": null,
            "display": null,
            "flex": null,
            "flex_flow": null,
            "grid_area": null,
            "grid_auto_columns": null,
            "grid_auto_flow": null,
            "grid_auto_rows": null,
            "grid_column": null,
            "grid_gap": null,
            "grid_row": null,
            "grid_template_areas": null,
            "grid_template_columns": null,
            "grid_template_rows": null,
            "height": null,
            "justify_content": null,
            "justify_items": null,
            "left": null,
            "margin": null,
            "max_height": null,
            "max_width": null,
            "min_height": null,
            "min_width": null,
            "object_fit": null,
            "object_position": null,
            "order": null,
            "overflow": null,
            "overflow_x": null,
            "overflow_y": null,
            "padding": null,
            "right": null,
            "top": null,
            "visibility": null,
            "width": null
          }
        },
        "9bb5c8c662f940358894a49a4e2bae53": {
          "model_module": "@jupyter-widgets/base",
          "model_module_version": "1.2.0",
          "model_name": "LayoutModel",
          "state": {
            "_model_module": "@jupyter-widgets/base",
            "_model_module_version": "1.2.0",
            "_model_name": "LayoutModel",
            "_view_count": null,
            "_view_module": "@jupyter-widgets/base",
            "_view_module_version": "1.2.0",
            "_view_name": "LayoutView",
            "align_content": null,
            "align_items": null,
            "align_self": null,
            "border": null,
            "bottom": null,
            "display": null,
            "flex": null,
            "flex_flow": null,
            "grid_area": null,
            "grid_auto_columns": null,
            "grid_auto_flow": null,
            "grid_auto_rows": null,
            "grid_column": null,
            "grid_gap": null,
            "grid_row": null,
            "grid_template_areas": null,
            "grid_template_columns": null,
            "grid_template_rows": null,
            "height": null,
            "justify_content": null,
            "justify_items": null,
            "left": null,
            "margin": null,
            "max_height": null,
            "max_width": null,
            "min_height": null,
            "min_width": null,
            "object_fit": null,
            "object_position": null,
            "order": null,
            "overflow": null,
            "overflow_x": null,
            "overflow_y": null,
            "padding": null,
            "right": null,
            "top": null,
            "visibility": null,
            "width": null
          }
        },
        "9fd1dacc096b4a39932467759874fb5b": {
          "model_module": "@jupyter-widgets/base",
          "model_module_version": "1.2.0",
          "model_name": "LayoutModel",
          "state": {
            "_model_module": "@jupyter-widgets/base",
            "_model_module_version": "1.2.0",
            "_model_name": "LayoutModel",
            "_view_count": null,
            "_view_module": "@jupyter-widgets/base",
            "_view_module_version": "1.2.0",
            "_view_name": "LayoutView",
            "align_content": null,
            "align_items": null,
            "align_self": null,
            "border": null,
            "bottom": null,
            "display": null,
            "flex": null,
            "flex_flow": null,
            "grid_area": null,
            "grid_auto_columns": null,
            "grid_auto_flow": null,
            "grid_auto_rows": null,
            "grid_column": null,
            "grid_gap": null,
            "grid_row": null,
            "grid_template_areas": null,
            "grid_template_columns": null,
            "grid_template_rows": null,
            "height": null,
            "justify_content": null,
            "justify_items": null,
            "left": null,
            "margin": null,
            "max_height": null,
            "max_width": null,
            "min_height": null,
            "min_width": null,
            "object_fit": null,
            "object_position": null,
            "order": null,
            "overflow": null,
            "overflow_x": null,
            "overflow_y": null,
            "padding": null,
            "right": null,
            "top": null,
            "visibility": null,
            "width": null
          }
        },
        "acde28cf500045fe8f4b8cf7c4990f65": {
          "model_module": "@jupyter-widgets/base",
          "model_module_version": "1.2.0",
          "model_name": "LayoutModel",
          "state": {
            "_model_module": "@jupyter-widgets/base",
            "_model_module_version": "1.2.0",
            "_model_name": "LayoutModel",
            "_view_count": null,
            "_view_module": "@jupyter-widgets/base",
            "_view_module_version": "1.2.0",
            "_view_name": "LayoutView",
            "align_content": null,
            "align_items": null,
            "align_self": null,
            "border": null,
            "bottom": null,
            "display": null,
            "flex": null,
            "flex_flow": null,
            "grid_area": null,
            "grid_auto_columns": null,
            "grid_auto_flow": null,
            "grid_auto_rows": null,
            "grid_column": null,
            "grid_gap": null,
            "grid_row": null,
            "grid_template_areas": null,
            "grid_template_columns": null,
            "grid_template_rows": null,
            "height": null,
            "justify_content": null,
            "justify_items": null,
            "left": null,
            "margin": null,
            "max_height": null,
            "max_width": null,
            "min_height": null,
            "min_width": null,
            "object_fit": null,
            "object_position": null,
            "order": null,
            "overflow": null,
            "overflow_x": null,
            "overflow_y": null,
            "padding": null,
            "right": null,
            "top": null,
            "visibility": null,
            "width": null
          }
        },
        "c43e59f1b6da4026b9a0ab53bd48ca35": {
          "model_module": "@jupyter-widgets/base",
          "model_module_version": "1.2.0",
          "model_name": "LayoutModel",
          "state": {
            "_model_module": "@jupyter-widgets/base",
            "_model_module_version": "1.2.0",
            "_model_name": "LayoutModel",
            "_view_count": null,
            "_view_module": "@jupyter-widgets/base",
            "_view_module_version": "1.2.0",
            "_view_name": "LayoutView",
            "align_content": null,
            "align_items": null,
            "align_self": null,
            "border": null,
            "bottom": null,
            "display": null,
            "flex": null,
            "flex_flow": null,
            "grid_area": null,
            "grid_auto_columns": null,
            "grid_auto_flow": null,
            "grid_auto_rows": null,
            "grid_column": null,
            "grid_gap": null,
            "grid_row": null,
            "grid_template_areas": null,
            "grid_template_columns": null,
            "grid_template_rows": null,
            "height": null,
            "justify_content": null,
            "justify_items": null,
            "left": null,
            "margin": null,
            "max_height": null,
            "max_width": null,
            "min_height": null,
            "min_width": null,
            "object_fit": null,
            "object_position": null,
            "order": null,
            "overflow": null,
            "overflow_x": null,
            "overflow_y": null,
            "padding": null,
            "right": null,
            "top": null,
            "visibility": null,
            "width": null
          }
        },
        "c7d97394e78b470dbacb8464a1689a79": {
          "model_module": "@jupyter-widgets/controls",
          "model_module_version": "1.5.0",
          "model_name": "HBoxModel",
          "state": {
            "_dom_classes": [],
            "_model_module": "@jupyter-widgets/controls",
            "_model_module_version": "1.5.0",
            "_model_name": "HBoxModel",
            "_view_count": null,
            "_view_module": "@jupyter-widgets/controls",
            "_view_module_version": "1.5.0",
            "_view_name": "HBoxView",
            "box_style": "",
            "children": [
              "IPY_MODEL_d0ced81159754614810f40a2ab4e5a41",
              "IPY_MODEL_4adfe7502ae3408f95830abc199a11d1",
              "IPY_MODEL_58647f254aea4aed9f415c0f2440e14a"
            ],
            "layout": "IPY_MODEL_6b6a70b69c794b20ba6669d83fe0b8e1"
          }
        },
        "c8df5045e1bd4f01bcf2c4e107a3874f": {
          "model_module": "@jupyter-widgets/controls",
          "model_module_version": "1.5.0",
          "model_name": "DescriptionStyleModel",
          "state": {
            "_model_module": "@jupyter-widgets/controls",
            "_model_module_version": "1.5.0",
            "_model_name": "DescriptionStyleModel",
            "_view_count": null,
            "_view_module": "@jupyter-widgets/base",
            "_view_module_version": "1.2.0",
            "_view_name": "StyleView",
            "description_width": ""
          }
        },
        "d0ced81159754614810f40a2ab4e5a41": {
          "model_module": "@jupyter-widgets/controls",
          "model_module_version": "1.5.0",
          "model_name": "HTMLModel",
          "state": {
            "_dom_classes": [],
            "_model_module": "@jupyter-widgets/controls",
            "_model_module_version": "1.5.0",
            "_model_name": "HTMLModel",
            "_view_count": null,
            "_view_module": "@jupyter-widgets/controls",
            "_view_module_version": "1.5.0",
            "_view_name": "HTMLView",
            "description": "",
            "description_tooltip": null,
            "layout": "IPY_MODEL_9fd1dacc096b4a39932467759874fb5b",
            "placeholder": "​",
            "style": "IPY_MODEL_81a5518c9cfc49a89e9f6c5c77e1e00a",
            "value": "100%"
          }
        }
      }
    }
  },
  "nbformat": 4,
  "nbformat_minor": 0
}